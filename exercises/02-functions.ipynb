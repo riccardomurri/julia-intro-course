{
 "cells": [
  {
   "cell_type": "markdown",
   "metadata": {},
   "source": [
    "<a rel=\"license\" href=\"http://creativecommons.org/licenses/by-sa/4.0/\"><img alt=\"Creative Commons License\" style=\"border-width:0\" src=\"https://i.creativecommons.org/l/by-sa/4.0/80x15.png\" /></a><div align=\"center\">This work is licensed under a <a rel=\"license\" href=\"http://creativecommons.org/licenses/by-sa/4.0/\">Creative Commons Attribution-ShareAlike 4.0 International License</a>.</div>"
   ]
  },
  {
   "cell_type": "markdown",
   "metadata": {},
   "source": [
    "---"
   ]
  },
  {
   "cell_type": "markdown",
   "metadata": {},
   "source": [
    "## Exercise 2.A"
   ]
  },
  {
   "cell_type": "markdown",
   "metadata": {},
   "source": [
    "Define a function `greet(name)` with one parameter that prints \"Hello\" and then the given name."
   ]
  },
  {
   "cell_type": "code",
   "execution_count": 1,
   "metadata": {},
   "outputs": [
    {
     "data": {
      "text/plain": [
       "greet"
      ]
     },
     "execution_count": 1,
     "metadata": {},
     "output_type": "execute_result"
    }
   ],
   "source": [
    "# your solution here"
   ]
  },
  {
   "cell_type": "markdown",
   "metadata": {},
   "source": [
    "If your solution is correct, evaluating the next cell should print \"`Hello, world!`\":"
   ]
  },
  {
   "cell_type": "code",
   "execution_count": 3,
   "metadata": {},
   "outputs": [
    {
     "name": "stdout",
     "output_type": "stream",
     "text": [
      "Hello world!\n"
     ]
    }
   ],
   "source": [
    "greet(\"world\")"
   ]
  },
  {
   "cell_type": "markdown",
   "metadata": {},
   "source": [
    "In addition, `?greet` should now print the functions' docstring:"
   ]
  },
  {
   "cell_type": "code",
   "execution_count": 5,
   "metadata": {},
   "outputs": [
    {
     "name": "stdout",
     "output_type": "stream",
     "text": [
      "search: \u001b[0m\u001b[1mg\u001b[22m\u001b[0m\u001b[1mr\u001b[22m\u001b[0m\u001b[1me\u001b[22m\u001b[0m\u001b[1me\u001b[22m\u001b[0m\u001b[1mt\u001b[22m\n",
      "\n"
     ]
    },
    {
     "data": {
      "text/latex": [
       "A friendly function.\n",
       "\n"
      ],
      "text/markdown": [
       "A friendly function.\n"
      ],
      "text/plain": [
       "  A friendly function."
      ]
     },
     "execution_count": 5,
     "metadata": {},
     "output_type": "execute_result"
    }
   ],
   "source": [
    "?greet"
   ]
  },
  {
   "cell_type": "markdown",
   "metadata": {},
   "source": [
    "----"
   ]
  },
  {
   "cell_type": "markdown",
   "metadata": {},
   "source": [
    "## Exercise 2.B"
   ]
  },
  {
   "cell_type": "markdown",
   "metadata": {},
   "source": [
    "Modify function `greet` above to print `♡` if `name` is the string `\"Julia\"`, the usual greeting otherwise."
   ]
  },
  {
   "cell_type": "code",
   "execution_count": 10,
   "metadata": {},
   "outputs": [
    {
     "data": {
      "text/plain": [
       "greet (generic function with 1 method)"
      ]
     },
     "execution_count": 10,
     "metadata": {},
     "output_type": "execute_result"
    }
   ],
   "source": [
    "# your solution here"
   ]
  },
  {
   "cell_type": "markdown",
   "metadata": {},
   "source": [
    "If your solution is correct, evaluating the following cell should produce the output `♡`:"
   ]
  },
  {
   "cell_type": "code",
   "execution_count": 11,
   "metadata": {},
   "outputs": [
    {
     "name": "stdout",
     "output_type": "stream",
     "text": [
      "♡"
     ]
    }
   ],
   "source": [
    "greet(\"Julia\")"
   ]
  },
  {
   "cell_type": "markdown",
   "metadata": {},
   "source": [
    "Running `greet()` with any other input argument should produce the familiar output:"
   ]
  },
  {
   "cell_type": "code",
   "execution_count": 12,
   "metadata": {},
   "outputs": [
    {
     "name": "stdout",
     "output_type": "stream",
     "text": [
      "Hello, world!"
     ]
    }
   ],
   "source": [
    "greet(\"world\")"
   ]
  },
  {
   "cell_type": "markdown",
   "metadata": {},
   "source": [
    "----"
   ]
  },
  {
   "cell_type": "markdown",
   "metadata": {},
   "source": [
    "## Exercise 2.C"
   ]
  },
  {
   "cell_type": "markdown",
   "metadata": {},
   "source": [
    "Write a function `greetmany()` that repeatedly:\n",
    "1. Asks the user for a name;\n",
    "2. Prints a greeting to the person by that name.\n",
    "\n",
    "The function should keep asking until the user enters the single letter `q` as the name.\n",
    "\n",
    "Julia's built-in function `readline()` can be used to input a string."
   ]
  },
  {
   "cell_type": "code",
   "execution_count": 18,
   "metadata": {},
   "outputs": [
    {
     "data": {
      "text/plain": [
       "greetmany (generic function with 1 method)"
      ]
     },
     "execution_count": 18,
     "metadata": {},
     "output_type": "execute_result"
    }
   ],
   "source": [
    "# your solution here"
   ]
  },
  {
   "cell_type": "markdown",
   "metadata": {},
   "source": [
    "If your solution is correct, evaluating the following cell should produce the given output, when you enter the names `Alice` and `Bob` in reponse to the `stdin>` prompt."
   ]
  },
  {
   "cell_type": "code",
   "execution_count": 19,
   "metadata": {},
   "outputs": [
    {
     "name": "stdout",
     "output_type": "stream",
     "text": [
      "stdin> Alice\n",
      "Hello, Alice!\n",
      "stdin> Bob\n",
      "Hello, Bob!\n",
      "stdin> q\n"
     ]
    }
   ],
   "source": [
    "greetmany()"
   ]
  },
  {
   "cell_type": "markdown",
   "metadata": {},
   "source": [
    "----"
   ]
  },
  {
   "cell_type": "code",
   "execution_count": 1,
   "metadata": {},
   "outputs": [],
   "source": [
    "using Pkg"
   ]
  },
  {
   "cell_type": "code",
   "execution_count": 3,
   "metadata": {},
   "outputs": [
    {
     "name": "stdout",
     "output_type": "stream",
     "text": [
      "\u001b[32m\u001b[1m Resolving\u001b[22m\u001b[39m package versions...\n",
      "\u001b[32m\u001b[1m  Updating\u001b[22m\u001b[39m `~/solutions/Project.toml`\n",
      " \u001b[90m [5ae59095]\u001b[39m\u001b[92m + Colors v0.9.6\u001b[39m\n",
      "\u001b[32m\u001b[1m  Updating\u001b[22m\u001b[39m `~/solutions/Manifest.toml`\n",
      " \u001b[90m [3da002f7]\u001b[39m\u001b[92m + ColorTypes v0.8.0\u001b[39m\n",
      " \u001b[90m [5ae59095]\u001b[39m\u001b[92m + Colors v0.9.6\u001b[39m\n",
      " \u001b[90m [53c48c17]\u001b[39m\u001b[92m + FixedPointNumbers v0.6.1\u001b[39m\n",
      " \u001b[90m [189a3867]\u001b[39m\u001b[92m + Reexport v0.2.0\u001b[39m\n",
      " \u001b[90m [2a0f44e3]\u001b[39m\u001b[92m + Base64 \u001b[39m\n",
      " \u001b[90m [ade2ca70]\u001b[39m\u001b[92m + Dates \u001b[39m\n",
      " \u001b[90m [b77e0a4c]\u001b[39m\u001b[92m + InteractiveUtils \u001b[39m\n",
      " \u001b[90m [76f85450]\u001b[39m\u001b[92m + LibGit2 \u001b[39m\n",
      " \u001b[90m [d6f4376e]\u001b[39m\u001b[92m + Markdown \u001b[39m\n",
      " \u001b[90m [44cfe95a]\u001b[39m\u001b[92m + Pkg \u001b[39m\n",
      " \u001b[90m [de0858da]\u001b[39m\u001b[92m + Printf \u001b[39m\n",
      " \u001b[90m [3fa0cd96]\u001b[39m\u001b[92m + REPL \u001b[39m\n",
      " \u001b[90m [9a3f8284]\u001b[39m\u001b[92m + Random \u001b[39m\n",
      " \u001b[90m [ea8e919c]\u001b[39m\u001b[92m + SHA \u001b[39m\n",
      " \u001b[90m [9e88b42a]\u001b[39m\u001b[92m + Serialization \u001b[39m\n",
      " \u001b[90m [6462fe0b]\u001b[39m\u001b[92m + Sockets \u001b[39m\n",
      " \u001b[90m [cf7118a7]\u001b[39m\u001b[92m + UUIDs \u001b[39m\n",
      " \u001b[90m [4ec0a83e]\u001b[39m\u001b[92m + Unicode \u001b[39m\n"
     ]
    }
   ],
   "source": [
    "Pkg.add(\"Colors\")"
   ]
  },
  {
   "cell_type": "code",
   "execution_count": 4,
   "metadata": {},
   "outputs": [
    {
     "name": "stderr",
     "output_type": "stream",
     "text": [
      "┌ Info: Precompiling Colors [5ae59095-9a9b-59fe-a467-6f913c188581]\n",
      "└ @ Base loading.jl:1242\n"
     ]
    }
   ],
   "source": [
    "using Colors"
   ]
  },
  {
   "cell_type": "code",
   "execution_count": 5,
   "metadata": {},
   "outputs": [
    {
     "data": {
      "image/svg+xml": [
       "<?xml version=\"1.0\" encoding=\"UTF-8\"?>\n",
       "<!DOCTYPE svg PUBLIC \"-//W3C//DTD SVG 1.1//EN\"\n",
       " \"http://www.w3.org/Graphics/SVG/1.1/DTD/svg11.dtd\">\n",
       "<svg xmlns=\"http://www.w3.org/2000/svg\" version=\"1.1\"\n",
       "     width=\"180.0mm\" height=\"25.0mm\"\n",
       "     shape-rendering=\"crispEdges\">\n",
       "<rect x=\"0.0mm\" y=\"0.0mm\"\n",
       "      width=\"21.5mm\" height=\"24.0mm\"\n",
       "      fill=\"#000000\" stroke=\"none\" />\n",
       "<rect x=\"22.5mm\" y=\"0.0mm\"\n",
       "      width=\"21.5mm\" height=\"24.0mm\"\n",
       "      fill=\"#FFFF62\" stroke=\"none\" />\n",
       "<rect x=\"45.0mm\" y=\"0.0mm\"\n",
       "      width=\"21.5mm\" height=\"24.0mm\"\n",
       "      fill=\"#FF9FFF\" stroke=\"none\" />\n",
       "<rect x=\"67.5mm\" y=\"0.0mm\"\n",
       "      width=\"21.5mm\" height=\"24.0mm\"\n",
       "      fill=\"#00D6FF\" stroke=\"none\" />\n",
       "<rect x=\"90.0mm\" y=\"0.0mm\"\n",
       "      width=\"21.5mm\" height=\"24.0mm\"\n",
       "      fill=\"#D74400\" stroke=\"none\" />\n",
       "<rect x=\"112.5mm\" y=\"0.0mm\"\n",
       "      width=\"21.5mm\" height=\"24.0mm\"\n",
       "      fill=\"#008029\" stroke=\"none\" />\n",
       "<rect x=\"135.0mm\" y=\"0.0mm\"\n",
       "      width=\"21.5mm\" height=\"24.0mm\"\n",
       "      fill=\"#005FD5\" stroke=\"none\" />\n",
       "<rect x=\"157.5mm\" y=\"0.0mm\"\n",
       "      width=\"21.5mm\" height=\"24.0mm\"\n",
       "      fill=\"#930068\" stroke=\"none\" />\n",
       "</svg>"
      ],
      "text/plain": [
       "8-element Array{RGB{N0f8},1} with eltype RGB{FixedPointNumbers.Normed{UInt8,8}}:\n",
       " RGB{N0f8}(0.0,0.0,0.0)    \n",
       " RGB{N0f8}(1.0,1.0,0.384)  \n",
       " RGB{N0f8}(1.0,0.624,1.0)  \n",
       " RGB{N0f8}(0.0,0.839,1.0)  \n",
       " RGB{N0f8}(0.843,0.267,0.0)\n",
       " RGB{N0f8}(0.0,0.502,0.161)\n",
       " RGB{N0f8}(0.0,0.373,0.835)\n",
       " RGB{N0f8}(0.576,0.0,0.408)"
      ]
     },
     "execution_count": 5,
     "metadata": {},
     "output_type": "execute_result"
    }
   ],
   "source": [
    "distinguishable_colors(8)"
   ]
  }
 ],
 "metadata": {
  "kernelspec": {
   "display_name": "Julia 1.2.0",
   "language": "julia",
   "name": "julia-1.2"
  },
  "language_info": {
   "file_extension": ".jl",
   "mimetype": "application/julia",
   "name": "julia",
   "version": "1.2.0"
  }
 },
 "nbformat": 4,
 "nbformat_minor": 2
}
