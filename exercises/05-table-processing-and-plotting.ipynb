{
 "cells": [
  {
   "cell_type": "markdown",
   "metadata": {
    "slideshow": {
     "slide_type": "skip"
    }
   },
   "source": [
    "<a rel=\"license\" href=\"http://creativecommons.org/licenses/by-sa/4.0/\"><img alt=\"Creative Commons License\" style=\"border-width:0\" src=\"https://i.creativecommons.org/l/by-sa/4.0/80x15.png\" /></a><div align=\"center\">This work is licensed under a <a rel=\"license\" href=\"http://creativecommons.org/licenses/by-sa/4.0/\">Creative Commons Attribution-ShareAlike 4.0 International License</a>.</div>"
   ]
  },
  {
   "cell_type": "markdown",
   "metadata": {
    "slideshow": {
     "slide_type": "slide"
    }
   },
   "source": [
    "# Tabular Data Analysis with DataFrames.jl\n",
    "\n",
    "[DataFrames.jl](http://juliadata.github.io/DataFrames.jl/stable/) is Julia's package for manipulating tabular data, like R's built-in or Python PanDas."
   ]
  },
  {
   "cell_type": "markdown",
   "metadata": {
    "slideshow": {
     "slide_type": "skip"
    }
   },
   "source": [
    "For this notebook, you will be using a pair of `.csv` files:\n",
    "```\n",
    "data/metadata.csv\n",
    "data/features.csv\n",
    "```\n",
    "\n",
    "Each *metadata* CSV file contains basic data about cells found in a microscopy plate, during an experiment.\n",
    "\n",
    "Each *features* CSV file contains additional measurements about the same cells performed by the software [TissueMAPS](http://www.tissuemaps.org).\n",
    "\n",
    "We shell use DataFrame.jl to inspect the contents of these files and perform some statistics and plotting."
   ]
  },
  {
   "cell_type": "markdown",
   "metadata": {
    "slideshow": {
     "slide_type": "slide"
    }
   },
   "source": [
    "## Preamble\n",
    "\n",
    "Before using DataFrames.jl, we must import it.  We shall also import package FileIO which provides convenient `load()` and `save()` functions."
   ]
  },
  {
   "cell_type": "code",
   "execution_count": 1,
   "metadata": {},
   "outputs": [],
   "source": [
    "using DataFrames\n",
    "using FileIO"
   ]
  },
  {
   "cell_type": "markdown",
   "metadata": {
    "slideshow": {
     "slide_type": "skip"
    }
   },
   "source": [
    "For basic statistics computation (mean, median, etc.) we need the following:"
   ]
  },
  {
   "cell_type": "code",
   "execution_count": 2,
   "metadata": {
    "slideshow": {
     "slide_type": "skip"
    }
   },
   "outputs": [],
   "source": [
    "using Statistics"
   ]
  },
  {
   "cell_type": "markdown",
   "metadata": {
    "slideshow": {
     "slide_type": "skip"
    }
   },
   "source": [
    "For plotting and plotting recipes of box and violin plots, the following are also needed:"
   ]
  },
  {
   "cell_type": "code",
   "execution_count": 3,
   "metadata": {
    "slideshow": {
     "slide_type": "skip"
    }
   },
   "outputs": [],
   "source": [
    "using Plots\n",
    "using StatsPlots"
   ]
  },
  {
   "cell_type": "markdown",
   "metadata": {
    "slideshow": {
     "slide_type": "skip"
    }
   },
   "source": [
    "The rendering code does not realize we're using a (scrollable) web notebook and not a terminal, so we need to simulate having a large number of rows and columns to avoid that columns are omitted in displays:"
   ]
  },
  {
   "cell_type": "code",
   "execution_count": 4,
   "metadata": {
    "slideshow": {
     "slide_type": "skip"
    }
   },
   "outputs": [],
   "source": [
    "ENV[\"COLUMNS\"] = 1000;\n",
    "ENV[\"LINES\"] = 100;"
   ]
  },
  {
   "cell_type": "markdown",
   "metadata": {
    "slideshow": {
     "slide_type": "slide"
    }
   },
   "source": [
    "## Load data"
   ]
  },
  {
   "cell_type": "markdown",
   "metadata": {},
   "source": [
    "We can use FileIO's generic `load()` function to read a CSV file into a DataFrame: "
   ]
  },
  {
   "cell_type": "code",
   "execution_count": 5,
   "metadata": {},
   "outputs": [],
   "source": [
    "# \"metadata\" file for well D10\n",
    "md = DataFrame(load(\"data/metadata.csv\"));"
   ]
  },
  {
   "cell_type": "code",
   "execution_count": 6,
   "metadata": {},
   "outputs": [],
   "source": [
    "# \"feature values\" for well D10\n",
    "fv = DataFrame(load(\"data/features.csv\"));"
   ]
  },
  {
   "cell_type": "markdown",
   "metadata": {
    "slideshow": {
     "slide_type": "slide"
    }
   },
   "source": [
    "`DataFrame` objects display nicely in the notebook as tabular data: functions `head()` and `tail()` can be used to quickly glance at the data:"
   ]
  },
  {
   "cell_type": "code",
   "execution_count": 47,
   "metadata": {},
   "outputs": [
    {
     "data": {
      "text/html": [
       "<table class=\"data-frame\"><thead><tr><th></th><th>mapobject_id</th><th>plate_name</th><th>well_name</th><th>well_pos_y</th><th>well_pos_x</th><th>tpoint</th><th>zplane</th><th>label</th><th>is_border</th><th>Classification-5</th><th>TPlus</th></tr><tr><th></th><th>Int64</th><th>String</th><th>String</th><th>Int64</th><th>Int64</th><th>Int64</th><th>Int64</th><th>Int64</th><th>Int64</th><th>Float64</th><th>Float64</th></tr></thead><tbody><p>3 rows × 11 columns</p><tr><th>1</th><td>566404</td><td>p1</td><td>D07</td><td>0</td><td>0</td><td>0</td><td>0</td><td>1</td><td>1</td><td>0.0</td><td>0.0</td></tr><tr><th>2</th><td>566405</td><td>p1</td><td>D07</td><td>0</td><td>0</td><td>0</td><td>0</td><td>2</td><td>1</td><td>0.0</td><td>0.0</td></tr><tr><th>3</th><td>566406</td><td>p1</td><td>D07</td><td>0</td><td>0</td><td>0</td><td>0</td><td>3</td><td>1</td><td>0.0</td><td>0.0</td></tr></tbody></table>"
      ],
      "text/latex": [
       "\\begin{tabular}{r|ccccccccccc}\n",
       "\t& mapobject\\_id & plate\\_name & well\\_name & well\\_pos\\_y & well\\_pos\\_x & tpoint & zplane & label & is\\_border & Classification-5 & TPlus\\\\\n",
       "\t\\hline\n",
       "\t& Int64 & String & String & Int64 & Int64 & Int64 & Int64 & Int64 & Int64 & Float64 & Float64\\\\\n",
       "\t\\hline\n",
       "\t1 & 566404 & p1 & D07 & 0 & 0 & 0 & 0 & 1 & 1 & 0.0 & 0.0 \\\\\n",
       "\t2 & 566405 & p1 & D07 & 0 & 0 & 0 & 0 & 2 & 1 & 0.0 & 0.0 \\\\\n",
       "\t3 & 566406 & p1 & D07 & 0 & 0 & 0 & 0 & 3 & 1 & 0.0 & 0.0 \\\\\n",
       "\\end{tabular}\n"
      ],
      "text/plain": [
       "3×11 DataFrame\n",
       "│ Row │ mapobject_id │ plate_name │ well_name │ well_pos_y │ well_pos_x │ tpoint │ zplane │ label │ is_border │ Classification-5 │ TPlus   │\n",
       "│     │ \u001b[90mInt64\u001b[39m        │ \u001b[90mString\u001b[39m     │ \u001b[90mString\u001b[39m    │ \u001b[90mInt64\u001b[39m      │ \u001b[90mInt64\u001b[39m      │ \u001b[90mInt64\u001b[39m  │ \u001b[90mInt64\u001b[39m  │ \u001b[90mInt64\u001b[39m │ \u001b[90mInt64\u001b[39m     │ \u001b[90mFloat64\u001b[39m          │ \u001b[90mFloat64\u001b[39m │\n",
       "├─────┼──────────────┼────────────┼───────────┼────────────┼────────────┼────────┼────────┼───────┼───────────┼──────────────────┼─────────┤\n",
       "│ 1   │ 566404       │ p1         │ D07       │ 0          │ 0          │ 0      │ 0      │ 1     │ 1         │ 0.0              │ 0.0     │\n",
       "│ 2   │ 566405       │ p1         │ D07       │ 0          │ 0          │ 0      │ 0      │ 2     │ 1         │ 0.0              │ 0.0     │\n",
       "│ 3   │ 566406       │ p1         │ D07       │ 0          │ 0          │ 0      │ 0      │ 3     │ 1         │ 0.0              │ 0.0     │"
      ]
     },
     "execution_count": 47,
     "metadata": {},
     "output_type": "execute_result"
    }
   ],
   "source": [
    "first(md, 3)"
   ]
  },
  {
   "cell_type": "markdown",
   "metadata": {},
   "source": [
    "Note that the first row of the CSV file was used to name the columns, not to provide actual data."
   ]
  },
  {
   "cell_type": "markdown",
   "metadata": {
    "slideshow": {
     "slide_type": "slide"
    }
   },
   "source": [
    "## Access table data"
   ]
  },
  {
   "cell_type": "markdown",
   "metadata": {},
   "source": [
    "Function `size()` returns the lengths in the two dimensions of a  `DataFrame` object, just like it does for arrays:"
   ]
  },
  {
   "cell_type": "code",
   "execution_count": 8,
   "metadata": {},
   "outputs": [
    {
     "data": {
      "text/plain": [
       "(22808, 11)"
      ]
     },
     "execution_count": 8,
     "metadata": {},
     "output_type": "execute_result"
    }
   ],
   "source": [
    "size(md)"
   ]
  },
  {
   "cell_type": "markdown",
   "metadata": {},
   "source": [
    "The above shows that our table has 22808 rows across 11 columns.  \n",
    "\n",
    "**Note: *row index comes first!*** (This will be important when accessing data with numerical indices below.)"
   ]
  },
  {
   "cell_type": "markdown",
   "metadata": {
    "slideshow": {
     "slide_type": "slide"
    }
   },
   "source": [
    "### Read entire columns"
   ]
  },
  {
   "cell_type": "markdown",
   "metadata": {},
   "source": [
    "There are a few ways to get an *entire column* out of the table, by using variants on array-get `[]` notation:"
   ]
  },
  {
   "cell_type": "markdown",
   "metadata": {
    "slideshow": {
     "slide_type": "slide"
    }
   },
   "source": [
    "1. As an array *view*, with `df.column_name` (note this does not copy the array):"
   ]
  },
  {
   "cell_type": "code",
   "execution_count": 9,
   "metadata": {},
   "outputs": [],
   "source": [
    "labels = md.label;"
   ]
  },
  {
   "cell_type": "code",
   "execution_count": 10,
   "metadata": {},
   "outputs": [
    {
     "data": {
      "text/plain": [
       "5-element Array{Int64,1}:\n",
       " 1\n",
       " 2\n",
       " 3\n",
       " 4\n",
       " 5"
      ]
     },
     "execution_count": 10,
     "metadata": {},
     "output_type": "execute_result"
    }
   ],
   "source": [
    "labels[1:5] # print first 5 label values"
   ]
  },
  {
   "cell_type": "markdown",
   "metadata": {
    "slideshow": {
     "slide_type": "slide"
    }
   },
   "source": [
    "2. As an array, with `df[:, column_index]` (copy) or `df[:, column_index]` (view like above):"
   ]
  },
  {
   "cell_type": "code",
   "execution_count": 11,
   "metadata": {},
   "outputs": [],
   "source": [
    "labels = md[:, :label];"
   ]
  },
  {
   "cell_type": "code",
   "execution_count": 12,
   "metadata": {},
   "outputs": [
    {
     "data": {
      "text/plain": [
       "5-element Array{Int64,1}:\n",
       " 1\n",
       " 2\n",
       " 3\n",
       " 4\n",
       " 5"
      ]
     },
     "execution_count": 12,
     "metadata": {},
     "output_type": "execute_result"
    }
   ],
   "source": [
    "labels[1:5] # print first 5 label values"
   ]
  },
  {
   "cell_type": "markdown",
   "metadata": {
    "slideshow": {
     "slide_type": "slide"
    }
   },
   "source": [
    "3. As another DataFrame, with `df[:, [:column_name]]` (copy) or `df[!, [:column_name]]` (view):"
   ]
  },
  {
   "cell_type": "code",
   "execution_count": 13,
   "metadata": {},
   "outputs": [],
   "source": [
    "labels_df = md[!, [:label]];"
   ]
  },
  {
   "cell_type": "code",
   "execution_count": 14,
   "metadata": {},
   "outputs": [
    {
     "data": {
      "text/html": [
       "<table class=\"data-frame\"><thead><tr><th></th><th>label</th></tr><tr><th></th><th>Int64</th></tr></thead><tbody><p>5 rows × 1 columns</p><tr><th>1</th><td>1</td></tr><tr><th>2</th><td>2</td></tr><tr><th>3</th><td>3</td></tr><tr><th>4</th><td>4</td></tr><tr><th>5</th><td>5</td></tr></tbody></table>"
      ],
      "text/latex": [
       "\\begin{tabular}{r|c}\n",
       "\t& label\\\\\n",
       "\t\\hline\n",
       "\t& Int64\\\\\n",
       "\t\\hline\n",
       "\t1 & 1 \\\\\n",
       "\t2 & 2 \\\\\n",
       "\t3 & 3 \\\\\n",
       "\t4 & 4 \\\\\n",
       "\t5 & 5 \\\\\n",
       "\\end{tabular}\n"
      ],
      "text/plain": [
       "5×1 DataFrame\n",
       "│ Row │ label │\n",
       "│     │ \u001b[90mInt64\u001b[39m │\n",
       "├─────┼───────┤\n",
       "│ 1   │ 1     │\n",
       "│ 2   │ 2     │\n",
       "│ 3   │ 3     │\n",
       "│ 4   │ 4     │\n",
       "│ 5   │ 5     │"
      ]
     },
     "execution_count": 14,
     "metadata": {},
     "output_type": "execute_result"
    }
   ],
   "source": [
    "first(labels_df, 5)"
   ]
  },
  {
   "cell_type": "markdown",
   "metadata": {
    "slideshow": {
     "slide_type": "slide"
    }
   },
   "source": [
    "Columns extracted as array copies or array views support (of course!) all normal array operations on them:"
   ]
  },
  {
   "cell_type": "code",
   "execution_count": 15,
   "metadata": {},
   "outputs": [
    {
     "data": {
      "text/plain": [
       "22808"
      ]
     },
     "execution_count": 15,
     "metadata": {},
     "output_type": "execute_result"
    }
   ],
   "source": [
    "length(labels)"
   ]
  },
  {
   "cell_type": "code",
   "execution_count": 16,
   "metadata": {},
   "outputs": [],
   "source": [
    "unique_labels = unique(labels);"
   ]
  },
  {
   "cell_type": "code",
   "execution_count": 17,
   "metadata": {},
   "outputs": [
    {
     "data": {
      "text/plain": [
       "1178"
      ]
     },
     "execution_count": 17,
     "metadata": {},
     "output_type": "execute_result"
    }
   ],
   "source": [
    "length(unique_labels)"
   ]
  },
  {
   "cell_type": "markdown",
   "metadata": {
    "slideshow": {
     "slide_type": "slide"
    }
   },
   "source": [
    "### Read entire rows"
   ]
  },
  {
   "cell_type": "markdown",
   "metadata": {},
   "source": [
    "A single row can be accessed using the usual 2D-array access syntax:"
   ]
  },
  {
   "cell_type": "code",
   "execution_count": 18,
   "metadata": {},
   "outputs": [
    {
     "data": {
      "text/html": [
       "<p>DataFrameRow (11 columns)</p><table class=\"data-frame\"><thead><tr><th></th><th>mapobject_id</th><th>plate_name</th><th>well_name</th><th>well_pos_y</th><th>well_pos_x</th><th>tpoint</th><th>zplane</th><th>label</th><th>is_border</th><th>Classification-5</th><th>TPlus</th></tr><tr><th></th><th>Int64</th><th>String</th><th>String</th><th>Int64</th><th>Int64</th><th>Int64</th><th>Int64</th><th>Int64</th><th>Int64</th><th>Float64</th><th>Float64</th></tr></thead><tbody><tr><th>2</th><td>566405</td><td>p1</td><td>D07</td><td>0</td><td>0</td><td>0</td><td>0</td><td>2</td><td>1</td><td>0.0</td><td>0.0</td></tr></tbody></table>"
      ],
      "text/latex": [
       "\\begin{tabular}{r|ccccccccccc}\n",
       "\t& mapobject\\_id & plate\\_name & well\\_name & well\\_pos\\_y & well\\_pos\\_x & tpoint & zplane & label & is\\_border & Classification-5 & TPlus\\\\\n",
       "\t\\hline\n",
       "\t& Int64 & String & String & Int64 & Int64 & Int64 & Int64 & Int64 & Int64 & Float64 & Float64\\\\\n",
       "\t\\hline\n",
       "\t2 & 566405 & p1 & D07 & 0 & 0 & 0 & 0 & 2 & 1 & 0.0 & 0.0 \\\\\n",
       "\\end{tabular}\n"
      ],
      "text/plain": [
       "DataFrameRow\n",
       "│ Row │ mapobject_id │ plate_name │ well_name │ well_pos_y │ well_pos_x │ tpoint │ zplane │ label │ is_border │ Classification-5 │ TPlus   │\n",
       "│     │ \u001b[90mInt64\u001b[39m        │ \u001b[90mString\u001b[39m     │ \u001b[90mString\u001b[39m    │ \u001b[90mInt64\u001b[39m      │ \u001b[90mInt64\u001b[39m      │ \u001b[90mInt64\u001b[39m  │ \u001b[90mInt64\u001b[39m  │ \u001b[90mInt64\u001b[39m │ \u001b[90mInt64\u001b[39m     │ \u001b[90mFloat64\u001b[39m          │ \u001b[90mFloat64\u001b[39m │\n",
       "├─────┼──────────────┼────────────┼───────────┼────────────┼────────────┼────────┼────────┼───────┼───────────┼──────────────────┼─────────┤\n",
       "│ 2   │ 566405       │ p1         │ D07       │ 0          │ 0          │ 0      │ 0      │ 2     │ 1         │ 0.0              │ 0.0     │"
      ]
     },
     "execution_count": 18,
     "metadata": {},
     "output_type": "execute_result"
    }
   ],
   "source": [
    "row2 = md[2, :]"
   ]
  },
  {
   "cell_type": "markdown",
   "metadata": {
    "slideshow": {
     "slide_type": "slide"
    }
   },
   "source": [
    "Note that the extracted row, although similar to a DataFrame when shown, is a different object:"
   ]
  },
  {
   "cell_type": "code",
   "execution_count": 19,
   "metadata": {},
   "outputs": [
    {
     "data": {
      "text/plain": [
       "DataFrameRow{DataFrame,DataFrames.Index}"
      ]
     },
     "execution_count": 19,
     "metadata": {},
     "output_type": "execute_result"
    }
   ],
   "source": [
    "typeof(row2)"
   ]
  },
  {
   "cell_type": "markdown",
   "metadata": {
    "slideshow": {
     "slide_type": "slide"
    }
   },
   "source": [
    "We can then fetch individual values by column name (symbol) or index:"
   ]
  },
  {
   "cell_type": "code",
   "execution_count": 20,
   "metadata": {},
   "outputs": [
    {
     "data": {
      "text/plain": [
       "\"D07\""
      ]
     },
     "execution_count": 20,
     "metadata": {},
     "output_type": "execute_result"
    }
   ],
   "source": [
    "row2[:well_name]"
   ]
  },
  {
   "cell_type": "code",
   "execution_count": 21,
   "metadata": {},
   "outputs": [
    {
     "data": {
      "text/plain": [
       "\"p1\""
      ]
     },
     "execution_count": 21,
     "metadata": {},
     "output_type": "execute_result"
    }
   ],
   "source": [
    "row2[2]"
   ]
  },
  {
   "cell_type": "markdown",
   "metadata": {
    "slideshow": {
     "slide_type": "slide"
    }
   },
   "source": [
    "## Quick computation of basic statistical quantities"
   ]
  },
  {
   "cell_type": "markdown",
   "metadata": {},
   "source": [
    "A `DataFrame`'s `describe()` method provides a quick statistical summary of the data (but only for *continuous* variables):"
   ]
  },
  {
   "cell_type": "code",
   "execution_count": 22,
   "metadata": {
    "scrolled": true
   },
   "outputs": [
    {
     "data": {
      "text/html": [
       "<table class=\"data-frame\"><thead><tr><th></th><th>variable</th><th>mean</th><th>min</th><th>median</th><th>max</th><th>nunique</th><th>nmissing</th><th>eltype</th></tr><tr><th></th><th>Symbol</th><th>Float64</th><th>Float64</th><th>Float64</th><th>Float64</th><th>Nothing</th><th>Nothing</th><th>DataType</th></tr></thead><tbody><p>1 rows × 8 columns</p><tr><th>1</th><td>Intensity_mean_A01_C03</td><td>178.423</td><td>103.0</td><td>181.375</td><td>824.712</td><td></td><td></td><td>Float64</td></tr></tbody></table>"
      ],
      "text/latex": [
       "\\begin{tabular}{r|cccccccc}\n",
       "\t& variable & mean & min & median & max & nunique & nmissing & eltype\\\\\n",
       "\t\\hline\n",
       "\t& Symbol & Float64 & Float64 & Float64 & Float64 & Nothing & Nothing & DataType\\\\\n",
       "\t\\hline\n",
       "\t1 & Intensity\\_mean\\_A01\\_C03 & 178.423 & 103.0 & 181.375 & 824.712 &  &  & Float64 \\\\\n",
       "\\end{tabular}\n"
      ],
      "text/plain": [
       "1×8 DataFrame\n",
       "│ Row │ variable               │ mean    │ min     │ median  │ max     │ nunique │ nmissing │ eltype   │\n",
       "│     │ \u001b[90mSymbol\u001b[39m                 │ \u001b[90mFloat64\u001b[39m │ \u001b[90mFloat64\u001b[39m │ \u001b[90mFloat64\u001b[39m │ \u001b[90mFloat64\u001b[39m │ \u001b[90mNothing\u001b[39m │ \u001b[90mNothing\u001b[39m  │ \u001b[90mDataType\u001b[39m │\n",
       "├─────┼────────────────────────┼─────────┼─────────┼─────────┼─────────┼─────────┼──────────┼──────────┤\n",
       "│ 1   │ Intensity_mean_A01_C03 │ 178.423 │ 103.0   │ 181.375 │ 824.712 │         │          │ Float64  │"
      ]
     },
     "execution_count": 22,
     "metadata": {},
     "output_type": "execute_result"
    }
   ],
   "source": [
    "stat = describe(fv[!, [:Intensity_mean_A01_C03]])"
   ]
  },
  {
   "cell_type": "markdown",
   "metadata": {
    "slideshow": {
     "slide_type": "slide"
    }
   },
   "source": [
    "Note that the value returned by `describe()` is again a DataFrame, so getting out a single value can be a bit combersome:"
   ]
  },
  {
   "cell_type": "code",
   "execution_count": 23,
   "metadata": {},
   "outputs": [
    {
     "data": {
      "text/plain": [
       "178.42255450758506"
      ]
     },
     "execution_count": 23,
     "metadata": {},
     "output_type": "execute_result"
    }
   ],
   "source": [
    "stat[1,:][:mean]"
   ]
  },
  {
   "cell_type": "markdown",
   "metadata": {
    "slideshow": {
     "slide_type": "slide"
    }
   },
   "source": [
    "You can compute the very same values (and many others!) by directly applying a function to an array view of column:"
   ]
  },
  {
   "cell_type": "code",
   "execution_count": 24,
   "metadata": {},
   "outputs": [],
   "source": [
    "using Statistics"
   ]
  },
  {
   "cell_type": "code",
   "execution_count": 25,
   "metadata": {},
   "outputs": [
    {
     "data": {
      "text/plain": [
       "181.37462549999998"
      ]
     },
     "execution_count": 25,
     "metadata": {},
     "output_type": "execute_result"
    }
   ],
   "source": [
    "# compute the median\n",
    "median(fv[!, :Intensity_mean_A01_C03])"
   ]
  },
  {
   "cell_type": "code",
   "execution_count": 26,
   "metadata": {},
   "outputs": [
    {
     "data": {
      "text/plain": [
       "5.168034971225998"
      ]
     },
     "execution_count": 26,
     "metadata": {},
     "output_type": "execute_result"
    }
   ],
   "source": [
    "# compute the average of the log intensity\n",
    "mean(log.(fv[!, :Intensity_mean_A01_C03]))"
   ]
  },
  {
   "cell_type": "markdown",
   "metadata": {
    "slideshow": {
     "slide_type": "slide"
    }
   },
   "source": [
    "-----"
   ]
  },
  {
   "cell_type": "markdown",
   "metadata": {
    "slideshow": {
     "slide_type": "slide"
    }
   },
   "source": [
    "## Exercise 5.A\n",
    "\n",
    "What is the mean value of column `Intensity_mean_A01_C03`?"
   ]
  },
  {
   "cell_type": "code",
   "execution_count": 27,
   "metadata": {
    "slideshow": {
     "slide_type": "skip"
    }
   },
   "outputs": [],
   "source": [
    "# your solution here"
   ]
  },
  {
   "cell_type": "markdown",
   "metadata": {},
   "source": [
    "## Exercise 5.B\n",
    "\n",
    "How many unique values are in column `TPlus` in the metadata?"
   ]
  },
  {
   "cell_type": "code",
   "execution_count": 28,
   "metadata": {
    "slideshow": {
     "slide_type": "skip"
    }
   },
   "outputs": [],
   "source": [
    "# your solution here"
   ]
  },
  {
   "cell_type": "markdown",
   "metadata": {},
   "source": [
    "## Exercise 5.C.\n",
    "\n",
    "The `is_border` column in the \"metadata\" table tells you whether a cell lies at the border of an acquisition site or not (1 = lies at the border, 0 = does not touch nor cross the border).\n",
    "\n",
    "Can you count the number of \"border\" cells?"
   ]
  },
  {
   "cell_type": "code",
   "execution_count": 29,
   "metadata": {
    "slideshow": {
     "slide_type": "skip"
    }
   },
   "outputs": [],
   "source": [
    "# your solution here"
   ]
  },
  {
   "cell_type": "markdown",
   "metadata": {
    "slideshow": {
     "slide_type": "slide"
    }
   },
   "source": [
    "-----"
   ]
  },
  {
   "cell_type": "markdown",
   "metadata": {
    "slideshow": {
     "slide_type": "slide"
    }
   },
   "source": [
    "## Join tabular data\n",
    "\n",
    "There are two ways of joining tables:\n",
    "\n",
    "- We may want to \"stack\" one table on top of another (only possible if the tables have the same columns), or \"adjoin\" two tables having the same number of rows; like we do with arrays, this is accomplished with functions `vcat()` and `hcat()`\n",
    "\n",
    "- We may want to form a new table by \"joining\" rows that have some value (called a *key*) in common; this is accomplished by a `DataFrame`'s `join()` function."
   ]
  },
  {
   "cell_type": "markdown",
   "metadata": {
    "slideshow": {
     "slide_type": "slide"
    }
   },
   "source": [
    "### \"Stacking\" tables\n",
    "\n",
    "Stacking tables is accomplished with function `vcat()`, which takes as arguments the tables to stack."
   ]
  },
  {
   "cell_type": "code",
   "execution_count": 30,
   "metadata": {},
   "outputs": [],
   "source": [
    "double_md = vcat(md, md);"
   ]
  },
  {
   "cell_type": "code",
   "execution_count": 31,
   "metadata": {},
   "outputs": [
    {
     "data": {
      "text/plain": [
       "(45616, 11)"
      ]
     },
     "execution_count": 31,
     "metadata": {},
     "output_type": "execute_result"
    }
   ],
   "source": [
    "size(double_md)"
   ]
  },
  {
   "cell_type": "code",
   "execution_count": 32,
   "metadata": {},
   "outputs": [
    {
     "data": {
      "text/plain": [
       "true"
      ]
     },
     "execution_count": 32,
     "metadata": {},
     "output_type": "execute_result"
    }
   ],
   "source": [
    "size(double_md, 1) == 2*size(md, 1)"
   ]
  },
  {
   "cell_type": "markdown",
   "metadata": {
    "slideshow": {
     "slide_type": "slide"
    }
   },
   "source": [
    "When \"adjoining\" tables, it can occur that the two DataFrames have some column names in common; an additional parameter `makeunique=true` allows Julia to rename duplicate columns:"
   ]
  },
  {
   "cell_type": "code",
   "execution_count": 33,
   "metadata": {},
   "outputs": [],
   "source": [
    "double_md  = hcat(md, md, makeunique=true);"
   ]
  },
  {
   "cell_type": "code",
   "execution_count": 48,
   "metadata": {},
   "outputs": [
    {
     "data": {
      "text/html": [
       "<table class=\"data-frame\"><thead><tr><th></th><th>mapobject_id</th><th>plate_name</th><th>well_name</th><th>well_pos_y</th><th>well_pos_x</th><th>tpoint</th><th>zplane</th><th>label</th><th>is_border</th><th>Classification-5</th><th>TPlus</th><th>mapobject_id_1</th><th>plate_name_1</th><th>well_name_1</th><th>well_pos_y_1</th><th>well_pos_x_1</th><th>tpoint_1</th><th>zplane_1</th><th>label_1</th><th>is_border_1</th><th>Classification-5_1</th><th>TPlus_1</th></tr><tr><th></th><th>Int64</th><th>String</th><th>String</th><th>Int64</th><th>Int64</th><th>Int64</th><th>Int64</th><th>Int64</th><th>Int64</th><th>Float64</th><th>Float64</th><th>Int64</th><th>String</th><th>String</th><th>Int64</th><th>Int64</th><th>Int64</th><th>Int64</th><th>Int64</th><th>Int64</th><th>Float64</th><th>Float64</th></tr></thead><tbody><p>3 rows × 22 columns</p><tr><th>1</th><td>566404</td><td>p1</td><td>D07</td><td>0</td><td>0</td><td>0</td><td>0</td><td>1</td><td>1</td><td>0.0</td><td>0.0</td><td>566404</td><td>p1</td><td>D07</td><td>0</td><td>0</td><td>0</td><td>0</td><td>1</td><td>1</td><td>0.0</td><td>0.0</td></tr><tr><th>2</th><td>566405</td><td>p1</td><td>D07</td><td>0</td><td>0</td><td>0</td><td>0</td><td>2</td><td>1</td><td>0.0</td><td>0.0</td><td>566405</td><td>p1</td><td>D07</td><td>0</td><td>0</td><td>0</td><td>0</td><td>2</td><td>1</td><td>0.0</td><td>0.0</td></tr><tr><th>3</th><td>566406</td><td>p1</td><td>D07</td><td>0</td><td>0</td><td>0</td><td>0</td><td>3</td><td>1</td><td>0.0</td><td>0.0</td><td>566406</td><td>p1</td><td>D07</td><td>0</td><td>0</td><td>0</td><td>0</td><td>3</td><td>1</td><td>0.0</td><td>0.0</td></tr></tbody></table>"
      ],
      "text/latex": [
       "\\begin{tabular}{r|cccccccccccccccccccccc}\n",
       "\t& mapobject\\_id & plate\\_name & well\\_name & well\\_pos\\_y & well\\_pos\\_x & tpoint & zplane & label & is\\_border & Classification-5 & TPlus & mapobject\\_id\\_1 & plate\\_name\\_1 & well\\_name\\_1 & well\\_pos\\_y\\_1 & well\\_pos\\_x\\_1 & tpoint\\_1 & zplane\\_1 & label\\_1 & is\\_border\\_1 & Classification-5\\_1 & TPlus\\_1\\\\\n",
       "\t\\hline\n",
       "\t& Int64 & String & String & Int64 & Int64 & Int64 & Int64 & Int64 & Int64 & Float64 & Float64 & Int64 & String & String & Int64 & Int64 & Int64 & Int64 & Int64 & Int64 & Float64 & Float64\\\\\n",
       "\t\\hline\n",
       "\t1 & 566404 & p1 & D07 & 0 & 0 & 0 & 0 & 1 & 1 & 0.0 & 0.0 & 566404 & p1 & D07 & 0 & 0 & 0 & 0 & 1 & 1 & 0.0 & 0.0 \\\\\n",
       "\t2 & 566405 & p1 & D07 & 0 & 0 & 0 & 0 & 2 & 1 & 0.0 & 0.0 & 566405 & p1 & D07 & 0 & 0 & 0 & 0 & 2 & 1 & 0.0 & 0.0 \\\\\n",
       "\t3 & 566406 & p1 & D07 & 0 & 0 & 0 & 0 & 3 & 1 & 0.0 & 0.0 & 566406 & p1 & D07 & 0 & 0 & 0 & 0 & 3 & 1 & 0.0 & 0.0 \\\\\n",
       "\\end{tabular}\n"
      ],
      "text/plain": [
       "3×22 DataFrame\n",
       "│ Row │ mapobject_id │ plate_name │ well_name │ well_pos_y │ well_pos_x │ tpoint │ zplane │ label │ is_border │ Classification-5 │ TPlus   │ mapobject_id_1 │ plate_name_1 │ well_name_1 │ well_pos_y_1 │ well_pos_x_1 │ tpoint_1 │ zplane_1 │ label_1 │ is_border_1 │ Classification-5_1 │ TPlus_1 │\n",
       "│     │ \u001b[90mInt64\u001b[39m        │ \u001b[90mString\u001b[39m     │ \u001b[90mString\u001b[39m    │ \u001b[90mInt64\u001b[39m      │ \u001b[90mInt64\u001b[39m      │ \u001b[90mInt64\u001b[39m  │ \u001b[90mInt64\u001b[39m  │ \u001b[90mInt64\u001b[39m │ \u001b[90mInt64\u001b[39m     │ \u001b[90mFloat64\u001b[39m          │ \u001b[90mFloat64\u001b[39m │ \u001b[90mInt64\u001b[39m          │ \u001b[90mString\u001b[39m       │ \u001b[90mString\u001b[39m      │ \u001b[90mInt64\u001b[39m        │ \u001b[90mInt64\u001b[39m        │ \u001b[90mInt64\u001b[39m    │ \u001b[90mInt64\u001b[39m    │ \u001b[90mInt64\u001b[39m   │ \u001b[90mInt64\u001b[39m       │ \u001b[90mFloat64\u001b[39m            │ \u001b[90mFloat64\u001b[39m │\n",
       "├─────┼──────────────┼────────────┼───────────┼────────────┼────────────┼────────┼────────┼───────┼───────────┼──────────────────┼─────────┼────────────────┼──────────────┼─────────────┼──────────────┼──────────────┼──────────┼──────────┼─────────┼─────────────┼────────────────────┼─────────┤\n",
       "│ 1   │ 566404       │ p1         │ D07       │ 0          │ 0          │ 0      │ 0      │ 1     │ 1         │ 0.0              │ 0.0     │ 566404         │ p1           │ D07         │ 0            │ 0            │ 0        │ 0        │ 1       │ 1           │ 0.0                │ 0.0     │\n",
       "│ 2   │ 566405       │ p1         │ D07       │ 0          │ 0          │ 0      │ 0      │ 2     │ 1         │ 0.0              │ 0.0     │ 566405         │ p1           │ D07         │ 0            │ 0            │ 0        │ 0        │ 2       │ 1           │ 0.0                │ 0.0     │\n",
       "│ 3   │ 566406       │ p1         │ D07       │ 0          │ 0          │ 0      │ 0      │ 3     │ 1         │ 0.0              │ 0.0     │ 566406         │ p1           │ D07         │ 0            │ 0            │ 0        │ 0        │ 3       │ 1           │ 0.0                │ 0.0     │"
      ]
     },
     "execution_count": 48,
     "metadata": {},
     "output_type": "execute_result"
    }
   ],
   "source": [
    "first(double_md, 3)"
   ]
  },
  {
   "cell_type": "markdown",
   "metadata": {
    "slideshow": {
     "slide_type": "slide"
    }
   },
   "source": [
    "### Joining by rows\n",
    "\n",
    "The `join()` function allows making a new table out of two existing tables with a set of common columns.  The syntax is as follows:\n",
    "```\n",
    "new_table = join(table1, table2, on=[pairs of corresponding columns], kind=...)\n",
    "```\n",
    "\n",
    "For example:"
   ]
  },
  {
   "cell_type": "code",
   "execution_count": 35,
   "metadata": {},
   "outputs": [],
   "source": [
    "merged = join(md, fv, on=[:mapobject_id], kind=:inner);"
   ]
  },
  {
   "cell_type": "code",
   "execution_count": 49,
   "metadata": {},
   "outputs": [
    {
     "data": {
      "text/html": [
       "<table class=\"data-frame\"><thead><tr><th></th><th>mapobject_id</th><th>plate_name</th><th>well_name</th><th>well_pos_y</th><th>well_pos_x</th><th>tpoint</th><th>zplane</th><th>label</th><th>is_border</th><th>Classification-5</th><th>TPlus</th><th>Nuclei_Intensity_max_A02_C01</th><th>Nuclei_Intensity_mean_A02_C01</th><th>Nuclei_Intensity_min_A02_C01</th><th>Nuclei_Intensity_sum_A02_C01</th><th>Nuclei_Intensity_std_A02_C01</th><th>Intensity_max_A01_C02</th><th>Intensity_mean_A01_C02</th><th>Intensity_min_A01_C02</th><th>Intensity_sum_A01_C02</th><th>Intensity_std_A01_C02</th><th>Intensity_max_A01_C03</th><th>Intensity_mean_A01_C03</th><th>Intensity_min_A01_C03</th><th>Intensity_sum_A01_C03</th><th>Intensity_std_A01_C03</th><th>Intensity_max_A02_C04</th><th>Intensity_mean_A02_C04</th><th>Intensity_min_A02_C04</th><th>Intensity_sum_A02_C04</th><th>Intensity_std_A02_C04</th><th>Nuclei_Morphology_Area</th><th>Nuclei_Morphology_Eccentricity</th><th>Nuclei_Morphology_Convexity</th><th>Nuclei_Morphology_Circularity</th><th>Nuclei_Morphology_Perimeter</th><th>Nuclei_Morphology_Elongation</th><th>Morphology_Area</th><th>Morphology_Eccentricity</th><th>Morphology_Convexity</th><th>Morphology_Circularity</th><th>Morphology_Perimeter</th><th>Morphology_Elongation</th><th>Texture_Gabor-frequency-1_A01_C03</th><th>Texture_Gabor-frequency-10_A01_C03</th></tr><tr><th></th><th>Int64</th><th>String</th><th>String</th><th>Int64</th><th>Int64</th><th>Int64</th><th>Int64</th><th>Int64</th><th>Int64</th><th>Float64</th><th>Float64</th><th>Float64</th><th>Float64</th><th>Float64</th><th>Float64</th><th>Float64</th><th>Float64</th><th>Float64</th><th>Float64</th><th>Float64</th><th>Float64</th><th>Float64</th><th>Float64</th><th>Float64</th><th>Float64</th><th>Float64</th><th>Float64</th><th>Float64</th><th>Float64</th><th>Float64</th><th>Float64</th><th>Float64</th><th>Float64</th><th>Float64</th><th>Float64⍰</th><th>Float64</th><th>Float64⍰</th><th>Float64</th><th>Float64</th><th>Float64</th><th>Float64⍰</th><th>Float64</th><th>Float64⍰</th><th>Float64</th><th>Float64</th></tr></thead><tbody><p>3 rows × 215 columns (omitted printing of 170 columns)</p><tr><th>1</th><td>566404</td><td>p1</td><td>D07</td><td>0</td><td>0</td><td>0</td><td>0</td><td>1</td><td>1</td><td>0.0</td><td>0.0</td><td>452.0</td><td>267.323</td><td>123.0</td><td>393499.0</td><td>69.2942</td><td>9049.0</td><td>3730.61</td><td>388.0</td><td>1.31877e7</td><td>2137.32</td><td>410.0</td><td>181.701</td><td>104.0</td><td>642312.0</td><td>32.6813</td><td>137.0</td><td>110.339</td><td>94.0</td><td>390047.0</td><td>6.19284</td><td>1472.0</td><td>0.349673</td><td>0.947233</td><td>0.691631</td><td>163.539</td><td>0.063128</td><td>3535.0</td><td>0.486365</td><td>0.853246</td><td>0.562839</td><td>280.936</td><td>0.126244</td><td>14515.4</td><td>1396.28</td></tr><tr><th>2</th><td>566405</td><td>p1</td><td>D07</td><td>0</td><td>0</td><td>0</td><td>0</td><td>2</td><td>1</td><td>0.0</td><td>0.0</td><td>466.0</td><td>196.026</td><td>122.0</td><td>394013.0</td><td>44.987</td><td>7614.0</td><td>2970.23</td><td>252.0</td><td>1.21928e7</td><td>2056.35</td><td>353.0</td><td>181.789</td><td>103.0</td><td>746245.0</td><td>58.8372</td><td>144.0</td><td>108.509</td><td>92.0</td><td>445429.0</td><td>4.42207</td><td>2010.0</td><td>0.544756</td><td>0.936626</td><td>0.623132</td><td>201.332</td><td>0.161406</td><td>4105.0</td><td>0.896143</td><td>0.867681</td><td>0.468666</td><td>331.765</td><td>0.556235</td><td>37456.1</td><td>1407.19</td></tr><tr><th>3</th><td>566406</td><td>p1</td><td>D07</td><td>0</td><td>0</td><td>0</td><td>0</td><td>3</td><td>1</td><td>0.0</td><td>0.0</td><td>437.0</td><td>188.11</td><td>122.0</td><td>540629.0</td><td>32.8141</td><td>8110.0</td><td>2727.28</td><td>255.0</td><td>2.22328e7</td><td>2276.91</td><td>323.0</td><td>163.918</td><td>96.0</td><td>1.33626e6</td><td>55.3932</td><td>166.0</td><td>108.45</td><td>89.0</td><td>884082.0</td><td>8.40256</td><td>2874.0</td><td>0.738973</td><td>0.977884</td><td>0.70543</td><td>226.267</td><td>0.326265</td><td>8152.0</td><td>0.57924</td><td>0.883494</td><td>0.541058</td><td>435.126</td><td>0.184843</td><td>32084.6</td><td>772.151</td></tr></tbody></table>"
      ],
      "text/latex": [
       "\\begin{tabular}{r|cccccccccccccccccccccccccccccccccccccccccccccc}\n",
       "\t& mapobject\\_id & plate\\_name & well\\_name & well\\_pos\\_y & well\\_pos\\_x & tpoint & zplane & label & is\\_border & Classification-5 & TPlus & Nuclei\\_Intensity\\_max\\_A02\\_C01 & Nuclei\\_Intensity\\_mean\\_A02\\_C01 & Nuclei\\_Intensity\\_min\\_A02\\_C01 & Nuclei\\_Intensity\\_sum\\_A02\\_C01 & Nuclei\\_Intensity\\_std\\_A02\\_C01 & Intensity\\_max\\_A01\\_C02 & Intensity\\_mean\\_A01\\_C02 & Intensity\\_min\\_A01\\_C02 & Intensity\\_sum\\_A01\\_C02 & Intensity\\_std\\_A01\\_C02 & Intensity\\_max\\_A01\\_C03 & Intensity\\_mean\\_A01\\_C03 & Intensity\\_min\\_A01\\_C03 & Intensity\\_sum\\_A01\\_C03 & Intensity\\_std\\_A01\\_C03 & Intensity\\_max\\_A02\\_C04 & Intensity\\_mean\\_A02\\_C04 & Intensity\\_min\\_A02\\_C04 & Intensity\\_sum\\_A02\\_C04 & Intensity\\_std\\_A02\\_C04 & Nuclei\\_Morphology\\_Area & Nuclei\\_Morphology\\_Eccentricity & Nuclei\\_Morphology\\_Convexity & Nuclei\\_Morphology\\_Circularity & Nuclei\\_Morphology\\_Perimeter & Nuclei\\_Morphology\\_Elongation & Morphology\\_Area & Morphology\\_Eccentricity & Morphology\\_Convexity & Morphology\\_Circularity & Morphology\\_Perimeter & Morphology\\_Elongation & Texture\\_Gabor-frequency-1\\_A01\\_C03 & Texture\\_Gabor-frequency-10\\_A01\\_C03 & \\\\\n",
       "\t\\hline\n",
       "\t& Int64 & String & String & Int64 & Int64 & Int64 & Int64 & Int64 & Int64 & Float64 & Float64 & Float64 & Float64 & Float64 & Float64 & Float64 & Float64 & Float64 & Float64 & Float64 & Float64 & Float64 & Float64 & Float64 & Float64 & Float64 & Float64 & Float64 & Float64 & Float64 & Float64 & Float64 & Float64 & Float64 & Float64⍰ & Float64 & Float64⍰ & Float64 & Float64 & Float64 & Float64⍰ & Float64 & Float64⍰ & Float64 & Float64 & \\\\\n",
       "\t\\hline\n",
       "\t1 & 566404 & p1 & D07 & 0 & 0 & 0 & 0 & 1 & 1 & 0.0 & 0.0 & 452.0 & 267.323 & 123.0 & 393499.0 & 69.2942 & 9049.0 & 3730.61 & 388.0 & 1.31877e7 & 2137.32 & 410.0 & 181.701 & 104.0 & 642312.0 & 32.6813 & 137.0 & 110.339 & 94.0 & 390047.0 & 6.19284 & 1472.0 & 0.349673 & 0.947233 & 0.691631 & 163.539 & 0.063128 & 3535.0 & 0.486365 & 0.853246 & 0.562839 & 280.936 & 0.126244 & 14515.4 & 1396.28 & $\\dots$ \\\\\n",
       "\t2 & 566405 & p1 & D07 & 0 & 0 & 0 & 0 & 2 & 1 & 0.0 & 0.0 & 466.0 & 196.026 & 122.0 & 394013.0 & 44.987 & 7614.0 & 2970.23 & 252.0 & 1.21928e7 & 2056.35 & 353.0 & 181.789 & 103.0 & 746245.0 & 58.8372 & 144.0 & 108.509 & 92.0 & 445429.0 & 4.42207 & 2010.0 & 0.544756 & 0.936626 & 0.623132 & 201.332 & 0.161406 & 4105.0 & 0.896143 & 0.867681 & 0.468666 & 331.765 & 0.556235 & 37456.1 & 1407.19 & $\\dots$ \\\\\n",
       "\t3 & 566406 & p1 & D07 & 0 & 0 & 0 & 0 & 3 & 1 & 0.0 & 0.0 & 437.0 & 188.11 & 122.0 & 540629.0 & 32.8141 & 8110.0 & 2727.28 & 255.0 & 2.22328e7 & 2276.91 & 323.0 & 163.918 & 96.0 & 1.33626e6 & 55.3932 & 166.0 & 108.45 & 89.0 & 884082.0 & 8.40256 & 2874.0 & 0.738973 & 0.977884 & 0.70543 & 226.267 & 0.326265 & 8152.0 & 0.57924 & 0.883494 & 0.541058 & 435.126 & 0.184843 & 32084.6 & 772.151 & $\\dots$ \\\\\n",
       "\\end{tabular}\n"
      ],
      "text/plain": [
       "3×215 DataFrame. Omitted printing of 172 columns\n",
       "│ Row │ mapobject_id │ plate_name │ well_name │ well_pos_y │ well_pos_x │ tpoint │ zplane │ label │ is_border │ Classification-5 │ TPlus   │ Nuclei_Intensity_max_A02_C01 │ Nuclei_Intensity_mean_A02_C01 │ Nuclei_Intensity_min_A02_C01 │ Nuclei_Intensity_sum_A02_C01 │ Nuclei_Intensity_std_A02_C01 │ Intensity_max_A01_C02 │ Intensity_mean_A01_C02 │ Intensity_min_A01_C02 │ Intensity_sum_A01_C02 │ Intensity_std_A01_C02 │ Intensity_max_A01_C03 │ Intensity_mean_A01_C03 │ Intensity_min_A01_C03 │ Intensity_sum_A01_C03 │ Intensity_std_A01_C03 │ Intensity_max_A02_C04 │ Intensity_mean_A02_C04 │ Intensity_min_A02_C04 │ Intensity_sum_A02_C04 │ Intensity_std_A02_C04 │ Nuclei_Morphology_Area │ Nuclei_Morphology_Eccentricity │ Nuclei_Morphology_Convexity │ Nuclei_Morphology_Circularity │ Nuclei_Morphology_Perimeter │ Nuclei_Morphology_Elongation │ Morphology_Area │ Morphology_Eccentricity │ Morphology_Convexity │ Morphology_Circularity │ Morphology_Perimeter │ Morphology_Elongation │\n",
       "│     │ \u001b[90mInt64\u001b[39m        │ \u001b[90mString\u001b[39m     │ \u001b[90mString\u001b[39m    │ \u001b[90mInt64\u001b[39m      │ \u001b[90mInt64\u001b[39m      │ \u001b[90mInt64\u001b[39m  │ \u001b[90mInt64\u001b[39m  │ \u001b[90mInt64\u001b[39m │ \u001b[90mInt64\u001b[39m     │ \u001b[90mFloat64\u001b[39m          │ \u001b[90mFloat64\u001b[39m │ \u001b[90mFloat64\u001b[39m                      │ \u001b[90mFloat64\u001b[39m                       │ \u001b[90mFloat64\u001b[39m                      │ \u001b[90mFloat64\u001b[39m                      │ \u001b[90mFloat64\u001b[39m                      │ \u001b[90mFloat64\u001b[39m               │ \u001b[90mFloat64\u001b[39m                │ \u001b[90mFloat64\u001b[39m               │ \u001b[90mFloat64\u001b[39m               │ \u001b[90mFloat64\u001b[39m               │ \u001b[90mFloat64\u001b[39m               │ \u001b[90mFloat64\u001b[39m                │ \u001b[90mFloat64\u001b[39m               │ \u001b[90mFloat64\u001b[39m               │ \u001b[90mFloat64\u001b[39m               │ \u001b[90mFloat64\u001b[39m               │ \u001b[90mFloat64\u001b[39m                │ \u001b[90mFloat64\u001b[39m               │ \u001b[90mFloat64\u001b[39m               │ \u001b[90mFloat64\u001b[39m               │ \u001b[90mFloat64\u001b[39m                │ \u001b[90mFloat64\u001b[39m                        │ \u001b[90mFloat64\u001b[39m                     │ \u001b[90mUnion{Missing, Float64}\u001b[39m       │ \u001b[90mFloat64\u001b[39m                     │ \u001b[90mUnion{Missing, Float64}\u001b[39m      │ \u001b[90mFloat64\u001b[39m         │ \u001b[90mFloat64\u001b[39m                 │ \u001b[90mFloat64\u001b[39m              │ \u001b[90mFloat64⍰\u001b[39m               │ \u001b[90mFloat64\u001b[39m              │ \u001b[90mFloat64⍰\u001b[39m              │\n",
       "├─────┼──────────────┼────────────┼───────────┼────────────┼────────────┼────────┼────────┼───────┼───────────┼──────────────────┼─────────┼──────────────────────────────┼───────────────────────────────┼──────────────────────────────┼──────────────────────────────┼──────────────────────────────┼───────────────────────┼────────────────────────┼───────────────────────┼───────────────────────┼───────────────────────┼───────────────────────┼────────────────────────┼───────────────────────┼───────────────────────┼───────────────────────┼───────────────────────┼────────────────────────┼───────────────────────┼───────────────────────┼───────────────────────┼────────────────────────┼────────────────────────────────┼─────────────────────────────┼───────────────────────────────┼─────────────────────────────┼──────────────────────────────┼─────────────────┼─────────────────────────┼──────────────────────┼────────────────────────┼──────────────────────┼───────────────────────┤\n",
       "│ 1   │ 566404       │ p1         │ D07       │ 0          │ 0          │ 0      │ 0      │ 1     │ 1         │ 0.0              │ 0.0     │ 452.0                        │ 267.323                       │ 123.0                        │ 393499.0                     │ 69.2942                      │ 9049.0                │ 3730.61                │ 388.0                 │ 1.31877e7             │ 2137.32               │ 410.0                 │ 181.701                │ 104.0                 │ 642312.0              │ 32.6813               │ 137.0                 │ 110.339                │ 94.0                  │ 390047.0              │ 6.19284               │ 1472.0                 │ 0.349673                       │ 0.947233                    │ 0.691631                      │ 163.539                     │ 0.063128                     │ 3535.0          │ 0.486365                │ 0.853246             │ 0.562839               │ 280.936              │ 0.126244              │\n",
       "│ 2   │ 566405       │ p1         │ D07       │ 0          │ 0          │ 0      │ 0      │ 2     │ 1         │ 0.0              │ 0.0     │ 466.0                        │ 196.026                       │ 122.0                        │ 394013.0                     │ 44.987                       │ 7614.0                │ 2970.23                │ 252.0                 │ 1.21928e7             │ 2056.35               │ 353.0                 │ 181.789                │ 103.0                 │ 746245.0              │ 58.8372               │ 144.0                 │ 108.509                │ 92.0                  │ 445429.0              │ 4.42207               │ 2010.0                 │ 0.544756                       │ 0.936626                    │ 0.623132                      │ 201.332                     │ 0.161406                     │ 4105.0          │ 0.896143                │ 0.867681             │ 0.468666               │ 331.765              │ 0.556235              │\n",
       "│ 3   │ 566406       │ p1         │ D07       │ 0          │ 0          │ 0      │ 0      │ 3     │ 1         │ 0.0              │ 0.0     │ 437.0                        │ 188.11                        │ 122.0                        │ 540629.0                     │ 32.8141                      │ 8110.0                │ 2727.28                │ 255.0                 │ 2.22328e7             │ 2276.91               │ 323.0                 │ 163.918                │ 96.0                  │ 1.33626e6             │ 55.3932               │ 166.0                 │ 108.45                 │ 89.0                  │ 884082.0              │ 8.40256               │ 2874.0                 │ 0.738973                       │ 0.977884                    │ 0.70543                       │ 226.267                     │ 0.326265                     │ 8152.0          │ 0.57924                 │ 0.883494             │ 0.541058               │ 435.126              │ 0.184843              │"
      ]
     },
     "execution_count": 49,
     "metadata": {},
     "output_type": "execute_result"
    }
   ],
   "source": [
    "first(merged, 3)"
   ]
  },
  {
   "cell_type": "markdown",
   "metadata": {
    "slideshow": {
     "slide_type": "slide"
    }
   },
   "source": [
    "Parameter *kind* has a few possible values; the most used are:\n",
    "\n",
    "* `:inner`: merge rows where both tables agree on the value of the common columns;\n",
    "* `:outer`: take _all_ rows, fill in null values when row of one table cannot be matched.\n",
    "* `:cross`: full Cartesian product: all combinations of rows are taken.\n",
    "\n",
    "If you know databases, this is exactly the same semantics of [SQL's JOIN keyword](https://www.w3schools.com/sql/sql_join.asp)"
   ]
  },
  {
   "cell_type": "markdown",
   "metadata": {
    "slideshow": {
     "slide_type": "slide"
    }
   },
   "source": [
    "Parameter *on* takes one of the following forms:\n",
    "\n",
    "- Vector of pairs, e.g., `[:id=>:mapobject_id, :is_border=>:is_border]`; left of `=>` are the column names in the left table, right of `=>` are column names in the other one.\n",
    "- Vector of column names, e.g., `[:id,:well_name]` if columns to be joined have the same name in both tables.\n",
    "- A single pair or a single column name, if joining on a single column."
   ]
  },
  {
   "cell_type": "markdown",
   "metadata": {
    "slideshow": {
     "slide_type": "slide"
    }
   },
   "source": [
    "## Make sub-tables\n",
    "\n",
    "The `view()` operator can be used to create views on sub-tables, by specifying the rows and columns to extract:\n",
    "```\n",
    "sub = view(df, rows, columns)\n",
    "```\n",
    "here `rows` and `columns` can be a vector of any of the following:\n",
    "\n",
    "- a scalar row/column number or column names (e.g., `:id`), \n",
    "- a *ranges* (e.g., `1:10`),\n",
    "- a **selector** (which we'll explain in a while)"
   ]
  },
  {
   "cell_type": "markdown",
   "metadata": {
    "slideshow": {
     "slide_type": "slide"
    }
   },
   "source": [
    "For example:"
   ]
  },
  {
   "cell_type": "code",
   "execution_count": 37,
   "metadata": {},
   "outputs": [
    {
     "data": {
      "text/html": [
       "<table class=\"data-frame\"><thead><tr><th></th><th>well_name</th><th>label</th><th>is_border</th></tr><tr><th></th><th>String</th><th>Int64</th><th>Int64</th></tr></thead><tbody><p>4 rows × 3 columns</p><tr><th>1</th><td>D07</td><td>1</td><td>1</td></tr><tr><th>2</th><td>D07</td><td>3</td><td>1</td></tr><tr><th>3</th><td>D07</td><td>5</td><td>1</td></tr><tr><th>4</th><td>D07</td><td>7</td><td>1</td></tr></tbody></table>"
      ],
      "text/latex": [
       "\\begin{tabular}{r|ccc}\n",
       "\t& well\\_name & label & is\\_border\\\\\n",
       "\t\\hline\n",
       "\t& String & Int64 & Int64\\\\\n",
       "\t\\hline\n",
       "\t1 & D07 & 1 & 1 \\\\\n",
       "\t2 & D07 & 3 & 1 \\\\\n",
       "\t3 & D07 & 5 & 1 \\\\\n",
       "\t4 & D07 & 7 & 1 \\\\\n",
       "\\end{tabular}\n"
      ],
      "text/plain": [
       "4×3 SubDataFrame\n",
       "│ Row │ well_name │ label │ is_border │\n",
       "│     │ \u001b[90mString\u001b[39m    │ \u001b[90mInt64\u001b[39m │ \u001b[90mInt64\u001b[39m     │\n",
       "├─────┼───────────┼───────┼───────────┤\n",
       "│ 1   │ D07       │ 1     │ 1         │\n",
       "│ 2   │ D07       │ 3     │ 1         │\n",
       "│ 3   │ D07       │ 5     │ 1         │\n",
       "│ 4   │ D07       │ 7     │ 1         │"
      ]
     },
     "execution_count": 37,
     "metadata": {},
     "output_type": "execute_result"
    }
   ],
   "source": [
    "view(md, [1,3,5,7], [:well_name, :label, :is_border])"
   ]
  },
  {
   "cell_type": "markdown",
   "metadata": {},
   "source": [
    "**Note:** the `view()` function does *not copy* the table data -- so any modification to the sub-table will be reflected on the parent table.  Use `copy(view())` to create an independent sub-table."
   ]
  },
  {
   "cell_type": "markdown",
   "metadata": {
    "slideshow": {
     "slide_type": "slide"
    }
   },
   "source": [
    "## Selectors\n",
    "\n",
    "Selectors are logical expressions on a column (or row) of a table.  Technically, they are boolean vectors with the same number of elements as there are rows in the DataFrame."
   ]
  },
  {
   "cell_type": "code",
   "execution_count": 38,
   "metadata": {},
   "outputs": [],
   "source": [
    "# select all objects with numerical label 42\n",
    "label42 = (md[!, :label] .== 42);"
   ]
  },
  {
   "cell_type": "code",
   "execution_count": 39,
   "metadata": {},
   "outputs": [],
   "source": [
    "# select all objects whose mean intensity in the DAPI channel is over 1 sigma from the avg \n",
    "dapi_plus1s = (fv[!, :Nuclei_Intensity_mean_A02_C01] .> 259.69);"
   ]
  },
  {
   "cell_type": "markdown",
   "metadata": {
    "slideshow": {
     "slide_type": "slide"
    }
   },
   "source": [
    "You can use selectors to extract a sub-table out of an existing one."
   ]
  },
  {
   "cell_type": "code",
   "execution_count": 40,
   "metadata": {},
   "outputs": [],
   "source": [
    "# only data about cell labeled 42\n",
    "table_only_label42 = md[label42, :];"
   ]
  },
  {
   "cell_type": "code",
   "execution_count": 41,
   "metadata": {},
   "outputs": [
    {
     "data": {
      "text/plain": [
       "25"
      ]
     },
     "execution_count": 41,
     "metadata": {},
     "output_type": "execute_result"
    }
   ],
   "source": [
    "size(table_only_label42, 1)"
   ]
  },
  {
   "cell_type": "code",
   "execution_count": 51,
   "metadata": {},
   "outputs": [
    {
     "data": {
      "text/html": [
       "<table class=\"data-frame\"><thead><tr><th></th><th>mapobject_id</th><th>plate_name</th><th>well_name</th><th>well_pos_y</th><th>well_pos_x</th><th>tpoint</th><th>zplane</th><th>label</th><th>is_border</th><th>Classification-5</th><th>TPlus</th></tr><tr><th></th><th>Int64</th><th>String</th><th>String</th><th>Int64</th><th>Int64</th><th>Int64</th><th>Int64</th><th>Int64</th><th>Int64</th><th>Float64</th><th>Float64</th></tr></thead><tbody><p>3 rows × 11 columns</p><tr><th>1</th><td>566445</td><td>p1</td><td>D07</td><td>0</td><td>0</td><td>0</td><td>0</td><td>42</td><td>0</td><td>1.0</td><td>1.0</td></tr><tr><th>2</th><td>486658</td><td>p1</td><td>D07</td><td>0</td><td>1</td><td>0</td><td>0</td><td>42</td><td>0</td><td>0.0</td><td>0.0</td></tr><tr><th>3</th><td>538967</td><td>p1</td><td>D07</td><td>0</td><td>2</td><td>0</td><td>0</td><td>42</td><td>0</td><td>0.0</td><td>0.0</td></tr></tbody></table>"
      ],
      "text/latex": [
       "\\begin{tabular}{r|ccccccccccc}\n",
       "\t& mapobject\\_id & plate\\_name & well\\_name & well\\_pos\\_y & well\\_pos\\_x & tpoint & zplane & label & is\\_border & Classification-5 & TPlus\\\\\n",
       "\t\\hline\n",
       "\t& Int64 & String & String & Int64 & Int64 & Int64 & Int64 & Int64 & Int64 & Float64 & Float64\\\\\n",
       "\t\\hline\n",
       "\t1 & 566445 & p1 & D07 & 0 & 0 & 0 & 0 & 42 & 0 & 1.0 & 1.0 \\\\\n",
       "\t2 & 486658 & p1 & D07 & 0 & 1 & 0 & 0 & 42 & 0 & 0.0 & 0.0 \\\\\n",
       "\t3 & 538967 & p1 & D07 & 0 & 2 & 0 & 0 & 42 & 0 & 0.0 & 0.0 \\\\\n",
       "\\end{tabular}\n"
      ],
      "text/plain": [
       "3×11 DataFrame\n",
       "│ Row │ mapobject_id │ plate_name │ well_name │ well_pos_y │ well_pos_x │ tpoint │ zplane │ label │ is_border │ Classification-5 │ TPlus   │\n",
       "│     │ \u001b[90mInt64\u001b[39m        │ \u001b[90mString\u001b[39m     │ \u001b[90mString\u001b[39m    │ \u001b[90mInt64\u001b[39m      │ \u001b[90mInt64\u001b[39m      │ \u001b[90mInt64\u001b[39m  │ \u001b[90mInt64\u001b[39m  │ \u001b[90mInt64\u001b[39m │ \u001b[90mInt64\u001b[39m     │ \u001b[90mFloat64\u001b[39m          │ \u001b[90mFloat64\u001b[39m │\n",
       "├─────┼──────────────┼────────────┼───────────┼────────────┼────────────┼────────┼────────┼───────┼───────────┼──────────────────┼─────────┤\n",
       "│ 1   │ 566445       │ p1         │ D07       │ 0          │ 0          │ 0      │ 0      │ 42    │ 0         │ 1.0              │ 1.0     │\n",
       "│ 2   │ 486658       │ p1         │ D07       │ 0          │ 1          │ 0      │ 0      │ 42    │ 0         │ 0.0              │ 0.0     │\n",
       "│ 3   │ 538967       │ p1         │ D07       │ 0          │ 2          │ 0      │ 0      │ 42    │ 0         │ 0.0              │ 0.0     │"
      ]
     },
     "execution_count": 51,
     "metadata": {},
     "output_type": "execute_result"
    }
   ],
   "source": [
    "first(table_only_label42, 3)"
   ]
  },
  {
   "cell_type": "markdown",
   "metadata": {
    "slideshow": {
     "slide_type": "slide"
    }
   },
   "source": [
    "-----"
   ]
  },
  {
   "cell_type": "markdown",
   "metadata": {
    "slideshow": {
     "slide_type": "slide"
    }
   },
   "source": [
    "## Exercise 5.D\n",
    "\n",
    "Make a single large table `all` by joining tables `md` and `fv` over the common column `mapobject_id`.\n",
    "\n",
    "How many rows are in the combined table?"
   ]
  },
  {
   "cell_type": "code",
   "execution_count": 43,
   "metadata": {
    "slideshow": {
     "slide_type": "skip"
    }
   },
   "outputs": [],
   "source": [
    "# your solution here"
   ]
  },
  {
   "cell_type": "markdown",
   "metadata": {},
   "source": [
    "## Exercise 5.E\n",
    "\n",
    "Make a table `good` by extracting from `all` only rows which refer to objects that are *not* \"border\" objects.\n",
    "\n",
    "How many good objects are there?  "
   ]
  },
  {
   "cell_type": "code",
   "execution_count": 44,
   "metadata": {
    "slideshow": {
     "slide_type": "skip"
    }
   },
   "outputs": [],
   "source": [
    "# your solution"
   ]
  },
  {
   "cell_type": "markdown",
   "metadata": {},
   "source": [
    "## Exercise 5.F\n",
    "\n",
    "Make two tables `md0` and `md1` by splitting on the two values of column `TPlus` (`0` or `1`).\n",
    "What is the mean of column `Intensity_mean_A01_C03` in each table?  And the std deviation?"
   ]
  },
  {
   "cell_type": "code",
   "execution_count": 45,
   "metadata": {
    "slideshow": {
     "slide_type": "skip"
    }
   },
   "outputs": [],
   "source": [
    "# your solution"
   ]
  },
  {
   "cell_type": "markdown",
   "metadata": {
    "slideshow": {
     "slide_type": "skip"
    }
   },
   "source": [
    "-----"
   ]
  },
  {
   "cell_type": "markdown",
   "metadata": {
    "slideshow": {
     "slide_type": "slide"
    }
   },
   "source": [
    "# Plotting\n",
    "\n",
    "Package `StatsPlots` provides additional recipes for statistical plots; in particular, box plots and violin plots."
   ]
  },
  {
   "cell_type": "markdown",
   "metadata": {},
   "source": [
    "## Box plots\n",
    "\n",
    "The `boxplot(xs,ys)` function requires that `ys` is a numerical vector, and `xs` is an array of \"labels\" for values in `ys`: elements in `ys` corresponding to the same label in `xs` will be plotted on a vertical line, and the features of the box calculated from them.  There are unfortunately, little customization options."
   ]
  },
  {
   "cell_type": "code",
   "execution_count": 46,
   "metadata": {
    "slideshow": {
     "slide_type": "slide"
    }
   },
   "outputs": [
    {
     "data": {
      "image/svg+xml": [
       "<?xml version=\"1.0\" encoding=\"utf-8\"?>\n",
       "<svg xmlns=\"http://www.w3.org/2000/svg\" xmlns:xlink=\"http://www.w3.org/1999/xlink\" width=\"600\" height=\"400\" viewBox=\"0 0 2400 1600\">\n",
       "<defs>\n",
       "  <clipPath id=\"clip7800\">\n",
       "    <rect x=\"0\" y=\"0\" width=\"2400\" height=\"1600\"/>\n",
       "  </clipPath>\n",
       "</defs>\n",
       "<polygon clip-path=\"url(#clip7800)\" points=\"\n",
       "0,1600 2400,1600 2400,0 0,0 \n",
       "  \" fill=\"#ffffff\" fill-rule=\"evenodd\" fill-opacity=\"1\"/>\n",
       "<defs>\n",
       "  <clipPath id=\"clip7801\">\n",
       "    <rect x=\"480\" y=\"0\" width=\"1681\" height=\"1600\"/>\n",
       "  </clipPath>\n",
       "</defs>\n",
       "<polygon clip-path=\"url(#clip7800)\" points=\"\n",
       "167.279,1487.47 2352.76,1487.47 2352.76,47.2441 167.279,47.2441 \n",
       "  \" fill=\"#ffffff\" fill-rule=\"evenodd\" fill-opacity=\"1\"/>\n",
       "<defs>\n",
       "  <clipPath id=\"clip7802\">\n",
       "    <rect x=\"167\" y=\"47\" width=\"2186\" height=\"1441\"/>\n",
       "  </clipPath>\n",
       "</defs>\n",
       "<polyline clip-path=\"url(#clip7802)\" style=\"stroke:#000000; stroke-width:2; stroke-opacity:0.1; fill:none\" points=\"\n",
       "  400.946,1487.47 400.946,47.2441 \n",
       "  \"/>\n",
       "<polyline clip-path=\"url(#clip7802)\" style=\"stroke:#000000; stroke-width:2; stroke-opacity:0.1; fill:none\" points=\"\n",
       "  687.303,1487.47 687.303,47.2441 \n",
       "  \"/>\n",
       "<polyline clip-path=\"url(#clip7802)\" style=\"stroke:#000000; stroke-width:2; stroke-opacity:0.1; fill:none\" points=\"\n",
       "  973.661,1487.47 973.661,47.2441 \n",
       "  \"/>\n",
       "<polyline clip-path=\"url(#clip7802)\" style=\"stroke:#000000; stroke-width:2; stroke-opacity:0.1; fill:none\" points=\"\n",
       "  1260.02,1487.47 1260.02,47.2441 \n",
       "  \"/>\n",
       "<polyline clip-path=\"url(#clip7802)\" style=\"stroke:#000000; stroke-width:2; stroke-opacity:0.1; fill:none\" points=\"\n",
       "  1546.37,1487.47 1546.37,47.2441 \n",
       "  \"/>\n",
       "<polyline clip-path=\"url(#clip7802)\" style=\"stroke:#000000; stroke-width:2; stroke-opacity:0.1; fill:none\" points=\"\n",
       "  1832.73,1487.47 1832.73,47.2441 \n",
       "  \"/>\n",
       "<polyline clip-path=\"url(#clip7802)\" style=\"stroke:#000000; stroke-width:2; stroke-opacity:0.1; fill:none\" points=\"\n",
       "  2119.09,1487.47 2119.09,47.2441 \n",
       "  \"/>\n",
       "<polyline clip-path=\"url(#clip7802)\" style=\"stroke:#000000; stroke-width:2; stroke-opacity:0.1; fill:none\" points=\"\n",
       "  167.279,1264.1 2352.76,1264.1 \n",
       "  \"/>\n",
       "<polyline clip-path=\"url(#clip7802)\" style=\"stroke:#000000; stroke-width:2; stroke-opacity:0.1; fill:none\" points=\"\n",
       "  167.279,887.576 2352.76,887.576 \n",
       "  \"/>\n",
       "<polyline clip-path=\"url(#clip7802)\" style=\"stroke:#000000; stroke-width:2; stroke-opacity:0.1; fill:none\" points=\"\n",
       "  167.279,511.053 2352.76,511.053 \n",
       "  \"/>\n",
       "<polyline clip-path=\"url(#clip7802)\" style=\"stroke:#000000; stroke-width:2; stroke-opacity:0.1; fill:none\" points=\"\n",
       "  167.279,134.529 2352.76,134.529 \n",
       "  \"/>\n",
       "<polyline clip-path=\"url(#clip7800)\" style=\"stroke:#000000; stroke-width:4; stroke-opacity:1; fill:none\" points=\"\n",
       "  167.279,1487.47 2352.76,1487.47 \n",
       "  \"/>\n",
       "<polyline clip-path=\"url(#clip7800)\" style=\"stroke:#000000; stroke-width:4; stroke-opacity:1; fill:none\" points=\"\n",
       "  167.279,1487.47 167.279,47.2441 \n",
       "  \"/>\n",
       "<polyline clip-path=\"url(#clip7800)\" style=\"stroke:#000000; stroke-width:4; stroke-opacity:1; fill:none\" points=\"\n",
       "  400.946,1487.47 400.946,1465.87 \n",
       "  \"/>\n",
       "<polyline clip-path=\"url(#clip7800)\" style=\"stroke:#000000; stroke-width:4; stroke-opacity:1; fill:none\" points=\"\n",
       "  687.303,1487.47 687.303,1465.87 \n",
       "  \"/>\n",
       "<polyline clip-path=\"url(#clip7800)\" style=\"stroke:#000000; stroke-width:4; stroke-opacity:1; fill:none\" points=\"\n",
       "  973.661,1487.47 973.661,1465.87 \n",
       "  \"/>\n",
       "<polyline clip-path=\"url(#clip7800)\" style=\"stroke:#000000; stroke-width:4; stroke-opacity:1; fill:none\" points=\"\n",
       "  1260.02,1487.47 1260.02,1465.87 \n",
       "  \"/>\n",
       "<polyline clip-path=\"url(#clip7800)\" style=\"stroke:#000000; stroke-width:4; stroke-opacity:1; fill:none\" points=\"\n",
       "  1546.37,1487.47 1546.37,1465.87 \n",
       "  \"/>\n",
       "<polyline clip-path=\"url(#clip7800)\" style=\"stroke:#000000; stroke-width:4; stroke-opacity:1; fill:none\" points=\"\n",
       "  1832.73,1487.47 1832.73,1465.87 \n",
       "  \"/>\n",
       "<polyline clip-path=\"url(#clip7800)\" style=\"stroke:#000000; stroke-width:4; stroke-opacity:1; fill:none\" points=\"\n",
       "  2119.09,1487.47 2119.09,1465.87 \n",
       "  \"/>\n",
       "<polyline clip-path=\"url(#clip7800)\" style=\"stroke:#000000; stroke-width:4; stroke-opacity:1; fill:none\" points=\"\n",
       "  167.279,1264.1 200.061,1264.1 \n",
       "  \"/>\n",
       "<polyline clip-path=\"url(#clip7800)\" style=\"stroke:#000000; stroke-width:4; stroke-opacity:1; fill:none\" points=\"\n",
       "  167.279,887.576 200.061,887.576 \n",
       "  \"/>\n",
       "<polyline clip-path=\"url(#clip7800)\" style=\"stroke:#000000; stroke-width:4; stroke-opacity:1; fill:none\" points=\"\n",
       "  167.279,511.053 200.061,511.053 \n",
       "  \"/>\n",
       "<polyline clip-path=\"url(#clip7800)\" style=\"stroke:#000000; stroke-width:4; stroke-opacity:1; fill:none\" points=\"\n",
       "  167.279,134.529 200.061,134.529 \n",
       "  \"/>\n",
       "<g clip-path=\"url(#clip7800)\">\n",
       "<text style=\"fill:#000000; fill-opacity:1; font-family:Arial,Helvetica Neue,Helvetica,sans-serif; font-size:48px; text-anchor:middle;\" transform=\"rotate(0, 400.946, 1541.47)\" x=\"400.946\" y=\"1541.47\">-0.25</text>\n",
       "</g>\n",
       "<g clip-path=\"url(#clip7800)\">\n",
       "<text style=\"fill:#000000; fill-opacity:1; font-family:Arial,Helvetica Neue,Helvetica,sans-serif; font-size:48px; text-anchor:middle;\" transform=\"rotate(0, 687.303, 1541.47)\" x=\"687.303\" y=\"1541.47\">0.00</text>\n",
       "</g>\n",
       "<g clip-path=\"url(#clip7800)\">\n",
       "<text style=\"fill:#000000; fill-opacity:1; font-family:Arial,Helvetica Neue,Helvetica,sans-serif; font-size:48px; text-anchor:middle;\" transform=\"rotate(0, 973.661, 1541.47)\" x=\"973.661\" y=\"1541.47\">0.25</text>\n",
       "</g>\n",
       "<g clip-path=\"url(#clip7800)\">\n",
       "<text style=\"fill:#000000; fill-opacity:1; font-family:Arial,Helvetica Neue,Helvetica,sans-serif; font-size:48px; text-anchor:middle;\" transform=\"rotate(0, 1260.02, 1541.47)\" x=\"1260.02\" y=\"1541.47\">0.50</text>\n",
       "</g>\n",
       "<g clip-path=\"url(#clip7800)\">\n",
       "<text style=\"fill:#000000; fill-opacity:1; font-family:Arial,Helvetica Neue,Helvetica,sans-serif; font-size:48px; text-anchor:middle;\" transform=\"rotate(0, 1546.37, 1541.47)\" x=\"1546.37\" y=\"1541.47\">0.75</text>\n",
       "</g>\n",
       "<g clip-path=\"url(#clip7800)\">\n",
       "<text style=\"fill:#000000; fill-opacity:1; font-family:Arial,Helvetica Neue,Helvetica,sans-serif; font-size:48px; text-anchor:middle;\" transform=\"rotate(0, 1832.73, 1541.47)\" x=\"1832.73\" y=\"1541.47\">1.00</text>\n",
       "</g>\n",
       "<g clip-path=\"url(#clip7800)\">\n",
       "<text style=\"fill:#000000; fill-opacity:1; font-family:Arial,Helvetica Neue,Helvetica,sans-serif; font-size:48px; text-anchor:middle;\" transform=\"rotate(0, 2119.09, 1541.47)\" x=\"2119.09\" y=\"1541.47\">1.25</text>\n",
       "</g>\n",
       "<g clip-path=\"url(#clip7800)\">\n",
       "<text style=\"fill:#000000; fill-opacity:1; font-family:Arial,Helvetica Neue,Helvetica,sans-serif; font-size:48px; text-anchor:end;\" transform=\"rotate(0, 143.279, 1281.6)\" x=\"143.279\" y=\"1281.6\">200</text>\n",
       "</g>\n",
       "<g clip-path=\"url(#clip7800)\">\n",
       "<text style=\"fill:#000000; fill-opacity:1; font-family:Arial,Helvetica Neue,Helvetica,sans-serif; font-size:48px; text-anchor:end;\" transform=\"rotate(0, 143.279, 905.076)\" x=\"143.279\" y=\"905.076\">400</text>\n",
       "</g>\n",
       "<g clip-path=\"url(#clip7800)\">\n",
       "<text style=\"fill:#000000; fill-opacity:1; font-family:Arial,Helvetica Neue,Helvetica,sans-serif; font-size:48px; text-anchor:end;\" transform=\"rotate(0, 143.279, 528.553)\" x=\"143.279\" y=\"528.553\">600</text>\n",
       "</g>\n",
       "<g clip-path=\"url(#clip7800)\">\n",
       "<text style=\"fill:#000000; fill-opacity:1; font-family:Arial,Helvetica Neue,Helvetica,sans-serif; font-size:48px; text-anchor:end;\" transform=\"rotate(0, 143.279, 152.029)\" x=\"143.279\" y=\"152.029\">800</text>\n",
       "</g>\n",
       "<circle clip-path=\"url(#clip7802)\" style=\"fill:#000000; stroke:none; fill-opacity:1\" cx=\"687.303\" cy=\"1416.46\" r=\"18\"/>\n",
       "<circle clip-path=\"url(#clip7802)\" style=\"fill:#009af9; stroke:none; fill-opacity:1\" cx=\"687.303\" cy=\"1416.46\" r=\"14\"/>\n",
       "<circle clip-path=\"url(#clip7802)\" style=\"fill:#000000; stroke:none; fill-opacity:1\" cx=\"687.303\" cy=\"1405.15\" r=\"18\"/>\n",
       "<circle clip-path=\"url(#clip7802)\" style=\"fill:#009af9; stroke:none; fill-opacity:1\" cx=\"687.303\" cy=\"1405.15\" r=\"14\"/>\n",
       "<circle clip-path=\"url(#clip7802)\" style=\"fill:#000000; stroke:none; fill-opacity:1\" cx=\"687.303\" cy=\"1444.83\" r=\"18\"/>\n",
       "<circle clip-path=\"url(#clip7802)\" style=\"fill:#009af9; stroke:none; fill-opacity:1\" cx=\"687.303\" cy=\"1444.83\" r=\"14\"/>\n",
       "<circle clip-path=\"url(#clip7802)\" style=\"fill:#000000; stroke:none; fill-opacity:1\" cx=\"687.303\" cy=\"1441.52\" r=\"18\"/>\n",
       "<circle clip-path=\"url(#clip7802)\" style=\"fill:#009af9; stroke:none; fill-opacity:1\" cx=\"687.303\" cy=\"1441.52\" r=\"14\"/>\n",
       "<circle clip-path=\"url(#clip7802)\" style=\"fill:#000000; stroke:none; fill-opacity:1\" cx=\"687.303\" cy=\"1421.72\" r=\"18\"/>\n",
       "<circle clip-path=\"url(#clip7802)\" style=\"fill:#009af9; stroke:none; fill-opacity:1\" cx=\"687.303\" cy=\"1421.72\" r=\"14\"/>\n",
       "<circle clip-path=\"url(#clip7802)\" style=\"fill:#000000; stroke:none; fill-opacity:1\" cx=\"687.303\" cy=\"1422.91\" r=\"18\"/>\n",
       "<circle clip-path=\"url(#clip7802)\" style=\"fill:#009af9; stroke:none; fill-opacity:1\" cx=\"687.303\" cy=\"1422.91\" r=\"14\"/>\n",
       "<circle clip-path=\"url(#clip7802)\" style=\"fill:#000000; stroke:none; fill-opacity:1\" cx=\"687.303\" cy=\"1433.87\" r=\"18\"/>\n",
       "<circle clip-path=\"url(#clip7802)\" style=\"fill:#009af9; stroke:none; fill-opacity:1\" cx=\"687.303\" cy=\"1433.87\" r=\"14\"/>\n",
       "<circle clip-path=\"url(#clip7802)\" style=\"fill:#000000; stroke:none; fill-opacity:1\" cx=\"687.303\" cy=\"1411.86\" r=\"18\"/>\n",
       "<circle clip-path=\"url(#clip7802)\" style=\"fill:#009af9; stroke:none; fill-opacity:1\" cx=\"687.303\" cy=\"1411.86\" r=\"14\"/>\n",
       "<circle clip-path=\"url(#clip7802)\" style=\"fill:#000000; stroke:none; fill-opacity:1\" cx=\"687.303\" cy=\"1431.53\" r=\"18\"/>\n",
       "<circle clip-path=\"url(#clip7802)\" style=\"fill:#009af9; stroke:none; fill-opacity:1\" cx=\"687.303\" cy=\"1431.53\" r=\"14\"/>\n",
       "<circle clip-path=\"url(#clip7802)\" style=\"fill:#000000; stroke:none; fill-opacity:1\" cx=\"687.303\" cy=\"1109.67\" r=\"18\"/>\n",
       "<circle clip-path=\"url(#clip7802)\" style=\"fill:#009af9; stroke:none; fill-opacity:1\" cx=\"687.303\" cy=\"1109.67\" r=\"14\"/>\n",
       "<circle clip-path=\"url(#clip7802)\" style=\"fill:#000000; stroke:none; fill-opacity:1\" cx=\"687.303\" cy=\"1416.94\" r=\"18\"/>\n",
       "<circle clip-path=\"url(#clip7802)\" style=\"fill:#009af9; stroke:none; fill-opacity:1\" cx=\"687.303\" cy=\"1416.94\" r=\"14\"/>\n",
       "<circle clip-path=\"url(#clip7802)\" style=\"fill:#000000; stroke:none; fill-opacity:1\" cx=\"687.303\" cy=\"1403.62\" r=\"18\"/>\n",
       "<circle clip-path=\"url(#clip7802)\" style=\"fill:#009af9; stroke:none; fill-opacity:1\" cx=\"687.303\" cy=\"1403.62\" r=\"14\"/>\n",
       "<circle clip-path=\"url(#clip7802)\" style=\"fill:#000000; stroke:none; fill-opacity:1\" cx=\"687.303\" cy=\"1417.1\" r=\"18\"/>\n",
       "<circle clip-path=\"url(#clip7802)\" style=\"fill:#009af9; stroke:none; fill-opacity:1\" cx=\"687.303\" cy=\"1417.1\" r=\"14\"/>\n",
       "<circle clip-path=\"url(#clip7802)\" style=\"fill:#000000; stroke:none; fill-opacity:1\" cx=\"687.303\" cy=\"1425.92\" r=\"18\"/>\n",
       "<circle clip-path=\"url(#clip7802)\" style=\"fill:#009af9; stroke:none; fill-opacity:1\" cx=\"687.303\" cy=\"1425.92\" r=\"14\"/>\n",
       "<circle clip-path=\"url(#clip7802)\" style=\"fill:#000000; stroke:none; fill-opacity:1\" cx=\"687.303\" cy=\"1429.77\" r=\"18\"/>\n",
       "<circle clip-path=\"url(#clip7802)\" style=\"fill:#009af9; stroke:none; fill-opacity:1\" cx=\"687.303\" cy=\"1429.77\" r=\"14\"/>\n",
       "<circle clip-path=\"url(#clip7802)\" style=\"fill:#000000; stroke:none; fill-opacity:1\" cx=\"687.303\" cy=\"1413.94\" r=\"18\"/>\n",
       "<circle clip-path=\"url(#clip7802)\" style=\"fill:#009af9; stroke:none; fill-opacity:1\" cx=\"687.303\" cy=\"1413.94\" r=\"14\"/>\n",
       "<circle clip-path=\"url(#clip7802)\" style=\"fill:#000000; stroke:none; fill-opacity:1\" cx=\"687.303\" cy=\"1407\" r=\"18\"/>\n",
       "<circle clip-path=\"url(#clip7802)\" style=\"fill:#009af9; stroke:none; fill-opacity:1\" cx=\"687.303\" cy=\"1407\" r=\"14\"/>\n",
       "<circle clip-path=\"url(#clip7802)\" style=\"fill:#000000; stroke:none; fill-opacity:1\" cx=\"687.303\" cy=\"1413.43\" r=\"18\"/>\n",
       "<circle clip-path=\"url(#clip7802)\" style=\"fill:#009af9; stroke:none; fill-opacity:1\" cx=\"687.303\" cy=\"1413.43\" r=\"14\"/>\n",
       "<circle clip-path=\"url(#clip7802)\" style=\"fill:#000000; stroke:none; fill-opacity:1\" cx=\"687.303\" cy=\"1424.61\" r=\"18\"/>\n",
       "<circle clip-path=\"url(#clip7802)\" style=\"fill:#009af9; stroke:none; fill-opacity:1\" cx=\"687.303\" cy=\"1424.61\" r=\"14\"/>\n",
       "<circle clip-path=\"url(#clip7802)\" style=\"fill:#000000; stroke:none; fill-opacity:1\" cx=\"687.303\" cy=\"1428.84\" r=\"18\"/>\n",
       "<circle clip-path=\"url(#clip7802)\" style=\"fill:#009af9; stroke:none; fill-opacity:1\" cx=\"687.303\" cy=\"1428.84\" r=\"14\"/>\n",
       "<circle clip-path=\"url(#clip7802)\" style=\"fill:#000000; stroke:none; fill-opacity:1\" cx=\"687.303\" cy=\"1136.08\" r=\"18\"/>\n",
       "<circle clip-path=\"url(#clip7802)\" style=\"fill:#009af9; stroke:none; fill-opacity:1\" cx=\"687.303\" cy=\"1136.08\" r=\"14\"/>\n",
       "<circle clip-path=\"url(#clip7802)\" style=\"fill:#000000; stroke:none; fill-opacity:1\" cx=\"687.303\" cy=\"1410.03\" r=\"18\"/>\n",
       "<circle clip-path=\"url(#clip7802)\" style=\"fill:#009af9; stroke:none; fill-opacity:1\" cx=\"687.303\" cy=\"1410.03\" r=\"14\"/>\n",
       "<circle clip-path=\"url(#clip7802)\" style=\"fill:#000000; stroke:none; fill-opacity:1\" cx=\"687.303\" cy=\"1429.42\" r=\"18\"/>\n",
       "<circle clip-path=\"url(#clip7802)\" style=\"fill:#009af9; stroke:none; fill-opacity:1\" cx=\"687.303\" cy=\"1429.42\" r=\"14\"/>\n",
       "<circle clip-path=\"url(#clip7802)\" style=\"fill:#000000; stroke:none; fill-opacity:1\" cx=\"687.303\" cy=\"1425.14\" r=\"18\"/>\n",
       "<circle clip-path=\"url(#clip7802)\" style=\"fill:#009af9; stroke:none; fill-opacity:1\" cx=\"687.303\" cy=\"1425.14\" r=\"14\"/>\n",
       "<circle clip-path=\"url(#clip7802)\" style=\"fill:#000000; stroke:none; fill-opacity:1\" cx=\"687.303\" cy=\"1412.54\" r=\"18\"/>\n",
       "<circle clip-path=\"url(#clip7802)\" style=\"fill:#009af9; stroke:none; fill-opacity:1\" cx=\"687.303\" cy=\"1412.54\" r=\"14\"/>\n",
       "<circle clip-path=\"url(#clip7802)\" style=\"fill:#000000; stroke:none; fill-opacity:1\" cx=\"687.303\" cy=\"1429.31\" r=\"18\"/>\n",
       "<circle clip-path=\"url(#clip7802)\" style=\"fill:#009af9; stroke:none; fill-opacity:1\" cx=\"687.303\" cy=\"1429.31\" r=\"14\"/>\n",
       "<circle clip-path=\"url(#clip7802)\" style=\"fill:#000000; stroke:none; fill-opacity:1\" cx=\"687.303\" cy=\"1425.77\" r=\"18\"/>\n",
       "<circle clip-path=\"url(#clip7802)\" style=\"fill:#009af9; stroke:none; fill-opacity:1\" cx=\"687.303\" cy=\"1425.77\" r=\"14\"/>\n",
       "<circle clip-path=\"url(#clip7802)\" style=\"fill:#000000; stroke:none; fill-opacity:1\" cx=\"687.303\" cy=\"1418.51\" r=\"18\"/>\n",
       "<circle clip-path=\"url(#clip7802)\" style=\"fill:#009af9; stroke:none; fill-opacity:1\" cx=\"687.303\" cy=\"1418.51\" r=\"14\"/>\n",
       "<circle clip-path=\"url(#clip7802)\" style=\"fill:#000000; stroke:none; fill-opacity:1\" cx=\"687.303\" cy=\"1418.53\" r=\"18\"/>\n",
       "<circle clip-path=\"url(#clip7802)\" style=\"fill:#009af9; stroke:none; fill-opacity:1\" cx=\"687.303\" cy=\"1418.53\" r=\"14\"/>\n",
       "<circle clip-path=\"url(#clip7802)\" style=\"fill:#000000; stroke:none; fill-opacity:1\" cx=\"687.303\" cy=\"1431.82\" r=\"18\"/>\n",
       "<circle clip-path=\"url(#clip7802)\" style=\"fill:#009af9; stroke:none; fill-opacity:1\" cx=\"687.303\" cy=\"1431.82\" r=\"14\"/>\n",
       "<circle clip-path=\"url(#clip7802)\" style=\"fill:#000000; stroke:none; fill-opacity:1\" cx=\"687.303\" cy=\"1418.67\" r=\"18\"/>\n",
       "<circle clip-path=\"url(#clip7802)\" style=\"fill:#009af9; stroke:none; fill-opacity:1\" cx=\"687.303\" cy=\"1418.67\" r=\"14\"/>\n",
       "<circle clip-path=\"url(#clip7802)\" style=\"fill:#000000; stroke:none; fill-opacity:1\" cx=\"687.303\" cy=\"1417.25\" r=\"18\"/>\n",
       "<circle clip-path=\"url(#clip7802)\" style=\"fill:#009af9; stroke:none; fill-opacity:1\" cx=\"687.303\" cy=\"1417.25\" r=\"14\"/>\n",
       "<circle clip-path=\"url(#clip7802)\" style=\"fill:#000000; stroke:none; fill-opacity:1\" cx=\"687.303\" cy=\"1421.03\" r=\"18\"/>\n",
       "<circle clip-path=\"url(#clip7802)\" style=\"fill:#009af9; stroke:none; fill-opacity:1\" cx=\"687.303\" cy=\"1421.03\" r=\"14\"/>\n",
       "<circle clip-path=\"url(#clip7802)\" style=\"fill:#000000; stroke:none; fill-opacity:1\" cx=\"687.303\" cy=\"1411.57\" r=\"18\"/>\n",
       "<circle clip-path=\"url(#clip7802)\" style=\"fill:#009af9; stroke:none; fill-opacity:1\" cx=\"687.303\" cy=\"1411.57\" r=\"14\"/>\n",
       "<circle clip-path=\"url(#clip7802)\" style=\"fill:#000000; stroke:none; fill-opacity:1\" cx=\"687.303\" cy=\"1437.3\" r=\"18\"/>\n",
       "<circle clip-path=\"url(#clip7802)\" style=\"fill:#009af9; stroke:none; fill-opacity:1\" cx=\"687.303\" cy=\"1437.3\" r=\"14\"/>\n",
       "<circle clip-path=\"url(#clip7802)\" style=\"fill:#000000; stroke:none; fill-opacity:1\" cx=\"687.303\" cy=\"1421.98\" r=\"18\"/>\n",
       "<circle clip-path=\"url(#clip7802)\" style=\"fill:#009af9; stroke:none; fill-opacity:1\" cx=\"687.303\" cy=\"1421.98\" r=\"14\"/>\n",
       "<circle clip-path=\"url(#clip7802)\" style=\"fill:#000000; stroke:none; fill-opacity:1\" cx=\"687.303\" cy=\"1430.47\" r=\"18\"/>\n",
       "<circle clip-path=\"url(#clip7802)\" style=\"fill:#009af9; stroke:none; fill-opacity:1\" cx=\"687.303\" cy=\"1430.47\" r=\"14\"/>\n",
       "<circle clip-path=\"url(#clip7802)\" style=\"fill:#000000; stroke:none; fill-opacity:1\" cx=\"687.303\" cy=\"1431.49\" r=\"18\"/>\n",
       "<circle clip-path=\"url(#clip7802)\" style=\"fill:#009af9; stroke:none; fill-opacity:1\" cx=\"687.303\" cy=\"1431.49\" r=\"14\"/>\n",
       "<circle clip-path=\"url(#clip7802)\" style=\"fill:#000000; stroke:none; fill-opacity:1\" cx=\"687.303\" cy=\"1406.14\" r=\"18\"/>\n",
       "<circle clip-path=\"url(#clip7802)\" style=\"fill:#009af9; stroke:none; fill-opacity:1\" cx=\"687.303\" cy=\"1406.14\" r=\"14\"/>\n",
       "<circle clip-path=\"url(#clip7802)\" style=\"fill:#000000; stroke:none; fill-opacity:1\" cx=\"687.303\" cy=\"1415.2\" r=\"18\"/>\n",
       "<circle clip-path=\"url(#clip7802)\" style=\"fill:#009af9; stroke:none; fill-opacity:1\" cx=\"687.303\" cy=\"1415.2\" r=\"14\"/>\n",
       "<circle clip-path=\"url(#clip7802)\" style=\"fill:#000000; stroke:none; fill-opacity:1\" cx=\"687.303\" cy=\"1154.91\" r=\"18\"/>\n",
       "<circle clip-path=\"url(#clip7802)\" style=\"fill:#009af9; stroke:none; fill-opacity:1\" cx=\"687.303\" cy=\"1154.91\" r=\"14\"/>\n",
       "<circle clip-path=\"url(#clip7802)\" style=\"fill:#000000; stroke:none; fill-opacity:1\" cx=\"687.303\" cy=\"1119.14\" r=\"18\"/>\n",
       "<circle clip-path=\"url(#clip7802)\" style=\"fill:#009af9; stroke:none; fill-opacity:1\" cx=\"687.303\" cy=\"1119.14\" r=\"14\"/>\n",
       "<circle clip-path=\"url(#clip7802)\" style=\"fill:#000000; stroke:none; fill-opacity:1\" cx=\"687.303\" cy=\"1167.78\" r=\"18\"/>\n",
       "<circle clip-path=\"url(#clip7802)\" style=\"fill:#009af9; stroke:none; fill-opacity:1\" cx=\"687.303\" cy=\"1167.78\" r=\"14\"/>\n",
       "<circle clip-path=\"url(#clip7802)\" style=\"fill:#000000; stroke:none; fill-opacity:1\" cx=\"687.303\" cy=\"1185.41\" r=\"18\"/>\n",
       "<circle clip-path=\"url(#clip7802)\" style=\"fill:#009af9; stroke:none; fill-opacity:1\" cx=\"687.303\" cy=\"1185.41\" r=\"14\"/>\n",
       "<circle clip-path=\"url(#clip7802)\" style=\"fill:#000000; stroke:none; fill-opacity:1\" cx=\"687.303\" cy=\"1079.43\" r=\"18\"/>\n",
       "<circle clip-path=\"url(#clip7802)\" style=\"fill:#009af9; stroke:none; fill-opacity:1\" cx=\"687.303\" cy=\"1079.43\" r=\"14\"/>\n",
       "<circle clip-path=\"url(#clip7802)\" style=\"fill:#000000; stroke:none; fill-opacity:1\" cx=\"687.303\" cy=\"1176.33\" r=\"18\"/>\n",
       "<circle clip-path=\"url(#clip7802)\" style=\"fill:#009af9; stroke:none; fill-opacity:1\" cx=\"687.303\" cy=\"1176.33\" r=\"14\"/>\n",
       "<circle clip-path=\"url(#clip7802)\" style=\"fill:#000000; stroke:none; fill-opacity:1\" cx=\"687.303\" cy=\"1171.85\" r=\"18\"/>\n",
       "<circle clip-path=\"url(#clip7802)\" style=\"fill:#009af9; stroke:none; fill-opacity:1\" cx=\"687.303\" cy=\"1171.85\" r=\"14\"/>\n",
       "<circle clip-path=\"url(#clip7802)\" style=\"fill:#000000; stroke:none; fill-opacity:1\" cx=\"687.303\" cy=\"1121.02\" r=\"18\"/>\n",
       "<circle clip-path=\"url(#clip7802)\" style=\"fill:#009af9; stroke:none; fill-opacity:1\" cx=\"687.303\" cy=\"1121.02\" r=\"14\"/>\n",
       "<circle clip-path=\"url(#clip7802)\" style=\"fill:#000000; stroke:none; fill-opacity:1\" cx=\"687.303\" cy=\"1143.61\" r=\"18\"/>\n",
       "<circle clip-path=\"url(#clip7802)\" style=\"fill:#009af9; stroke:none; fill-opacity:1\" cx=\"687.303\" cy=\"1143.61\" r=\"14\"/>\n",
       "<circle clip-path=\"url(#clip7802)\" style=\"fill:#000000; stroke:none; fill-opacity:1\" cx=\"687.303\" cy=\"1423.65\" r=\"18\"/>\n",
       "<circle clip-path=\"url(#clip7802)\" style=\"fill:#009af9; stroke:none; fill-opacity:1\" cx=\"687.303\" cy=\"1423.65\" r=\"14\"/>\n",
       "<circle clip-path=\"url(#clip7802)\" style=\"fill:#000000; stroke:none; fill-opacity:1\" cx=\"687.303\" cy=\"1416.93\" r=\"18\"/>\n",
       "<circle clip-path=\"url(#clip7802)\" style=\"fill:#009af9; stroke:none; fill-opacity:1\" cx=\"687.303\" cy=\"1416.93\" r=\"14\"/>\n",
       "<circle clip-path=\"url(#clip7802)\" style=\"fill:#000000; stroke:none; fill-opacity:1\" cx=\"687.303\" cy=\"1409.15\" r=\"18\"/>\n",
       "<circle clip-path=\"url(#clip7802)\" style=\"fill:#009af9; stroke:none; fill-opacity:1\" cx=\"687.303\" cy=\"1409.15\" r=\"14\"/>\n",
       "<circle clip-path=\"url(#clip7802)\" style=\"fill:#000000; stroke:none; fill-opacity:1\" cx=\"687.303\" cy=\"1414.71\" r=\"18\"/>\n",
       "<circle clip-path=\"url(#clip7802)\" style=\"fill:#009af9; stroke:none; fill-opacity:1\" cx=\"687.303\" cy=\"1414.71\" r=\"14\"/>\n",
       "<circle clip-path=\"url(#clip7802)\" style=\"fill:#000000; stroke:none; fill-opacity:1\" cx=\"687.303\" cy=\"1173.73\" r=\"18\"/>\n",
       "<circle clip-path=\"url(#clip7802)\" style=\"fill:#009af9; stroke:none; fill-opacity:1\" cx=\"687.303\" cy=\"1173.73\" r=\"14\"/>\n",
       "<circle clip-path=\"url(#clip7802)\" style=\"fill:#000000; stroke:none; fill-opacity:1\" cx=\"687.303\" cy=\"1413.65\" r=\"18\"/>\n",
       "<circle clip-path=\"url(#clip7802)\" style=\"fill:#009af9; stroke:none; fill-opacity:1\" cx=\"687.303\" cy=\"1413.65\" r=\"14\"/>\n",
       "<circle clip-path=\"url(#clip7802)\" style=\"fill:#000000; stroke:none; fill-opacity:1\" cx=\"687.303\" cy=\"1406.23\" r=\"18\"/>\n",
       "<circle clip-path=\"url(#clip7802)\" style=\"fill:#009af9; stroke:none; fill-opacity:1\" cx=\"687.303\" cy=\"1406.23\" r=\"14\"/>\n",
       "<circle clip-path=\"url(#clip7802)\" style=\"fill:#000000; stroke:none; fill-opacity:1\" cx=\"687.303\" cy=\"1404.68\" r=\"18\"/>\n",
       "<circle clip-path=\"url(#clip7802)\" style=\"fill:#009af9; stroke:none; fill-opacity:1\" cx=\"687.303\" cy=\"1404.68\" r=\"14\"/>\n",
       "<circle clip-path=\"url(#clip7802)\" style=\"fill:#000000; stroke:none; fill-opacity:1\" cx=\"687.303\" cy=\"1410.02\" r=\"18\"/>\n",
       "<circle clip-path=\"url(#clip7802)\" style=\"fill:#009af9; stroke:none; fill-opacity:1\" cx=\"687.303\" cy=\"1410.02\" r=\"14\"/>\n",
       "<circle clip-path=\"url(#clip7802)\" style=\"fill:#000000; stroke:none; fill-opacity:1\" cx=\"687.303\" cy=\"1408.11\" r=\"18\"/>\n",
       "<circle clip-path=\"url(#clip7802)\" style=\"fill:#009af9; stroke:none; fill-opacity:1\" cx=\"687.303\" cy=\"1408.11\" r=\"14\"/>\n",
       "<circle clip-path=\"url(#clip7802)\" style=\"fill:#000000; stroke:none; fill-opacity:1\" cx=\"687.303\" cy=\"1168.1\" r=\"18\"/>\n",
       "<circle clip-path=\"url(#clip7802)\" style=\"fill:#009af9; stroke:none; fill-opacity:1\" cx=\"687.303\" cy=\"1168.1\" r=\"14\"/>\n",
       "<circle clip-path=\"url(#clip7802)\" style=\"fill:#000000; stroke:none; fill-opacity:1\" cx=\"687.303\" cy=\"1407.97\" r=\"18\"/>\n",
       "<circle clip-path=\"url(#clip7802)\" style=\"fill:#009af9; stroke:none; fill-opacity:1\" cx=\"687.303\" cy=\"1407.97\" r=\"14\"/>\n",
       "<circle clip-path=\"url(#clip7802)\" style=\"fill:#000000; stroke:none; fill-opacity:1\" cx=\"687.303\" cy=\"1417.46\" r=\"18\"/>\n",
       "<circle clip-path=\"url(#clip7802)\" style=\"fill:#009af9; stroke:none; fill-opacity:1\" cx=\"687.303\" cy=\"1417.46\" r=\"14\"/>\n",
       "<circle clip-path=\"url(#clip7802)\" style=\"fill:#000000; stroke:none; fill-opacity:1\" cx=\"687.303\" cy=\"1417.44\" r=\"18\"/>\n",
       "<circle clip-path=\"url(#clip7802)\" style=\"fill:#009af9; stroke:none; fill-opacity:1\" cx=\"687.303\" cy=\"1417.44\" r=\"14\"/>\n",
       "<circle clip-path=\"url(#clip7802)\" style=\"fill:#000000; stroke:none; fill-opacity:1\" cx=\"687.303\" cy=\"1414.4\" r=\"18\"/>\n",
       "<circle clip-path=\"url(#clip7802)\" style=\"fill:#009af9; stroke:none; fill-opacity:1\" cx=\"687.303\" cy=\"1414.4\" r=\"14\"/>\n",
       "<circle clip-path=\"url(#clip7802)\" style=\"fill:#000000; stroke:none; fill-opacity:1\" cx=\"687.303\" cy=\"1408.32\" r=\"18\"/>\n",
       "<circle clip-path=\"url(#clip7802)\" style=\"fill:#009af9; stroke:none; fill-opacity:1\" cx=\"687.303\" cy=\"1408.32\" r=\"14\"/>\n",
       "<circle clip-path=\"url(#clip7802)\" style=\"fill:#000000; stroke:none; fill-opacity:1\" cx=\"687.303\" cy=\"1414.92\" r=\"18\"/>\n",
       "<circle clip-path=\"url(#clip7802)\" style=\"fill:#009af9; stroke:none; fill-opacity:1\" cx=\"687.303\" cy=\"1414.92\" r=\"14\"/>\n",
       "<circle clip-path=\"url(#clip7802)\" style=\"fill:#000000; stroke:none; fill-opacity:1\" cx=\"687.303\" cy=\"1414.73\" r=\"18\"/>\n",
       "<circle clip-path=\"url(#clip7802)\" style=\"fill:#009af9; stroke:none; fill-opacity:1\" cx=\"687.303\" cy=\"1414.73\" r=\"14\"/>\n",
       "<circle clip-path=\"url(#clip7802)\" style=\"fill:#000000; stroke:none; fill-opacity:1\" cx=\"687.303\" cy=\"1436.62\" r=\"18\"/>\n",
       "<circle clip-path=\"url(#clip7802)\" style=\"fill:#009af9; stroke:none; fill-opacity:1\" cx=\"687.303\" cy=\"1436.62\" r=\"14\"/>\n",
       "<circle clip-path=\"url(#clip7802)\" style=\"fill:#000000; stroke:none; fill-opacity:1\" cx=\"687.303\" cy=\"1423.59\" r=\"18\"/>\n",
       "<circle clip-path=\"url(#clip7802)\" style=\"fill:#009af9; stroke:none; fill-opacity:1\" cx=\"687.303\" cy=\"1423.59\" r=\"14\"/>\n",
       "<circle clip-path=\"url(#clip7802)\" style=\"fill:#000000; stroke:none; fill-opacity:1\" cx=\"687.303\" cy=\"1416.92\" r=\"18\"/>\n",
       "<circle clip-path=\"url(#clip7802)\" style=\"fill:#009af9; stroke:none; fill-opacity:1\" cx=\"687.303\" cy=\"1416.92\" r=\"14\"/>\n",
       "<circle clip-path=\"url(#clip7802)\" style=\"fill:#000000; stroke:none; fill-opacity:1\" cx=\"687.303\" cy=\"1172.71\" r=\"18\"/>\n",
       "<circle clip-path=\"url(#clip7802)\" style=\"fill:#009af9; stroke:none; fill-opacity:1\" cx=\"687.303\" cy=\"1172.71\" r=\"14\"/>\n",
       "<circle clip-path=\"url(#clip7802)\" style=\"fill:#000000; stroke:none; fill-opacity:1\" cx=\"687.303\" cy=\"1429.48\" r=\"18\"/>\n",
       "<circle clip-path=\"url(#clip7802)\" style=\"fill:#009af9; stroke:none; fill-opacity:1\" cx=\"687.303\" cy=\"1429.48\" r=\"14\"/>\n",
       "<circle clip-path=\"url(#clip7802)\" style=\"fill:#000000; stroke:none; fill-opacity:1\" cx=\"687.303\" cy=\"1407.43\" r=\"18\"/>\n",
       "<circle clip-path=\"url(#clip7802)\" style=\"fill:#009af9; stroke:none; fill-opacity:1\" cx=\"687.303\" cy=\"1407.43\" r=\"14\"/>\n",
       "<circle clip-path=\"url(#clip7802)\" style=\"fill:#000000; stroke:none; fill-opacity:1\" cx=\"687.303\" cy=\"1417.5\" r=\"18\"/>\n",
       "<circle clip-path=\"url(#clip7802)\" style=\"fill:#009af9; stroke:none; fill-opacity:1\" cx=\"687.303\" cy=\"1417.5\" r=\"14\"/>\n",
       "<circle clip-path=\"url(#clip7802)\" style=\"fill:#000000; stroke:none; fill-opacity:1\" cx=\"687.303\" cy=\"1412.83\" r=\"18\"/>\n",
       "<circle clip-path=\"url(#clip7802)\" style=\"fill:#009af9; stroke:none; fill-opacity:1\" cx=\"687.303\" cy=\"1412.83\" r=\"14\"/>\n",
       "<circle clip-path=\"url(#clip7802)\" style=\"fill:#000000; stroke:none; fill-opacity:1\" cx=\"687.303\" cy=\"1148\" r=\"18\"/>\n",
       "<circle clip-path=\"url(#clip7802)\" style=\"fill:#009af9; stroke:none; fill-opacity:1\" cx=\"687.303\" cy=\"1148\" r=\"14\"/>\n",
       "<circle clip-path=\"url(#clip7802)\" style=\"fill:#000000; stroke:none; fill-opacity:1\" cx=\"687.303\" cy=\"955.35\" r=\"18\"/>\n",
       "<circle clip-path=\"url(#clip7802)\" style=\"fill:#009af9; stroke:none; fill-opacity:1\" cx=\"687.303\" cy=\"955.35\" r=\"14\"/>\n",
       "<circle clip-path=\"url(#clip7802)\" style=\"fill:#000000; stroke:none; fill-opacity:1\" cx=\"687.303\" cy=\"1417.21\" r=\"18\"/>\n",
       "<circle clip-path=\"url(#clip7802)\" style=\"fill:#009af9; stroke:none; fill-opacity:1\" cx=\"687.303\" cy=\"1417.21\" r=\"14\"/>\n",
       "<circle clip-path=\"url(#clip7802)\" style=\"fill:#000000; stroke:none; fill-opacity:1\" cx=\"687.303\" cy=\"1411.74\" r=\"18\"/>\n",
       "<circle clip-path=\"url(#clip7802)\" style=\"fill:#009af9; stroke:none; fill-opacity:1\" cx=\"687.303\" cy=\"1411.74\" r=\"14\"/>\n",
       "<circle clip-path=\"url(#clip7802)\" style=\"fill:#000000; stroke:none; fill-opacity:1\" cx=\"687.303\" cy=\"1412.25\" r=\"18\"/>\n",
       "<circle clip-path=\"url(#clip7802)\" style=\"fill:#009af9; stroke:none; fill-opacity:1\" cx=\"687.303\" cy=\"1412.25\" r=\"14\"/>\n",
       "<circle clip-path=\"url(#clip7802)\" style=\"fill:#000000; stroke:none; fill-opacity:1\" cx=\"687.303\" cy=\"1406.78\" r=\"18\"/>\n",
       "<circle clip-path=\"url(#clip7802)\" style=\"fill:#009af9; stroke:none; fill-opacity:1\" cx=\"687.303\" cy=\"1406.78\" r=\"14\"/>\n",
       "<circle clip-path=\"url(#clip7802)\" style=\"fill:#000000; stroke:none; fill-opacity:1\" cx=\"687.303\" cy=\"1417.51\" r=\"18\"/>\n",
       "<circle clip-path=\"url(#clip7802)\" style=\"fill:#009af9; stroke:none; fill-opacity:1\" cx=\"687.303\" cy=\"1417.51\" r=\"14\"/>\n",
       "<circle clip-path=\"url(#clip7802)\" style=\"fill:#000000; stroke:none; fill-opacity:1\" cx=\"687.303\" cy=\"1410.5\" r=\"18\"/>\n",
       "<circle clip-path=\"url(#clip7802)\" style=\"fill:#009af9; stroke:none; fill-opacity:1\" cx=\"687.303\" cy=\"1410.5\" r=\"14\"/>\n",
       "<circle clip-path=\"url(#clip7802)\" style=\"fill:#000000; stroke:none; fill-opacity:1\" cx=\"687.303\" cy=\"1410.05\" r=\"18\"/>\n",
       "<circle clip-path=\"url(#clip7802)\" style=\"fill:#009af9; stroke:none; fill-opacity:1\" cx=\"687.303\" cy=\"1410.05\" r=\"14\"/>\n",
       "<circle clip-path=\"url(#clip7802)\" style=\"fill:#000000; stroke:none; fill-opacity:1\" cx=\"687.303\" cy=\"1413.02\" r=\"18\"/>\n",
       "<circle clip-path=\"url(#clip7802)\" style=\"fill:#009af9; stroke:none; fill-opacity:1\" cx=\"687.303\" cy=\"1413.02\" r=\"14\"/>\n",
       "<circle clip-path=\"url(#clip7802)\" style=\"fill:#000000; stroke:none; fill-opacity:1\" cx=\"687.303\" cy=\"1407.53\" r=\"18\"/>\n",
       "<circle clip-path=\"url(#clip7802)\" style=\"fill:#009af9; stroke:none; fill-opacity:1\" cx=\"687.303\" cy=\"1407.53\" r=\"14\"/>\n",
       "<circle clip-path=\"url(#clip7802)\" style=\"fill:#000000; stroke:none; fill-opacity:1\" cx=\"687.303\" cy=\"1407.33\" r=\"18\"/>\n",
       "<circle clip-path=\"url(#clip7802)\" style=\"fill:#009af9; stroke:none; fill-opacity:1\" cx=\"687.303\" cy=\"1407.33\" r=\"14\"/>\n",
       "<circle clip-path=\"url(#clip7802)\" style=\"fill:#000000; stroke:none; fill-opacity:1\" cx=\"687.303\" cy=\"1408.93\" r=\"18\"/>\n",
       "<circle clip-path=\"url(#clip7802)\" style=\"fill:#009af9; stroke:none; fill-opacity:1\" cx=\"687.303\" cy=\"1408.93\" r=\"14\"/>\n",
       "<circle clip-path=\"url(#clip7802)\" style=\"fill:#000000; stroke:none; fill-opacity:1\" cx=\"687.303\" cy=\"1416.17\" r=\"18\"/>\n",
       "<circle clip-path=\"url(#clip7802)\" style=\"fill:#009af9; stroke:none; fill-opacity:1\" cx=\"687.303\" cy=\"1416.17\" r=\"14\"/>\n",
       "<circle clip-path=\"url(#clip7802)\" style=\"fill:#000000; stroke:none; fill-opacity:1\" cx=\"687.303\" cy=\"1408.91\" r=\"18\"/>\n",
       "<circle clip-path=\"url(#clip7802)\" style=\"fill:#009af9; stroke:none; fill-opacity:1\" cx=\"687.303\" cy=\"1408.91\" r=\"14\"/>\n",
       "<circle clip-path=\"url(#clip7802)\" style=\"fill:#000000; stroke:none; fill-opacity:1\" cx=\"687.303\" cy=\"1418.84\" r=\"18\"/>\n",
       "<circle clip-path=\"url(#clip7802)\" style=\"fill:#009af9; stroke:none; fill-opacity:1\" cx=\"687.303\" cy=\"1418.84\" r=\"14\"/>\n",
       "<circle clip-path=\"url(#clip7802)\" style=\"fill:#000000; stroke:none; fill-opacity:1\" cx=\"687.303\" cy=\"1179.38\" r=\"18\"/>\n",
       "<circle clip-path=\"url(#clip7802)\" style=\"fill:#009af9; stroke:none; fill-opacity:1\" cx=\"687.303\" cy=\"1179.38\" r=\"14\"/>\n",
       "<circle clip-path=\"url(#clip7802)\" style=\"fill:#000000; stroke:none; fill-opacity:1\" cx=\"687.303\" cy=\"1424\" r=\"18\"/>\n",
       "<circle clip-path=\"url(#clip7802)\" style=\"fill:#009af9; stroke:none; fill-opacity:1\" cx=\"687.303\" cy=\"1424\" r=\"14\"/>\n",
       "<circle clip-path=\"url(#clip7802)\" style=\"fill:#000000; stroke:none; fill-opacity:1\" cx=\"687.303\" cy=\"1423.65\" r=\"18\"/>\n",
       "<circle clip-path=\"url(#clip7802)\" style=\"fill:#009af9; stroke:none; fill-opacity:1\" cx=\"687.303\" cy=\"1423.65\" r=\"14\"/>\n",
       "<circle clip-path=\"url(#clip7802)\" style=\"fill:#000000; stroke:none; fill-opacity:1\" cx=\"687.303\" cy=\"1428.26\" r=\"18\"/>\n",
       "<circle clip-path=\"url(#clip7802)\" style=\"fill:#009af9; stroke:none; fill-opacity:1\" cx=\"687.303\" cy=\"1428.26\" r=\"14\"/>\n",
       "<circle clip-path=\"url(#clip7802)\" style=\"fill:#000000; stroke:none; fill-opacity:1\" cx=\"687.303\" cy=\"1416.53\" r=\"18\"/>\n",
       "<circle clip-path=\"url(#clip7802)\" style=\"fill:#009af9; stroke:none; fill-opacity:1\" cx=\"687.303\" cy=\"1416.53\" r=\"14\"/>\n",
       "<circle clip-path=\"url(#clip7802)\" style=\"fill:#000000; stroke:none; fill-opacity:1\" cx=\"687.303\" cy=\"1412.54\" r=\"18\"/>\n",
       "<circle clip-path=\"url(#clip7802)\" style=\"fill:#009af9; stroke:none; fill-opacity:1\" cx=\"687.303\" cy=\"1412.54\" r=\"14\"/>\n",
       "<circle clip-path=\"url(#clip7802)\" style=\"fill:#000000; stroke:none; fill-opacity:1\" cx=\"687.303\" cy=\"1431.74\" r=\"18\"/>\n",
       "<circle clip-path=\"url(#clip7802)\" style=\"fill:#009af9; stroke:none; fill-opacity:1\" cx=\"687.303\" cy=\"1431.74\" r=\"14\"/>\n",
       "<circle clip-path=\"url(#clip7802)\" style=\"fill:#000000; stroke:none; fill-opacity:1\" cx=\"687.303\" cy=\"1411.3\" r=\"18\"/>\n",
       "<circle clip-path=\"url(#clip7802)\" style=\"fill:#009af9; stroke:none; fill-opacity:1\" cx=\"687.303\" cy=\"1411.3\" r=\"14\"/>\n",
       "<circle clip-path=\"url(#clip7802)\" style=\"fill:#000000; stroke:none; fill-opacity:1\" cx=\"687.303\" cy=\"1417.05\" r=\"18\"/>\n",
       "<circle clip-path=\"url(#clip7802)\" style=\"fill:#009af9; stroke:none; fill-opacity:1\" cx=\"687.303\" cy=\"1417.05\" r=\"14\"/>\n",
       "<circle clip-path=\"url(#clip7802)\" style=\"fill:#000000; stroke:none; fill-opacity:1\" cx=\"687.303\" cy=\"1420.04\" r=\"18\"/>\n",
       "<circle clip-path=\"url(#clip7802)\" style=\"fill:#009af9; stroke:none; fill-opacity:1\" cx=\"687.303\" cy=\"1420.04\" r=\"14\"/>\n",
       "<circle clip-path=\"url(#clip7802)\" style=\"fill:#000000; stroke:none; fill-opacity:1\" cx=\"687.303\" cy=\"1420.78\" r=\"18\"/>\n",
       "<circle clip-path=\"url(#clip7802)\" style=\"fill:#009af9; stroke:none; fill-opacity:1\" cx=\"687.303\" cy=\"1420.78\" r=\"14\"/>\n",
       "<circle clip-path=\"url(#clip7802)\" style=\"fill:#000000; stroke:none; fill-opacity:1\" cx=\"687.303\" cy=\"88.0053\" r=\"18\"/>\n",
       "<circle clip-path=\"url(#clip7802)\" style=\"fill:#009af9; stroke:none; fill-opacity:1\" cx=\"687.303\" cy=\"88.0053\" r=\"14\"/>\n",
       "<circle clip-path=\"url(#clip7802)\" style=\"fill:#000000; stroke:none; fill-opacity:1\" cx=\"687.303\" cy=\"1077.72\" r=\"18\"/>\n",
       "<circle clip-path=\"url(#clip7802)\" style=\"fill:#009af9; stroke:none; fill-opacity:1\" cx=\"687.303\" cy=\"1077.72\" r=\"14\"/>\n",
       "<circle clip-path=\"url(#clip7802)\" style=\"fill:#000000; stroke:none; fill-opacity:1\" cx=\"687.303\" cy=\"1419.32\" r=\"18\"/>\n",
       "<circle clip-path=\"url(#clip7802)\" style=\"fill:#009af9; stroke:none; fill-opacity:1\" cx=\"687.303\" cy=\"1419.32\" r=\"14\"/>\n",
       "<circle clip-path=\"url(#clip7802)\" style=\"fill:#000000; stroke:none; fill-opacity:1\" cx=\"687.303\" cy=\"1404.75\" r=\"18\"/>\n",
       "<circle clip-path=\"url(#clip7802)\" style=\"fill:#009af9; stroke:none; fill-opacity:1\" cx=\"687.303\" cy=\"1404.75\" r=\"14\"/>\n",
       "<circle clip-path=\"url(#clip7802)\" style=\"fill:#000000; stroke:none; fill-opacity:1\" cx=\"687.303\" cy=\"1417.01\" r=\"18\"/>\n",
       "<circle clip-path=\"url(#clip7802)\" style=\"fill:#009af9; stroke:none; fill-opacity:1\" cx=\"687.303\" cy=\"1417.01\" r=\"14\"/>\n",
       "<circle clip-path=\"url(#clip7802)\" style=\"fill:#000000; stroke:none; fill-opacity:1\" cx=\"687.303\" cy=\"1418.86\" r=\"18\"/>\n",
       "<circle clip-path=\"url(#clip7802)\" style=\"fill:#009af9; stroke:none; fill-opacity:1\" cx=\"687.303\" cy=\"1418.86\" r=\"14\"/>\n",
       "<circle clip-path=\"url(#clip7802)\" style=\"fill:#000000; stroke:none; fill-opacity:1\" cx=\"687.303\" cy=\"1422.92\" r=\"18\"/>\n",
       "<circle clip-path=\"url(#clip7802)\" style=\"fill:#009af9; stroke:none; fill-opacity:1\" cx=\"687.303\" cy=\"1422.92\" r=\"14\"/>\n",
       "<circle clip-path=\"url(#clip7802)\" style=\"fill:#000000; stroke:none; fill-opacity:1\" cx=\"687.303\" cy=\"1418.96\" r=\"18\"/>\n",
       "<circle clip-path=\"url(#clip7802)\" style=\"fill:#009af9; stroke:none; fill-opacity:1\" cx=\"687.303\" cy=\"1418.96\" r=\"14\"/>\n",
       "<circle clip-path=\"url(#clip7802)\" style=\"fill:#000000; stroke:none; fill-opacity:1\" cx=\"687.303\" cy=\"1417.06\" r=\"18\"/>\n",
       "<circle clip-path=\"url(#clip7802)\" style=\"fill:#009af9; stroke:none; fill-opacity:1\" cx=\"687.303\" cy=\"1417.06\" r=\"14\"/>\n",
       "<circle clip-path=\"url(#clip7802)\" style=\"fill:#000000; stroke:none; fill-opacity:1\" cx=\"687.303\" cy=\"1421.36\" r=\"18\"/>\n",
       "<circle clip-path=\"url(#clip7802)\" style=\"fill:#009af9; stroke:none; fill-opacity:1\" cx=\"687.303\" cy=\"1421.36\" r=\"14\"/>\n",
       "<circle clip-path=\"url(#clip7802)\" style=\"fill:#000000; stroke:none; fill-opacity:1\" cx=\"687.303\" cy=\"1423.71\" r=\"18\"/>\n",
       "<circle clip-path=\"url(#clip7802)\" style=\"fill:#009af9; stroke:none; fill-opacity:1\" cx=\"687.303\" cy=\"1423.71\" r=\"14\"/>\n",
       "<circle clip-path=\"url(#clip7802)\" style=\"fill:#000000; stroke:none; fill-opacity:1\" cx=\"687.303\" cy=\"1416.13\" r=\"18\"/>\n",
       "<circle clip-path=\"url(#clip7802)\" style=\"fill:#009af9; stroke:none; fill-opacity:1\" cx=\"687.303\" cy=\"1416.13\" r=\"14\"/>\n",
       "<circle clip-path=\"url(#clip7802)\" style=\"fill:#000000; stroke:none; fill-opacity:1\" cx=\"687.303\" cy=\"1411.97\" r=\"18\"/>\n",
       "<circle clip-path=\"url(#clip7802)\" style=\"fill:#009af9; stroke:none; fill-opacity:1\" cx=\"687.303\" cy=\"1411.97\" r=\"14\"/>\n",
       "<circle clip-path=\"url(#clip7802)\" style=\"fill:#000000; stroke:none; fill-opacity:1\" cx=\"687.303\" cy=\"1411.48\" r=\"18\"/>\n",
       "<circle clip-path=\"url(#clip7802)\" style=\"fill:#009af9; stroke:none; fill-opacity:1\" cx=\"687.303\" cy=\"1411.48\" r=\"14\"/>\n",
       "<circle clip-path=\"url(#clip7802)\" style=\"fill:#000000; stroke:none; fill-opacity:1\" cx=\"687.303\" cy=\"1173.73\" r=\"18\"/>\n",
       "<circle clip-path=\"url(#clip7802)\" style=\"fill:#009af9; stroke:none; fill-opacity:1\" cx=\"687.303\" cy=\"1173.73\" r=\"14\"/>\n",
       "<circle clip-path=\"url(#clip7802)\" style=\"fill:#000000; stroke:none; fill-opacity:1\" cx=\"687.303\" cy=\"1413.68\" r=\"18\"/>\n",
       "<circle clip-path=\"url(#clip7802)\" style=\"fill:#009af9; stroke:none; fill-opacity:1\" cx=\"687.303\" cy=\"1413.68\" r=\"14\"/>\n",
       "<circle clip-path=\"url(#clip7802)\" style=\"fill:#000000; stroke:none; fill-opacity:1\" cx=\"687.303\" cy=\"1412.83\" r=\"18\"/>\n",
       "<circle clip-path=\"url(#clip7802)\" style=\"fill:#009af9; stroke:none; fill-opacity:1\" cx=\"687.303\" cy=\"1412.83\" r=\"14\"/>\n",
       "<circle clip-path=\"url(#clip7802)\" style=\"fill:#000000; stroke:none; fill-opacity:1\" cx=\"687.303\" cy=\"1423.49\" r=\"18\"/>\n",
       "<circle clip-path=\"url(#clip7802)\" style=\"fill:#009af9; stroke:none; fill-opacity:1\" cx=\"687.303\" cy=\"1423.49\" r=\"14\"/>\n",
       "<circle clip-path=\"url(#clip7802)\" style=\"fill:#000000; stroke:none; fill-opacity:1\" cx=\"687.303\" cy=\"1413.48\" r=\"18\"/>\n",
       "<circle clip-path=\"url(#clip7802)\" style=\"fill:#009af9; stroke:none; fill-opacity:1\" cx=\"687.303\" cy=\"1413.48\" r=\"14\"/>\n",
       "<circle clip-path=\"url(#clip7802)\" style=\"fill:#000000; stroke:none; fill-opacity:1\" cx=\"687.303\" cy=\"1406.71\" r=\"18\"/>\n",
       "<circle clip-path=\"url(#clip7802)\" style=\"fill:#009af9; stroke:none; fill-opacity:1\" cx=\"687.303\" cy=\"1406.71\" r=\"14\"/>\n",
       "<circle clip-path=\"url(#clip7802)\" style=\"fill:#000000; stroke:none; fill-opacity:1\" cx=\"687.303\" cy=\"1421.11\" r=\"18\"/>\n",
       "<circle clip-path=\"url(#clip7802)\" style=\"fill:#009af9; stroke:none; fill-opacity:1\" cx=\"687.303\" cy=\"1421.11\" r=\"14\"/>\n",
       "<circle clip-path=\"url(#clip7802)\" style=\"fill:#000000; stroke:none; fill-opacity:1\" cx=\"687.303\" cy=\"1407.08\" r=\"18\"/>\n",
       "<circle clip-path=\"url(#clip7802)\" style=\"fill:#009af9; stroke:none; fill-opacity:1\" cx=\"687.303\" cy=\"1407.08\" r=\"14\"/>\n",
       "<circle clip-path=\"url(#clip7802)\" style=\"fill:#000000; stroke:none; fill-opacity:1\" cx=\"687.303\" cy=\"1175.62\" r=\"18\"/>\n",
       "<circle clip-path=\"url(#clip7802)\" style=\"fill:#009af9; stroke:none; fill-opacity:1\" cx=\"687.303\" cy=\"1175.62\" r=\"14\"/>\n",
       "<circle clip-path=\"url(#clip7802)\" style=\"fill:#000000; stroke:none; fill-opacity:1\" cx=\"687.303\" cy=\"1419.01\" r=\"18\"/>\n",
       "<circle clip-path=\"url(#clip7802)\" style=\"fill:#009af9; stroke:none; fill-opacity:1\" cx=\"687.303\" cy=\"1419.01\" r=\"14\"/>\n",
       "<circle clip-path=\"url(#clip7802)\" style=\"fill:#000000; stroke:none; fill-opacity:1\" cx=\"687.303\" cy=\"1418.17\" r=\"18\"/>\n",
       "<circle clip-path=\"url(#clip7802)\" style=\"fill:#009af9; stroke:none; fill-opacity:1\" cx=\"687.303\" cy=\"1418.17\" r=\"14\"/>\n",
       "<circle clip-path=\"url(#clip7802)\" style=\"fill:#000000; stroke:none; fill-opacity:1\" cx=\"687.303\" cy=\"1403.41\" r=\"18\"/>\n",
       "<circle clip-path=\"url(#clip7802)\" style=\"fill:#009af9; stroke:none; fill-opacity:1\" cx=\"687.303\" cy=\"1403.41\" r=\"14\"/>\n",
       "<circle clip-path=\"url(#clip7802)\" style=\"fill:#000000; stroke:none; fill-opacity:1\" cx=\"687.303\" cy=\"1160.56\" r=\"18\"/>\n",
       "<circle clip-path=\"url(#clip7802)\" style=\"fill:#009af9; stroke:none; fill-opacity:1\" cx=\"687.303\" cy=\"1160.56\" r=\"14\"/>\n",
       "<circle clip-path=\"url(#clip7802)\" style=\"fill:#000000; stroke:none; fill-opacity:1\" cx=\"687.303\" cy=\"1427.48\" r=\"18\"/>\n",
       "<circle clip-path=\"url(#clip7802)\" style=\"fill:#009af9; stroke:none; fill-opacity:1\" cx=\"687.303\" cy=\"1427.48\" r=\"14\"/>\n",
       "<circle clip-path=\"url(#clip7802)\" style=\"fill:#000000; stroke:none; fill-opacity:1\" cx=\"687.303\" cy=\"1426.37\" r=\"18\"/>\n",
       "<circle clip-path=\"url(#clip7802)\" style=\"fill:#009af9; stroke:none; fill-opacity:1\" cx=\"687.303\" cy=\"1426.37\" r=\"14\"/>\n",
       "<circle clip-path=\"url(#clip7802)\" style=\"fill:#000000; stroke:none; fill-opacity:1\" cx=\"687.303\" cy=\"1418.81\" r=\"18\"/>\n",
       "<circle clip-path=\"url(#clip7802)\" style=\"fill:#009af9; stroke:none; fill-opacity:1\" cx=\"687.303\" cy=\"1418.81\" r=\"14\"/>\n",
       "<circle clip-path=\"url(#clip7802)\" style=\"fill:#000000; stroke:none; fill-opacity:1\" cx=\"687.303\" cy=\"1404.67\" r=\"18\"/>\n",
       "<circle clip-path=\"url(#clip7802)\" style=\"fill:#009af9; stroke:none; fill-opacity:1\" cx=\"687.303\" cy=\"1404.67\" r=\"14\"/>\n",
       "<circle clip-path=\"url(#clip7802)\" style=\"fill:#000000; stroke:none; fill-opacity:1\" cx=\"687.303\" cy=\"1410.28\" r=\"18\"/>\n",
       "<circle clip-path=\"url(#clip7802)\" style=\"fill:#009af9; stroke:none; fill-opacity:1\" cx=\"687.303\" cy=\"1410.28\" r=\"14\"/>\n",
       "<circle clip-path=\"url(#clip7802)\" style=\"fill:#000000; stroke:none; fill-opacity:1\" cx=\"687.303\" cy=\"1415.72\" r=\"18\"/>\n",
       "<circle clip-path=\"url(#clip7802)\" style=\"fill:#009af9; stroke:none; fill-opacity:1\" cx=\"687.303\" cy=\"1415.72\" r=\"14\"/>\n",
       "<circle clip-path=\"url(#clip7802)\" style=\"fill:#000000; stroke:none; fill-opacity:1\" cx=\"687.303\" cy=\"1408.52\" r=\"18\"/>\n",
       "<circle clip-path=\"url(#clip7802)\" style=\"fill:#009af9; stroke:none; fill-opacity:1\" cx=\"687.303\" cy=\"1408.52\" r=\"14\"/>\n",
       "<circle clip-path=\"url(#clip7802)\" style=\"fill:#000000; stroke:none; fill-opacity:1\" cx=\"687.303\" cy=\"1415.92\" r=\"18\"/>\n",
       "<circle clip-path=\"url(#clip7802)\" style=\"fill:#009af9; stroke:none; fill-opacity:1\" cx=\"687.303\" cy=\"1415.92\" r=\"14\"/>\n",
       "<circle clip-path=\"url(#clip7802)\" style=\"fill:#000000; stroke:none; fill-opacity:1\" cx=\"687.303\" cy=\"1424.77\" r=\"18\"/>\n",
       "<circle clip-path=\"url(#clip7802)\" style=\"fill:#009af9; stroke:none; fill-opacity:1\" cx=\"687.303\" cy=\"1424.77\" r=\"14\"/>\n",
       "<circle clip-path=\"url(#clip7802)\" style=\"fill:#000000; stroke:none; fill-opacity:1\" cx=\"687.303\" cy=\"1413.83\" r=\"18\"/>\n",
       "<circle clip-path=\"url(#clip7802)\" style=\"fill:#009af9; stroke:none; fill-opacity:1\" cx=\"687.303\" cy=\"1413.83\" r=\"14\"/>\n",
       "<circle clip-path=\"url(#clip7802)\" style=\"fill:#000000; stroke:none; fill-opacity:1\" cx=\"687.303\" cy=\"1155.92\" r=\"18\"/>\n",
       "<circle clip-path=\"url(#clip7802)\" style=\"fill:#009af9; stroke:none; fill-opacity:1\" cx=\"687.303\" cy=\"1155.92\" r=\"14\"/>\n",
       "<circle clip-path=\"url(#clip7802)\" style=\"fill:#000000; stroke:none; fill-opacity:1\" cx=\"687.303\" cy=\"1409.33\" r=\"18\"/>\n",
       "<circle clip-path=\"url(#clip7802)\" style=\"fill:#009af9; stroke:none; fill-opacity:1\" cx=\"687.303\" cy=\"1409.33\" r=\"14\"/>\n",
       "<circle clip-path=\"url(#clip7802)\" style=\"fill:#000000; stroke:none; fill-opacity:1\" cx=\"687.303\" cy=\"1437.62\" r=\"18\"/>\n",
       "<circle clip-path=\"url(#clip7802)\" style=\"fill:#009af9; stroke:none; fill-opacity:1\" cx=\"687.303\" cy=\"1437.62\" r=\"14\"/>\n",
       "<circle clip-path=\"url(#clip7802)\" style=\"fill:#000000; stroke:none; fill-opacity:1\" cx=\"687.303\" cy=\"1405.81\" r=\"18\"/>\n",
       "<circle clip-path=\"url(#clip7802)\" style=\"fill:#009af9; stroke:none; fill-opacity:1\" cx=\"687.303\" cy=\"1405.81\" r=\"14\"/>\n",
       "<circle clip-path=\"url(#clip7802)\" style=\"fill:#000000; stroke:none; fill-opacity:1\" cx=\"687.303\" cy=\"1415.01\" r=\"18\"/>\n",
       "<circle clip-path=\"url(#clip7802)\" style=\"fill:#009af9; stroke:none; fill-opacity:1\" cx=\"687.303\" cy=\"1415.01\" r=\"14\"/>\n",
       "<circle clip-path=\"url(#clip7802)\" style=\"fill:#000000; stroke:none; fill-opacity:1\" cx=\"687.303\" cy=\"1407.32\" r=\"18\"/>\n",
       "<circle clip-path=\"url(#clip7802)\" style=\"fill:#009af9; stroke:none; fill-opacity:1\" cx=\"687.303\" cy=\"1407.32\" r=\"14\"/>\n",
       "<circle clip-path=\"url(#clip7802)\" style=\"fill:#000000; stroke:none; fill-opacity:1\" cx=\"687.303\" cy=\"1166.48\" r=\"18\"/>\n",
       "<circle clip-path=\"url(#clip7802)\" style=\"fill:#009af9; stroke:none; fill-opacity:1\" cx=\"687.303\" cy=\"1166.48\" r=\"14\"/>\n",
       "<circle clip-path=\"url(#clip7802)\" style=\"fill:#000000; stroke:none; fill-opacity:1\" cx=\"687.303\" cy=\"1421.71\" r=\"18\"/>\n",
       "<circle clip-path=\"url(#clip7802)\" style=\"fill:#009af9; stroke:none; fill-opacity:1\" cx=\"687.303\" cy=\"1421.71\" r=\"14\"/>\n",
       "<circle clip-path=\"url(#clip7802)\" style=\"fill:#000000; stroke:none; fill-opacity:1\" cx=\"687.303\" cy=\"1163.38\" r=\"18\"/>\n",
       "<circle clip-path=\"url(#clip7802)\" style=\"fill:#009af9; stroke:none; fill-opacity:1\" cx=\"687.303\" cy=\"1163.38\" r=\"14\"/>\n",
       "<circle clip-path=\"url(#clip7802)\" style=\"fill:#000000; stroke:none; fill-opacity:1\" cx=\"687.303\" cy=\"1419.87\" r=\"18\"/>\n",
       "<circle clip-path=\"url(#clip7802)\" style=\"fill:#009af9; stroke:none; fill-opacity:1\" cx=\"687.303\" cy=\"1419.87\" r=\"14\"/>\n",
       "<circle clip-path=\"url(#clip7802)\" style=\"fill:#000000; stroke:none; fill-opacity:1\" cx=\"687.303\" cy=\"1186.18\" r=\"18\"/>\n",
       "<circle clip-path=\"url(#clip7802)\" style=\"fill:#009af9; stroke:none; fill-opacity:1\" cx=\"687.303\" cy=\"1186.18\" r=\"14\"/>\n",
       "<circle clip-path=\"url(#clip7802)\" style=\"fill:#000000; stroke:none; fill-opacity:1\" cx=\"687.303\" cy=\"1422.86\" r=\"18\"/>\n",
       "<circle clip-path=\"url(#clip7802)\" style=\"fill:#009af9; stroke:none; fill-opacity:1\" cx=\"687.303\" cy=\"1422.86\" r=\"14\"/>\n",
       "<circle clip-path=\"url(#clip7802)\" style=\"fill:#000000; stroke:none; fill-opacity:1\" cx=\"687.303\" cy=\"1430.53\" r=\"18\"/>\n",
       "<circle clip-path=\"url(#clip7802)\" style=\"fill:#009af9; stroke:none; fill-opacity:1\" cx=\"687.303\" cy=\"1430.53\" r=\"14\"/>\n",
       "<circle clip-path=\"url(#clip7802)\" style=\"fill:#000000; stroke:none; fill-opacity:1\" cx=\"687.303\" cy=\"1426.88\" r=\"18\"/>\n",
       "<circle clip-path=\"url(#clip7802)\" style=\"fill:#009af9; stroke:none; fill-opacity:1\" cx=\"687.303\" cy=\"1426.88\" r=\"14\"/>\n",
       "<circle clip-path=\"url(#clip7802)\" style=\"fill:#000000; stroke:none; fill-opacity:1\" cx=\"687.303\" cy=\"1426.27\" r=\"18\"/>\n",
       "<circle clip-path=\"url(#clip7802)\" style=\"fill:#009af9; stroke:none; fill-opacity:1\" cx=\"687.303\" cy=\"1426.27\" r=\"14\"/>\n",
       "<circle clip-path=\"url(#clip7802)\" style=\"fill:#000000; stroke:none; fill-opacity:1\" cx=\"687.303\" cy=\"1186.6\" r=\"18\"/>\n",
       "<circle clip-path=\"url(#clip7802)\" style=\"fill:#009af9; stroke:none; fill-opacity:1\" cx=\"687.303\" cy=\"1186.6\" r=\"14\"/>\n",
       "<circle clip-path=\"url(#clip7802)\" style=\"fill:#000000; stroke:none; fill-opacity:1\" cx=\"687.303\" cy=\"1424.59\" r=\"18\"/>\n",
       "<circle clip-path=\"url(#clip7802)\" style=\"fill:#009af9; stroke:none; fill-opacity:1\" cx=\"687.303\" cy=\"1424.59\" r=\"14\"/>\n",
       "<circle clip-path=\"url(#clip7802)\" style=\"fill:#000000; stroke:none; fill-opacity:1\" cx=\"687.303\" cy=\"1424.73\" r=\"18\"/>\n",
       "<circle clip-path=\"url(#clip7802)\" style=\"fill:#009af9; stroke:none; fill-opacity:1\" cx=\"687.303\" cy=\"1424.73\" r=\"14\"/>\n",
       "<circle clip-path=\"url(#clip7802)\" style=\"fill:#000000; stroke:none; fill-opacity:1\" cx=\"687.303\" cy=\"1419.91\" r=\"18\"/>\n",
       "<circle clip-path=\"url(#clip7802)\" style=\"fill:#009af9; stroke:none; fill-opacity:1\" cx=\"687.303\" cy=\"1419.91\" r=\"14\"/>\n",
       "<circle clip-path=\"url(#clip7802)\" style=\"fill:#000000; stroke:none; fill-opacity:1\" cx=\"687.303\" cy=\"1090.9\" r=\"18\"/>\n",
       "<circle clip-path=\"url(#clip7802)\" style=\"fill:#009af9; stroke:none; fill-opacity:1\" cx=\"687.303\" cy=\"1090.9\" r=\"14\"/>\n",
       "<circle clip-path=\"url(#clip7802)\" style=\"fill:#000000; stroke:none; fill-opacity:1\" cx=\"687.303\" cy=\"1416.02\" r=\"18\"/>\n",
       "<circle clip-path=\"url(#clip7802)\" style=\"fill:#009af9; stroke:none; fill-opacity:1\" cx=\"687.303\" cy=\"1416.02\" r=\"14\"/>\n",
       "<circle clip-path=\"url(#clip7802)\" style=\"fill:#000000; stroke:none; fill-opacity:1\" cx=\"687.303\" cy=\"1423.6\" r=\"18\"/>\n",
       "<circle clip-path=\"url(#clip7802)\" style=\"fill:#009af9; stroke:none; fill-opacity:1\" cx=\"687.303\" cy=\"1423.6\" r=\"14\"/>\n",
       "<circle clip-path=\"url(#clip7802)\" style=\"fill:#000000; stroke:none; fill-opacity:1\" cx=\"687.303\" cy=\"1407.42\" r=\"18\"/>\n",
       "<circle clip-path=\"url(#clip7802)\" style=\"fill:#009af9; stroke:none; fill-opacity:1\" cx=\"687.303\" cy=\"1407.42\" r=\"14\"/>\n",
       "<circle clip-path=\"url(#clip7802)\" style=\"fill:#000000; stroke:none; fill-opacity:1\" cx=\"687.303\" cy=\"1422.4\" r=\"18\"/>\n",
       "<circle clip-path=\"url(#clip7802)\" style=\"fill:#009af9; stroke:none; fill-opacity:1\" cx=\"687.303\" cy=\"1422.4\" r=\"14\"/>\n",
       "<circle clip-path=\"url(#clip7802)\" style=\"fill:#000000; stroke:none; fill-opacity:1\" cx=\"687.303\" cy=\"1417.2\" r=\"18\"/>\n",
       "<circle clip-path=\"url(#clip7802)\" style=\"fill:#009af9; stroke:none; fill-opacity:1\" cx=\"687.303\" cy=\"1417.2\" r=\"14\"/>\n",
       "<circle clip-path=\"url(#clip7802)\" style=\"fill:#000000; stroke:none; fill-opacity:1\" cx=\"687.303\" cy=\"1416.75\" r=\"18\"/>\n",
       "<circle clip-path=\"url(#clip7802)\" style=\"fill:#009af9; stroke:none; fill-opacity:1\" cx=\"687.303\" cy=\"1416.75\" r=\"14\"/>\n",
       "<circle clip-path=\"url(#clip7802)\" style=\"fill:#000000; stroke:none; fill-opacity:1\" cx=\"687.303\" cy=\"1410.2\" r=\"18\"/>\n",
       "<circle clip-path=\"url(#clip7802)\" style=\"fill:#009af9; stroke:none; fill-opacity:1\" cx=\"687.303\" cy=\"1410.2\" r=\"14\"/>\n",
       "<circle clip-path=\"url(#clip7802)\" style=\"fill:#000000; stroke:none; fill-opacity:1\" cx=\"687.303\" cy=\"1405.75\" r=\"18\"/>\n",
       "<circle clip-path=\"url(#clip7802)\" style=\"fill:#009af9; stroke:none; fill-opacity:1\" cx=\"687.303\" cy=\"1405.75\" r=\"14\"/>\n",
       "<circle clip-path=\"url(#clip7802)\" style=\"fill:#000000; stroke:none; fill-opacity:1\" cx=\"687.303\" cy=\"1414.91\" r=\"18\"/>\n",
       "<circle clip-path=\"url(#clip7802)\" style=\"fill:#009af9; stroke:none; fill-opacity:1\" cx=\"687.303\" cy=\"1414.91\" r=\"14\"/>\n",
       "<circle clip-path=\"url(#clip7802)\" style=\"fill:#000000; stroke:none; fill-opacity:1\" cx=\"687.303\" cy=\"1411.93\" r=\"18\"/>\n",
       "<circle clip-path=\"url(#clip7802)\" style=\"fill:#009af9; stroke:none; fill-opacity:1\" cx=\"687.303\" cy=\"1411.93\" r=\"14\"/>\n",
       "<circle clip-path=\"url(#clip7802)\" style=\"fill:#000000; stroke:none; fill-opacity:1\" cx=\"687.303\" cy=\"1414.05\" r=\"18\"/>\n",
       "<circle clip-path=\"url(#clip7802)\" style=\"fill:#009af9; stroke:none; fill-opacity:1\" cx=\"687.303\" cy=\"1414.05\" r=\"14\"/>\n",
       "<circle clip-path=\"url(#clip7802)\" style=\"fill:#000000; stroke:none; fill-opacity:1\" cx=\"687.303\" cy=\"1414.23\" r=\"18\"/>\n",
       "<circle clip-path=\"url(#clip7802)\" style=\"fill:#009af9; stroke:none; fill-opacity:1\" cx=\"687.303\" cy=\"1414.23\" r=\"14\"/>\n",
       "<circle clip-path=\"url(#clip7802)\" style=\"fill:#000000; stroke:none; fill-opacity:1\" cx=\"687.303\" cy=\"1423.97\" r=\"18\"/>\n",
       "<circle clip-path=\"url(#clip7802)\" style=\"fill:#009af9; stroke:none; fill-opacity:1\" cx=\"687.303\" cy=\"1423.97\" r=\"14\"/>\n",
       "<circle clip-path=\"url(#clip7802)\" style=\"fill:#000000; stroke:none; fill-opacity:1\" cx=\"687.303\" cy=\"1421.59\" r=\"18\"/>\n",
       "<circle clip-path=\"url(#clip7802)\" style=\"fill:#009af9; stroke:none; fill-opacity:1\" cx=\"687.303\" cy=\"1421.59\" r=\"14\"/>\n",
       "<circle clip-path=\"url(#clip7802)\" style=\"fill:#000000; stroke:none; fill-opacity:1\" cx=\"687.303\" cy=\"1167.58\" r=\"18\"/>\n",
       "<circle clip-path=\"url(#clip7802)\" style=\"fill:#009af9; stroke:none; fill-opacity:1\" cx=\"687.303\" cy=\"1167.58\" r=\"14\"/>\n",
       "<circle clip-path=\"url(#clip7802)\" style=\"fill:#000000; stroke:none; fill-opacity:1\" cx=\"687.303\" cy=\"1181.34\" r=\"18\"/>\n",
       "<circle clip-path=\"url(#clip7802)\" style=\"fill:#009af9; stroke:none; fill-opacity:1\" cx=\"687.303\" cy=\"1181.34\" r=\"14\"/>\n",
       "<circle clip-path=\"url(#clip7802)\" style=\"fill:#000000; stroke:none; fill-opacity:1\" cx=\"687.303\" cy=\"1095.21\" r=\"18\"/>\n",
       "<circle clip-path=\"url(#clip7802)\" style=\"fill:#009af9; stroke:none; fill-opacity:1\" cx=\"687.303\" cy=\"1095.21\" r=\"14\"/>\n",
       "<circle clip-path=\"url(#clip7802)\" style=\"fill:#000000; stroke:none; fill-opacity:1\" cx=\"687.303\" cy=\"1164\" r=\"18\"/>\n",
       "<circle clip-path=\"url(#clip7802)\" style=\"fill:#009af9; stroke:none; fill-opacity:1\" cx=\"687.303\" cy=\"1164\" r=\"14\"/>\n",
       "<circle clip-path=\"url(#clip7802)\" style=\"fill:#000000; stroke:none; fill-opacity:1\" cx=\"687.303\" cy=\"1434.56\" r=\"18\"/>\n",
       "<circle clip-path=\"url(#clip7802)\" style=\"fill:#009af9; stroke:none; fill-opacity:1\" cx=\"687.303\" cy=\"1434.56\" r=\"14\"/>\n",
       "<circle clip-path=\"url(#clip7802)\" style=\"fill:#000000; stroke:none; fill-opacity:1\" cx=\"687.303\" cy=\"1148.37\" r=\"18\"/>\n",
       "<circle clip-path=\"url(#clip7802)\" style=\"fill:#009af9; stroke:none; fill-opacity:1\" cx=\"687.303\" cy=\"1148.37\" r=\"14\"/>\n",
       "<circle clip-path=\"url(#clip7802)\" style=\"fill:#000000; stroke:none; fill-opacity:1\" cx=\"687.303\" cy=\"1175.94\" r=\"18\"/>\n",
       "<circle clip-path=\"url(#clip7802)\" style=\"fill:#009af9; stroke:none; fill-opacity:1\" cx=\"687.303\" cy=\"1175.94\" r=\"14\"/>\n",
       "<circle clip-path=\"url(#clip7802)\" style=\"fill:#000000; stroke:none; fill-opacity:1\" cx=\"687.303\" cy=\"1409.06\" r=\"18\"/>\n",
       "<circle clip-path=\"url(#clip7802)\" style=\"fill:#009af9; stroke:none; fill-opacity:1\" cx=\"687.303\" cy=\"1409.06\" r=\"14\"/>\n",
       "<circle clip-path=\"url(#clip7802)\" style=\"fill:#000000; stroke:none; fill-opacity:1\" cx=\"687.303\" cy=\"1410.59\" r=\"18\"/>\n",
       "<circle clip-path=\"url(#clip7802)\" style=\"fill:#009af9; stroke:none; fill-opacity:1\" cx=\"687.303\" cy=\"1410.59\" r=\"14\"/>\n",
       "<circle clip-path=\"url(#clip7802)\" style=\"fill:#000000; stroke:none; fill-opacity:1\" cx=\"687.303\" cy=\"1421.57\" r=\"18\"/>\n",
       "<circle clip-path=\"url(#clip7802)\" style=\"fill:#009af9; stroke:none; fill-opacity:1\" cx=\"687.303\" cy=\"1421.57\" r=\"14\"/>\n",
       "<circle clip-path=\"url(#clip7802)\" style=\"fill:#000000; stroke:none; fill-opacity:1\" cx=\"687.303\" cy=\"1165.33\" r=\"18\"/>\n",
       "<circle clip-path=\"url(#clip7802)\" style=\"fill:#009af9; stroke:none; fill-opacity:1\" cx=\"687.303\" cy=\"1165.33\" r=\"14\"/>\n",
       "<circle clip-path=\"url(#clip7802)\" style=\"fill:#000000; stroke:none; fill-opacity:1\" cx=\"687.303\" cy=\"1028.77\" r=\"18\"/>\n",
       "<circle clip-path=\"url(#clip7802)\" style=\"fill:#009af9; stroke:none; fill-opacity:1\" cx=\"687.303\" cy=\"1028.77\" r=\"14\"/>\n",
       "<circle clip-path=\"url(#clip7802)\" style=\"fill:#000000; stroke:none; fill-opacity:1\" cx=\"687.303\" cy=\"1030.66\" r=\"18\"/>\n",
       "<circle clip-path=\"url(#clip7802)\" style=\"fill:#009af9; stroke:none; fill-opacity:1\" cx=\"687.303\" cy=\"1030.66\" r=\"14\"/>\n",
       "<circle clip-path=\"url(#clip7802)\" style=\"fill:#000000; stroke:none; fill-opacity:1\" cx=\"687.303\" cy=\"1148.14\" r=\"18\"/>\n",
       "<circle clip-path=\"url(#clip7802)\" style=\"fill:#009af9; stroke:none; fill-opacity:1\" cx=\"687.303\" cy=\"1148.14\" r=\"14\"/>\n",
       "<circle clip-path=\"url(#clip7802)\" style=\"fill:#000000; stroke:none; fill-opacity:1\" cx=\"687.303\" cy=\"1175.27\" r=\"18\"/>\n",
       "<circle clip-path=\"url(#clip7802)\" style=\"fill:#009af9; stroke:none; fill-opacity:1\" cx=\"687.303\" cy=\"1175.27\" r=\"14\"/>\n",
       "<circle clip-path=\"url(#clip7802)\" style=\"fill:#000000; stroke:none; fill-opacity:1\" cx=\"687.303\" cy=\"1410.39\" r=\"18\"/>\n",
       "<circle clip-path=\"url(#clip7802)\" style=\"fill:#009af9; stroke:none; fill-opacity:1\" cx=\"687.303\" cy=\"1410.39\" r=\"14\"/>\n",
       "<circle clip-path=\"url(#clip7802)\" style=\"fill:#000000; stroke:none; fill-opacity:1\" cx=\"687.303\" cy=\"1168.42\" r=\"18\"/>\n",
       "<circle clip-path=\"url(#clip7802)\" style=\"fill:#009af9; stroke:none; fill-opacity:1\" cx=\"687.303\" cy=\"1168.42\" r=\"14\"/>\n",
       "<circle clip-path=\"url(#clip7802)\" style=\"fill:#000000; stroke:none; fill-opacity:1\" cx=\"687.303\" cy=\"1405.77\" r=\"18\"/>\n",
       "<circle clip-path=\"url(#clip7802)\" style=\"fill:#009af9; stroke:none; fill-opacity:1\" cx=\"687.303\" cy=\"1405.77\" r=\"14\"/>\n",
       "<circle clip-path=\"url(#clip7802)\" style=\"fill:#000000; stroke:none; fill-opacity:1\" cx=\"687.303\" cy=\"1412.73\" r=\"18\"/>\n",
       "<circle clip-path=\"url(#clip7802)\" style=\"fill:#009af9; stroke:none; fill-opacity:1\" cx=\"687.303\" cy=\"1412.73\" r=\"14\"/>\n",
       "<circle clip-path=\"url(#clip7802)\" style=\"fill:#000000; stroke:none; fill-opacity:1\" cx=\"687.303\" cy=\"1415.8\" r=\"18\"/>\n",
       "<circle clip-path=\"url(#clip7802)\" style=\"fill:#009af9; stroke:none; fill-opacity:1\" cx=\"687.303\" cy=\"1415.8\" r=\"14\"/>\n",
       "<circle clip-path=\"url(#clip7802)\" style=\"fill:#000000; stroke:none; fill-opacity:1\" cx=\"687.303\" cy=\"1148.22\" r=\"18\"/>\n",
       "<circle clip-path=\"url(#clip7802)\" style=\"fill:#009af9; stroke:none; fill-opacity:1\" cx=\"687.303\" cy=\"1148.22\" r=\"14\"/>\n",
       "<circle clip-path=\"url(#clip7802)\" style=\"fill:#000000; stroke:none; fill-opacity:1\" cx=\"687.303\" cy=\"1168.09\" r=\"18\"/>\n",
       "<circle clip-path=\"url(#clip7802)\" style=\"fill:#009af9; stroke:none; fill-opacity:1\" cx=\"687.303\" cy=\"1168.09\" r=\"14\"/>\n",
       "<circle clip-path=\"url(#clip7802)\" style=\"fill:#000000; stroke:none; fill-opacity:1\" cx=\"687.303\" cy=\"1175.45\" r=\"18\"/>\n",
       "<circle clip-path=\"url(#clip7802)\" style=\"fill:#009af9; stroke:none; fill-opacity:1\" cx=\"687.303\" cy=\"1175.45\" r=\"14\"/>\n",
       "<circle clip-path=\"url(#clip7802)\" style=\"fill:#000000; stroke:none; fill-opacity:1\" cx=\"687.303\" cy=\"1412.15\" r=\"18\"/>\n",
       "<circle clip-path=\"url(#clip7802)\" style=\"fill:#009af9; stroke:none; fill-opacity:1\" cx=\"687.303\" cy=\"1412.15\" r=\"14\"/>\n",
       "<circle clip-path=\"url(#clip7802)\" style=\"fill:#000000; stroke:none; fill-opacity:1\" cx=\"687.303\" cy=\"1149.26\" r=\"18\"/>\n",
       "<circle clip-path=\"url(#clip7802)\" style=\"fill:#009af9; stroke:none; fill-opacity:1\" cx=\"687.303\" cy=\"1149.26\" r=\"14\"/>\n",
       "<circle clip-path=\"url(#clip7802)\" style=\"fill:#000000; stroke:none; fill-opacity:1\" cx=\"687.303\" cy=\"1434.16\" r=\"18\"/>\n",
       "<circle clip-path=\"url(#clip7802)\" style=\"fill:#009af9; stroke:none; fill-opacity:1\" cx=\"687.303\" cy=\"1434.16\" r=\"14\"/>\n",
       "<circle clip-path=\"url(#clip7802)\" style=\"fill:#000000; stroke:none; fill-opacity:1\" cx=\"687.303\" cy=\"1423.76\" r=\"18\"/>\n",
       "<circle clip-path=\"url(#clip7802)\" style=\"fill:#009af9; stroke:none; fill-opacity:1\" cx=\"687.303\" cy=\"1423.76\" r=\"14\"/>\n",
       "<circle clip-path=\"url(#clip7802)\" style=\"fill:#000000; stroke:none; fill-opacity:1\" cx=\"687.303\" cy=\"1428.37\" r=\"18\"/>\n",
       "<circle clip-path=\"url(#clip7802)\" style=\"fill:#009af9; stroke:none; fill-opacity:1\" cx=\"687.303\" cy=\"1428.37\" r=\"14\"/>\n",
       "<circle clip-path=\"url(#clip7802)\" style=\"fill:#000000; stroke:none; fill-opacity:1\" cx=\"687.303\" cy=\"1427.22\" r=\"18\"/>\n",
       "<circle clip-path=\"url(#clip7802)\" style=\"fill:#009af9; stroke:none; fill-opacity:1\" cx=\"687.303\" cy=\"1427.22\" r=\"14\"/>\n",
       "<circle clip-path=\"url(#clip7802)\" style=\"fill:#000000; stroke:none; fill-opacity:1\" cx=\"687.303\" cy=\"1434.39\" r=\"18\"/>\n",
       "<circle clip-path=\"url(#clip7802)\" style=\"fill:#009af9; stroke:none; fill-opacity:1\" cx=\"687.303\" cy=\"1434.39\" r=\"14\"/>\n",
       "<circle clip-path=\"url(#clip7802)\" style=\"fill:#000000; stroke:none; fill-opacity:1\" cx=\"687.303\" cy=\"1431.43\" r=\"18\"/>\n",
       "<circle clip-path=\"url(#clip7802)\" style=\"fill:#009af9; stroke:none; fill-opacity:1\" cx=\"687.303\" cy=\"1431.43\" r=\"14\"/>\n",
       "<circle clip-path=\"url(#clip7802)\" style=\"fill:#000000; stroke:none; fill-opacity:1\" cx=\"687.303\" cy=\"1153.33\" r=\"18\"/>\n",
       "<circle clip-path=\"url(#clip7802)\" style=\"fill:#009af9; stroke:none; fill-opacity:1\" cx=\"687.303\" cy=\"1153.33\" r=\"14\"/>\n",
       "<circle clip-path=\"url(#clip7802)\" style=\"fill:#000000; stroke:none; fill-opacity:1\" cx=\"687.303\" cy=\"1051.36\" r=\"18\"/>\n",
       "<circle clip-path=\"url(#clip7802)\" style=\"fill:#009af9; stroke:none; fill-opacity:1\" cx=\"687.303\" cy=\"1051.36\" r=\"14\"/>\n",
       "<circle clip-path=\"url(#clip7802)\" style=\"fill:#000000; stroke:none; fill-opacity:1\" cx=\"687.303\" cy=\"1166.2\" r=\"18\"/>\n",
       "<circle clip-path=\"url(#clip7802)\" style=\"fill:#009af9; stroke:none; fill-opacity:1\" cx=\"687.303\" cy=\"1166.2\" r=\"14\"/>\n",
       "<circle clip-path=\"url(#clip7802)\" style=\"fill:#000000; stroke:none; fill-opacity:1\" cx=\"687.303\" cy=\"1073.96\" r=\"18\"/>\n",
       "<circle clip-path=\"url(#clip7802)\" style=\"fill:#009af9; stroke:none; fill-opacity:1\" cx=\"687.303\" cy=\"1073.96\" r=\"14\"/>\n",
       "<circle clip-path=\"url(#clip7802)\" style=\"fill:#000000; stroke:none; fill-opacity:1\" cx=\"687.303\" cy=\"1153.26\" r=\"18\"/>\n",
       "<circle clip-path=\"url(#clip7802)\" style=\"fill:#009af9; stroke:none; fill-opacity:1\" cx=\"687.303\" cy=\"1153.26\" r=\"14\"/>\n",
       "<circle clip-path=\"url(#clip7802)\" style=\"fill:#000000; stroke:none; fill-opacity:1\" cx=\"687.303\" cy=\"1418.58\" r=\"18\"/>\n",
       "<circle clip-path=\"url(#clip7802)\" style=\"fill:#009af9; stroke:none; fill-opacity:1\" cx=\"687.303\" cy=\"1418.58\" r=\"14\"/>\n",
       "<circle clip-path=\"url(#clip7802)\" style=\"fill:#000000; stroke:none; fill-opacity:1\" cx=\"687.303\" cy=\"1425.84\" r=\"18\"/>\n",
       "<circle clip-path=\"url(#clip7802)\" style=\"fill:#009af9; stroke:none; fill-opacity:1\" cx=\"687.303\" cy=\"1425.84\" r=\"14\"/>\n",
       "<circle clip-path=\"url(#clip7802)\" style=\"fill:#000000; stroke:none; fill-opacity:1\" cx=\"687.303\" cy=\"1417.78\" r=\"18\"/>\n",
       "<circle clip-path=\"url(#clip7802)\" style=\"fill:#009af9; stroke:none; fill-opacity:1\" cx=\"687.303\" cy=\"1417.78\" r=\"14\"/>\n",
       "<circle clip-path=\"url(#clip7802)\" style=\"fill:#000000; stroke:none; fill-opacity:1\" cx=\"687.303\" cy=\"1181.44\" r=\"18\"/>\n",
       "<circle clip-path=\"url(#clip7802)\" style=\"fill:#009af9; stroke:none; fill-opacity:1\" cx=\"687.303\" cy=\"1181.44\" r=\"14\"/>\n",
       "<circle clip-path=\"url(#clip7802)\" style=\"fill:#000000; stroke:none; fill-opacity:1\" cx=\"687.303\" cy=\"1413.1\" r=\"18\"/>\n",
       "<circle clip-path=\"url(#clip7802)\" style=\"fill:#009af9; stroke:none; fill-opacity:1\" cx=\"687.303\" cy=\"1413.1\" r=\"14\"/>\n",
       "<circle clip-path=\"url(#clip7802)\" style=\"fill:#000000; stroke:none; fill-opacity:1\" cx=\"687.303\" cy=\"1408.68\" r=\"18\"/>\n",
       "<circle clip-path=\"url(#clip7802)\" style=\"fill:#009af9; stroke:none; fill-opacity:1\" cx=\"687.303\" cy=\"1408.68\" r=\"14\"/>\n",
       "<circle clip-path=\"url(#clip7802)\" style=\"fill:#000000; stroke:none; fill-opacity:1\" cx=\"687.303\" cy=\"1405.3\" r=\"18\"/>\n",
       "<circle clip-path=\"url(#clip7802)\" style=\"fill:#009af9; stroke:none; fill-opacity:1\" cx=\"687.303\" cy=\"1405.3\" r=\"14\"/>\n",
       "<circle clip-path=\"url(#clip7802)\" style=\"fill:#000000; stroke:none; fill-opacity:1\" cx=\"687.303\" cy=\"1163.47\" r=\"18\"/>\n",
       "<circle clip-path=\"url(#clip7802)\" style=\"fill:#009af9; stroke:none; fill-opacity:1\" cx=\"687.303\" cy=\"1163.47\" r=\"14\"/>\n",
       "<circle clip-path=\"url(#clip7802)\" style=\"fill:#000000; stroke:none; fill-opacity:1\" cx=\"687.303\" cy=\"1404.63\" r=\"18\"/>\n",
       "<circle clip-path=\"url(#clip7802)\" style=\"fill:#009af9; stroke:none; fill-opacity:1\" cx=\"687.303\" cy=\"1404.63\" r=\"14\"/>\n",
       "<circle clip-path=\"url(#clip7802)\" style=\"fill:#000000; stroke:none; fill-opacity:1\" cx=\"687.303\" cy=\"1412.83\" r=\"18\"/>\n",
       "<circle clip-path=\"url(#clip7802)\" style=\"fill:#009af9; stroke:none; fill-opacity:1\" cx=\"687.303\" cy=\"1412.83\" r=\"14\"/>\n",
       "<circle clip-path=\"url(#clip7802)\" style=\"fill:#000000; stroke:none; fill-opacity:1\" cx=\"687.303\" cy=\"1405.51\" r=\"18\"/>\n",
       "<circle clip-path=\"url(#clip7802)\" style=\"fill:#009af9; stroke:none; fill-opacity:1\" cx=\"687.303\" cy=\"1405.51\" r=\"14\"/>\n",
       "<circle clip-path=\"url(#clip7802)\" style=\"fill:#000000; stroke:none; fill-opacity:1\" cx=\"687.303\" cy=\"1411.75\" r=\"18\"/>\n",
       "<circle clip-path=\"url(#clip7802)\" style=\"fill:#009af9; stroke:none; fill-opacity:1\" cx=\"687.303\" cy=\"1411.75\" r=\"14\"/>\n",
       "<circle clip-path=\"url(#clip7802)\" style=\"fill:#000000; stroke:none; fill-opacity:1\" cx=\"687.303\" cy=\"1412.45\" r=\"18\"/>\n",
       "<circle clip-path=\"url(#clip7802)\" style=\"fill:#009af9; stroke:none; fill-opacity:1\" cx=\"687.303\" cy=\"1412.45\" r=\"14\"/>\n",
       "<circle clip-path=\"url(#clip7802)\" style=\"fill:#000000; stroke:none; fill-opacity:1\" cx=\"687.303\" cy=\"1410.33\" r=\"18\"/>\n",
       "<circle clip-path=\"url(#clip7802)\" style=\"fill:#009af9; stroke:none; fill-opacity:1\" cx=\"687.303\" cy=\"1410.33\" r=\"14\"/>\n",
       "<circle clip-path=\"url(#clip7802)\" style=\"fill:#000000; stroke:none; fill-opacity:1\" cx=\"687.303\" cy=\"1404.22\" r=\"18\"/>\n",
       "<circle clip-path=\"url(#clip7802)\" style=\"fill:#009af9; stroke:none; fill-opacity:1\" cx=\"687.303\" cy=\"1404.22\" r=\"14\"/>\n",
       "<circle clip-path=\"url(#clip7802)\" style=\"fill:#000000; stroke:none; fill-opacity:1\" cx=\"687.303\" cy=\"1405.99\" r=\"18\"/>\n",
       "<circle clip-path=\"url(#clip7802)\" style=\"fill:#009af9; stroke:none; fill-opacity:1\" cx=\"687.303\" cy=\"1405.99\" r=\"14\"/>\n",
       "<circle clip-path=\"url(#clip7802)\" style=\"fill:#000000; stroke:none; fill-opacity:1\" cx=\"687.303\" cy=\"1409.88\" r=\"18\"/>\n",
       "<circle clip-path=\"url(#clip7802)\" style=\"fill:#009af9; stroke:none; fill-opacity:1\" cx=\"687.303\" cy=\"1409.88\" r=\"14\"/>\n",
       "<circle clip-path=\"url(#clip7802)\" style=\"fill:#000000; stroke:none; fill-opacity:1\" cx=\"687.303\" cy=\"1408.19\" r=\"18\"/>\n",
       "<circle clip-path=\"url(#clip7802)\" style=\"fill:#009af9; stroke:none; fill-opacity:1\" cx=\"687.303\" cy=\"1408.19\" r=\"14\"/>\n",
       "<circle clip-path=\"url(#clip7802)\" style=\"fill:#000000; stroke:none; fill-opacity:1\" cx=\"687.303\" cy=\"1185.03\" r=\"18\"/>\n",
       "<circle clip-path=\"url(#clip7802)\" style=\"fill:#009af9; stroke:none; fill-opacity:1\" cx=\"687.303\" cy=\"1185.03\" r=\"14\"/>\n",
       "<circle clip-path=\"url(#clip7802)\" style=\"fill:#000000; stroke:none; fill-opacity:1\" cx=\"687.303\" cy=\"1408.26\" r=\"18\"/>\n",
       "<circle clip-path=\"url(#clip7802)\" style=\"fill:#009af9; stroke:none; fill-opacity:1\" cx=\"687.303\" cy=\"1408.26\" r=\"14\"/>\n",
       "<circle clip-path=\"url(#clip7802)\" style=\"fill:#000000; stroke:none; fill-opacity:1\" cx=\"687.303\" cy=\"1416.19\" r=\"18\"/>\n",
       "<circle clip-path=\"url(#clip7802)\" style=\"fill:#009af9; stroke:none; fill-opacity:1\" cx=\"687.303\" cy=\"1416.19\" r=\"14\"/>\n",
       "<circle clip-path=\"url(#clip7802)\" style=\"fill:#000000; stroke:none; fill-opacity:1\" cx=\"687.303\" cy=\"1405.34\" r=\"18\"/>\n",
       "<circle clip-path=\"url(#clip7802)\" style=\"fill:#009af9; stroke:none; fill-opacity:1\" cx=\"687.303\" cy=\"1405.34\" r=\"14\"/>\n",
       "<circle clip-path=\"url(#clip7802)\" style=\"fill:#000000; stroke:none; fill-opacity:1\" cx=\"687.303\" cy=\"1410.66\" r=\"18\"/>\n",
       "<circle clip-path=\"url(#clip7802)\" style=\"fill:#009af9; stroke:none; fill-opacity:1\" cx=\"687.303\" cy=\"1410.66\" r=\"14\"/>\n",
       "<circle clip-path=\"url(#clip7802)\" style=\"fill:#000000; stroke:none; fill-opacity:1\" cx=\"687.303\" cy=\"1409.05\" r=\"18\"/>\n",
       "<circle clip-path=\"url(#clip7802)\" style=\"fill:#009af9; stroke:none; fill-opacity:1\" cx=\"687.303\" cy=\"1409.05\" r=\"14\"/>\n",
       "<circle clip-path=\"url(#clip7802)\" style=\"fill:#000000; stroke:none; fill-opacity:1\" cx=\"687.303\" cy=\"1409.95\" r=\"18\"/>\n",
       "<circle clip-path=\"url(#clip7802)\" style=\"fill:#009af9; stroke:none; fill-opacity:1\" cx=\"687.303\" cy=\"1409.95\" r=\"14\"/>\n",
       "<circle clip-path=\"url(#clip7802)\" style=\"fill:#000000; stroke:none; fill-opacity:1\" cx=\"687.303\" cy=\"1407.39\" r=\"18\"/>\n",
       "<circle clip-path=\"url(#clip7802)\" style=\"fill:#009af9; stroke:none; fill-opacity:1\" cx=\"687.303\" cy=\"1407.39\" r=\"14\"/>\n",
       "<circle clip-path=\"url(#clip7802)\" style=\"fill:#000000; stroke:none; fill-opacity:1\" cx=\"687.303\" cy=\"1408.98\" r=\"18\"/>\n",
       "<circle clip-path=\"url(#clip7802)\" style=\"fill:#009af9; stroke:none; fill-opacity:1\" cx=\"687.303\" cy=\"1408.98\" r=\"14\"/>\n",
       "<circle clip-path=\"url(#clip7802)\" style=\"fill:#000000; stroke:none; fill-opacity:1\" cx=\"687.303\" cy=\"1432.4\" r=\"18\"/>\n",
       "<circle clip-path=\"url(#clip7802)\" style=\"fill:#009af9; stroke:none; fill-opacity:1\" cx=\"687.303\" cy=\"1432.4\" r=\"14\"/>\n",
       "<circle clip-path=\"url(#clip7802)\" style=\"fill:#000000; stroke:none; fill-opacity:1\" cx=\"687.303\" cy=\"1417.7\" r=\"18\"/>\n",
       "<circle clip-path=\"url(#clip7802)\" style=\"fill:#009af9; stroke:none; fill-opacity:1\" cx=\"687.303\" cy=\"1417.7\" r=\"14\"/>\n",
       "<circle clip-path=\"url(#clip7802)\" style=\"fill:#000000; stroke:none; fill-opacity:1\" cx=\"687.303\" cy=\"1411.71\" r=\"18\"/>\n",
       "<circle clip-path=\"url(#clip7802)\" style=\"fill:#009af9; stroke:none; fill-opacity:1\" cx=\"687.303\" cy=\"1411.71\" r=\"14\"/>\n",
       "<circle clip-path=\"url(#clip7802)\" style=\"fill:#000000; stroke:none; fill-opacity:1\" cx=\"687.303\" cy=\"1416.65\" r=\"18\"/>\n",
       "<circle clip-path=\"url(#clip7802)\" style=\"fill:#009af9; stroke:none; fill-opacity:1\" cx=\"687.303\" cy=\"1416.65\" r=\"14\"/>\n",
       "<circle clip-path=\"url(#clip7802)\" style=\"fill:#000000; stroke:none; fill-opacity:1\" cx=\"687.303\" cy=\"1414.94\" r=\"18\"/>\n",
       "<circle clip-path=\"url(#clip7802)\" style=\"fill:#009af9; stroke:none; fill-opacity:1\" cx=\"687.303\" cy=\"1414.94\" r=\"14\"/>\n",
       "<circle clip-path=\"url(#clip7802)\" style=\"fill:#000000; stroke:none; fill-opacity:1\" cx=\"687.303\" cy=\"1409.27\" r=\"18\"/>\n",
       "<circle clip-path=\"url(#clip7802)\" style=\"fill:#009af9; stroke:none; fill-opacity:1\" cx=\"687.303\" cy=\"1409.27\" r=\"14\"/>\n",
       "<circle clip-path=\"url(#clip7802)\" style=\"fill:#000000; stroke:none; fill-opacity:1\" cx=\"687.303\" cy=\"1417.11\" r=\"18\"/>\n",
       "<circle clip-path=\"url(#clip7802)\" style=\"fill:#009af9; stroke:none; fill-opacity:1\" cx=\"687.303\" cy=\"1417.11\" r=\"14\"/>\n",
       "<circle clip-path=\"url(#clip7802)\" style=\"fill:#000000; stroke:none; fill-opacity:1\" cx=\"687.303\" cy=\"1413.05\" r=\"18\"/>\n",
       "<circle clip-path=\"url(#clip7802)\" style=\"fill:#009af9; stroke:none; fill-opacity:1\" cx=\"687.303\" cy=\"1413.05\" r=\"14\"/>\n",
       "<circle clip-path=\"url(#clip7802)\" style=\"fill:#000000; stroke:none; fill-opacity:1\" cx=\"687.303\" cy=\"1410.49\" r=\"18\"/>\n",
       "<circle clip-path=\"url(#clip7802)\" style=\"fill:#009af9; stroke:none; fill-opacity:1\" cx=\"687.303\" cy=\"1410.49\" r=\"14\"/>\n",
       "<circle clip-path=\"url(#clip7802)\" style=\"fill:#000000; stroke:none; fill-opacity:1\" cx=\"687.303\" cy=\"1040.07\" r=\"18\"/>\n",
       "<circle clip-path=\"url(#clip7802)\" style=\"fill:#009af9; stroke:none; fill-opacity:1\" cx=\"687.303\" cy=\"1040.07\" r=\"14\"/>\n",
       "<circle clip-path=\"url(#clip7802)\" style=\"fill:#000000; stroke:none; fill-opacity:1\" cx=\"687.303\" cy=\"1406.35\" r=\"18\"/>\n",
       "<circle clip-path=\"url(#clip7802)\" style=\"fill:#009af9; stroke:none; fill-opacity:1\" cx=\"687.303\" cy=\"1406.35\" r=\"14\"/>\n",
       "<circle clip-path=\"url(#clip7802)\" style=\"fill:#000000; stroke:none; fill-opacity:1\" cx=\"687.303\" cy=\"1412.64\" r=\"18\"/>\n",
       "<circle clip-path=\"url(#clip7802)\" style=\"fill:#009af9; stroke:none; fill-opacity:1\" cx=\"687.303\" cy=\"1412.64\" r=\"14\"/>\n",
       "<circle clip-path=\"url(#clip7802)\" style=\"fill:#000000; stroke:none; fill-opacity:1\" cx=\"687.303\" cy=\"1416.88\" r=\"18\"/>\n",
       "<circle clip-path=\"url(#clip7802)\" style=\"fill:#009af9; stroke:none; fill-opacity:1\" cx=\"687.303\" cy=\"1416.88\" r=\"14\"/>\n",
       "<circle clip-path=\"url(#clip7802)\" style=\"fill:#000000; stroke:none; fill-opacity:1\" cx=\"687.303\" cy=\"1412.64\" r=\"18\"/>\n",
       "<circle clip-path=\"url(#clip7802)\" style=\"fill:#009af9; stroke:none; fill-opacity:1\" cx=\"687.303\" cy=\"1412.64\" r=\"14\"/>\n",
       "<circle clip-path=\"url(#clip7802)\" style=\"fill:#000000; stroke:none; fill-opacity:1\" cx=\"687.303\" cy=\"1405.33\" r=\"18\"/>\n",
       "<circle clip-path=\"url(#clip7802)\" style=\"fill:#009af9; stroke:none; fill-opacity:1\" cx=\"687.303\" cy=\"1405.33\" r=\"14\"/>\n",
       "<circle clip-path=\"url(#clip7802)\" style=\"fill:#000000; stroke:none; fill-opacity:1\" cx=\"687.303\" cy=\"1421.2\" r=\"18\"/>\n",
       "<circle clip-path=\"url(#clip7802)\" style=\"fill:#009af9; stroke:none; fill-opacity:1\" cx=\"687.303\" cy=\"1421.2\" r=\"14\"/>\n",
       "<circle clip-path=\"url(#clip7802)\" style=\"fill:#000000; stroke:none; fill-opacity:1\" cx=\"687.303\" cy=\"1433.43\" r=\"18\"/>\n",
       "<circle clip-path=\"url(#clip7802)\" style=\"fill:#009af9; stroke:none; fill-opacity:1\" cx=\"687.303\" cy=\"1433.43\" r=\"14\"/>\n",
       "<circle clip-path=\"url(#clip7802)\" style=\"fill:#000000; stroke:none; fill-opacity:1\" cx=\"687.303\" cy=\"1425.79\" r=\"18\"/>\n",
       "<circle clip-path=\"url(#clip7802)\" style=\"fill:#009af9; stroke:none; fill-opacity:1\" cx=\"687.303\" cy=\"1425.79\" r=\"14\"/>\n",
       "<circle clip-path=\"url(#clip7802)\" style=\"fill:#000000; stroke:none; fill-opacity:1\" cx=\"687.303\" cy=\"1406.59\" r=\"18\"/>\n",
       "<circle clip-path=\"url(#clip7802)\" style=\"fill:#009af9; stroke:none; fill-opacity:1\" cx=\"687.303\" cy=\"1406.59\" r=\"14\"/>\n",
       "<circle clip-path=\"url(#clip7802)\" style=\"fill:#000000; stroke:none; fill-opacity:1\" cx=\"687.303\" cy=\"1426.31\" r=\"18\"/>\n",
       "<circle clip-path=\"url(#clip7802)\" style=\"fill:#009af9; stroke:none; fill-opacity:1\" cx=\"687.303\" cy=\"1426.31\" r=\"14\"/>\n",
       "<circle clip-path=\"url(#clip7802)\" style=\"fill:#000000; stroke:none; fill-opacity:1\" cx=\"687.303\" cy=\"1423.85\" r=\"18\"/>\n",
       "<circle clip-path=\"url(#clip7802)\" style=\"fill:#009af9; stroke:none; fill-opacity:1\" cx=\"687.303\" cy=\"1423.85\" r=\"14\"/>\n",
       "<circle clip-path=\"url(#clip7802)\" style=\"fill:#000000; stroke:none; fill-opacity:1\" cx=\"687.303\" cy=\"1423.07\" r=\"18\"/>\n",
       "<circle clip-path=\"url(#clip7802)\" style=\"fill:#009af9; stroke:none; fill-opacity:1\" cx=\"687.303\" cy=\"1423.07\" r=\"14\"/>\n",
       "<circle clip-path=\"url(#clip7802)\" style=\"fill:#000000; stroke:none; fill-opacity:1\" cx=\"687.303\" cy=\"1429.88\" r=\"18\"/>\n",
       "<circle clip-path=\"url(#clip7802)\" style=\"fill:#009af9; stroke:none; fill-opacity:1\" cx=\"687.303\" cy=\"1429.88\" r=\"14\"/>\n",
       "<circle clip-path=\"url(#clip7802)\" style=\"fill:#000000; stroke:none; fill-opacity:1\" cx=\"687.303\" cy=\"1420.67\" r=\"18\"/>\n",
       "<circle clip-path=\"url(#clip7802)\" style=\"fill:#009af9; stroke:none; fill-opacity:1\" cx=\"687.303\" cy=\"1420.67\" r=\"14\"/>\n",
       "<circle clip-path=\"url(#clip7802)\" style=\"fill:#000000; stroke:none; fill-opacity:1\" cx=\"687.303\" cy=\"1416.12\" r=\"18\"/>\n",
       "<circle clip-path=\"url(#clip7802)\" style=\"fill:#009af9; stroke:none; fill-opacity:1\" cx=\"687.303\" cy=\"1416.12\" r=\"14\"/>\n",
       "<circle clip-path=\"url(#clip7802)\" style=\"fill:#000000; stroke:none; fill-opacity:1\" cx=\"687.303\" cy=\"1423.44\" r=\"18\"/>\n",
       "<circle clip-path=\"url(#clip7802)\" style=\"fill:#009af9; stroke:none; fill-opacity:1\" cx=\"687.303\" cy=\"1423.44\" r=\"14\"/>\n",
       "<circle clip-path=\"url(#clip7802)\" style=\"fill:#000000; stroke:none; fill-opacity:1\" cx=\"687.303\" cy=\"1411.88\" r=\"18\"/>\n",
       "<circle clip-path=\"url(#clip7802)\" style=\"fill:#009af9; stroke:none; fill-opacity:1\" cx=\"687.303\" cy=\"1411.88\" r=\"14\"/>\n",
       "<circle clip-path=\"url(#clip7802)\" style=\"fill:#000000; stroke:none; fill-opacity:1\" cx=\"687.303\" cy=\"1407.66\" r=\"18\"/>\n",
       "<circle clip-path=\"url(#clip7802)\" style=\"fill:#009af9; stroke:none; fill-opacity:1\" cx=\"687.303\" cy=\"1407.66\" r=\"14\"/>\n",
       "<circle clip-path=\"url(#clip7802)\" style=\"fill:#000000; stroke:none; fill-opacity:1\" cx=\"687.303\" cy=\"1416.5\" r=\"18\"/>\n",
       "<circle clip-path=\"url(#clip7802)\" style=\"fill:#009af9; stroke:none; fill-opacity:1\" cx=\"687.303\" cy=\"1416.5\" r=\"14\"/>\n",
       "<circle clip-path=\"url(#clip7802)\" style=\"fill:#000000; stroke:none; fill-opacity:1\" cx=\"687.303\" cy=\"1414.46\" r=\"18\"/>\n",
       "<circle clip-path=\"url(#clip7802)\" style=\"fill:#009af9; stroke:none; fill-opacity:1\" cx=\"687.303\" cy=\"1414.46\" r=\"14\"/>\n",
       "<circle clip-path=\"url(#clip7802)\" style=\"fill:#000000; stroke:none; fill-opacity:1\" cx=\"687.303\" cy=\"1421.67\" r=\"18\"/>\n",
       "<circle clip-path=\"url(#clip7802)\" style=\"fill:#009af9; stroke:none; fill-opacity:1\" cx=\"687.303\" cy=\"1421.67\" r=\"14\"/>\n",
       "<circle clip-path=\"url(#clip7802)\" style=\"fill:#000000; stroke:none; fill-opacity:1\" cx=\"687.303\" cy=\"1413.14\" r=\"18\"/>\n",
       "<circle clip-path=\"url(#clip7802)\" style=\"fill:#009af9; stroke:none; fill-opacity:1\" cx=\"687.303\" cy=\"1413.14\" r=\"14\"/>\n",
       "<circle clip-path=\"url(#clip7802)\" style=\"fill:#000000; stroke:none; fill-opacity:1\" cx=\"687.303\" cy=\"1425.87\" r=\"18\"/>\n",
       "<circle clip-path=\"url(#clip7802)\" style=\"fill:#009af9; stroke:none; fill-opacity:1\" cx=\"687.303\" cy=\"1425.87\" r=\"14\"/>\n",
       "<circle clip-path=\"url(#clip7802)\" style=\"fill:#000000; stroke:none; fill-opacity:1\" cx=\"687.303\" cy=\"1427.46\" r=\"18\"/>\n",
       "<circle clip-path=\"url(#clip7802)\" style=\"fill:#009af9; stroke:none; fill-opacity:1\" cx=\"687.303\" cy=\"1427.46\" r=\"14\"/>\n",
       "<circle clip-path=\"url(#clip7802)\" style=\"fill:#000000; stroke:none; fill-opacity:1\" cx=\"687.303\" cy=\"1421.04\" r=\"18\"/>\n",
       "<circle clip-path=\"url(#clip7802)\" style=\"fill:#009af9; stroke:none; fill-opacity:1\" cx=\"687.303\" cy=\"1421.04\" r=\"14\"/>\n",
       "<circle clip-path=\"url(#clip7802)\" style=\"fill:#000000; stroke:none; fill-opacity:1\" cx=\"687.303\" cy=\"1408.22\" r=\"18\"/>\n",
       "<circle clip-path=\"url(#clip7802)\" style=\"fill:#009af9; stroke:none; fill-opacity:1\" cx=\"687.303\" cy=\"1408.22\" r=\"14\"/>\n",
       "<circle clip-path=\"url(#clip7802)\" style=\"fill:#000000; stroke:none; fill-opacity:1\" cx=\"687.303\" cy=\"1421.25\" r=\"18\"/>\n",
       "<circle clip-path=\"url(#clip7802)\" style=\"fill:#009af9; stroke:none; fill-opacity:1\" cx=\"687.303\" cy=\"1421.25\" r=\"14\"/>\n",
       "<circle clip-path=\"url(#clip7802)\" style=\"fill:#000000; stroke:none; fill-opacity:1\" cx=\"687.303\" cy=\"1414.43\" r=\"18\"/>\n",
       "<circle clip-path=\"url(#clip7802)\" style=\"fill:#009af9; stroke:none; fill-opacity:1\" cx=\"687.303\" cy=\"1414.43\" r=\"14\"/>\n",
       "<circle clip-path=\"url(#clip7802)\" style=\"fill:#000000; stroke:none; fill-opacity:1\" cx=\"687.303\" cy=\"1415.3\" r=\"18\"/>\n",
       "<circle clip-path=\"url(#clip7802)\" style=\"fill:#009af9; stroke:none; fill-opacity:1\" cx=\"687.303\" cy=\"1415.3\" r=\"14\"/>\n",
       "<circle clip-path=\"url(#clip7802)\" style=\"fill:#000000; stroke:none; fill-opacity:1\" cx=\"687.303\" cy=\"1423.69\" r=\"18\"/>\n",
       "<circle clip-path=\"url(#clip7802)\" style=\"fill:#009af9; stroke:none; fill-opacity:1\" cx=\"687.303\" cy=\"1423.69\" r=\"14\"/>\n",
       "<circle clip-path=\"url(#clip7802)\" style=\"fill:#000000; stroke:none; fill-opacity:1\" cx=\"687.303\" cy=\"1417.92\" r=\"18\"/>\n",
       "<circle clip-path=\"url(#clip7802)\" style=\"fill:#009af9; stroke:none; fill-opacity:1\" cx=\"687.303\" cy=\"1417.92\" r=\"14\"/>\n",
       "<circle clip-path=\"url(#clip7802)\" style=\"fill:#000000; stroke:none; fill-opacity:1\" cx=\"687.303\" cy=\"1404.74\" r=\"18\"/>\n",
       "<circle clip-path=\"url(#clip7802)\" style=\"fill:#009af9; stroke:none; fill-opacity:1\" cx=\"687.303\" cy=\"1404.74\" r=\"14\"/>\n",
       "<circle clip-path=\"url(#clip7802)\" style=\"fill:#000000; stroke:none; fill-opacity:1\" cx=\"687.303\" cy=\"1409.49\" r=\"18\"/>\n",
       "<circle clip-path=\"url(#clip7802)\" style=\"fill:#009af9; stroke:none; fill-opacity:1\" cx=\"687.303\" cy=\"1409.49\" r=\"14\"/>\n",
       "<circle clip-path=\"url(#clip7802)\" style=\"fill:#000000; stroke:none; fill-opacity:1\" cx=\"687.303\" cy=\"1425.64\" r=\"18\"/>\n",
       "<circle clip-path=\"url(#clip7802)\" style=\"fill:#009af9; stroke:none; fill-opacity:1\" cx=\"687.303\" cy=\"1425.64\" r=\"14\"/>\n",
       "<circle clip-path=\"url(#clip7802)\" style=\"fill:#000000; stroke:none; fill-opacity:1\" cx=\"687.303\" cy=\"1426.52\" r=\"18\"/>\n",
       "<circle clip-path=\"url(#clip7802)\" style=\"fill:#009af9; stroke:none; fill-opacity:1\" cx=\"687.303\" cy=\"1426.52\" r=\"14\"/>\n",
       "<circle clip-path=\"url(#clip7802)\" style=\"fill:#000000; stroke:none; fill-opacity:1\" cx=\"687.303\" cy=\"1413.87\" r=\"18\"/>\n",
       "<circle clip-path=\"url(#clip7802)\" style=\"fill:#009af9; stroke:none; fill-opacity:1\" cx=\"687.303\" cy=\"1413.87\" r=\"14\"/>\n",
       "<circle clip-path=\"url(#clip7802)\" style=\"fill:#000000; stroke:none; fill-opacity:1\" cx=\"687.303\" cy=\"1414.81\" r=\"18\"/>\n",
       "<circle clip-path=\"url(#clip7802)\" style=\"fill:#009af9; stroke:none; fill-opacity:1\" cx=\"687.303\" cy=\"1414.81\" r=\"14\"/>\n",
       "<circle clip-path=\"url(#clip7802)\" style=\"fill:#000000; stroke:none; fill-opacity:1\" cx=\"687.303\" cy=\"1405.61\" r=\"18\"/>\n",
       "<circle clip-path=\"url(#clip7802)\" style=\"fill:#009af9; stroke:none; fill-opacity:1\" cx=\"687.303\" cy=\"1405.61\" r=\"14\"/>\n",
       "<circle clip-path=\"url(#clip7802)\" style=\"fill:#000000; stroke:none; fill-opacity:1\" cx=\"687.303\" cy=\"1414.03\" r=\"18\"/>\n",
       "<circle clip-path=\"url(#clip7802)\" style=\"fill:#009af9; stroke:none; fill-opacity:1\" cx=\"687.303\" cy=\"1414.03\" r=\"14\"/>\n",
       "<circle clip-path=\"url(#clip7802)\" style=\"fill:#000000; stroke:none; fill-opacity:1\" cx=\"687.303\" cy=\"1421.7\" r=\"18\"/>\n",
       "<circle clip-path=\"url(#clip7802)\" style=\"fill:#009af9; stroke:none; fill-opacity:1\" cx=\"687.303\" cy=\"1421.7\" r=\"14\"/>\n",
       "<circle clip-path=\"url(#clip7802)\" style=\"fill:#000000; stroke:none; fill-opacity:1\" cx=\"687.303\" cy=\"1408.11\" r=\"18\"/>\n",
       "<circle clip-path=\"url(#clip7802)\" style=\"fill:#009af9; stroke:none; fill-opacity:1\" cx=\"687.303\" cy=\"1408.11\" r=\"14\"/>\n",
       "<circle clip-path=\"url(#clip7802)\" style=\"fill:#000000; stroke:none; fill-opacity:1\" cx=\"687.303\" cy=\"1432.17\" r=\"18\"/>\n",
       "<circle clip-path=\"url(#clip7802)\" style=\"fill:#009af9; stroke:none; fill-opacity:1\" cx=\"687.303\" cy=\"1432.17\" r=\"14\"/>\n",
       "<circle clip-path=\"url(#clip7802)\" style=\"fill:#000000; stroke:none; fill-opacity:1\" cx=\"687.303\" cy=\"1173.12\" r=\"18\"/>\n",
       "<circle clip-path=\"url(#clip7802)\" style=\"fill:#009af9; stroke:none; fill-opacity:1\" cx=\"687.303\" cy=\"1173.12\" r=\"14\"/>\n",
       "<circle clip-path=\"url(#clip7802)\" style=\"fill:#000000; stroke:none; fill-opacity:1\" cx=\"687.303\" cy=\"1092.78\" r=\"18\"/>\n",
       "<circle clip-path=\"url(#clip7802)\" style=\"fill:#009af9; stroke:none; fill-opacity:1\" cx=\"687.303\" cy=\"1092.78\" r=\"14\"/>\n",
       "<circle clip-path=\"url(#clip7802)\" style=\"fill:#000000; stroke:none; fill-opacity:1\" cx=\"687.303\" cy=\"1425.43\" r=\"18\"/>\n",
       "<circle clip-path=\"url(#clip7802)\" style=\"fill:#009af9; stroke:none; fill-opacity:1\" cx=\"687.303\" cy=\"1425.43\" r=\"14\"/>\n",
       "<circle clip-path=\"url(#clip7802)\" style=\"fill:#000000; stroke:none; fill-opacity:1\" cx=\"687.303\" cy=\"1412.4\" r=\"18\"/>\n",
       "<circle clip-path=\"url(#clip7802)\" style=\"fill:#009af9; stroke:none; fill-opacity:1\" cx=\"687.303\" cy=\"1412.4\" r=\"14\"/>\n",
       "<circle clip-path=\"url(#clip7802)\" style=\"fill:#000000; stroke:none; fill-opacity:1\" cx=\"687.303\" cy=\"1105.96\" r=\"18\"/>\n",
       "<circle clip-path=\"url(#clip7802)\" style=\"fill:#009af9; stroke:none; fill-opacity:1\" cx=\"687.303\" cy=\"1105.96\" r=\"14\"/>\n",
       "<circle clip-path=\"url(#clip7802)\" style=\"fill:#000000; stroke:none; fill-opacity:1\" cx=\"687.303\" cy=\"1182.21\" r=\"18\"/>\n",
       "<circle clip-path=\"url(#clip7802)\" style=\"fill:#009af9; stroke:none; fill-opacity:1\" cx=\"687.303\" cy=\"1182.21\" r=\"14\"/>\n",
       "<circle clip-path=\"url(#clip7802)\" style=\"fill:#000000; stroke:none; fill-opacity:1\" cx=\"687.303\" cy=\"1414.93\" r=\"18\"/>\n",
       "<circle clip-path=\"url(#clip7802)\" style=\"fill:#009af9; stroke:none; fill-opacity:1\" cx=\"687.303\" cy=\"1414.93\" r=\"14\"/>\n",
       "<circle clip-path=\"url(#clip7802)\" style=\"fill:#000000; stroke:none; fill-opacity:1\" cx=\"687.303\" cy=\"1136.08\" r=\"18\"/>\n",
       "<circle clip-path=\"url(#clip7802)\" style=\"fill:#009af9; stroke:none; fill-opacity:1\" cx=\"687.303\" cy=\"1136.08\" r=\"14\"/>\n",
       "<circle clip-path=\"url(#clip7802)\" style=\"fill:#000000; stroke:none; fill-opacity:1\" cx=\"687.303\" cy=\"1432.1\" r=\"18\"/>\n",
       "<circle clip-path=\"url(#clip7802)\" style=\"fill:#009af9; stroke:none; fill-opacity:1\" cx=\"687.303\" cy=\"1432.1\" r=\"14\"/>\n",
       "<circle clip-path=\"url(#clip7802)\" style=\"fill:#000000; stroke:none; fill-opacity:1\" cx=\"687.303\" cy=\"1426.44\" r=\"18\"/>\n",
       "<circle clip-path=\"url(#clip7802)\" style=\"fill:#009af9; stroke:none; fill-opacity:1\" cx=\"687.303\" cy=\"1426.44\" r=\"14\"/>\n",
       "<circle clip-path=\"url(#clip7802)\" style=\"fill:#000000; stroke:none; fill-opacity:1\" cx=\"687.303\" cy=\"1423.59\" r=\"18\"/>\n",
       "<circle clip-path=\"url(#clip7802)\" style=\"fill:#009af9; stroke:none; fill-opacity:1\" cx=\"687.303\" cy=\"1423.59\" r=\"14\"/>\n",
       "<circle clip-path=\"url(#clip7802)\" style=\"fill:#000000; stroke:none; fill-opacity:1\" cx=\"687.303\" cy=\"1429.85\" r=\"18\"/>\n",
       "<circle clip-path=\"url(#clip7802)\" style=\"fill:#009af9; stroke:none; fill-opacity:1\" cx=\"687.303\" cy=\"1429.85\" r=\"14\"/>\n",
       "<circle clip-path=\"url(#clip7802)\" style=\"fill:#000000; stroke:none; fill-opacity:1\" cx=\"687.303\" cy=\"1417.5\" r=\"18\"/>\n",
       "<circle clip-path=\"url(#clip7802)\" style=\"fill:#009af9; stroke:none; fill-opacity:1\" cx=\"687.303\" cy=\"1417.5\" r=\"14\"/>\n",
       "<circle clip-path=\"url(#clip7802)\" style=\"fill:#000000; stroke:none; fill-opacity:1\" cx=\"687.303\" cy=\"1415.27\" r=\"18\"/>\n",
       "<circle clip-path=\"url(#clip7802)\" style=\"fill:#009af9; stroke:none; fill-opacity:1\" cx=\"687.303\" cy=\"1415.27\" r=\"14\"/>\n",
       "<circle clip-path=\"url(#clip7802)\" style=\"fill:#000000; stroke:none; fill-opacity:1\" cx=\"687.303\" cy=\"1405.3\" r=\"18\"/>\n",
       "<circle clip-path=\"url(#clip7802)\" style=\"fill:#009af9; stroke:none; fill-opacity:1\" cx=\"687.303\" cy=\"1405.3\" r=\"14\"/>\n",
       "<circle clip-path=\"url(#clip7802)\" style=\"fill:#000000; stroke:none; fill-opacity:1\" cx=\"687.303\" cy=\"1415.14\" r=\"18\"/>\n",
       "<circle clip-path=\"url(#clip7802)\" style=\"fill:#009af9; stroke:none; fill-opacity:1\" cx=\"687.303\" cy=\"1415.14\" r=\"14\"/>\n",
       "<circle clip-path=\"url(#clip7802)\" style=\"fill:#000000; stroke:none; fill-opacity:1\" cx=\"687.303\" cy=\"1174.45\" r=\"18\"/>\n",
       "<circle clip-path=\"url(#clip7802)\" style=\"fill:#009af9; stroke:none; fill-opacity:1\" cx=\"687.303\" cy=\"1174.45\" r=\"14\"/>\n",
       "<circle clip-path=\"url(#clip7802)\" style=\"fill:#000000; stroke:none; fill-opacity:1\" cx=\"687.303\" cy=\"1421.22\" r=\"18\"/>\n",
       "<circle clip-path=\"url(#clip7802)\" style=\"fill:#009af9; stroke:none; fill-opacity:1\" cx=\"687.303\" cy=\"1421.22\" r=\"14\"/>\n",
       "<circle clip-path=\"url(#clip7802)\" style=\"fill:#000000; stroke:none; fill-opacity:1\" cx=\"687.303\" cy=\"1408.15\" r=\"18\"/>\n",
       "<circle clip-path=\"url(#clip7802)\" style=\"fill:#009af9; stroke:none; fill-opacity:1\" cx=\"687.303\" cy=\"1408.15\" r=\"14\"/>\n",
       "<circle clip-path=\"url(#clip7802)\" style=\"fill:#000000; stroke:none; fill-opacity:1\" cx=\"687.303\" cy=\"1422.74\" r=\"18\"/>\n",
       "<circle clip-path=\"url(#clip7802)\" style=\"fill:#009af9; stroke:none; fill-opacity:1\" cx=\"687.303\" cy=\"1422.74\" r=\"14\"/>\n",
       "<circle clip-path=\"url(#clip7802)\" style=\"fill:#000000; stroke:none; fill-opacity:1\" cx=\"687.303\" cy=\"1181.2\" r=\"18\"/>\n",
       "<circle clip-path=\"url(#clip7802)\" style=\"fill:#009af9; stroke:none; fill-opacity:1\" cx=\"687.303\" cy=\"1181.2\" r=\"14\"/>\n",
       "<circle clip-path=\"url(#clip7802)\" style=\"fill:#000000; stroke:none; fill-opacity:1\" cx=\"687.303\" cy=\"1181.26\" r=\"18\"/>\n",
       "<circle clip-path=\"url(#clip7802)\" style=\"fill:#009af9; stroke:none; fill-opacity:1\" cx=\"687.303\" cy=\"1181.26\" r=\"14\"/>\n",
       "<circle clip-path=\"url(#clip7802)\" style=\"fill:#000000; stroke:none; fill-opacity:1\" cx=\"687.303\" cy=\"1418.14\" r=\"18\"/>\n",
       "<circle clip-path=\"url(#clip7802)\" style=\"fill:#009af9; stroke:none; fill-opacity:1\" cx=\"687.303\" cy=\"1418.14\" r=\"14\"/>\n",
       "<circle clip-path=\"url(#clip7802)\" style=\"fill:#000000; stroke:none; fill-opacity:1\" cx=\"687.303\" cy=\"1418.58\" r=\"18\"/>\n",
       "<circle clip-path=\"url(#clip7802)\" style=\"fill:#009af9; stroke:none; fill-opacity:1\" cx=\"687.303\" cy=\"1418.58\" r=\"14\"/>\n",
       "<circle clip-path=\"url(#clip7802)\" style=\"fill:#000000; stroke:none; fill-opacity:1\" cx=\"687.303\" cy=\"1404.24\" r=\"18\"/>\n",
       "<circle clip-path=\"url(#clip7802)\" style=\"fill:#009af9; stroke:none; fill-opacity:1\" cx=\"687.303\" cy=\"1404.24\" r=\"14\"/>\n",
       "<circle clip-path=\"url(#clip7802)\" style=\"fill:#000000; stroke:none; fill-opacity:1\" cx=\"687.303\" cy=\"1406.63\" r=\"18\"/>\n",
       "<circle clip-path=\"url(#clip7802)\" style=\"fill:#009af9; stroke:none; fill-opacity:1\" cx=\"687.303\" cy=\"1406.63\" r=\"14\"/>\n",
       "<circle clip-path=\"url(#clip7802)\" style=\"fill:#000000; stroke:none; fill-opacity:1\" cx=\"687.303\" cy=\"1410.15\" r=\"18\"/>\n",
       "<circle clip-path=\"url(#clip7802)\" style=\"fill:#009af9; stroke:none; fill-opacity:1\" cx=\"687.303\" cy=\"1410.15\" r=\"14\"/>\n",
       "<circle clip-path=\"url(#clip7802)\" style=\"fill:#000000; stroke:none; fill-opacity:1\" cx=\"687.303\" cy=\"1407.36\" r=\"18\"/>\n",
       "<circle clip-path=\"url(#clip7802)\" style=\"fill:#009af9; stroke:none; fill-opacity:1\" cx=\"687.303\" cy=\"1407.36\" r=\"14\"/>\n",
       "<circle clip-path=\"url(#clip7802)\" style=\"fill:#000000; stroke:none; fill-opacity:1\" cx=\"687.303\" cy=\"1406.28\" r=\"18\"/>\n",
       "<circle clip-path=\"url(#clip7802)\" style=\"fill:#009af9; stroke:none; fill-opacity:1\" cx=\"687.303\" cy=\"1406.28\" r=\"14\"/>\n",
       "<circle clip-path=\"url(#clip7802)\" style=\"fill:#000000; stroke:none; fill-opacity:1\" cx=\"687.303\" cy=\"1411.4\" r=\"18\"/>\n",
       "<circle clip-path=\"url(#clip7802)\" style=\"fill:#009af9; stroke:none; fill-opacity:1\" cx=\"687.303\" cy=\"1411.4\" r=\"14\"/>\n",
       "<circle clip-path=\"url(#clip7802)\" style=\"fill:#000000; stroke:none; fill-opacity:1\" cx=\"687.303\" cy=\"1413.18\" r=\"18\"/>\n",
       "<circle clip-path=\"url(#clip7802)\" style=\"fill:#009af9; stroke:none; fill-opacity:1\" cx=\"687.303\" cy=\"1413.18\" r=\"14\"/>\n",
       "<circle clip-path=\"url(#clip7802)\" style=\"fill:#000000; stroke:none; fill-opacity:1\" cx=\"687.303\" cy=\"1183.52\" r=\"18\"/>\n",
       "<circle clip-path=\"url(#clip7802)\" style=\"fill:#009af9; stroke:none; fill-opacity:1\" cx=\"687.303\" cy=\"1183.52\" r=\"14\"/>\n",
       "<circle clip-path=\"url(#clip7802)\" style=\"fill:#000000; stroke:none; fill-opacity:1\" cx=\"687.303\" cy=\"1183.15\" r=\"18\"/>\n",
       "<circle clip-path=\"url(#clip7802)\" style=\"fill:#009af9; stroke:none; fill-opacity:1\" cx=\"687.303\" cy=\"1183.15\" r=\"14\"/>\n",
       "<circle clip-path=\"url(#clip7802)\" style=\"fill:#000000; stroke:none; fill-opacity:1\" cx=\"687.303\" cy=\"1407.43\" r=\"18\"/>\n",
       "<circle clip-path=\"url(#clip7802)\" style=\"fill:#009af9; stroke:none; fill-opacity:1\" cx=\"687.303\" cy=\"1407.43\" r=\"14\"/>\n",
       "<circle clip-path=\"url(#clip7802)\" style=\"fill:#000000; stroke:none; fill-opacity:1\" cx=\"687.303\" cy=\"1420.83\" r=\"18\"/>\n",
       "<circle clip-path=\"url(#clip7802)\" style=\"fill:#009af9; stroke:none; fill-opacity:1\" cx=\"687.303\" cy=\"1420.83\" r=\"14\"/>\n",
       "<circle clip-path=\"url(#clip7802)\" style=\"fill:#000000; stroke:none; fill-opacity:1\" cx=\"687.303\" cy=\"1417.87\" r=\"18\"/>\n",
       "<circle clip-path=\"url(#clip7802)\" style=\"fill:#009af9; stroke:none; fill-opacity:1\" cx=\"687.303\" cy=\"1417.87\" r=\"14\"/>\n",
       "<circle clip-path=\"url(#clip7802)\" style=\"fill:#000000; stroke:none; fill-opacity:1\" cx=\"687.303\" cy=\"1407.21\" r=\"18\"/>\n",
       "<circle clip-path=\"url(#clip7802)\" style=\"fill:#009af9; stroke:none; fill-opacity:1\" cx=\"687.303\" cy=\"1407.21\" r=\"14\"/>\n",
       "<circle clip-path=\"url(#clip7802)\" style=\"fill:#000000; stroke:none; fill-opacity:1\" cx=\"687.303\" cy=\"1408.57\" r=\"18\"/>\n",
       "<circle clip-path=\"url(#clip7802)\" style=\"fill:#009af9; stroke:none; fill-opacity:1\" cx=\"687.303\" cy=\"1408.57\" r=\"14\"/>\n",
       "<circle clip-path=\"url(#clip7802)\" style=\"fill:#000000; stroke:none; fill-opacity:1\" cx=\"687.303\" cy=\"1424.12\" r=\"18\"/>\n",
       "<circle clip-path=\"url(#clip7802)\" style=\"fill:#009af9; stroke:none; fill-opacity:1\" cx=\"687.303\" cy=\"1424.12\" r=\"14\"/>\n",
       "<circle clip-path=\"url(#clip7802)\" style=\"fill:#000000; stroke:none; fill-opacity:1\" cx=\"687.303\" cy=\"1423.31\" r=\"18\"/>\n",
       "<circle clip-path=\"url(#clip7802)\" style=\"fill:#009af9; stroke:none; fill-opacity:1\" cx=\"687.303\" cy=\"1423.31\" r=\"14\"/>\n",
       "<circle clip-path=\"url(#clip7802)\" style=\"fill:#000000; stroke:none; fill-opacity:1\" cx=\"687.303\" cy=\"1431.56\" r=\"18\"/>\n",
       "<circle clip-path=\"url(#clip7802)\" style=\"fill:#009af9; stroke:none; fill-opacity:1\" cx=\"687.303\" cy=\"1431.56\" r=\"14\"/>\n",
       "<circle clip-path=\"url(#clip7802)\" style=\"fill:#000000; stroke:none; fill-opacity:1\" cx=\"687.303\" cy=\"1166.56\" r=\"18\"/>\n",
       "<circle clip-path=\"url(#clip7802)\" style=\"fill:#009af9; stroke:none; fill-opacity:1\" cx=\"687.303\" cy=\"1166.56\" r=\"14\"/>\n",
       "<circle clip-path=\"url(#clip7802)\" style=\"fill:#000000; stroke:none; fill-opacity:1\" cx=\"687.303\" cy=\"1166.79\" r=\"18\"/>\n",
       "<circle clip-path=\"url(#clip7802)\" style=\"fill:#009af9; stroke:none; fill-opacity:1\" cx=\"687.303\" cy=\"1166.79\" r=\"14\"/>\n",
       "<circle clip-path=\"url(#clip7802)\" style=\"fill:#000000; stroke:none; fill-opacity:1\" cx=\"687.303\" cy=\"1431.74\" r=\"18\"/>\n",
       "<circle clip-path=\"url(#clip7802)\" style=\"fill:#009af9; stroke:none; fill-opacity:1\" cx=\"687.303\" cy=\"1431.74\" r=\"14\"/>\n",
       "<circle clip-path=\"url(#clip7802)\" style=\"fill:#000000; stroke:none; fill-opacity:1\" cx=\"687.303\" cy=\"1413.12\" r=\"18\"/>\n",
       "<circle clip-path=\"url(#clip7802)\" style=\"fill:#009af9; stroke:none; fill-opacity:1\" cx=\"687.303\" cy=\"1413.12\" r=\"14\"/>\n",
       "<circle clip-path=\"url(#clip7802)\" style=\"fill:#000000; stroke:none; fill-opacity:1\" cx=\"687.303\" cy=\"1416.75\" r=\"18\"/>\n",
       "<circle clip-path=\"url(#clip7802)\" style=\"fill:#009af9; stroke:none; fill-opacity:1\" cx=\"687.303\" cy=\"1416.75\" r=\"14\"/>\n",
       "<circle clip-path=\"url(#clip7802)\" style=\"fill:#000000; stroke:none; fill-opacity:1\" cx=\"687.303\" cy=\"1404.48\" r=\"18\"/>\n",
       "<circle clip-path=\"url(#clip7802)\" style=\"fill:#009af9; stroke:none; fill-opacity:1\" cx=\"687.303\" cy=\"1404.48\" r=\"14\"/>\n",
       "<circle clip-path=\"url(#clip7802)\" style=\"fill:#000000; stroke:none; fill-opacity:1\" cx=\"687.303\" cy=\"1406.77\" r=\"18\"/>\n",
       "<circle clip-path=\"url(#clip7802)\" style=\"fill:#009af9; stroke:none; fill-opacity:1\" cx=\"687.303\" cy=\"1406.77\" r=\"14\"/>\n",
       "<circle clip-path=\"url(#clip7802)\" style=\"fill:#000000; stroke:none; fill-opacity:1\" cx=\"687.303\" cy=\"1420.57\" r=\"18\"/>\n",
       "<circle clip-path=\"url(#clip7802)\" style=\"fill:#009af9; stroke:none; fill-opacity:1\" cx=\"687.303\" cy=\"1420.57\" r=\"14\"/>\n",
       "<circle clip-path=\"url(#clip7802)\" style=\"fill:#000000; stroke:none; fill-opacity:1\" cx=\"687.303\" cy=\"1419.92\" r=\"18\"/>\n",
       "<circle clip-path=\"url(#clip7802)\" style=\"fill:#009af9; stroke:none; fill-opacity:1\" cx=\"687.303\" cy=\"1419.92\" r=\"14\"/>\n",
       "<circle clip-path=\"url(#clip7802)\" style=\"fill:#000000; stroke:none; fill-opacity:1\" cx=\"687.303\" cy=\"1413.19\" r=\"18\"/>\n",
       "<circle clip-path=\"url(#clip7802)\" style=\"fill:#009af9; stroke:none; fill-opacity:1\" cx=\"687.303\" cy=\"1413.19\" r=\"14\"/>\n",
       "<circle clip-path=\"url(#clip7802)\" style=\"fill:#000000; stroke:none; fill-opacity:1\" cx=\"687.303\" cy=\"1405.56\" r=\"18\"/>\n",
       "<circle clip-path=\"url(#clip7802)\" style=\"fill:#009af9; stroke:none; fill-opacity:1\" cx=\"687.303\" cy=\"1405.56\" r=\"14\"/>\n",
       "<circle clip-path=\"url(#clip7802)\" style=\"fill:#000000; stroke:none; fill-opacity:1\" cx=\"687.303\" cy=\"1420.44\" r=\"18\"/>\n",
       "<circle clip-path=\"url(#clip7802)\" style=\"fill:#009af9; stroke:none; fill-opacity:1\" cx=\"687.303\" cy=\"1420.44\" r=\"14\"/>\n",
       "<circle clip-path=\"url(#clip7802)\" style=\"fill:#000000; stroke:none; fill-opacity:1\" cx=\"687.303\" cy=\"1412.8\" r=\"18\"/>\n",
       "<circle clip-path=\"url(#clip7802)\" style=\"fill:#009af9; stroke:none; fill-opacity:1\" cx=\"687.303\" cy=\"1412.8\" r=\"14\"/>\n",
       "<circle clip-path=\"url(#clip7802)\" style=\"fill:#000000; stroke:none; fill-opacity:1\" cx=\"687.303\" cy=\"1422.52\" r=\"18\"/>\n",
       "<circle clip-path=\"url(#clip7802)\" style=\"fill:#009af9; stroke:none; fill-opacity:1\" cx=\"687.303\" cy=\"1422.52\" r=\"14\"/>\n",
       "<circle clip-path=\"url(#clip7802)\" style=\"fill:#000000; stroke:none; fill-opacity:1\" cx=\"687.303\" cy=\"1413.9\" r=\"18\"/>\n",
       "<circle clip-path=\"url(#clip7802)\" style=\"fill:#009af9; stroke:none; fill-opacity:1\" cx=\"687.303\" cy=\"1413.9\" r=\"14\"/>\n",
       "<circle clip-path=\"url(#clip7802)\" style=\"fill:#000000; stroke:none; fill-opacity:1\" cx=\"687.303\" cy=\"1417.16\" r=\"18\"/>\n",
       "<circle clip-path=\"url(#clip7802)\" style=\"fill:#009af9; stroke:none; fill-opacity:1\" cx=\"687.303\" cy=\"1417.16\" r=\"14\"/>\n",
       "<circle clip-path=\"url(#clip7802)\" style=\"fill:#000000; stroke:none; fill-opacity:1\" cx=\"687.303\" cy=\"1416.6\" r=\"18\"/>\n",
       "<circle clip-path=\"url(#clip7802)\" style=\"fill:#009af9; stroke:none; fill-opacity:1\" cx=\"687.303\" cy=\"1416.6\" r=\"14\"/>\n",
       "<circle clip-path=\"url(#clip7802)\" style=\"fill:#000000; stroke:none; fill-opacity:1\" cx=\"687.303\" cy=\"1422.48\" r=\"18\"/>\n",
       "<circle clip-path=\"url(#clip7802)\" style=\"fill:#009af9; stroke:none; fill-opacity:1\" cx=\"687.303\" cy=\"1422.48\" r=\"14\"/>\n",
       "<circle clip-path=\"url(#clip7802)\" style=\"fill:#000000; stroke:none; fill-opacity:1\" cx=\"687.303\" cy=\"1416.15\" r=\"18\"/>\n",
       "<circle clip-path=\"url(#clip7802)\" style=\"fill:#009af9; stroke:none; fill-opacity:1\" cx=\"687.303\" cy=\"1416.15\" r=\"14\"/>\n",
       "<circle clip-path=\"url(#clip7802)\" style=\"fill:#000000; stroke:none; fill-opacity:1\" cx=\"687.303\" cy=\"1410.35\" r=\"18\"/>\n",
       "<circle clip-path=\"url(#clip7802)\" style=\"fill:#009af9; stroke:none; fill-opacity:1\" cx=\"687.303\" cy=\"1410.35\" r=\"14\"/>\n",
       "<circle clip-path=\"url(#clip7802)\" style=\"fill:#000000; stroke:none; fill-opacity:1\" cx=\"687.303\" cy=\"1421.92\" r=\"18\"/>\n",
       "<circle clip-path=\"url(#clip7802)\" style=\"fill:#009af9; stroke:none; fill-opacity:1\" cx=\"687.303\" cy=\"1421.92\" r=\"14\"/>\n",
       "<circle clip-path=\"url(#clip7802)\" style=\"fill:#000000; stroke:none; fill-opacity:1\" cx=\"687.303\" cy=\"1421.51\" r=\"18\"/>\n",
       "<circle clip-path=\"url(#clip7802)\" style=\"fill:#009af9; stroke:none; fill-opacity:1\" cx=\"687.303\" cy=\"1421.51\" r=\"14\"/>\n",
       "<circle clip-path=\"url(#clip7802)\" style=\"fill:#000000; stroke:none; fill-opacity:1\" cx=\"687.303\" cy=\"1422.89\" r=\"18\"/>\n",
       "<circle clip-path=\"url(#clip7802)\" style=\"fill:#009af9; stroke:none; fill-opacity:1\" cx=\"687.303\" cy=\"1422.89\" r=\"14\"/>\n",
       "<circle clip-path=\"url(#clip7802)\" style=\"fill:#000000; stroke:none; fill-opacity:1\" cx=\"687.303\" cy=\"1414.76\" r=\"18\"/>\n",
       "<circle clip-path=\"url(#clip7802)\" style=\"fill:#009af9; stroke:none; fill-opacity:1\" cx=\"687.303\" cy=\"1414.76\" r=\"14\"/>\n",
       "<circle clip-path=\"url(#clip7802)\" style=\"fill:#000000; stroke:none; fill-opacity:1\" cx=\"687.303\" cy=\"1420.9\" r=\"18\"/>\n",
       "<circle clip-path=\"url(#clip7802)\" style=\"fill:#009af9; stroke:none; fill-opacity:1\" cx=\"687.303\" cy=\"1420.9\" r=\"14\"/>\n",
       "<circle clip-path=\"url(#clip7802)\" style=\"fill:#000000; stroke:none; fill-opacity:1\" cx=\"687.303\" cy=\"1415.11\" r=\"18\"/>\n",
       "<circle clip-path=\"url(#clip7802)\" style=\"fill:#009af9; stroke:none; fill-opacity:1\" cx=\"687.303\" cy=\"1415.11\" r=\"14\"/>\n",
       "<circle clip-path=\"url(#clip7802)\" style=\"fill:#000000; stroke:none; fill-opacity:1\" cx=\"687.303\" cy=\"1411.46\" r=\"18\"/>\n",
       "<circle clip-path=\"url(#clip7802)\" style=\"fill:#009af9; stroke:none; fill-opacity:1\" cx=\"687.303\" cy=\"1411.46\" r=\"14\"/>\n",
       "<circle clip-path=\"url(#clip7802)\" style=\"fill:#000000; stroke:none; fill-opacity:1\" cx=\"687.303\" cy=\"1417.65\" r=\"18\"/>\n",
       "<circle clip-path=\"url(#clip7802)\" style=\"fill:#009af9; stroke:none; fill-opacity:1\" cx=\"687.303\" cy=\"1417.65\" r=\"14\"/>\n",
       "<circle clip-path=\"url(#clip7802)\" style=\"fill:#000000; stroke:none; fill-opacity:1\" cx=\"687.303\" cy=\"1426.92\" r=\"18\"/>\n",
       "<circle clip-path=\"url(#clip7802)\" style=\"fill:#009af9; stroke:none; fill-opacity:1\" cx=\"687.303\" cy=\"1426.92\" r=\"14\"/>\n",
       "<circle clip-path=\"url(#clip7802)\" style=\"fill:#000000; stroke:none; fill-opacity:1\" cx=\"687.303\" cy=\"1414.4\" r=\"18\"/>\n",
       "<circle clip-path=\"url(#clip7802)\" style=\"fill:#009af9; stroke:none; fill-opacity:1\" cx=\"687.303\" cy=\"1414.4\" r=\"14\"/>\n",
       "<circle clip-path=\"url(#clip7802)\" style=\"fill:#000000; stroke:none; fill-opacity:1\" cx=\"687.303\" cy=\"1418.54\" r=\"18\"/>\n",
       "<circle clip-path=\"url(#clip7802)\" style=\"fill:#009af9; stroke:none; fill-opacity:1\" cx=\"687.303\" cy=\"1418.54\" r=\"14\"/>\n",
       "<circle clip-path=\"url(#clip7802)\" style=\"fill:#000000; stroke:none; fill-opacity:1\" cx=\"687.303\" cy=\"1429.03\" r=\"18\"/>\n",
       "<circle clip-path=\"url(#clip7802)\" style=\"fill:#009af9; stroke:none; fill-opacity:1\" cx=\"687.303\" cy=\"1429.03\" r=\"14\"/>\n",
       "<circle clip-path=\"url(#clip7802)\" style=\"fill:#000000; stroke:none; fill-opacity:1\" cx=\"687.303\" cy=\"1403.85\" r=\"18\"/>\n",
       "<circle clip-path=\"url(#clip7802)\" style=\"fill:#009af9; stroke:none; fill-opacity:1\" cx=\"687.303\" cy=\"1403.85\" r=\"14\"/>\n",
       "<circle clip-path=\"url(#clip7802)\" style=\"fill:#000000; stroke:none; fill-opacity:1\" cx=\"687.303\" cy=\"1422.5\" r=\"18\"/>\n",
       "<circle clip-path=\"url(#clip7802)\" style=\"fill:#009af9; stroke:none; fill-opacity:1\" cx=\"687.303\" cy=\"1422.5\" r=\"14\"/>\n",
       "<circle clip-path=\"url(#clip7802)\" style=\"fill:#000000; stroke:none; fill-opacity:1\" cx=\"687.303\" cy=\"1409.62\" r=\"18\"/>\n",
       "<circle clip-path=\"url(#clip7802)\" style=\"fill:#009af9; stroke:none; fill-opacity:1\" cx=\"687.303\" cy=\"1409.62\" r=\"14\"/>\n",
       "<circle clip-path=\"url(#clip7802)\" style=\"fill:#000000; stroke:none; fill-opacity:1\" cx=\"687.303\" cy=\"1428.7\" r=\"18\"/>\n",
       "<circle clip-path=\"url(#clip7802)\" style=\"fill:#009af9; stroke:none; fill-opacity:1\" cx=\"687.303\" cy=\"1428.7\" r=\"14\"/>\n",
       "<circle clip-path=\"url(#clip7802)\" style=\"fill:#000000; stroke:none; fill-opacity:1\" cx=\"687.303\" cy=\"1406.91\" r=\"18\"/>\n",
       "<circle clip-path=\"url(#clip7802)\" style=\"fill:#009af9; stroke:none; fill-opacity:1\" cx=\"687.303\" cy=\"1406.91\" r=\"14\"/>\n",
       "<circle clip-path=\"url(#clip7802)\" style=\"fill:#000000; stroke:none; fill-opacity:1\" cx=\"687.303\" cy=\"1415.95\" r=\"18\"/>\n",
       "<circle clip-path=\"url(#clip7802)\" style=\"fill:#009af9; stroke:none; fill-opacity:1\" cx=\"687.303\" cy=\"1415.95\" r=\"14\"/>\n",
       "<circle clip-path=\"url(#clip7802)\" style=\"fill:#000000; stroke:none; fill-opacity:1\" cx=\"687.303\" cy=\"1411.92\" r=\"18\"/>\n",
       "<circle clip-path=\"url(#clip7802)\" style=\"fill:#009af9; stroke:none; fill-opacity:1\" cx=\"687.303\" cy=\"1411.92\" r=\"14\"/>\n",
       "<circle clip-path=\"url(#clip7802)\" style=\"fill:#000000; stroke:none; fill-opacity:1\" cx=\"687.303\" cy=\"1129.62\" r=\"18\"/>\n",
       "<circle clip-path=\"url(#clip7802)\" style=\"fill:#009af9; stroke:none; fill-opacity:1\" cx=\"687.303\" cy=\"1129.62\" r=\"14\"/>\n",
       "<circle clip-path=\"url(#clip7802)\" style=\"fill:#000000; stroke:none; fill-opacity:1\" cx=\"687.303\" cy=\"1409.44\" r=\"18\"/>\n",
       "<circle clip-path=\"url(#clip7802)\" style=\"fill:#009af9; stroke:none; fill-opacity:1\" cx=\"687.303\" cy=\"1409.44\" r=\"14\"/>\n",
       "<circle clip-path=\"url(#clip7802)\" style=\"fill:#000000; stroke:none; fill-opacity:1\" cx=\"687.303\" cy=\"1415.79\" r=\"18\"/>\n",
       "<circle clip-path=\"url(#clip7802)\" style=\"fill:#009af9; stroke:none; fill-opacity:1\" cx=\"687.303\" cy=\"1415.79\" r=\"14\"/>\n",
       "<circle clip-path=\"url(#clip7802)\" style=\"fill:#000000; stroke:none; fill-opacity:1\" cx=\"687.303\" cy=\"1181.46\" r=\"18\"/>\n",
       "<circle clip-path=\"url(#clip7802)\" style=\"fill:#009af9; stroke:none; fill-opacity:1\" cx=\"687.303\" cy=\"1181.46\" r=\"14\"/>\n",
       "<circle clip-path=\"url(#clip7802)\" style=\"fill:#000000; stroke:none; fill-opacity:1\" cx=\"687.303\" cy=\"1422.57\" r=\"18\"/>\n",
       "<circle clip-path=\"url(#clip7802)\" style=\"fill:#009af9; stroke:none; fill-opacity:1\" cx=\"687.303\" cy=\"1422.57\" r=\"14\"/>\n",
       "<circle clip-path=\"url(#clip7802)\" style=\"fill:#000000; stroke:none; fill-opacity:1\" cx=\"687.303\" cy=\"1150.02\" r=\"18\"/>\n",
       "<circle clip-path=\"url(#clip7802)\" style=\"fill:#009af9; stroke:none; fill-opacity:1\" cx=\"687.303\" cy=\"1150.02\" r=\"14\"/>\n",
       "<circle clip-path=\"url(#clip7802)\" style=\"fill:#000000; stroke:none; fill-opacity:1\" cx=\"687.303\" cy=\"1409.81\" r=\"18\"/>\n",
       "<circle clip-path=\"url(#clip7802)\" style=\"fill:#009af9; stroke:none; fill-opacity:1\" cx=\"687.303\" cy=\"1409.81\" r=\"14\"/>\n",
       "<circle clip-path=\"url(#clip7802)\" style=\"fill:#000000; stroke:none; fill-opacity:1\" cx=\"687.303\" cy=\"1161.92\" r=\"18\"/>\n",
       "<circle clip-path=\"url(#clip7802)\" style=\"fill:#009af9; stroke:none; fill-opacity:1\" cx=\"687.303\" cy=\"1161.92\" r=\"14\"/>\n",
       "<circle clip-path=\"url(#clip7802)\" style=\"fill:#000000; stroke:none; fill-opacity:1\" cx=\"687.303\" cy=\"1093.25\" r=\"18\"/>\n",
       "<circle clip-path=\"url(#clip7802)\" style=\"fill:#009af9; stroke:none; fill-opacity:1\" cx=\"687.303\" cy=\"1093.25\" r=\"14\"/>\n",
       "<circle clip-path=\"url(#clip7802)\" style=\"fill:#000000; stroke:none; fill-opacity:1\" cx=\"687.303\" cy=\"1102.19\" r=\"18\"/>\n",
       "<circle clip-path=\"url(#clip7802)\" style=\"fill:#009af9; stroke:none; fill-opacity:1\" cx=\"687.303\" cy=\"1102.19\" r=\"14\"/>\n",
       "<circle clip-path=\"url(#clip7802)\" style=\"fill:#000000; stroke:none; fill-opacity:1\" cx=\"687.303\" cy=\"1141.73\" r=\"18\"/>\n",
       "<circle clip-path=\"url(#clip7802)\" style=\"fill:#009af9; stroke:none; fill-opacity:1\" cx=\"687.303\" cy=\"1141.73\" r=\"14\"/>\n",
       "<circle clip-path=\"url(#clip7802)\" style=\"fill:#000000; stroke:none; fill-opacity:1\" cx=\"687.303\" cy=\"1413.4\" r=\"18\"/>\n",
       "<circle clip-path=\"url(#clip7802)\" style=\"fill:#009af9; stroke:none; fill-opacity:1\" cx=\"687.303\" cy=\"1413.4\" r=\"14\"/>\n",
       "<circle clip-path=\"url(#clip7802)\" style=\"fill:#000000; stroke:none; fill-opacity:1\" cx=\"687.303\" cy=\"1412.19\" r=\"18\"/>\n",
       "<circle clip-path=\"url(#clip7802)\" style=\"fill:#009af9; stroke:none; fill-opacity:1\" cx=\"687.303\" cy=\"1412.19\" r=\"14\"/>\n",
       "<circle clip-path=\"url(#clip7802)\" style=\"fill:#000000; stroke:none; fill-opacity:1\" cx=\"687.303\" cy=\"1408.88\" r=\"18\"/>\n",
       "<circle clip-path=\"url(#clip7802)\" style=\"fill:#009af9; stroke:none; fill-opacity:1\" cx=\"687.303\" cy=\"1408.88\" r=\"14\"/>\n",
       "<circle clip-path=\"url(#clip7802)\" style=\"fill:#000000; stroke:none; fill-opacity:1\" cx=\"687.303\" cy=\"1424.83\" r=\"18\"/>\n",
       "<circle clip-path=\"url(#clip7802)\" style=\"fill:#009af9; stroke:none; fill-opacity:1\" cx=\"687.303\" cy=\"1424.83\" r=\"14\"/>\n",
       "<circle clip-path=\"url(#clip7802)\" style=\"fill:#000000; stroke:none; fill-opacity:1\" cx=\"687.303\" cy=\"1163.7\" r=\"18\"/>\n",
       "<circle clip-path=\"url(#clip7802)\" style=\"fill:#009af9; stroke:none; fill-opacity:1\" cx=\"687.303\" cy=\"1163.7\" r=\"14\"/>\n",
       "<circle clip-path=\"url(#clip7802)\" style=\"fill:#000000; stroke:none; fill-opacity:1\" cx=\"687.303\" cy=\"1423.58\" r=\"18\"/>\n",
       "<circle clip-path=\"url(#clip7802)\" style=\"fill:#009af9; stroke:none; fill-opacity:1\" cx=\"687.303\" cy=\"1423.58\" r=\"14\"/>\n",
       "<circle clip-path=\"url(#clip7802)\" style=\"fill:#000000; stroke:none; fill-opacity:1\" cx=\"687.303\" cy=\"1185.34\" r=\"18\"/>\n",
       "<circle clip-path=\"url(#clip7802)\" style=\"fill:#009af9; stroke:none; fill-opacity:1\" cx=\"687.303\" cy=\"1185.34\" r=\"14\"/>\n",
       "<circle clip-path=\"url(#clip7802)\" style=\"fill:#000000; stroke:none; fill-opacity:1\" cx=\"687.303\" cy=\"1410.27\" r=\"18\"/>\n",
       "<circle clip-path=\"url(#clip7802)\" style=\"fill:#009af9; stroke:none; fill-opacity:1\" cx=\"687.303\" cy=\"1410.27\" r=\"14\"/>\n",
       "<circle clip-path=\"url(#clip7802)\" style=\"fill:#000000; stroke:none; fill-opacity:1\" cx=\"687.303\" cy=\"1411.2\" r=\"18\"/>\n",
       "<circle clip-path=\"url(#clip7802)\" style=\"fill:#009af9; stroke:none; fill-opacity:1\" cx=\"687.303\" cy=\"1411.2\" r=\"14\"/>\n",
       "<circle clip-path=\"url(#clip7802)\" style=\"fill:#000000; stroke:none; fill-opacity:1\" cx=\"687.303\" cy=\"1436.57\" r=\"18\"/>\n",
       "<circle clip-path=\"url(#clip7802)\" style=\"fill:#009af9; stroke:none; fill-opacity:1\" cx=\"687.303\" cy=\"1436.57\" r=\"14\"/>\n",
       "<circle clip-path=\"url(#clip7802)\" style=\"fill:#000000; stroke:none; fill-opacity:1\" cx=\"687.303\" cy=\"1430.63\" r=\"18\"/>\n",
       "<circle clip-path=\"url(#clip7802)\" style=\"fill:#009af9; stroke:none; fill-opacity:1\" cx=\"687.303\" cy=\"1430.63\" r=\"14\"/>\n",
       "<circle clip-path=\"url(#clip7802)\" style=\"fill:#000000; stroke:none; fill-opacity:1\" cx=\"687.303\" cy=\"1414.11\" r=\"18\"/>\n",
       "<circle clip-path=\"url(#clip7802)\" style=\"fill:#009af9; stroke:none; fill-opacity:1\" cx=\"687.303\" cy=\"1414.11\" r=\"14\"/>\n",
       "<circle clip-path=\"url(#clip7802)\" style=\"fill:#000000; stroke:none; fill-opacity:1\" cx=\"687.303\" cy=\"1181.55\" r=\"18\"/>\n",
       "<circle clip-path=\"url(#clip7802)\" style=\"fill:#009af9; stroke:none; fill-opacity:1\" cx=\"687.303\" cy=\"1181.55\" r=\"14\"/>\n",
       "<circle clip-path=\"url(#clip7802)\" style=\"fill:#000000; stroke:none; fill-opacity:1\" cx=\"687.303\" cy=\"1410.37\" r=\"18\"/>\n",
       "<circle clip-path=\"url(#clip7802)\" style=\"fill:#009af9; stroke:none; fill-opacity:1\" cx=\"687.303\" cy=\"1410.37\" r=\"14\"/>\n",
       "<circle clip-path=\"url(#clip7802)\" style=\"fill:#000000; stroke:none; fill-opacity:1\" cx=\"687.303\" cy=\"1414.05\" r=\"18\"/>\n",
       "<circle clip-path=\"url(#clip7802)\" style=\"fill:#009af9; stroke:none; fill-opacity:1\" cx=\"687.303\" cy=\"1414.05\" r=\"14\"/>\n",
       "<circle clip-path=\"url(#clip7802)\" style=\"fill:#000000; stroke:none; fill-opacity:1\" cx=\"687.303\" cy=\"1411.61\" r=\"18\"/>\n",
       "<circle clip-path=\"url(#clip7802)\" style=\"fill:#009af9; stroke:none; fill-opacity:1\" cx=\"687.303\" cy=\"1411.61\" r=\"14\"/>\n",
       "<circle clip-path=\"url(#clip7802)\" style=\"fill:#000000; stroke:none; fill-opacity:1\" cx=\"687.303\" cy=\"1410.08\" r=\"18\"/>\n",
       "<circle clip-path=\"url(#clip7802)\" style=\"fill:#009af9; stroke:none; fill-opacity:1\" cx=\"687.303\" cy=\"1410.08\" r=\"14\"/>\n",
       "<circle clip-path=\"url(#clip7802)\" style=\"fill:#000000; stroke:none; fill-opacity:1\" cx=\"687.303\" cy=\"1046.82\" r=\"18\"/>\n",
       "<circle clip-path=\"url(#clip7802)\" style=\"fill:#009af9; stroke:none; fill-opacity:1\" cx=\"687.303\" cy=\"1046.82\" r=\"14\"/>\n",
       "<circle clip-path=\"url(#clip7802)\" style=\"fill:#000000; stroke:none; fill-opacity:1\" cx=\"687.303\" cy=\"1407.6\" r=\"18\"/>\n",
       "<circle clip-path=\"url(#clip7802)\" style=\"fill:#009af9; stroke:none; fill-opacity:1\" cx=\"687.303\" cy=\"1407.6\" r=\"14\"/>\n",
       "<circle clip-path=\"url(#clip7802)\" style=\"fill:#000000; stroke:none; fill-opacity:1\" cx=\"687.303\" cy=\"1416.44\" r=\"18\"/>\n",
       "<circle clip-path=\"url(#clip7802)\" style=\"fill:#009af9; stroke:none; fill-opacity:1\" cx=\"687.303\" cy=\"1416.44\" r=\"14\"/>\n",
       "<circle clip-path=\"url(#clip7802)\" style=\"fill:#000000; stroke:none; fill-opacity:1\" cx=\"687.303\" cy=\"1183.15\" r=\"18\"/>\n",
       "<circle clip-path=\"url(#clip7802)\" style=\"fill:#009af9; stroke:none; fill-opacity:1\" cx=\"687.303\" cy=\"1183.15\" r=\"14\"/>\n",
       "<circle clip-path=\"url(#clip7802)\" style=\"fill:#000000; stroke:none; fill-opacity:1\" cx=\"687.303\" cy=\"1421.32\" r=\"18\"/>\n",
       "<circle clip-path=\"url(#clip7802)\" style=\"fill:#009af9; stroke:none; fill-opacity:1\" cx=\"687.303\" cy=\"1421.32\" r=\"14\"/>\n",
       "<circle clip-path=\"url(#clip7802)\" style=\"fill:#000000; stroke:none; fill-opacity:1\" cx=\"687.303\" cy=\"1412.08\" r=\"18\"/>\n",
       "<circle clip-path=\"url(#clip7802)\" style=\"fill:#009af9; stroke:none; fill-opacity:1\" cx=\"687.303\" cy=\"1412.08\" r=\"14\"/>\n",
       "<circle clip-path=\"url(#clip7802)\" style=\"fill:#000000; stroke:none; fill-opacity:1\" cx=\"687.303\" cy=\"1149.18\" r=\"18\"/>\n",
       "<circle clip-path=\"url(#clip7802)\" style=\"fill:#009af9; stroke:none; fill-opacity:1\" cx=\"687.303\" cy=\"1149.18\" r=\"14\"/>\n",
       "<circle clip-path=\"url(#clip7802)\" style=\"fill:#000000; stroke:none; fill-opacity:1\" cx=\"687.303\" cy=\"1424.44\" r=\"18\"/>\n",
       "<circle clip-path=\"url(#clip7802)\" style=\"fill:#009af9; stroke:none; fill-opacity:1\" cx=\"687.303\" cy=\"1424.44\" r=\"14\"/>\n",
       "<circle clip-path=\"url(#clip7802)\" style=\"fill:#000000; stroke:none; fill-opacity:1\" cx=\"687.303\" cy=\"1183.02\" r=\"18\"/>\n",
       "<circle clip-path=\"url(#clip7802)\" style=\"fill:#009af9; stroke:none; fill-opacity:1\" cx=\"687.303\" cy=\"1183.02\" r=\"14\"/>\n",
       "<circle clip-path=\"url(#clip7802)\" style=\"fill:#000000; stroke:none; fill-opacity:1\" cx=\"687.303\" cy=\"1414.49\" r=\"18\"/>\n",
       "<circle clip-path=\"url(#clip7802)\" style=\"fill:#009af9; stroke:none; fill-opacity:1\" cx=\"687.303\" cy=\"1414.49\" r=\"14\"/>\n",
       "<circle clip-path=\"url(#clip7802)\" style=\"fill:#000000; stroke:none; fill-opacity:1\" cx=\"687.303\" cy=\"1408.79\" r=\"18\"/>\n",
       "<circle clip-path=\"url(#clip7802)\" style=\"fill:#009af9; stroke:none; fill-opacity:1\" cx=\"687.303\" cy=\"1408.79\" r=\"14\"/>\n",
       "<circle clip-path=\"url(#clip7802)\" style=\"fill:#000000; stroke:none; fill-opacity:1\" cx=\"687.303\" cy=\"1409.21\" r=\"18\"/>\n",
       "<circle clip-path=\"url(#clip7802)\" style=\"fill:#009af9; stroke:none; fill-opacity:1\" cx=\"687.303\" cy=\"1409.21\" r=\"14\"/>\n",
       "<circle clip-path=\"url(#clip7802)\" style=\"fill:#000000; stroke:none; fill-opacity:1\" cx=\"687.303\" cy=\"1416.22\" r=\"18\"/>\n",
       "<circle clip-path=\"url(#clip7802)\" style=\"fill:#009af9; stroke:none; fill-opacity:1\" cx=\"687.303\" cy=\"1416.22\" r=\"14\"/>\n",
       "<circle clip-path=\"url(#clip7802)\" style=\"fill:#000000; stroke:none; fill-opacity:1\" cx=\"687.303\" cy=\"1406.02\" r=\"18\"/>\n",
       "<circle clip-path=\"url(#clip7802)\" style=\"fill:#009af9; stroke:none; fill-opacity:1\" cx=\"687.303\" cy=\"1406.02\" r=\"14\"/>\n",
       "<circle clip-path=\"url(#clip7802)\" style=\"fill:#000000; stroke:none; fill-opacity:1\" cx=\"687.303\" cy=\"1421.85\" r=\"18\"/>\n",
       "<circle clip-path=\"url(#clip7802)\" style=\"fill:#009af9; stroke:none; fill-opacity:1\" cx=\"687.303\" cy=\"1421.85\" r=\"14\"/>\n",
       "<circle clip-path=\"url(#clip7802)\" style=\"fill:#000000; stroke:none; fill-opacity:1\" cx=\"687.303\" cy=\"1098.43\" r=\"18\"/>\n",
       "<circle clip-path=\"url(#clip7802)\" style=\"fill:#009af9; stroke:none; fill-opacity:1\" cx=\"687.303\" cy=\"1098.43\" r=\"14\"/>\n",
       "<circle clip-path=\"url(#clip7802)\" style=\"fill:#000000; stroke:none; fill-opacity:1\" cx=\"687.303\" cy=\"1417.34\" r=\"18\"/>\n",
       "<circle clip-path=\"url(#clip7802)\" style=\"fill:#009af9; stroke:none; fill-opacity:1\" cx=\"687.303\" cy=\"1417.34\" r=\"14\"/>\n",
       "<circle clip-path=\"url(#clip7802)\" style=\"fill:#000000; stroke:none; fill-opacity:1\" cx=\"687.303\" cy=\"1172.61\" r=\"18\"/>\n",
       "<circle clip-path=\"url(#clip7802)\" style=\"fill:#009af9; stroke:none; fill-opacity:1\" cx=\"687.303\" cy=\"1172.61\" r=\"14\"/>\n",
       "<circle clip-path=\"url(#clip7802)\" style=\"fill:#000000; stroke:none; fill-opacity:1\" cx=\"687.303\" cy=\"1183\" r=\"18\"/>\n",
       "<circle clip-path=\"url(#clip7802)\" style=\"fill:#009af9; stroke:none; fill-opacity:1\" cx=\"687.303\" cy=\"1183\" r=\"14\"/>\n",
       "<circle clip-path=\"url(#clip7802)\" style=\"fill:#000000; stroke:none; fill-opacity:1\" cx=\"687.303\" cy=\"1179.57\" r=\"18\"/>\n",
       "<circle clip-path=\"url(#clip7802)\" style=\"fill:#009af9; stroke:none; fill-opacity:1\" cx=\"687.303\" cy=\"1179.57\" r=\"14\"/>\n",
       "<circle clip-path=\"url(#clip7802)\" style=\"fill:#000000; stroke:none; fill-opacity:1\" cx=\"687.303\" cy=\"1155.82\" r=\"18\"/>\n",
       "<circle clip-path=\"url(#clip7802)\" style=\"fill:#009af9; stroke:none; fill-opacity:1\" cx=\"687.303\" cy=\"1155.82\" r=\"14\"/>\n",
       "<circle clip-path=\"url(#clip7802)\" style=\"fill:#000000; stroke:none; fill-opacity:1\" cx=\"687.303\" cy=\"1167.07\" r=\"18\"/>\n",
       "<circle clip-path=\"url(#clip7802)\" style=\"fill:#009af9; stroke:none; fill-opacity:1\" cx=\"687.303\" cy=\"1167.07\" r=\"14\"/>\n",
       "<circle clip-path=\"url(#clip7802)\" style=\"fill:#000000; stroke:none; fill-opacity:1\" cx=\"687.303\" cy=\"1142.19\" r=\"18\"/>\n",
       "<circle clip-path=\"url(#clip7802)\" style=\"fill:#009af9; stroke:none; fill-opacity:1\" cx=\"687.303\" cy=\"1142.19\" r=\"14\"/>\n",
       "<circle clip-path=\"url(#clip7802)\" style=\"fill:#000000; stroke:none; fill-opacity:1\" cx=\"687.303\" cy=\"1121.52\" r=\"18\"/>\n",
       "<circle clip-path=\"url(#clip7802)\" style=\"fill:#009af9; stroke:none; fill-opacity:1\" cx=\"687.303\" cy=\"1121.52\" r=\"14\"/>\n",
       "<circle clip-path=\"url(#clip7802)\" style=\"fill:#000000; stroke:none; fill-opacity:1\" cx=\"687.303\" cy=\"1404.47\" r=\"18\"/>\n",
       "<circle clip-path=\"url(#clip7802)\" style=\"fill:#009af9; stroke:none; fill-opacity:1\" cx=\"687.303\" cy=\"1404.47\" r=\"14\"/>\n",
       "<circle clip-path=\"url(#clip7802)\" style=\"fill:#000000; stroke:none; fill-opacity:1\" cx=\"687.303\" cy=\"1404.34\" r=\"18\"/>\n",
       "<circle clip-path=\"url(#clip7802)\" style=\"fill:#009af9; stroke:none; fill-opacity:1\" cx=\"687.303\" cy=\"1404.34\" r=\"14\"/>\n",
       "<circle clip-path=\"url(#clip7802)\" style=\"fill:#000000; stroke:none; fill-opacity:1\" cx=\"687.303\" cy=\"1410.91\" r=\"18\"/>\n",
       "<circle clip-path=\"url(#clip7802)\" style=\"fill:#009af9; stroke:none; fill-opacity:1\" cx=\"687.303\" cy=\"1410.91\" r=\"14\"/>\n",
       "<circle clip-path=\"url(#clip7802)\" style=\"fill:#000000; stroke:none; fill-opacity:1\" cx=\"687.303\" cy=\"1410.88\" r=\"18\"/>\n",
       "<circle clip-path=\"url(#clip7802)\" style=\"fill:#009af9; stroke:none; fill-opacity:1\" cx=\"687.303\" cy=\"1410.88\" r=\"14\"/>\n",
       "<circle clip-path=\"url(#clip7802)\" style=\"fill:#000000; stroke:none; fill-opacity:1\" cx=\"687.303\" cy=\"1412.22\" r=\"18\"/>\n",
       "<circle clip-path=\"url(#clip7802)\" style=\"fill:#009af9; stroke:none; fill-opacity:1\" cx=\"687.303\" cy=\"1412.22\" r=\"14\"/>\n",
       "<circle clip-path=\"url(#clip7802)\" style=\"fill:#000000; stroke:none; fill-opacity:1\" cx=\"687.303\" cy=\"1421.19\" r=\"18\"/>\n",
       "<circle clip-path=\"url(#clip7802)\" style=\"fill:#009af9; stroke:none; fill-opacity:1\" cx=\"687.303\" cy=\"1421.19\" r=\"14\"/>\n",
       "<circle clip-path=\"url(#clip7802)\" style=\"fill:#000000; stroke:none; fill-opacity:1\" cx=\"687.303\" cy=\"1420.28\" r=\"18\"/>\n",
       "<circle clip-path=\"url(#clip7802)\" style=\"fill:#009af9; stroke:none; fill-opacity:1\" cx=\"687.303\" cy=\"1420.28\" r=\"14\"/>\n",
       "<circle clip-path=\"url(#clip7802)\" style=\"fill:#000000; stroke:none; fill-opacity:1\" cx=\"687.303\" cy=\"1412.36\" r=\"18\"/>\n",
       "<circle clip-path=\"url(#clip7802)\" style=\"fill:#009af9; stroke:none; fill-opacity:1\" cx=\"687.303\" cy=\"1412.36\" r=\"14\"/>\n",
       "<circle clip-path=\"url(#clip7802)\" style=\"fill:#000000; stroke:none; fill-opacity:1\" cx=\"687.303\" cy=\"1160.73\" r=\"18\"/>\n",
       "<circle clip-path=\"url(#clip7802)\" style=\"fill:#009af9; stroke:none; fill-opacity:1\" cx=\"687.303\" cy=\"1160.73\" r=\"14\"/>\n",
       "<circle clip-path=\"url(#clip7802)\" style=\"fill:#000000; stroke:none; fill-opacity:1\" cx=\"687.303\" cy=\"1410.14\" r=\"18\"/>\n",
       "<circle clip-path=\"url(#clip7802)\" style=\"fill:#009af9; stroke:none; fill-opacity:1\" cx=\"687.303\" cy=\"1410.14\" r=\"14\"/>\n",
       "<circle clip-path=\"url(#clip7802)\" style=\"fill:#000000; stroke:none; fill-opacity:1\" cx=\"687.303\" cy=\"1403.83\" r=\"18\"/>\n",
       "<circle clip-path=\"url(#clip7802)\" style=\"fill:#009af9; stroke:none; fill-opacity:1\" cx=\"687.303\" cy=\"1403.83\" r=\"14\"/>\n",
       "<circle clip-path=\"url(#clip7802)\" style=\"fill:#000000; stroke:none; fill-opacity:1\" cx=\"687.303\" cy=\"1419.53\" r=\"18\"/>\n",
       "<circle clip-path=\"url(#clip7802)\" style=\"fill:#009af9; stroke:none; fill-opacity:1\" cx=\"687.303\" cy=\"1419.53\" r=\"14\"/>\n",
       "<circle clip-path=\"url(#clip7802)\" style=\"fill:#000000; stroke:none; fill-opacity:1\" cx=\"687.303\" cy=\"1411.01\" r=\"18\"/>\n",
       "<circle clip-path=\"url(#clip7802)\" style=\"fill:#009af9; stroke:none; fill-opacity:1\" cx=\"687.303\" cy=\"1411.01\" r=\"14\"/>\n",
       "<circle clip-path=\"url(#clip7802)\" style=\"fill:#000000; stroke:none; fill-opacity:1\" cx=\"687.303\" cy=\"1183.23\" r=\"18\"/>\n",
       "<circle clip-path=\"url(#clip7802)\" style=\"fill:#009af9; stroke:none; fill-opacity:1\" cx=\"687.303\" cy=\"1183.23\" r=\"14\"/>\n",
       "<circle clip-path=\"url(#clip7802)\" style=\"fill:#000000; stroke:none; fill-opacity:1\" cx=\"687.303\" cy=\"1413.71\" r=\"18\"/>\n",
       "<circle clip-path=\"url(#clip7802)\" style=\"fill:#009af9; stroke:none; fill-opacity:1\" cx=\"687.303\" cy=\"1413.71\" r=\"14\"/>\n",
       "<circle clip-path=\"url(#clip7802)\" style=\"fill:#000000; stroke:none; fill-opacity:1\" cx=\"687.303\" cy=\"1404.27\" r=\"18\"/>\n",
       "<circle clip-path=\"url(#clip7802)\" style=\"fill:#009af9; stroke:none; fill-opacity:1\" cx=\"687.303\" cy=\"1404.27\" r=\"14\"/>\n",
       "<circle clip-path=\"url(#clip7802)\" style=\"fill:#000000; stroke:none; fill-opacity:1\" cx=\"687.303\" cy=\"1408.55\" r=\"18\"/>\n",
       "<circle clip-path=\"url(#clip7802)\" style=\"fill:#009af9; stroke:none; fill-opacity:1\" cx=\"687.303\" cy=\"1408.55\" r=\"14\"/>\n",
       "<circle clip-path=\"url(#clip7802)\" style=\"fill:#000000; stroke:none; fill-opacity:1\" cx=\"687.303\" cy=\"1412.67\" r=\"18\"/>\n",
       "<circle clip-path=\"url(#clip7802)\" style=\"fill:#009af9; stroke:none; fill-opacity:1\" cx=\"687.303\" cy=\"1412.67\" r=\"14\"/>\n",
       "<circle clip-path=\"url(#clip7802)\" style=\"fill:#000000; stroke:none; fill-opacity:1\" cx=\"687.303\" cy=\"1406.29\" r=\"18\"/>\n",
       "<circle clip-path=\"url(#clip7802)\" style=\"fill:#009af9; stroke:none; fill-opacity:1\" cx=\"687.303\" cy=\"1406.29\" r=\"14\"/>\n",
       "<circle clip-path=\"url(#clip7802)\" style=\"fill:#000000; stroke:none; fill-opacity:1\" cx=\"687.303\" cy=\"1431.65\" r=\"18\"/>\n",
       "<circle clip-path=\"url(#clip7802)\" style=\"fill:#009af9; stroke:none; fill-opacity:1\" cx=\"687.303\" cy=\"1431.65\" r=\"14\"/>\n",
       "<circle clip-path=\"url(#clip7802)\" style=\"fill:#000000; stroke:none; fill-opacity:1\" cx=\"687.303\" cy=\"1175.3\" r=\"18\"/>\n",
       "<circle clip-path=\"url(#clip7802)\" style=\"fill:#009af9; stroke:none; fill-opacity:1\" cx=\"687.303\" cy=\"1175.3\" r=\"14\"/>\n",
       "<circle clip-path=\"url(#clip7802)\" style=\"fill:#000000; stroke:none; fill-opacity:1\" cx=\"687.303\" cy=\"1425.54\" r=\"18\"/>\n",
       "<circle clip-path=\"url(#clip7802)\" style=\"fill:#009af9; stroke:none; fill-opacity:1\" cx=\"687.303\" cy=\"1425.54\" r=\"14\"/>\n",
       "<circle clip-path=\"url(#clip7802)\" style=\"fill:#000000; stroke:none; fill-opacity:1\" cx=\"687.303\" cy=\"1183.15\" r=\"18\"/>\n",
       "<circle clip-path=\"url(#clip7802)\" style=\"fill:#009af9; stroke:none; fill-opacity:1\" cx=\"687.303\" cy=\"1183.15\" r=\"14\"/>\n",
       "<circle clip-path=\"url(#clip7802)\" style=\"fill:#000000; stroke:none; fill-opacity:1\" cx=\"687.303\" cy=\"1051.36\" r=\"18\"/>\n",
       "<circle clip-path=\"url(#clip7802)\" style=\"fill:#009af9; stroke:none; fill-opacity:1\" cx=\"687.303\" cy=\"1051.36\" r=\"14\"/>\n",
       "<circle clip-path=\"url(#clip7802)\" style=\"fill:#000000; stroke:none; fill-opacity:1\" cx=\"687.303\" cy=\"1419.71\" r=\"18\"/>\n",
       "<circle clip-path=\"url(#clip7802)\" style=\"fill:#009af9; stroke:none; fill-opacity:1\" cx=\"687.303\" cy=\"1419.71\" r=\"14\"/>\n",
       "<circle clip-path=\"url(#clip7802)\" style=\"fill:#000000; stroke:none; fill-opacity:1\" cx=\"687.303\" cy=\"1423.14\" r=\"18\"/>\n",
       "<circle clip-path=\"url(#clip7802)\" style=\"fill:#009af9; stroke:none; fill-opacity:1\" cx=\"687.303\" cy=\"1423.14\" r=\"14\"/>\n",
       "<circle clip-path=\"url(#clip7802)\" style=\"fill:#000000; stroke:none; fill-opacity:1\" cx=\"687.303\" cy=\"1423.63\" r=\"18\"/>\n",
       "<circle clip-path=\"url(#clip7802)\" style=\"fill:#009af9; stroke:none; fill-opacity:1\" cx=\"687.303\" cy=\"1423.63\" r=\"14\"/>\n",
       "<circle clip-path=\"url(#clip7802)\" style=\"fill:#000000; stroke:none; fill-opacity:1\" cx=\"687.303\" cy=\"1421.81\" r=\"18\"/>\n",
       "<circle clip-path=\"url(#clip7802)\" style=\"fill:#009af9; stroke:none; fill-opacity:1\" cx=\"687.303\" cy=\"1421.81\" r=\"14\"/>\n",
       "<circle clip-path=\"url(#clip7802)\" style=\"fill:#000000; stroke:none; fill-opacity:1\" cx=\"687.303\" cy=\"1177.5\" r=\"18\"/>\n",
       "<circle clip-path=\"url(#clip7802)\" style=\"fill:#009af9; stroke:none; fill-opacity:1\" cx=\"687.303\" cy=\"1177.5\" r=\"14\"/>\n",
       "<circle clip-path=\"url(#clip7802)\" style=\"fill:#000000; stroke:none; fill-opacity:1\" cx=\"687.303\" cy=\"1407.36\" r=\"18\"/>\n",
       "<circle clip-path=\"url(#clip7802)\" style=\"fill:#009af9; stroke:none; fill-opacity:1\" cx=\"687.303\" cy=\"1407.36\" r=\"14\"/>\n",
       "<circle clip-path=\"url(#clip7802)\" style=\"fill:#000000; stroke:none; fill-opacity:1\" cx=\"687.303\" cy=\"1421.11\" r=\"18\"/>\n",
       "<circle clip-path=\"url(#clip7802)\" style=\"fill:#009af9; stroke:none; fill-opacity:1\" cx=\"687.303\" cy=\"1421.11\" r=\"14\"/>\n",
       "<circle clip-path=\"url(#clip7802)\" style=\"fill:#000000; stroke:none; fill-opacity:1\" cx=\"687.303\" cy=\"1410.8\" r=\"18\"/>\n",
       "<circle clip-path=\"url(#clip7802)\" style=\"fill:#009af9; stroke:none; fill-opacity:1\" cx=\"687.303\" cy=\"1410.8\" r=\"14\"/>\n",
       "<circle clip-path=\"url(#clip7802)\" style=\"fill:#000000; stroke:none; fill-opacity:1\" cx=\"687.303\" cy=\"1406.32\" r=\"18\"/>\n",
       "<circle clip-path=\"url(#clip7802)\" style=\"fill:#009af9; stroke:none; fill-opacity:1\" cx=\"687.303\" cy=\"1406.32\" r=\"14\"/>\n",
       "<circle clip-path=\"url(#clip7802)\" style=\"fill:#000000; stroke:none; fill-opacity:1\" cx=\"687.303\" cy=\"1414.91\" r=\"18\"/>\n",
       "<circle clip-path=\"url(#clip7802)\" style=\"fill:#009af9; stroke:none; fill-opacity:1\" cx=\"687.303\" cy=\"1414.91\" r=\"14\"/>\n",
       "<circle clip-path=\"url(#clip7802)\" style=\"fill:#000000; stroke:none; fill-opacity:1\" cx=\"687.303\" cy=\"1411.71\" r=\"18\"/>\n",
       "<circle clip-path=\"url(#clip7802)\" style=\"fill:#009af9; stroke:none; fill-opacity:1\" cx=\"687.303\" cy=\"1411.71\" r=\"14\"/>\n",
       "<circle clip-path=\"url(#clip7802)\" style=\"fill:#000000; stroke:none; fill-opacity:1\" cx=\"687.303\" cy=\"1418.6\" r=\"18\"/>\n",
       "<circle clip-path=\"url(#clip7802)\" style=\"fill:#009af9; stroke:none; fill-opacity:1\" cx=\"687.303\" cy=\"1418.6\" r=\"14\"/>\n",
       "<circle clip-path=\"url(#clip7802)\" style=\"fill:#000000; stroke:none; fill-opacity:1\" cx=\"687.303\" cy=\"1424.43\" r=\"18\"/>\n",
       "<circle clip-path=\"url(#clip7802)\" style=\"fill:#009af9; stroke:none; fill-opacity:1\" cx=\"687.303\" cy=\"1424.43\" r=\"14\"/>\n",
       "<circle clip-path=\"url(#clip7802)\" style=\"fill:#000000; stroke:none; fill-opacity:1\" cx=\"687.303\" cy=\"1411.17\" r=\"18\"/>\n",
       "<circle clip-path=\"url(#clip7802)\" style=\"fill:#009af9; stroke:none; fill-opacity:1\" cx=\"687.303\" cy=\"1411.17\" r=\"14\"/>\n",
       "<circle clip-path=\"url(#clip7802)\" style=\"fill:#000000; stroke:none; fill-opacity:1\" cx=\"687.303\" cy=\"1404.27\" r=\"18\"/>\n",
       "<circle clip-path=\"url(#clip7802)\" style=\"fill:#009af9; stroke:none; fill-opacity:1\" cx=\"687.303\" cy=\"1404.27\" r=\"14\"/>\n",
       "<circle clip-path=\"url(#clip7802)\" style=\"fill:#000000; stroke:none; fill-opacity:1\" cx=\"687.303\" cy=\"1410.08\" r=\"18\"/>\n",
       "<circle clip-path=\"url(#clip7802)\" style=\"fill:#009af9; stroke:none; fill-opacity:1\" cx=\"687.303\" cy=\"1410.08\" r=\"14\"/>\n",
       "<circle clip-path=\"url(#clip7802)\" style=\"fill:#000000; stroke:none; fill-opacity:1\" cx=\"687.303\" cy=\"1426.61\" r=\"18\"/>\n",
       "<circle clip-path=\"url(#clip7802)\" style=\"fill:#009af9; stroke:none; fill-opacity:1\" cx=\"687.303\" cy=\"1426.61\" r=\"14\"/>\n",
       "<circle clip-path=\"url(#clip7802)\" style=\"fill:#000000; stroke:none; fill-opacity:1\" cx=\"687.303\" cy=\"1416.85\" r=\"18\"/>\n",
       "<circle clip-path=\"url(#clip7802)\" style=\"fill:#009af9; stroke:none; fill-opacity:1\" cx=\"687.303\" cy=\"1416.85\" r=\"14\"/>\n",
       "<circle clip-path=\"url(#clip7802)\" style=\"fill:#000000; stroke:none; fill-opacity:1\" cx=\"687.303\" cy=\"1409.94\" r=\"18\"/>\n",
       "<circle clip-path=\"url(#clip7802)\" style=\"fill:#009af9; stroke:none; fill-opacity:1\" cx=\"687.303\" cy=\"1409.94\" r=\"14\"/>\n",
       "<circle clip-path=\"url(#clip7802)\" style=\"fill:#000000; stroke:none; fill-opacity:1\" cx=\"687.303\" cy=\"1422.47\" r=\"18\"/>\n",
       "<circle clip-path=\"url(#clip7802)\" style=\"fill:#009af9; stroke:none; fill-opacity:1\" cx=\"687.303\" cy=\"1422.47\" r=\"14\"/>\n",
       "<circle clip-path=\"url(#clip7802)\" style=\"fill:#000000; stroke:none; fill-opacity:1\" cx=\"687.303\" cy=\"1414.32\" r=\"18\"/>\n",
       "<circle clip-path=\"url(#clip7802)\" style=\"fill:#009af9; stroke:none; fill-opacity:1\" cx=\"687.303\" cy=\"1414.32\" r=\"14\"/>\n",
       "<circle clip-path=\"url(#clip7802)\" style=\"fill:#000000; stroke:none; fill-opacity:1\" cx=\"687.303\" cy=\"1413.51\" r=\"18\"/>\n",
       "<circle clip-path=\"url(#clip7802)\" style=\"fill:#009af9; stroke:none; fill-opacity:1\" cx=\"687.303\" cy=\"1413.51\" r=\"14\"/>\n",
       "<circle clip-path=\"url(#clip7802)\" style=\"fill:#000000; stroke:none; fill-opacity:1\" cx=\"687.303\" cy=\"1410.8\" r=\"18\"/>\n",
       "<circle clip-path=\"url(#clip7802)\" style=\"fill:#009af9; stroke:none; fill-opacity:1\" cx=\"687.303\" cy=\"1410.8\" r=\"14\"/>\n",
       "<circle clip-path=\"url(#clip7802)\" style=\"fill:#000000; stroke:none; fill-opacity:1\" cx=\"687.303\" cy=\"1417.38\" r=\"18\"/>\n",
       "<circle clip-path=\"url(#clip7802)\" style=\"fill:#009af9; stroke:none; fill-opacity:1\" cx=\"687.303\" cy=\"1417.38\" r=\"14\"/>\n",
       "<circle clip-path=\"url(#clip7802)\" style=\"fill:#000000; stroke:none; fill-opacity:1\" cx=\"687.303\" cy=\"1417.71\" r=\"18\"/>\n",
       "<circle clip-path=\"url(#clip7802)\" style=\"fill:#009af9; stroke:none; fill-opacity:1\" cx=\"687.303\" cy=\"1417.71\" r=\"14\"/>\n",
       "<circle clip-path=\"url(#clip7802)\" style=\"fill:#000000; stroke:none; fill-opacity:1\" cx=\"687.303\" cy=\"1420.58\" r=\"18\"/>\n",
       "<circle clip-path=\"url(#clip7802)\" style=\"fill:#009af9; stroke:none; fill-opacity:1\" cx=\"687.303\" cy=\"1420.58\" r=\"14\"/>\n",
       "<circle clip-path=\"url(#clip7802)\" style=\"fill:#000000; stroke:none; fill-opacity:1\" cx=\"687.303\" cy=\"1404.59\" r=\"18\"/>\n",
       "<circle clip-path=\"url(#clip7802)\" style=\"fill:#009af9; stroke:none; fill-opacity:1\" cx=\"687.303\" cy=\"1404.59\" r=\"14\"/>\n",
       "<circle clip-path=\"url(#clip7802)\" style=\"fill:#000000; stroke:none; fill-opacity:1\" cx=\"687.303\" cy=\"1425.06\" r=\"18\"/>\n",
       "<circle clip-path=\"url(#clip7802)\" style=\"fill:#009af9; stroke:none; fill-opacity:1\" cx=\"687.303\" cy=\"1425.06\" r=\"14\"/>\n",
       "<circle clip-path=\"url(#clip7802)\" style=\"fill:#000000; stroke:none; fill-opacity:1\" cx=\"687.303\" cy=\"1410.5\" r=\"18\"/>\n",
       "<circle clip-path=\"url(#clip7802)\" style=\"fill:#009af9; stroke:none; fill-opacity:1\" cx=\"687.303\" cy=\"1410.5\" r=\"14\"/>\n",
       "<circle clip-path=\"url(#clip7802)\" style=\"fill:#000000; stroke:none; fill-opacity:1\" cx=\"687.303\" cy=\"1405.62\" r=\"18\"/>\n",
       "<circle clip-path=\"url(#clip7802)\" style=\"fill:#009af9; stroke:none; fill-opacity:1\" cx=\"687.303\" cy=\"1405.62\" r=\"14\"/>\n",
       "<circle clip-path=\"url(#clip7802)\" style=\"fill:#000000; stroke:none; fill-opacity:1\" cx=\"687.303\" cy=\"1404.01\" r=\"18\"/>\n",
       "<circle clip-path=\"url(#clip7802)\" style=\"fill:#009af9; stroke:none; fill-opacity:1\" cx=\"687.303\" cy=\"1404.01\" r=\"14\"/>\n",
       "<circle clip-path=\"url(#clip7802)\" style=\"fill:#000000; stroke:none; fill-opacity:1\" cx=\"687.303\" cy=\"1403.41\" r=\"18\"/>\n",
       "<circle clip-path=\"url(#clip7802)\" style=\"fill:#009af9; stroke:none; fill-opacity:1\" cx=\"687.303\" cy=\"1403.41\" r=\"14\"/>\n",
       "<circle clip-path=\"url(#clip7802)\" style=\"fill:#000000; stroke:none; fill-opacity:1\" cx=\"687.303\" cy=\"1424.76\" r=\"18\"/>\n",
       "<circle clip-path=\"url(#clip7802)\" style=\"fill:#009af9; stroke:none; fill-opacity:1\" cx=\"687.303\" cy=\"1424.76\" r=\"14\"/>\n",
       "<circle clip-path=\"url(#clip7802)\" style=\"fill:#000000; stroke:none; fill-opacity:1\" cx=\"687.303\" cy=\"1425.27\" r=\"18\"/>\n",
       "<circle clip-path=\"url(#clip7802)\" style=\"fill:#009af9; stroke:none; fill-opacity:1\" cx=\"687.303\" cy=\"1425.27\" r=\"14\"/>\n",
       "<circle clip-path=\"url(#clip7802)\" style=\"fill:#000000; stroke:none; fill-opacity:1\" cx=\"687.303\" cy=\"1178.76\" r=\"18\"/>\n",
       "<circle clip-path=\"url(#clip7802)\" style=\"fill:#009af9; stroke:none; fill-opacity:1\" cx=\"687.303\" cy=\"1178.76\" r=\"14\"/>\n",
       "<circle clip-path=\"url(#clip7802)\" style=\"fill:#000000; stroke:none; fill-opacity:1\" cx=\"687.303\" cy=\"1416.86\" r=\"18\"/>\n",
       "<circle clip-path=\"url(#clip7802)\" style=\"fill:#009af9; stroke:none; fill-opacity:1\" cx=\"687.303\" cy=\"1416.86\" r=\"14\"/>\n",
       "<circle clip-path=\"url(#clip7802)\" style=\"fill:#000000; stroke:none; fill-opacity:1\" cx=\"687.303\" cy=\"1405.58\" r=\"18\"/>\n",
       "<circle clip-path=\"url(#clip7802)\" style=\"fill:#009af9; stroke:none; fill-opacity:1\" cx=\"687.303\" cy=\"1405.58\" r=\"14\"/>\n",
       "<circle clip-path=\"url(#clip7802)\" style=\"fill:#000000; stroke:none; fill-opacity:1\" cx=\"687.303\" cy=\"1424.1\" r=\"18\"/>\n",
       "<circle clip-path=\"url(#clip7802)\" style=\"fill:#009af9; stroke:none; fill-opacity:1\" cx=\"687.303\" cy=\"1424.1\" r=\"14\"/>\n",
       "<circle clip-path=\"url(#clip7802)\" style=\"fill:#000000; stroke:none; fill-opacity:1\" cx=\"687.303\" cy=\"1407.67\" r=\"18\"/>\n",
       "<circle clip-path=\"url(#clip7802)\" style=\"fill:#009af9; stroke:none; fill-opacity:1\" cx=\"687.303\" cy=\"1407.67\" r=\"14\"/>\n",
       "<circle clip-path=\"url(#clip7802)\" style=\"fill:#000000; stroke:none; fill-opacity:1\" cx=\"687.303\" cy=\"1404.65\" r=\"18\"/>\n",
       "<circle clip-path=\"url(#clip7802)\" style=\"fill:#009af9; stroke:none; fill-opacity:1\" cx=\"687.303\" cy=\"1404.65\" r=\"14\"/>\n",
       "<circle clip-path=\"url(#clip7802)\" style=\"fill:#000000; stroke:none; fill-opacity:1\" cx=\"687.303\" cy=\"1404.72\" r=\"18\"/>\n",
       "<circle clip-path=\"url(#clip7802)\" style=\"fill:#009af9; stroke:none; fill-opacity:1\" cx=\"687.303\" cy=\"1404.72\" r=\"14\"/>\n",
       "<circle clip-path=\"url(#clip7802)\" style=\"fill:#000000; stroke:none; fill-opacity:1\" cx=\"687.303\" cy=\"1185.03\" r=\"18\"/>\n",
       "<circle clip-path=\"url(#clip7802)\" style=\"fill:#009af9; stroke:none; fill-opacity:1\" cx=\"687.303\" cy=\"1185.03\" r=\"14\"/>\n",
       "<circle clip-path=\"url(#clip7802)\" style=\"fill:#000000; stroke:none; fill-opacity:1\" cx=\"687.303\" cy=\"1403.95\" r=\"18\"/>\n",
       "<circle clip-path=\"url(#clip7802)\" style=\"fill:#009af9; stroke:none; fill-opacity:1\" cx=\"687.303\" cy=\"1403.95\" r=\"14\"/>\n",
       "<circle clip-path=\"url(#clip7802)\" style=\"fill:#000000; stroke:none; fill-opacity:1\" cx=\"687.303\" cy=\"1419.67\" r=\"18\"/>\n",
       "<circle clip-path=\"url(#clip7802)\" style=\"fill:#009af9; stroke:none; fill-opacity:1\" cx=\"687.303\" cy=\"1419.67\" r=\"14\"/>\n",
       "<circle clip-path=\"url(#clip7802)\" style=\"fill:#000000; stroke:none; fill-opacity:1\" cx=\"687.303\" cy=\"1410.81\" r=\"18\"/>\n",
       "<circle clip-path=\"url(#clip7802)\" style=\"fill:#009af9; stroke:none; fill-opacity:1\" cx=\"687.303\" cy=\"1410.81\" r=\"14\"/>\n",
       "<circle clip-path=\"url(#clip7802)\" style=\"fill:#000000; stroke:none; fill-opacity:1\" cx=\"687.303\" cy=\"1406.38\" r=\"18\"/>\n",
       "<circle clip-path=\"url(#clip7802)\" style=\"fill:#009af9; stroke:none; fill-opacity:1\" cx=\"687.303\" cy=\"1406.38\" r=\"14\"/>\n",
       "<circle clip-path=\"url(#clip7802)\" style=\"fill:#000000; stroke:none; fill-opacity:1\" cx=\"687.303\" cy=\"1409.11\" r=\"18\"/>\n",
       "<circle clip-path=\"url(#clip7802)\" style=\"fill:#009af9; stroke:none; fill-opacity:1\" cx=\"687.303\" cy=\"1409.11\" r=\"14\"/>\n",
       "<circle clip-path=\"url(#clip7802)\" style=\"fill:#000000; stroke:none; fill-opacity:1\" cx=\"687.303\" cy=\"1418.39\" r=\"18\"/>\n",
       "<circle clip-path=\"url(#clip7802)\" style=\"fill:#009af9; stroke:none; fill-opacity:1\" cx=\"687.303\" cy=\"1418.39\" r=\"14\"/>\n",
       "<circle clip-path=\"url(#clip7802)\" style=\"fill:#000000; stroke:none; fill-opacity:1\" cx=\"687.303\" cy=\"1423.75\" r=\"18\"/>\n",
       "<circle clip-path=\"url(#clip7802)\" style=\"fill:#009af9; stroke:none; fill-opacity:1\" cx=\"687.303\" cy=\"1423.75\" r=\"14\"/>\n",
       "<circle clip-path=\"url(#clip7802)\" style=\"fill:#000000; stroke:none; fill-opacity:1\" cx=\"687.303\" cy=\"1124.79\" r=\"18\"/>\n",
       "<circle clip-path=\"url(#clip7802)\" style=\"fill:#009af9; stroke:none; fill-opacity:1\" cx=\"687.303\" cy=\"1124.79\" r=\"14\"/>\n",
       "<circle clip-path=\"url(#clip7802)\" style=\"fill:#000000; stroke:none; fill-opacity:1\" cx=\"687.303\" cy=\"1423.62\" r=\"18\"/>\n",
       "<circle clip-path=\"url(#clip7802)\" style=\"fill:#009af9; stroke:none; fill-opacity:1\" cx=\"687.303\" cy=\"1423.62\" r=\"14\"/>\n",
       "<circle clip-path=\"url(#clip7802)\" style=\"fill:#000000; stroke:none; fill-opacity:1\" cx=\"687.303\" cy=\"1422.77\" r=\"18\"/>\n",
       "<circle clip-path=\"url(#clip7802)\" style=\"fill:#009af9; stroke:none; fill-opacity:1\" cx=\"687.303\" cy=\"1422.77\" r=\"14\"/>\n",
       "<circle clip-path=\"url(#clip7802)\" style=\"fill:#000000; stroke:none; fill-opacity:1\" cx=\"687.303\" cy=\"1404.92\" r=\"18\"/>\n",
       "<circle clip-path=\"url(#clip7802)\" style=\"fill:#009af9; stroke:none; fill-opacity:1\" cx=\"687.303\" cy=\"1404.92\" r=\"14\"/>\n",
       "<circle clip-path=\"url(#clip7802)\" style=\"fill:#000000; stroke:none; fill-opacity:1\" cx=\"687.303\" cy=\"1428.34\" r=\"18\"/>\n",
       "<circle clip-path=\"url(#clip7802)\" style=\"fill:#009af9; stroke:none; fill-opacity:1\" cx=\"687.303\" cy=\"1428.34\" r=\"14\"/>\n",
       "<circle clip-path=\"url(#clip7802)\" style=\"fill:#000000; stroke:none; fill-opacity:1\" cx=\"687.303\" cy=\"1425.35\" r=\"18\"/>\n",
       "<circle clip-path=\"url(#clip7802)\" style=\"fill:#009af9; stroke:none; fill-opacity:1\" cx=\"687.303\" cy=\"1425.35\" r=\"14\"/>\n",
       "<circle clip-path=\"url(#clip7802)\" style=\"fill:#000000; stroke:none; fill-opacity:1\" cx=\"687.303\" cy=\"1421.72\" r=\"18\"/>\n",
       "<circle clip-path=\"url(#clip7802)\" style=\"fill:#009af9; stroke:none; fill-opacity:1\" cx=\"687.303\" cy=\"1421.72\" r=\"14\"/>\n",
       "<circle clip-path=\"url(#clip7802)\" style=\"fill:#000000; stroke:none; fill-opacity:1\" cx=\"687.303\" cy=\"1416.07\" r=\"18\"/>\n",
       "<circle clip-path=\"url(#clip7802)\" style=\"fill:#009af9; stroke:none; fill-opacity:1\" cx=\"687.303\" cy=\"1416.07\" r=\"14\"/>\n",
       "<circle clip-path=\"url(#clip7802)\" style=\"fill:#000000; stroke:none; fill-opacity:1\" cx=\"687.303\" cy=\"1098.43\" r=\"18\"/>\n",
       "<circle clip-path=\"url(#clip7802)\" style=\"fill:#009af9; stroke:none; fill-opacity:1\" cx=\"687.303\" cy=\"1098.43\" r=\"14\"/>\n",
       "<circle clip-path=\"url(#clip7802)\" style=\"fill:#000000; stroke:none; fill-opacity:1\" cx=\"687.303\" cy=\"1420.07\" r=\"18\"/>\n",
       "<circle clip-path=\"url(#clip7802)\" style=\"fill:#009af9; stroke:none; fill-opacity:1\" cx=\"687.303\" cy=\"1420.07\" r=\"14\"/>\n",
       "<circle clip-path=\"url(#clip7802)\" style=\"fill:#000000; stroke:none; fill-opacity:1\" cx=\"687.303\" cy=\"1135.76\" r=\"18\"/>\n",
       "<circle clip-path=\"url(#clip7802)\" style=\"fill:#009af9; stroke:none; fill-opacity:1\" cx=\"687.303\" cy=\"1135.76\" r=\"14\"/>\n",
       "<circle clip-path=\"url(#clip7802)\" style=\"fill:#000000; stroke:none; fill-opacity:1\" cx=\"687.303\" cy=\"1026.89\" r=\"18\"/>\n",
       "<circle clip-path=\"url(#clip7802)\" style=\"fill:#009af9; stroke:none; fill-opacity:1\" cx=\"687.303\" cy=\"1026.89\" r=\"14\"/>\n",
       "<circle clip-path=\"url(#clip7802)\" style=\"fill:#000000; stroke:none; fill-opacity:1\" cx=\"687.303\" cy=\"1416.86\" r=\"18\"/>\n",
       "<circle clip-path=\"url(#clip7802)\" style=\"fill:#009af9; stroke:none; fill-opacity:1\" cx=\"687.303\" cy=\"1416.86\" r=\"14\"/>\n",
       "<circle clip-path=\"url(#clip7802)\" style=\"fill:#000000; stroke:none; fill-opacity:1\" cx=\"687.303\" cy=\"1415.51\" r=\"18\"/>\n",
       "<circle clip-path=\"url(#clip7802)\" style=\"fill:#009af9; stroke:none; fill-opacity:1\" cx=\"687.303\" cy=\"1415.51\" r=\"14\"/>\n",
       "<circle clip-path=\"url(#clip7802)\" style=\"fill:#000000; stroke:none; fill-opacity:1\" cx=\"687.303\" cy=\"1409.2\" r=\"18\"/>\n",
       "<circle clip-path=\"url(#clip7802)\" style=\"fill:#009af9; stroke:none; fill-opacity:1\" cx=\"687.303\" cy=\"1409.2\" r=\"14\"/>\n",
       "<circle clip-path=\"url(#clip7802)\" style=\"fill:#000000; stroke:none; fill-opacity:1\" cx=\"687.303\" cy=\"1405.25\" r=\"18\"/>\n",
       "<circle clip-path=\"url(#clip7802)\" style=\"fill:#009af9; stroke:none; fill-opacity:1\" cx=\"687.303\" cy=\"1405.25\" r=\"14\"/>\n",
       "<circle clip-path=\"url(#clip7802)\" style=\"fill:#000000; stroke:none; fill-opacity:1\" cx=\"687.303\" cy=\"1183.09\" r=\"18\"/>\n",
       "<circle clip-path=\"url(#clip7802)\" style=\"fill:#009af9; stroke:none; fill-opacity:1\" cx=\"687.303\" cy=\"1183.09\" r=\"14\"/>\n",
       "<circle clip-path=\"url(#clip7802)\" style=\"fill:#000000; stroke:none; fill-opacity:1\" cx=\"687.303\" cy=\"1163.66\" r=\"18\"/>\n",
       "<circle clip-path=\"url(#clip7802)\" style=\"fill:#009af9; stroke:none; fill-opacity:1\" cx=\"687.303\" cy=\"1163.66\" r=\"14\"/>\n",
       "<circle clip-path=\"url(#clip7802)\" style=\"fill:#000000; stroke:none; fill-opacity:1\" cx=\"687.303\" cy=\"1407.4\" r=\"18\"/>\n",
       "<circle clip-path=\"url(#clip7802)\" style=\"fill:#009af9; stroke:none; fill-opacity:1\" cx=\"687.303\" cy=\"1407.4\" r=\"14\"/>\n",
       "<circle clip-path=\"url(#clip7802)\" style=\"fill:#000000; stroke:none; fill-opacity:1\" cx=\"687.303\" cy=\"1121.02\" r=\"18\"/>\n",
       "<circle clip-path=\"url(#clip7802)\" style=\"fill:#009af9; stroke:none; fill-opacity:1\" cx=\"687.303\" cy=\"1121.02\" r=\"14\"/>\n",
       "<circle clip-path=\"url(#clip7802)\" style=\"fill:#000000; stroke:none; fill-opacity:1\" cx=\"687.303\" cy=\"1111.61\" r=\"18\"/>\n",
       "<circle clip-path=\"url(#clip7802)\" style=\"fill:#009af9; stroke:none; fill-opacity:1\" cx=\"687.303\" cy=\"1111.61\" r=\"14\"/>\n",
       "<circle clip-path=\"url(#clip7802)\" style=\"fill:#000000; stroke:none; fill-opacity:1\" cx=\"687.303\" cy=\"1406.04\" r=\"18\"/>\n",
       "<circle clip-path=\"url(#clip7802)\" style=\"fill:#009af9; stroke:none; fill-opacity:1\" cx=\"687.303\" cy=\"1406.04\" r=\"14\"/>\n",
       "<circle clip-path=\"url(#clip7802)\" style=\"fill:#000000; stroke:none; fill-opacity:1\" cx=\"687.303\" cy=\"1421.66\" r=\"18\"/>\n",
       "<circle clip-path=\"url(#clip7802)\" style=\"fill:#009af9; stroke:none; fill-opacity:1\" cx=\"687.303\" cy=\"1421.66\" r=\"14\"/>\n",
       "<circle clip-path=\"url(#clip7802)\" style=\"fill:#000000; stroke:none; fill-opacity:1\" cx=\"687.303\" cy=\"1405.17\" r=\"18\"/>\n",
       "<circle clip-path=\"url(#clip7802)\" style=\"fill:#009af9; stroke:none; fill-opacity:1\" cx=\"687.303\" cy=\"1405.17\" r=\"14\"/>\n",
       "<circle clip-path=\"url(#clip7802)\" style=\"fill:#000000; stroke:none; fill-opacity:1\" cx=\"687.303\" cy=\"1441.07\" r=\"18\"/>\n",
       "<circle clip-path=\"url(#clip7802)\" style=\"fill:#009af9; stroke:none; fill-opacity:1\" cx=\"687.303\" cy=\"1441.07\" r=\"14\"/>\n",
       "<circle clip-path=\"url(#clip7802)\" style=\"fill:#000000; stroke:none; fill-opacity:1\" cx=\"687.303\" cy=\"1416.5\" r=\"18\"/>\n",
       "<circle clip-path=\"url(#clip7802)\" style=\"fill:#009af9; stroke:none; fill-opacity:1\" cx=\"687.303\" cy=\"1416.5\" r=\"14\"/>\n",
       "<circle clip-path=\"url(#clip7802)\" style=\"fill:#000000; stroke:none; fill-opacity:1\" cx=\"687.303\" cy=\"1419.36\" r=\"18\"/>\n",
       "<circle clip-path=\"url(#clip7802)\" style=\"fill:#009af9; stroke:none; fill-opacity:1\" cx=\"687.303\" cy=\"1419.36\" r=\"14\"/>\n",
       "<circle clip-path=\"url(#clip7802)\" style=\"fill:#000000; stroke:none; fill-opacity:1\" cx=\"687.303\" cy=\"1155.85\" r=\"18\"/>\n",
       "<circle clip-path=\"url(#clip7802)\" style=\"fill:#009af9; stroke:none; fill-opacity:1\" cx=\"687.303\" cy=\"1155.85\" r=\"14\"/>\n",
       "<circle clip-path=\"url(#clip7802)\" style=\"fill:#000000; stroke:none; fill-opacity:1\" cx=\"687.303\" cy=\"1415.13\" r=\"18\"/>\n",
       "<circle clip-path=\"url(#clip7802)\" style=\"fill:#009af9; stroke:none; fill-opacity:1\" cx=\"687.303\" cy=\"1415.13\" r=\"14\"/>\n",
       "<circle clip-path=\"url(#clip7802)\" style=\"fill:#000000; stroke:none; fill-opacity:1\" cx=\"687.303\" cy=\"1414.66\" r=\"18\"/>\n",
       "<circle clip-path=\"url(#clip7802)\" style=\"fill:#009af9; stroke:none; fill-opacity:1\" cx=\"687.303\" cy=\"1414.66\" r=\"14\"/>\n",
       "<circle clip-path=\"url(#clip7802)\" style=\"fill:#000000; stroke:none; fill-opacity:1\" cx=\"687.303\" cy=\"1414.84\" r=\"18\"/>\n",
       "<circle clip-path=\"url(#clip7802)\" style=\"fill:#009af9; stroke:none; fill-opacity:1\" cx=\"687.303\" cy=\"1414.84\" r=\"14\"/>\n",
       "<circle clip-path=\"url(#clip7802)\" style=\"fill:#000000; stroke:none; fill-opacity:1\" cx=\"687.303\" cy=\"1413.34\" r=\"18\"/>\n",
       "<circle clip-path=\"url(#clip7802)\" style=\"fill:#009af9; stroke:none; fill-opacity:1\" cx=\"687.303\" cy=\"1413.34\" r=\"14\"/>\n",
       "<circle clip-path=\"url(#clip7802)\" style=\"fill:#000000; stroke:none; fill-opacity:1\" cx=\"687.303\" cy=\"1155.07\" r=\"18\"/>\n",
       "<circle clip-path=\"url(#clip7802)\" style=\"fill:#009af9; stroke:none; fill-opacity:1\" cx=\"687.303\" cy=\"1155.07\" r=\"14\"/>\n",
       "<circle clip-path=\"url(#clip7802)\" style=\"fill:#000000; stroke:none; fill-opacity:1\" cx=\"687.303\" cy=\"1406.65\" r=\"18\"/>\n",
       "<circle clip-path=\"url(#clip7802)\" style=\"fill:#009af9; stroke:none; fill-opacity:1\" cx=\"687.303\" cy=\"1406.65\" r=\"14\"/>\n",
       "<circle clip-path=\"url(#clip7802)\" style=\"fill:#000000; stroke:none; fill-opacity:1\" cx=\"687.303\" cy=\"1182.06\" r=\"18\"/>\n",
       "<circle clip-path=\"url(#clip7802)\" style=\"fill:#009af9; stroke:none; fill-opacity:1\" cx=\"687.303\" cy=\"1182.06\" r=\"14\"/>\n",
       "<circle clip-path=\"url(#clip7802)\" style=\"fill:#000000; stroke:none; fill-opacity:1\" cx=\"687.303\" cy=\"1420.01\" r=\"18\"/>\n",
       "<circle clip-path=\"url(#clip7802)\" style=\"fill:#009af9; stroke:none; fill-opacity:1\" cx=\"687.303\" cy=\"1420.01\" r=\"14\"/>\n",
       "<circle clip-path=\"url(#clip7802)\" style=\"fill:#000000; stroke:none; fill-opacity:1\" cx=\"687.303\" cy=\"1406.22\" r=\"18\"/>\n",
       "<circle clip-path=\"url(#clip7802)\" style=\"fill:#009af9; stroke:none; fill-opacity:1\" cx=\"687.303\" cy=\"1406.22\" r=\"14\"/>\n",
       "<circle clip-path=\"url(#clip7802)\" style=\"fill:#000000; stroke:none; fill-opacity:1\" cx=\"687.303\" cy=\"1413.81\" r=\"18\"/>\n",
       "<circle clip-path=\"url(#clip7802)\" style=\"fill:#009af9; stroke:none; fill-opacity:1\" cx=\"687.303\" cy=\"1413.81\" r=\"14\"/>\n",
       "<circle clip-path=\"url(#clip7802)\" style=\"fill:#000000; stroke:none; fill-opacity:1\" cx=\"687.303\" cy=\"1409.13\" r=\"18\"/>\n",
       "<circle clip-path=\"url(#clip7802)\" style=\"fill:#009af9; stroke:none; fill-opacity:1\" cx=\"687.303\" cy=\"1409.13\" r=\"14\"/>\n",
       "<circle clip-path=\"url(#clip7802)\" style=\"fill:#000000; stroke:none; fill-opacity:1\" cx=\"687.303\" cy=\"1181.72\" r=\"18\"/>\n",
       "<circle clip-path=\"url(#clip7802)\" style=\"fill:#009af9; stroke:none; fill-opacity:1\" cx=\"687.303\" cy=\"1181.72\" r=\"14\"/>\n",
       "<circle clip-path=\"url(#clip7802)\" style=\"fill:#000000; stroke:none; fill-opacity:1\" cx=\"687.303\" cy=\"1418.95\" r=\"18\"/>\n",
       "<circle clip-path=\"url(#clip7802)\" style=\"fill:#009af9; stroke:none; fill-opacity:1\" cx=\"687.303\" cy=\"1418.95\" r=\"14\"/>\n",
       "<circle clip-path=\"url(#clip7802)\" style=\"fill:#000000; stroke:none; fill-opacity:1\" cx=\"687.303\" cy=\"1148.61\" r=\"18\"/>\n",
       "<circle clip-path=\"url(#clip7802)\" style=\"fill:#009af9; stroke:none; fill-opacity:1\" cx=\"687.303\" cy=\"1148.61\" r=\"14\"/>\n",
       "<circle clip-path=\"url(#clip7802)\" style=\"fill:#000000; stroke:none; fill-opacity:1\" cx=\"687.303\" cy=\"1166.2\" r=\"18\"/>\n",
       "<circle clip-path=\"url(#clip7802)\" style=\"fill:#009af9; stroke:none; fill-opacity:1\" cx=\"687.303\" cy=\"1166.2\" r=\"14\"/>\n",
       "<circle clip-path=\"url(#clip7802)\" style=\"fill:#000000; stroke:none; fill-opacity:1\" cx=\"687.303\" cy=\"1428.03\" r=\"18\"/>\n",
       "<circle clip-path=\"url(#clip7802)\" style=\"fill:#009af9; stroke:none; fill-opacity:1\" cx=\"687.303\" cy=\"1428.03\" r=\"14\"/>\n",
       "<circle clip-path=\"url(#clip7802)\" style=\"fill:#000000; stroke:none; fill-opacity:1\" cx=\"687.303\" cy=\"1414.39\" r=\"18\"/>\n",
       "<circle clip-path=\"url(#clip7802)\" style=\"fill:#009af9; stroke:none; fill-opacity:1\" cx=\"687.303\" cy=\"1414.39\" r=\"14\"/>\n",
       "<circle clip-path=\"url(#clip7802)\" style=\"fill:#000000; stroke:none; fill-opacity:1\" cx=\"687.303\" cy=\"1417.58\" r=\"18\"/>\n",
       "<circle clip-path=\"url(#clip7802)\" style=\"fill:#009af9; stroke:none; fill-opacity:1\" cx=\"687.303\" cy=\"1417.58\" r=\"14\"/>\n",
       "<circle clip-path=\"url(#clip7802)\" style=\"fill:#000000; stroke:none; fill-opacity:1\" cx=\"687.303\" cy=\"1422.72\" r=\"18\"/>\n",
       "<circle clip-path=\"url(#clip7802)\" style=\"fill:#009af9; stroke:none; fill-opacity:1\" cx=\"687.303\" cy=\"1422.72\" r=\"14\"/>\n",
       "<circle clip-path=\"url(#clip7802)\" style=\"fill:#000000; stroke:none; fill-opacity:1\" cx=\"687.303\" cy=\"1432.74\" r=\"18\"/>\n",
       "<circle clip-path=\"url(#clip7802)\" style=\"fill:#009af9; stroke:none; fill-opacity:1\" cx=\"687.303\" cy=\"1432.74\" r=\"14\"/>\n",
       "<circle clip-path=\"url(#clip7802)\" style=\"fill:#000000; stroke:none; fill-opacity:1\" cx=\"687.303\" cy=\"1430.36\" r=\"18\"/>\n",
       "<circle clip-path=\"url(#clip7802)\" style=\"fill:#009af9; stroke:none; fill-opacity:1\" cx=\"687.303\" cy=\"1430.36\" r=\"14\"/>\n",
       "<circle clip-path=\"url(#clip7802)\" style=\"fill:#000000; stroke:none; fill-opacity:1\" cx=\"687.303\" cy=\"1417.32\" r=\"18\"/>\n",
       "<circle clip-path=\"url(#clip7802)\" style=\"fill:#009af9; stroke:none; fill-opacity:1\" cx=\"687.303\" cy=\"1417.32\" r=\"14\"/>\n",
       "<circle clip-path=\"url(#clip7802)\" style=\"fill:#000000; stroke:none; fill-opacity:1\" cx=\"687.303\" cy=\"1433.08\" r=\"18\"/>\n",
       "<circle clip-path=\"url(#clip7802)\" style=\"fill:#009af9; stroke:none; fill-opacity:1\" cx=\"687.303\" cy=\"1433.08\" r=\"14\"/>\n",
       "<circle clip-path=\"url(#clip7802)\" style=\"fill:#000000; stroke:none; fill-opacity:1\" cx=\"687.303\" cy=\"1421.94\" r=\"18\"/>\n",
       "<circle clip-path=\"url(#clip7802)\" style=\"fill:#009af9; stroke:none; fill-opacity:1\" cx=\"687.303\" cy=\"1421.94\" r=\"14\"/>\n",
       "<circle clip-path=\"url(#clip7802)\" style=\"fill:#000000; stroke:none; fill-opacity:1\" cx=\"687.303\" cy=\"1422.21\" r=\"18\"/>\n",
       "<circle clip-path=\"url(#clip7802)\" style=\"fill:#009af9; stroke:none; fill-opacity:1\" cx=\"687.303\" cy=\"1422.21\" r=\"14\"/>\n",
       "<circle clip-path=\"url(#clip7802)\" style=\"fill:#000000; stroke:none; fill-opacity:1\" cx=\"687.303\" cy=\"1420.1\" r=\"18\"/>\n",
       "<circle clip-path=\"url(#clip7802)\" style=\"fill:#009af9; stroke:none; fill-opacity:1\" cx=\"687.303\" cy=\"1420.1\" r=\"14\"/>\n",
       "<circle clip-path=\"url(#clip7802)\" style=\"fill:#000000; stroke:none; fill-opacity:1\" cx=\"687.303\" cy=\"1412.12\" r=\"18\"/>\n",
       "<circle clip-path=\"url(#clip7802)\" style=\"fill:#009af9; stroke:none; fill-opacity:1\" cx=\"687.303\" cy=\"1412.12\" r=\"14\"/>\n",
       "<circle clip-path=\"url(#clip7802)\" style=\"fill:#000000; stroke:none; fill-opacity:1\" cx=\"687.303\" cy=\"1418.7\" r=\"18\"/>\n",
       "<circle clip-path=\"url(#clip7802)\" style=\"fill:#009af9; stroke:none; fill-opacity:1\" cx=\"687.303\" cy=\"1418.7\" r=\"14\"/>\n",
       "<circle clip-path=\"url(#clip7802)\" style=\"fill:#000000; stroke:none; fill-opacity:1\" cx=\"687.303\" cy=\"1413.94\" r=\"18\"/>\n",
       "<circle clip-path=\"url(#clip7802)\" style=\"fill:#009af9; stroke:none; fill-opacity:1\" cx=\"687.303\" cy=\"1413.94\" r=\"14\"/>\n",
       "<circle clip-path=\"url(#clip7802)\" style=\"fill:#000000; stroke:none; fill-opacity:1\" cx=\"687.303\" cy=\"1419.18\" r=\"18\"/>\n",
       "<circle clip-path=\"url(#clip7802)\" style=\"fill:#009af9; stroke:none; fill-opacity:1\" cx=\"687.303\" cy=\"1419.18\" r=\"14\"/>\n",
       "<circle clip-path=\"url(#clip7802)\" style=\"fill:#000000; stroke:none; fill-opacity:1\" cx=\"687.303\" cy=\"1424.16\" r=\"18\"/>\n",
       "<circle clip-path=\"url(#clip7802)\" style=\"fill:#009af9; stroke:none; fill-opacity:1\" cx=\"687.303\" cy=\"1424.16\" r=\"14\"/>\n",
       "<circle clip-path=\"url(#clip7802)\" style=\"fill:#000000; stroke:none; fill-opacity:1\" cx=\"687.303\" cy=\"1406.49\" r=\"18\"/>\n",
       "<circle clip-path=\"url(#clip7802)\" style=\"fill:#009af9; stroke:none; fill-opacity:1\" cx=\"687.303\" cy=\"1406.49\" r=\"14\"/>\n",
       "<circle clip-path=\"url(#clip7802)\" style=\"fill:#000000; stroke:none; fill-opacity:1\" cx=\"687.303\" cy=\"1415.29\" r=\"18\"/>\n",
       "<circle clip-path=\"url(#clip7802)\" style=\"fill:#009af9; stroke:none; fill-opacity:1\" cx=\"687.303\" cy=\"1415.29\" r=\"14\"/>\n",
       "<circle clip-path=\"url(#clip7802)\" style=\"fill:#000000; stroke:none; fill-opacity:1\" cx=\"687.303\" cy=\"1419.14\" r=\"18\"/>\n",
       "<circle clip-path=\"url(#clip7802)\" style=\"fill:#009af9; stroke:none; fill-opacity:1\" cx=\"687.303\" cy=\"1419.14\" r=\"14\"/>\n",
       "<circle clip-path=\"url(#clip7802)\" style=\"fill:#000000; stroke:none; fill-opacity:1\" cx=\"687.303\" cy=\"1416.07\" r=\"18\"/>\n",
       "<circle clip-path=\"url(#clip7802)\" style=\"fill:#009af9; stroke:none; fill-opacity:1\" cx=\"687.303\" cy=\"1416.07\" r=\"14\"/>\n",
       "<circle clip-path=\"url(#clip7802)\" style=\"fill:#000000; stroke:none; fill-opacity:1\" cx=\"687.303\" cy=\"1414.36\" r=\"18\"/>\n",
       "<circle clip-path=\"url(#clip7802)\" style=\"fill:#009af9; stroke:none; fill-opacity:1\" cx=\"687.303\" cy=\"1414.36\" r=\"14\"/>\n",
       "<circle clip-path=\"url(#clip7802)\" style=\"fill:#000000; stroke:none; fill-opacity:1\" cx=\"687.303\" cy=\"1416.68\" r=\"18\"/>\n",
       "<circle clip-path=\"url(#clip7802)\" style=\"fill:#009af9; stroke:none; fill-opacity:1\" cx=\"687.303\" cy=\"1416.68\" r=\"14\"/>\n",
       "<circle clip-path=\"url(#clip7802)\" style=\"fill:#000000; stroke:none; fill-opacity:1\" cx=\"687.303\" cy=\"1173.73\" r=\"18\"/>\n",
       "<circle clip-path=\"url(#clip7802)\" style=\"fill:#009af9; stroke:none; fill-opacity:1\" cx=\"687.303\" cy=\"1173.73\" r=\"14\"/>\n",
       "<circle clip-path=\"url(#clip7802)\" style=\"fill:#000000; stroke:none; fill-opacity:1\" cx=\"687.303\" cy=\"1140.29\" r=\"18\"/>\n",
       "<circle clip-path=\"url(#clip7802)\" style=\"fill:#009af9; stroke:none; fill-opacity:1\" cx=\"687.303\" cy=\"1140.29\" r=\"14\"/>\n",
       "<circle clip-path=\"url(#clip7802)\" style=\"fill:#000000; stroke:none; fill-opacity:1\" cx=\"687.303\" cy=\"1179.52\" r=\"18\"/>\n",
       "<circle clip-path=\"url(#clip7802)\" style=\"fill:#009af9; stroke:none; fill-opacity:1\" cx=\"687.303\" cy=\"1179.52\" r=\"14\"/>\n",
       "<circle clip-path=\"url(#clip7802)\" style=\"fill:#000000; stroke:none; fill-opacity:1\" cx=\"687.303\" cy=\"1407.78\" r=\"18\"/>\n",
       "<circle clip-path=\"url(#clip7802)\" style=\"fill:#009af9; stroke:none; fill-opacity:1\" cx=\"687.303\" cy=\"1407.78\" r=\"14\"/>\n",
       "<circle clip-path=\"url(#clip7802)\" style=\"fill:#000000; stroke:none; fill-opacity:1\" cx=\"687.303\" cy=\"1415.1\" r=\"18\"/>\n",
       "<circle clip-path=\"url(#clip7802)\" style=\"fill:#009af9; stroke:none; fill-opacity:1\" cx=\"687.303\" cy=\"1415.1\" r=\"14\"/>\n",
       "<circle clip-path=\"url(#clip7802)\" style=\"fill:#000000; stroke:none; fill-opacity:1\" cx=\"687.303\" cy=\"1408.4\" r=\"18\"/>\n",
       "<circle clip-path=\"url(#clip7802)\" style=\"fill:#009af9; stroke:none; fill-opacity:1\" cx=\"687.303\" cy=\"1408.4\" r=\"14\"/>\n",
       "<circle clip-path=\"url(#clip7802)\" style=\"fill:#000000; stroke:none; fill-opacity:1\" cx=\"687.303\" cy=\"1413.03\" r=\"18\"/>\n",
       "<circle clip-path=\"url(#clip7802)\" style=\"fill:#009af9; stroke:none; fill-opacity:1\" cx=\"687.303\" cy=\"1413.03\" r=\"14\"/>\n",
       "<circle clip-path=\"url(#clip7802)\" style=\"fill:#000000; stroke:none; fill-opacity:1\" cx=\"687.303\" cy=\"1180.02\" r=\"18\"/>\n",
       "<circle clip-path=\"url(#clip7802)\" style=\"fill:#009af9; stroke:none; fill-opacity:1\" cx=\"687.303\" cy=\"1180.02\" r=\"14\"/>\n",
       "<circle clip-path=\"url(#clip7802)\" style=\"fill:#000000; stroke:none; fill-opacity:1\" cx=\"687.303\" cy=\"1420.36\" r=\"18\"/>\n",
       "<circle clip-path=\"url(#clip7802)\" style=\"fill:#009af9; stroke:none; fill-opacity:1\" cx=\"687.303\" cy=\"1420.36\" r=\"14\"/>\n",
       "<circle clip-path=\"url(#clip7802)\" style=\"fill:#000000; stroke:none; fill-opacity:1\" cx=\"687.303\" cy=\"1410.94\" r=\"18\"/>\n",
       "<circle clip-path=\"url(#clip7802)\" style=\"fill:#009af9; stroke:none; fill-opacity:1\" cx=\"687.303\" cy=\"1410.94\" r=\"14\"/>\n",
       "<circle clip-path=\"url(#clip7802)\" style=\"fill:#000000; stroke:none; fill-opacity:1\" cx=\"687.303\" cy=\"1173.88\" r=\"18\"/>\n",
       "<circle clip-path=\"url(#clip7802)\" style=\"fill:#009af9; stroke:none; fill-opacity:1\" cx=\"687.303\" cy=\"1173.88\" r=\"14\"/>\n",
       "<circle clip-path=\"url(#clip7802)\" style=\"fill:#000000; stroke:none; fill-opacity:1\" cx=\"687.303\" cy=\"1404.27\" r=\"18\"/>\n",
       "<circle clip-path=\"url(#clip7802)\" style=\"fill:#009af9; stroke:none; fill-opacity:1\" cx=\"687.303\" cy=\"1404.27\" r=\"14\"/>\n",
       "<circle clip-path=\"url(#clip7802)\" style=\"fill:#000000; stroke:none; fill-opacity:1\" cx=\"687.303\" cy=\"1426.69\" r=\"18\"/>\n",
       "<circle clip-path=\"url(#clip7802)\" style=\"fill:#009af9; stroke:none; fill-opacity:1\" cx=\"687.303\" cy=\"1426.69\" r=\"14\"/>\n",
       "<circle clip-path=\"url(#clip7802)\" style=\"fill:#000000; stroke:none; fill-opacity:1\" cx=\"687.303\" cy=\"1430.17\" r=\"18\"/>\n",
       "<circle clip-path=\"url(#clip7802)\" style=\"fill:#009af9; stroke:none; fill-opacity:1\" cx=\"687.303\" cy=\"1430.17\" r=\"14\"/>\n",
       "<circle clip-path=\"url(#clip7802)\" style=\"fill:#000000; stroke:none; fill-opacity:1\" cx=\"687.303\" cy=\"1175.78\" r=\"18\"/>\n",
       "<circle clip-path=\"url(#clip7802)\" style=\"fill:#009af9; stroke:none; fill-opacity:1\" cx=\"687.303\" cy=\"1175.78\" r=\"14\"/>\n",
       "<circle clip-path=\"url(#clip7802)\" style=\"fill:#000000; stroke:none; fill-opacity:1\" cx=\"687.303\" cy=\"1434.49\" r=\"18\"/>\n",
       "<circle clip-path=\"url(#clip7802)\" style=\"fill:#009af9; stroke:none; fill-opacity:1\" cx=\"687.303\" cy=\"1434.49\" r=\"14\"/>\n",
       "<circle clip-path=\"url(#clip7802)\" style=\"fill:#000000; stroke:none; fill-opacity:1\" cx=\"687.303\" cy=\"1170.75\" r=\"18\"/>\n",
       "<circle clip-path=\"url(#clip7802)\" style=\"fill:#009af9; stroke:none; fill-opacity:1\" cx=\"687.303\" cy=\"1170.75\" r=\"14\"/>\n",
       "<circle clip-path=\"url(#clip7802)\" style=\"fill:#000000; stroke:none; fill-opacity:1\" cx=\"687.303\" cy=\"1092.78\" r=\"18\"/>\n",
       "<circle clip-path=\"url(#clip7802)\" style=\"fill:#009af9; stroke:none; fill-opacity:1\" cx=\"687.303\" cy=\"1092.78\" r=\"14\"/>\n",
       "<circle clip-path=\"url(#clip7802)\" style=\"fill:#000000; stroke:none; fill-opacity:1\" cx=\"687.303\" cy=\"1064.54\" r=\"18\"/>\n",
       "<circle clip-path=\"url(#clip7802)\" style=\"fill:#009af9; stroke:none; fill-opacity:1\" cx=\"687.303\" cy=\"1064.54\" r=\"14\"/>\n",
       "<circle clip-path=\"url(#clip7802)\" style=\"fill:#000000; stroke:none; fill-opacity:1\" cx=\"687.303\" cy=\"1438.03\" r=\"18\"/>\n",
       "<circle clip-path=\"url(#clip7802)\" style=\"fill:#009af9; stroke:none; fill-opacity:1\" cx=\"687.303\" cy=\"1438.03\" r=\"14\"/>\n",
       "<circle clip-path=\"url(#clip7802)\" style=\"fill:#000000; stroke:none; fill-opacity:1\" cx=\"687.303\" cy=\"1161.25\" r=\"18\"/>\n",
       "<circle clip-path=\"url(#clip7802)\" style=\"fill:#009af9; stroke:none; fill-opacity:1\" cx=\"687.303\" cy=\"1161.25\" r=\"14\"/>\n",
       "<circle clip-path=\"url(#clip7802)\" style=\"fill:#000000; stroke:none; fill-opacity:1\" cx=\"687.303\" cy=\"1427.95\" r=\"18\"/>\n",
       "<circle clip-path=\"url(#clip7802)\" style=\"fill:#009af9; stroke:none; fill-opacity:1\" cx=\"687.303\" cy=\"1427.95\" r=\"14\"/>\n",
       "<circle clip-path=\"url(#clip7802)\" style=\"fill:#000000; stroke:none; fill-opacity:1\" cx=\"687.303\" cy=\"1418.77\" r=\"18\"/>\n",
       "<circle clip-path=\"url(#clip7802)\" style=\"fill:#009af9; stroke:none; fill-opacity:1\" cx=\"687.303\" cy=\"1418.77\" r=\"14\"/>\n",
       "<circle clip-path=\"url(#clip7802)\" style=\"fill:#000000; stroke:none; fill-opacity:1\" cx=\"687.303\" cy=\"1434.43\" r=\"18\"/>\n",
       "<circle clip-path=\"url(#clip7802)\" style=\"fill:#009af9; stroke:none; fill-opacity:1\" cx=\"687.303\" cy=\"1434.43\" r=\"14\"/>\n",
       "<circle clip-path=\"url(#clip7802)\" style=\"fill:#000000; stroke:none; fill-opacity:1\" cx=\"687.303\" cy=\"1174.39\" r=\"18\"/>\n",
       "<circle clip-path=\"url(#clip7802)\" style=\"fill:#009af9; stroke:none; fill-opacity:1\" cx=\"687.303\" cy=\"1174.39\" r=\"14\"/>\n",
       "<circle clip-path=\"url(#clip7802)\" style=\"fill:#000000; stroke:none; fill-opacity:1\" cx=\"687.303\" cy=\"1142.81\" r=\"18\"/>\n",
       "<circle clip-path=\"url(#clip7802)\" style=\"fill:#009af9; stroke:none; fill-opacity:1\" cx=\"687.303\" cy=\"1142.81\" r=\"14\"/>\n",
       "<circle clip-path=\"url(#clip7802)\" style=\"fill:#000000; stroke:none; fill-opacity:1\" cx=\"687.303\" cy=\"1183.26\" r=\"18\"/>\n",
       "<circle clip-path=\"url(#clip7802)\" style=\"fill:#009af9; stroke:none; fill-opacity:1\" cx=\"687.303\" cy=\"1183.26\" r=\"14\"/>\n",
       "<circle clip-path=\"url(#clip7802)\" style=\"fill:#000000; stroke:none; fill-opacity:1\" cx=\"687.303\" cy=\"1142.11\" r=\"18\"/>\n",
       "<circle clip-path=\"url(#clip7802)\" style=\"fill:#009af9; stroke:none; fill-opacity:1\" cx=\"687.303\" cy=\"1142.11\" r=\"14\"/>\n",
       "<circle clip-path=\"url(#clip7802)\" style=\"fill:#000000; stroke:none; fill-opacity:1\" cx=\"687.303\" cy=\"1135.38\" r=\"18\"/>\n",
       "<circle clip-path=\"url(#clip7802)\" style=\"fill:#009af9; stroke:none; fill-opacity:1\" cx=\"687.303\" cy=\"1135.38\" r=\"14\"/>\n",
       "<circle clip-path=\"url(#clip7802)\" style=\"fill:#000000; stroke:none; fill-opacity:1\" cx=\"687.303\" cy=\"1179.38\" r=\"18\"/>\n",
       "<circle clip-path=\"url(#clip7802)\" style=\"fill:#009af9; stroke:none; fill-opacity:1\" cx=\"687.303\" cy=\"1179.38\" r=\"14\"/>\n",
       "<circle clip-path=\"url(#clip7802)\" style=\"fill:#000000; stroke:none; fill-opacity:1\" cx=\"687.303\" cy=\"1178.6\" r=\"18\"/>\n",
       "<circle clip-path=\"url(#clip7802)\" style=\"fill:#009af9; stroke:none; fill-opacity:1\" cx=\"687.303\" cy=\"1178.6\" r=\"14\"/>\n",
       "<circle clip-path=\"url(#clip7802)\" style=\"fill:#000000; stroke:none; fill-opacity:1\" cx=\"687.303\" cy=\"1172.43\" r=\"18\"/>\n",
       "<circle clip-path=\"url(#clip7802)\" style=\"fill:#009af9; stroke:none; fill-opacity:1\" cx=\"687.303\" cy=\"1172.43\" r=\"14\"/>\n",
       "<circle clip-path=\"url(#clip7802)\" style=\"fill:#000000; stroke:none; fill-opacity:1\" cx=\"687.303\" cy=\"1180.75\" r=\"18\"/>\n",
       "<circle clip-path=\"url(#clip7802)\" style=\"fill:#009af9; stroke:none; fill-opacity:1\" cx=\"687.303\" cy=\"1180.75\" r=\"14\"/>\n",
       "<circle clip-path=\"url(#clip7802)\" style=\"fill:#000000; stroke:none; fill-opacity:1\" cx=\"687.303\" cy=\"1176.82\" r=\"18\"/>\n",
       "<circle clip-path=\"url(#clip7802)\" style=\"fill:#009af9; stroke:none; fill-opacity:1\" cx=\"687.303\" cy=\"1176.82\" r=\"14\"/>\n",
       "<circle clip-path=\"url(#clip7802)\" style=\"fill:#000000; stroke:none; fill-opacity:1\" cx=\"687.303\" cy=\"1149.15\" r=\"18\"/>\n",
       "<circle clip-path=\"url(#clip7802)\" style=\"fill:#009af9; stroke:none; fill-opacity:1\" cx=\"687.303\" cy=\"1149.15\" r=\"14\"/>\n",
       "<circle clip-path=\"url(#clip7802)\" style=\"fill:#000000; stroke:none; fill-opacity:1\" cx=\"687.303\" cy=\"1134.2\" r=\"18\"/>\n",
       "<circle clip-path=\"url(#clip7802)\" style=\"fill:#009af9; stroke:none; fill-opacity:1\" cx=\"687.303\" cy=\"1134.2\" r=\"14\"/>\n",
       "<circle clip-path=\"url(#clip7802)\" style=\"fill:#000000; stroke:none; fill-opacity:1\" cx=\"687.303\" cy=\"1152.67\" r=\"18\"/>\n",
       "<circle clip-path=\"url(#clip7802)\" style=\"fill:#009af9; stroke:none; fill-opacity:1\" cx=\"687.303\" cy=\"1152.67\" r=\"14\"/>\n",
       "<circle clip-path=\"url(#clip7802)\" style=\"fill:#000000; stroke:none; fill-opacity:1\" cx=\"687.303\" cy=\"1406.06\" r=\"18\"/>\n",
       "<circle clip-path=\"url(#clip7802)\" style=\"fill:#009af9; stroke:none; fill-opacity:1\" cx=\"687.303\" cy=\"1406.06\" r=\"14\"/>\n",
       "<circle clip-path=\"url(#clip7802)\" style=\"fill:#000000; stroke:none; fill-opacity:1\" cx=\"687.303\" cy=\"1178.13\" r=\"18\"/>\n",
       "<circle clip-path=\"url(#clip7802)\" style=\"fill:#009af9; stroke:none; fill-opacity:1\" cx=\"687.303\" cy=\"1178.13\" r=\"14\"/>\n",
       "<circle clip-path=\"url(#clip7802)\" style=\"fill:#000000; stroke:none; fill-opacity:1\" cx=\"687.303\" cy=\"1139.36\" r=\"18\"/>\n",
       "<circle clip-path=\"url(#clip7802)\" style=\"fill:#009af9; stroke:none; fill-opacity:1\" cx=\"687.303\" cy=\"1139.36\" r=\"14\"/>\n",
       "<circle clip-path=\"url(#clip7802)\" style=\"fill:#000000; stroke:none; fill-opacity:1\" cx=\"687.303\" cy=\"1124.75\" r=\"18\"/>\n",
       "<circle clip-path=\"url(#clip7802)\" style=\"fill:#009af9; stroke:none; fill-opacity:1\" cx=\"687.303\" cy=\"1124.75\" r=\"14\"/>\n",
       "<circle clip-path=\"url(#clip7802)\" style=\"fill:#000000; stroke:none; fill-opacity:1\" cx=\"687.303\" cy=\"1156.79\" r=\"18\"/>\n",
       "<circle clip-path=\"url(#clip7802)\" style=\"fill:#009af9; stroke:none; fill-opacity:1\" cx=\"687.303\" cy=\"1156.79\" r=\"14\"/>\n",
       "<circle clip-path=\"url(#clip7802)\" style=\"fill:#000000; stroke:none; fill-opacity:1\" cx=\"687.303\" cy=\"1165.25\" r=\"18\"/>\n",
       "<circle clip-path=\"url(#clip7802)\" style=\"fill:#009af9; stroke:none; fill-opacity:1\" cx=\"687.303\" cy=\"1165.25\" r=\"14\"/>\n",
       "<circle clip-path=\"url(#clip7802)\" style=\"fill:#000000; stroke:none; fill-opacity:1\" cx=\"687.303\" cy=\"1134.93\" r=\"18\"/>\n",
       "<circle clip-path=\"url(#clip7802)\" style=\"fill:#009af9; stroke:none; fill-opacity:1\" cx=\"687.303\" cy=\"1134.93\" r=\"14\"/>\n",
       "<circle clip-path=\"url(#clip7802)\" style=\"fill:#000000; stroke:none; fill-opacity:1\" cx=\"687.303\" cy=\"1163.32\" r=\"18\"/>\n",
       "<circle clip-path=\"url(#clip7802)\" style=\"fill:#009af9; stroke:none; fill-opacity:1\" cx=\"687.303\" cy=\"1163.32\" r=\"14\"/>\n",
       "<circle clip-path=\"url(#clip7802)\" style=\"fill:#000000; stroke:none; fill-opacity:1\" cx=\"687.303\" cy=\"1410.17\" r=\"18\"/>\n",
       "<circle clip-path=\"url(#clip7802)\" style=\"fill:#009af9; stroke:none; fill-opacity:1\" cx=\"687.303\" cy=\"1410.17\" r=\"14\"/>\n",
       "<circle clip-path=\"url(#clip7802)\" style=\"fill:#000000; stroke:none; fill-opacity:1\" cx=\"687.303\" cy=\"1185.64\" r=\"18\"/>\n",
       "<circle clip-path=\"url(#clip7802)\" style=\"fill:#009af9; stroke:none; fill-opacity:1\" cx=\"687.303\" cy=\"1185.64\" r=\"14\"/>\n",
       "<circle clip-path=\"url(#clip7802)\" style=\"fill:#000000; stroke:none; fill-opacity:1\" cx=\"687.303\" cy=\"1423.07\" r=\"18\"/>\n",
       "<circle clip-path=\"url(#clip7802)\" style=\"fill:#009af9; stroke:none; fill-opacity:1\" cx=\"687.303\" cy=\"1423.07\" r=\"14\"/>\n",
       "<circle clip-path=\"url(#clip7802)\" style=\"fill:#000000; stroke:none; fill-opacity:1\" cx=\"687.303\" cy=\"1403.31\" r=\"18\"/>\n",
       "<circle clip-path=\"url(#clip7802)\" style=\"fill:#009af9; stroke:none; fill-opacity:1\" cx=\"687.303\" cy=\"1403.31\" r=\"14\"/>\n",
       "<circle clip-path=\"url(#clip7802)\" style=\"fill:#000000; stroke:none; fill-opacity:1\" cx=\"687.303\" cy=\"1413.14\" r=\"18\"/>\n",
       "<circle clip-path=\"url(#clip7802)\" style=\"fill:#009af9; stroke:none; fill-opacity:1\" cx=\"687.303\" cy=\"1413.14\" r=\"14\"/>\n",
       "<circle clip-path=\"url(#clip7802)\" style=\"fill:#000000; stroke:none; fill-opacity:1\" cx=\"687.303\" cy=\"1413.07\" r=\"18\"/>\n",
       "<circle clip-path=\"url(#clip7802)\" style=\"fill:#009af9; stroke:none; fill-opacity:1\" cx=\"687.303\" cy=\"1413.07\" r=\"14\"/>\n",
       "<circle clip-path=\"url(#clip7802)\" style=\"fill:#000000; stroke:none; fill-opacity:1\" cx=\"687.303\" cy=\"1436.86\" r=\"18\"/>\n",
       "<circle clip-path=\"url(#clip7802)\" style=\"fill:#009af9; stroke:none; fill-opacity:1\" cx=\"687.303\" cy=\"1436.86\" r=\"14\"/>\n",
       "<circle clip-path=\"url(#clip7802)\" style=\"fill:#000000; stroke:none; fill-opacity:1\" cx=\"687.303\" cy=\"1419.96\" r=\"18\"/>\n",
       "<circle clip-path=\"url(#clip7802)\" style=\"fill:#009af9; stroke:none; fill-opacity:1\" cx=\"687.303\" cy=\"1419.96\" r=\"14\"/>\n",
       "<circle clip-path=\"url(#clip7802)\" style=\"fill:#000000; stroke:none; fill-opacity:1\" cx=\"687.303\" cy=\"1415.36\" r=\"18\"/>\n",
       "<circle clip-path=\"url(#clip7802)\" style=\"fill:#009af9; stroke:none; fill-opacity:1\" cx=\"687.303\" cy=\"1415.36\" r=\"14\"/>\n",
       "<circle clip-path=\"url(#clip7802)\" style=\"fill:#000000; stroke:none; fill-opacity:1\" cx=\"687.303\" cy=\"1185.37\" r=\"18\"/>\n",
       "<circle clip-path=\"url(#clip7802)\" style=\"fill:#009af9; stroke:none; fill-opacity:1\" cx=\"687.303\" cy=\"1185.37\" r=\"14\"/>\n",
       "<circle clip-path=\"url(#clip7802)\" style=\"fill:#000000; stroke:none; fill-opacity:1\" cx=\"687.303\" cy=\"1419\" r=\"18\"/>\n",
       "<circle clip-path=\"url(#clip7802)\" style=\"fill:#009af9; stroke:none; fill-opacity:1\" cx=\"687.303\" cy=\"1419\" r=\"14\"/>\n",
       "<circle clip-path=\"url(#clip7802)\" style=\"fill:#000000; stroke:none; fill-opacity:1\" cx=\"687.303\" cy=\"1419.72\" r=\"18\"/>\n",
       "<circle clip-path=\"url(#clip7802)\" style=\"fill:#009af9; stroke:none; fill-opacity:1\" cx=\"687.303\" cy=\"1419.72\" r=\"14\"/>\n",
       "<circle clip-path=\"url(#clip7802)\" style=\"fill:#000000; stroke:none; fill-opacity:1\" cx=\"687.303\" cy=\"1417.53\" r=\"18\"/>\n",
       "<circle clip-path=\"url(#clip7802)\" style=\"fill:#009af9; stroke:none; fill-opacity:1\" cx=\"687.303\" cy=\"1417.53\" r=\"14\"/>\n",
       "<circle clip-path=\"url(#clip7802)\" style=\"fill:#000000; stroke:none; fill-opacity:1\" cx=\"687.303\" cy=\"1181.26\" r=\"18\"/>\n",
       "<circle clip-path=\"url(#clip7802)\" style=\"fill:#009af9; stroke:none; fill-opacity:1\" cx=\"687.303\" cy=\"1181.26\" r=\"14\"/>\n",
       "<circle clip-path=\"url(#clip7802)\" style=\"fill:#000000; stroke:none; fill-opacity:1\" cx=\"687.303\" cy=\"1428.44\" r=\"18\"/>\n",
       "<circle clip-path=\"url(#clip7802)\" style=\"fill:#009af9; stroke:none; fill-opacity:1\" cx=\"687.303\" cy=\"1428.44\" r=\"14\"/>\n",
       "<circle clip-path=\"url(#clip7802)\" style=\"fill:#000000; stroke:none; fill-opacity:1\" cx=\"687.303\" cy=\"1419.62\" r=\"18\"/>\n",
       "<circle clip-path=\"url(#clip7802)\" style=\"fill:#009af9; stroke:none; fill-opacity:1\" cx=\"687.303\" cy=\"1419.62\" r=\"14\"/>\n",
       "<circle clip-path=\"url(#clip7802)\" style=\"fill:#000000; stroke:none; fill-opacity:1\" cx=\"687.303\" cy=\"1419.3\" r=\"18\"/>\n",
       "<circle clip-path=\"url(#clip7802)\" style=\"fill:#009af9; stroke:none; fill-opacity:1\" cx=\"687.303\" cy=\"1419.3\" r=\"14\"/>\n",
       "<circle clip-path=\"url(#clip7802)\" style=\"fill:#000000; stroke:none; fill-opacity:1\" cx=\"687.303\" cy=\"1418.43\" r=\"18\"/>\n",
       "<circle clip-path=\"url(#clip7802)\" style=\"fill:#009af9; stroke:none; fill-opacity:1\" cx=\"687.303\" cy=\"1418.43\" r=\"14\"/>\n",
       "<circle clip-path=\"url(#clip7802)\" style=\"fill:#000000; stroke:none; fill-opacity:1\" cx=\"687.303\" cy=\"1166.2\" r=\"18\"/>\n",
       "<circle clip-path=\"url(#clip7802)\" style=\"fill:#009af9; stroke:none; fill-opacity:1\" cx=\"687.303\" cy=\"1166.2\" r=\"14\"/>\n",
       "<circle clip-path=\"url(#clip7802)\" style=\"fill:#000000; stroke:none; fill-opacity:1\" cx=\"687.303\" cy=\"1410.54\" r=\"18\"/>\n",
       "<circle clip-path=\"url(#clip7802)\" style=\"fill:#009af9; stroke:none; fill-opacity:1\" cx=\"687.303\" cy=\"1410.54\" r=\"14\"/>\n",
       "<circle clip-path=\"url(#clip7802)\" style=\"fill:#000000; stroke:none; fill-opacity:1\" cx=\"687.303\" cy=\"1169.97\" r=\"18\"/>\n",
       "<circle clip-path=\"url(#clip7802)\" style=\"fill:#009af9; stroke:none; fill-opacity:1\" cx=\"687.303\" cy=\"1169.97\" r=\"14\"/>\n",
       "<circle clip-path=\"url(#clip7802)\" style=\"fill:#000000; stroke:none; fill-opacity:1\" cx=\"687.303\" cy=\"1177.55\" r=\"18\"/>\n",
       "<circle clip-path=\"url(#clip7802)\" style=\"fill:#009af9; stroke:none; fill-opacity:1\" cx=\"687.303\" cy=\"1177.55\" r=\"14\"/>\n",
       "<circle clip-path=\"url(#clip7802)\" style=\"fill:#000000; stroke:none; fill-opacity:1\" cx=\"687.303\" cy=\"1136.08\" r=\"18\"/>\n",
       "<circle clip-path=\"url(#clip7802)\" style=\"fill:#009af9; stroke:none; fill-opacity:1\" cx=\"687.303\" cy=\"1136.08\" r=\"14\"/>\n",
       "<circle clip-path=\"url(#clip7802)\" style=\"fill:#000000; stroke:none; fill-opacity:1\" cx=\"687.303\" cy=\"1177.21\" r=\"18\"/>\n",
       "<circle clip-path=\"url(#clip7802)\" style=\"fill:#009af9; stroke:none; fill-opacity:1\" cx=\"687.303\" cy=\"1177.21\" r=\"14\"/>\n",
       "<circle clip-path=\"url(#clip7802)\" style=\"fill:#000000; stroke:none; fill-opacity:1\" cx=\"687.303\" cy=\"1177.64\" r=\"18\"/>\n",
       "<circle clip-path=\"url(#clip7802)\" style=\"fill:#009af9; stroke:none; fill-opacity:1\" cx=\"687.303\" cy=\"1177.64\" r=\"14\"/>\n",
       "<circle clip-path=\"url(#clip7802)\" style=\"fill:#000000; stroke:none; fill-opacity:1\" cx=\"687.303\" cy=\"1183.99\" r=\"18\"/>\n",
       "<circle clip-path=\"url(#clip7802)\" style=\"fill:#009af9; stroke:none; fill-opacity:1\" cx=\"687.303\" cy=\"1183.99\" r=\"14\"/>\n",
       "<circle clip-path=\"url(#clip7802)\" style=\"fill:#000000; stroke:none; fill-opacity:1\" cx=\"687.303\" cy=\"1182.6\" r=\"18\"/>\n",
       "<circle clip-path=\"url(#clip7802)\" style=\"fill:#009af9; stroke:none; fill-opacity:1\" cx=\"687.303\" cy=\"1182.6\" r=\"14\"/>\n",
       "<circle clip-path=\"url(#clip7802)\" style=\"fill:#000000; stroke:none; fill-opacity:1\" cx=\"687.303\" cy=\"1175.86\" r=\"18\"/>\n",
       "<circle clip-path=\"url(#clip7802)\" style=\"fill:#009af9; stroke:none; fill-opacity:1\" cx=\"687.303\" cy=\"1175.86\" r=\"14\"/>\n",
       "<circle clip-path=\"url(#clip7802)\" style=\"fill:#000000; stroke:none; fill-opacity:1\" cx=\"687.303\" cy=\"1405.23\" r=\"18\"/>\n",
       "<circle clip-path=\"url(#clip7802)\" style=\"fill:#009af9; stroke:none; fill-opacity:1\" cx=\"687.303\" cy=\"1405.23\" r=\"14\"/>\n",
       "<circle clip-path=\"url(#clip7802)\" style=\"fill:#000000; stroke:none; fill-opacity:1\" cx=\"687.303\" cy=\"1182.62\" r=\"18\"/>\n",
       "<circle clip-path=\"url(#clip7802)\" style=\"fill:#009af9; stroke:none; fill-opacity:1\" cx=\"687.303\" cy=\"1182.62\" r=\"14\"/>\n",
       "<circle clip-path=\"url(#clip7802)\" style=\"fill:#000000; stroke:none; fill-opacity:1\" cx=\"687.303\" cy=\"1183.46\" r=\"18\"/>\n",
       "<circle clip-path=\"url(#clip7802)\" style=\"fill:#009af9; stroke:none; fill-opacity:1\" cx=\"687.303\" cy=\"1183.46\" r=\"14\"/>\n",
       "<circle clip-path=\"url(#clip7802)\" style=\"fill:#000000; stroke:none; fill-opacity:1\" cx=\"687.303\" cy=\"1405.99\" r=\"18\"/>\n",
       "<circle clip-path=\"url(#clip7802)\" style=\"fill:#009af9; stroke:none; fill-opacity:1\" cx=\"687.303\" cy=\"1405.99\" r=\"14\"/>\n",
       "<circle clip-path=\"url(#clip7802)\" style=\"fill:#000000; stroke:none; fill-opacity:1\" cx=\"687.303\" cy=\"1183.07\" r=\"18\"/>\n",
       "<circle clip-path=\"url(#clip7802)\" style=\"fill:#009af9; stroke:none; fill-opacity:1\" cx=\"687.303\" cy=\"1183.07\" r=\"14\"/>\n",
       "<circle clip-path=\"url(#clip7802)\" style=\"fill:#000000; stroke:none; fill-opacity:1\" cx=\"687.303\" cy=\"1404.45\" r=\"18\"/>\n",
       "<circle clip-path=\"url(#clip7802)\" style=\"fill:#009af9; stroke:none; fill-opacity:1\" cx=\"687.303\" cy=\"1404.45\" r=\"14\"/>\n",
       "<circle clip-path=\"url(#clip7802)\" style=\"fill:#000000; stroke:none; fill-opacity:1\" cx=\"687.303\" cy=\"1418\" r=\"18\"/>\n",
       "<circle clip-path=\"url(#clip7802)\" style=\"fill:#009af9; stroke:none; fill-opacity:1\" cx=\"687.303\" cy=\"1418\" r=\"14\"/>\n",
       "<circle clip-path=\"url(#clip7802)\" style=\"fill:#000000; stroke:none; fill-opacity:1\" cx=\"687.303\" cy=\"1423.45\" r=\"18\"/>\n",
       "<circle clip-path=\"url(#clip7802)\" style=\"fill:#009af9; stroke:none; fill-opacity:1\" cx=\"687.303\" cy=\"1423.45\" r=\"14\"/>\n",
       "<circle clip-path=\"url(#clip7802)\" style=\"fill:#000000; stroke:none; fill-opacity:1\" cx=\"687.303\" cy=\"1417.15\" r=\"18\"/>\n",
       "<circle clip-path=\"url(#clip7802)\" style=\"fill:#009af9; stroke:none; fill-opacity:1\" cx=\"687.303\" cy=\"1417.15\" r=\"14\"/>\n",
       "<circle clip-path=\"url(#clip7802)\" style=\"fill:#000000; stroke:none; fill-opacity:1\" cx=\"687.303\" cy=\"1415.59\" r=\"18\"/>\n",
       "<circle clip-path=\"url(#clip7802)\" style=\"fill:#009af9; stroke:none; fill-opacity:1\" cx=\"687.303\" cy=\"1415.59\" r=\"14\"/>\n",
       "<circle clip-path=\"url(#clip7802)\" style=\"fill:#000000; stroke:none; fill-opacity:1\" cx=\"687.303\" cy=\"1418.15\" r=\"18\"/>\n",
       "<circle clip-path=\"url(#clip7802)\" style=\"fill:#009af9; stroke:none; fill-opacity:1\" cx=\"687.303\" cy=\"1418.15\" r=\"14\"/>\n",
       "<circle clip-path=\"url(#clip7802)\" style=\"fill:#000000; stroke:none; fill-opacity:1\" cx=\"687.303\" cy=\"1412.59\" r=\"18\"/>\n",
       "<circle clip-path=\"url(#clip7802)\" style=\"fill:#009af9; stroke:none; fill-opacity:1\" cx=\"687.303\" cy=\"1412.59\" r=\"14\"/>\n",
       "<circle clip-path=\"url(#clip7802)\" style=\"fill:#000000; stroke:none; fill-opacity:1\" cx=\"687.303\" cy=\"1410.57\" r=\"18\"/>\n",
       "<circle clip-path=\"url(#clip7802)\" style=\"fill:#009af9; stroke:none; fill-opacity:1\" cx=\"687.303\" cy=\"1410.57\" r=\"14\"/>\n",
       "<circle clip-path=\"url(#clip7802)\" style=\"fill:#000000; stroke:none; fill-opacity:1\" cx=\"687.303\" cy=\"1168.21\" r=\"18\"/>\n",
       "<circle clip-path=\"url(#clip7802)\" style=\"fill:#009af9; stroke:none; fill-opacity:1\" cx=\"687.303\" cy=\"1168.21\" r=\"14\"/>\n",
       "<circle clip-path=\"url(#clip7802)\" style=\"fill:#000000; stroke:none; fill-opacity:1\" cx=\"687.303\" cy=\"1140.57\" r=\"18\"/>\n",
       "<circle clip-path=\"url(#clip7802)\" style=\"fill:#009af9; stroke:none; fill-opacity:1\" cx=\"687.303\" cy=\"1140.57\" r=\"14\"/>\n",
       "<circle clip-path=\"url(#clip7802)\" style=\"fill:#000000; stroke:none; fill-opacity:1\" cx=\"687.303\" cy=\"1404.15\" r=\"18\"/>\n",
       "<circle clip-path=\"url(#clip7802)\" style=\"fill:#009af9; stroke:none; fill-opacity:1\" cx=\"687.303\" cy=\"1404.15\" r=\"14\"/>\n",
       "<circle clip-path=\"url(#clip7802)\" style=\"fill:#000000; stroke:none; fill-opacity:1\" cx=\"687.303\" cy=\"1413.45\" r=\"18\"/>\n",
       "<circle clip-path=\"url(#clip7802)\" style=\"fill:#009af9; stroke:none; fill-opacity:1\" cx=\"687.303\" cy=\"1413.45\" r=\"14\"/>\n",
       "<circle clip-path=\"url(#clip7802)\" style=\"fill:#000000; stroke:none; fill-opacity:1\" cx=\"687.303\" cy=\"1160.11\" r=\"18\"/>\n",
       "<circle clip-path=\"url(#clip7802)\" style=\"fill:#009af9; stroke:none; fill-opacity:1\" cx=\"687.303\" cy=\"1160.11\" r=\"14\"/>\n",
       "<circle clip-path=\"url(#clip7802)\" style=\"fill:#000000; stroke:none; fill-opacity:1\" cx=\"687.303\" cy=\"1186.39\" r=\"18\"/>\n",
       "<circle clip-path=\"url(#clip7802)\" style=\"fill:#009af9; stroke:none; fill-opacity:1\" cx=\"687.303\" cy=\"1186.39\" r=\"14\"/>\n",
       "<circle clip-path=\"url(#clip7802)\" style=\"fill:#000000; stroke:none; fill-opacity:1\" cx=\"687.303\" cy=\"1133.03\" r=\"18\"/>\n",
       "<circle clip-path=\"url(#clip7802)\" style=\"fill:#009af9; stroke:none; fill-opacity:1\" cx=\"687.303\" cy=\"1133.03\" r=\"14\"/>\n",
       "<circle clip-path=\"url(#clip7802)\" style=\"fill:#000000; stroke:none; fill-opacity:1\" cx=\"687.303\" cy=\"1415.04\" r=\"18\"/>\n",
       "<circle clip-path=\"url(#clip7802)\" style=\"fill:#009af9; stroke:none; fill-opacity:1\" cx=\"687.303\" cy=\"1415.04\" r=\"14\"/>\n",
       "<circle clip-path=\"url(#clip7802)\" style=\"fill:#000000; stroke:none; fill-opacity:1\" cx=\"687.303\" cy=\"1062.04\" r=\"18\"/>\n",
       "<circle clip-path=\"url(#clip7802)\" style=\"fill:#009af9; stroke:none; fill-opacity:1\" cx=\"687.303\" cy=\"1062.04\" r=\"14\"/>\n",
       "<circle clip-path=\"url(#clip7802)\" style=\"fill:#000000; stroke:none; fill-opacity:1\" cx=\"687.303\" cy=\"1407.4\" r=\"18\"/>\n",
       "<circle clip-path=\"url(#clip7802)\" style=\"fill:#009af9; stroke:none; fill-opacity:1\" cx=\"687.303\" cy=\"1407.4\" r=\"14\"/>\n",
       "<circle clip-path=\"url(#clip7802)\" style=\"fill:#000000; stroke:none; fill-opacity:1\" cx=\"687.303\" cy=\"1428.9\" r=\"18\"/>\n",
       "<circle clip-path=\"url(#clip7802)\" style=\"fill:#009af9; stroke:none; fill-opacity:1\" cx=\"687.303\" cy=\"1428.9\" r=\"14\"/>\n",
       "<circle clip-path=\"url(#clip7802)\" style=\"fill:#000000; stroke:none; fill-opacity:1\" cx=\"687.303\" cy=\"1425.87\" r=\"18\"/>\n",
       "<circle clip-path=\"url(#clip7802)\" style=\"fill:#009af9; stroke:none; fill-opacity:1\" cx=\"687.303\" cy=\"1425.87\" r=\"14\"/>\n",
       "<circle clip-path=\"url(#clip7802)\" style=\"fill:#000000; stroke:none; fill-opacity:1\" cx=\"687.303\" cy=\"1414.78\" r=\"18\"/>\n",
       "<circle clip-path=\"url(#clip7802)\" style=\"fill:#009af9; stroke:none; fill-opacity:1\" cx=\"687.303\" cy=\"1414.78\" r=\"14\"/>\n",
       "<circle clip-path=\"url(#clip7802)\" style=\"fill:#000000; stroke:none; fill-opacity:1\" cx=\"687.303\" cy=\"1426.47\" r=\"18\"/>\n",
       "<circle clip-path=\"url(#clip7802)\" style=\"fill:#009af9; stroke:none; fill-opacity:1\" cx=\"687.303\" cy=\"1426.47\" r=\"14\"/>\n",
       "<circle clip-path=\"url(#clip7802)\" style=\"fill:#000000; stroke:none; fill-opacity:1\" cx=\"687.303\" cy=\"1430.22\" r=\"18\"/>\n",
       "<circle clip-path=\"url(#clip7802)\" style=\"fill:#009af9; stroke:none; fill-opacity:1\" cx=\"687.303\" cy=\"1430.22\" r=\"14\"/>\n",
       "<circle clip-path=\"url(#clip7802)\" style=\"fill:#000000; stroke:none; fill-opacity:1\" cx=\"687.303\" cy=\"1414.96\" r=\"18\"/>\n",
       "<circle clip-path=\"url(#clip7802)\" style=\"fill:#009af9; stroke:none; fill-opacity:1\" cx=\"687.303\" cy=\"1414.96\" r=\"14\"/>\n",
       "<circle clip-path=\"url(#clip7802)\" style=\"fill:#000000; stroke:none; fill-opacity:1\" cx=\"687.303\" cy=\"1415.43\" r=\"18\"/>\n",
       "<circle clip-path=\"url(#clip7802)\" style=\"fill:#009af9; stroke:none; fill-opacity:1\" cx=\"687.303\" cy=\"1415.43\" r=\"14\"/>\n",
       "<circle clip-path=\"url(#clip7802)\" style=\"fill:#000000; stroke:none; fill-opacity:1\" cx=\"687.303\" cy=\"1414.56\" r=\"18\"/>\n",
       "<circle clip-path=\"url(#clip7802)\" style=\"fill:#009af9; stroke:none; fill-opacity:1\" cx=\"687.303\" cy=\"1414.56\" r=\"14\"/>\n",
       "<circle clip-path=\"url(#clip7802)\" style=\"fill:#000000; stroke:none; fill-opacity:1\" cx=\"687.303\" cy=\"1410.52\" r=\"18\"/>\n",
       "<circle clip-path=\"url(#clip7802)\" style=\"fill:#009af9; stroke:none; fill-opacity:1\" cx=\"687.303\" cy=\"1410.52\" r=\"14\"/>\n",
       "<circle clip-path=\"url(#clip7802)\" style=\"fill:#000000; stroke:none; fill-opacity:1\" cx=\"687.303\" cy=\"1409.62\" r=\"18\"/>\n",
       "<circle clip-path=\"url(#clip7802)\" style=\"fill:#009af9; stroke:none; fill-opacity:1\" cx=\"687.303\" cy=\"1409.62\" r=\"14\"/>\n",
       "<circle clip-path=\"url(#clip7802)\" style=\"fill:#000000; stroke:none; fill-opacity:1\" cx=\"687.303\" cy=\"1413.88\" r=\"18\"/>\n",
       "<circle clip-path=\"url(#clip7802)\" style=\"fill:#009af9; stroke:none; fill-opacity:1\" cx=\"687.303\" cy=\"1413.88\" r=\"14\"/>\n",
       "<circle clip-path=\"url(#clip7802)\" style=\"fill:#000000; stroke:none; fill-opacity:1\" cx=\"687.303\" cy=\"1421.76\" r=\"18\"/>\n",
       "<circle clip-path=\"url(#clip7802)\" style=\"fill:#009af9; stroke:none; fill-opacity:1\" cx=\"687.303\" cy=\"1421.76\" r=\"14\"/>\n",
       "<circle clip-path=\"url(#clip7802)\" style=\"fill:#000000; stroke:none; fill-opacity:1\" cx=\"687.303\" cy=\"1411.53\" r=\"18\"/>\n",
       "<circle clip-path=\"url(#clip7802)\" style=\"fill:#009af9; stroke:none; fill-opacity:1\" cx=\"687.303\" cy=\"1411.53\" r=\"14\"/>\n",
       "<circle clip-path=\"url(#clip7802)\" style=\"fill:#000000; stroke:none; fill-opacity:1\" cx=\"687.303\" cy=\"1420.15\" r=\"18\"/>\n",
       "<circle clip-path=\"url(#clip7802)\" style=\"fill:#009af9; stroke:none; fill-opacity:1\" cx=\"687.303\" cy=\"1420.15\" r=\"14\"/>\n",
       "<circle clip-path=\"url(#clip7802)\" style=\"fill:#000000; stroke:none; fill-opacity:1\" cx=\"687.303\" cy=\"1420.79\" r=\"18\"/>\n",
       "<circle clip-path=\"url(#clip7802)\" style=\"fill:#009af9; stroke:none; fill-opacity:1\" cx=\"687.303\" cy=\"1420.79\" r=\"14\"/>\n",
       "<circle clip-path=\"url(#clip7802)\" style=\"fill:#000000; stroke:none; fill-opacity:1\" cx=\"687.303\" cy=\"1411.75\" r=\"18\"/>\n",
       "<circle clip-path=\"url(#clip7802)\" style=\"fill:#009af9; stroke:none; fill-opacity:1\" cx=\"687.303\" cy=\"1411.75\" r=\"14\"/>\n",
       "<circle clip-path=\"url(#clip7802)\" style=\"fill:#000000; stroke:none; fill-opacity:1\" cx=\"687.303\" cy=\"1415.47\" r=\"18\"/>\n",
       "<circle clip-path=\"url(#clip7802)\" style=\"fill:#009af9; stroke:none; fill-opacity:1\" cx=\"687.303\" cy=\"1415.47\" r=\"14\"/>\n",
       "<circle clip-path=\"url(#clip7802)\" style=\"fill:#000000; stroke:none; fill-opacity:1\" cx=\"687.303\" cy=\"1416.62\" r=\"18\"/>\n",
       "<circle clip-path=\"url(#clip7802)\" style=\"fill:#009af9; stroke:none; fill-opacity:1\" cx=\"687.303\" cy=\"1416.62\" r=\"14\"/>\n",
       "<circle clip-path=\"url(#clip7802)\" style=\"fill:#000000; stroke:none; fill-opacity:1\" cx=\"687.303\" cy=\"1404.6\" r=\"18\"/>\n",
       "<circle clip-path=\"url(#clip7802)\" style=\"fill:#009af9; stroke:none; fill-opacity:1\" cx=\"687.303\" cy=\"1404.6\" r=\"14\"/>\n",
       "<circle clip-path=\"url(#clip7802)\" style=\"fill:#000000; stroke:none; fill-opacity:1\" cx=\"687.303\" cy=\"1429.61\" r=\"18\"/>\n",
       "<circle clip-path=\"url(#clip7802)\" style=\"fill:#009af9; stroke:none; fill-opacity:1\" cx=\"687.303\" cy=\"1429.61\" r=\"14\"/>\n",
       "<circle clip-path=\"url(#clip7802)\" style=\"fill:#000000; stroke:none; fill-opacity:1\" cx=\"687.303\" cy=\"1412.87\" r=\"18\"/>\n",
       "<circle clip-path=\"url(#clip7802)\" style=\"fill:#009af9; stroke:none; fill-opacity:1\" cx=\"687.303\" cy=\"1412.87\" r=\"14\"/>\n",
       "<circle clip-path=\"url(#clip7802)\" style=\"fill:#000000; stroke:none; fill-opacity:1\" cx=\"687.303\" cy=\"1428.36\" r=\"18\"/>\n",
       "<circle clip-path=\"url(#clip7802)\" style=\"fill:#009af9; stroke:none; fill-opacity:1\" cx=\"687.303\" cy=\"1428.36\" r=\"14\"/>\n",
       "<circle clip-path=\"url(#clip7802)\" style=\"fill:#000000; stroke:none; fill-opacity:1\" cx=\"687.303\" cy=\"1423.62\" r=\"18\"/>\n",
       "<circle clip-path=\"url(#clip7802)\" style=\"fill:#009af9; stroke:none; fill-opacity:1\" cx=\"687.303\" cy=\"1423.62\" r=\"14\"/>\n",
       "<circle clip-path=\"url(#clip7802)\" style=\"fill:#000000; stroke:none; fill-opacity:1\" cx=\"687.303\" cy=\"1422.4\" r=\"18\"/>\n",
       "<circle clip-path=\"url(#clip7802)\" style=\"fill:#009af9; stroke:none; fill-opacity:1\" cx=\"687.303\" cy=\"1422.4\" r=\"14\"/>\n",
       "<circle clip-path=\"url(#clip7802)\" style=\"fill:#000000; stroke:none; fill-opacity:1\" cx=\"687.303\" cy=\"1420.37\" r=\"18\"/>\n",
       "<circle clip-path=\"url(#clip7802)\" style=\"fill:#009af9; stroke:none; fill-opacity:1\" cx=\"687.303\" cy=\"1420.37\" r=\"14\"/>\n",
       "<circle clip-path=\"url(#clip7802)\" style=\"fill:#000000; stroke:none; fill-opacity:1\" cx=\"687.303\" cy=\"1425.42\" r=\"18\"/>\n",
       "<circle clip-path=\"url(#clip7802)\" style=\"fill:#009af9; stroke:none; fill-opacity:1\" cx=\"687.303\" cy=\"1425.42\" r=\"14\"/>\n",
       "<circle clip-path=\"url(#clip7802)\" style=\"fill:#000000; stroke:none; fill-opacity:1\" cx=\"687.303\" cy=\"1430.63\" r=\"18\"/>\n",
       "<circle clip-path=\"url(#clip7802)\" style=\"fill:#009af9; stroke:none; fill-opacity:1\" cx=\"687.303\" cy=\"1430.63\" r=\"14\"/>\n",
       "<circle clip-path=\"url(#clip7802)\" style=\"fill:#000000; stroke:none; fill-opacity:1\" cx=\"687.303\" cy=\"1408.8\" r=\"18\"/>\n",
       "<circle clip-path=\"url(#clip7802)\" style=\"fill:#009af9; stroke:none; fill-opacity:1\" cx=\"687.303\" cy=\"1408.8\" r=\"14\"/>\n",
       "<circle clip-path=\"url(#clip7802)\" style=\"fill:#000000; stroke:none; fill-opacity:1\" cx=\"687.303\" cy=\"1420.66\" r=\"18\"/>\n",
       "<circle clip-path=\"url(#clip7802)\" style=\"fill:#009af9; stroke:none; fill-opacity:1\" cx=\"687.303\" cy=\"1420.66\" r=\"14\"/>\n",
       "<circle clip-path=\"url(#clip7802)\" style=\"fill:#000000; stroke:none; fill-opacity:1\" cx=\"687.303\" cy=\"1421.51\" r=\"18\"/>\n",
       "<circle clip-path=\"url(#clip7802)\" style=\"fill:#009af9; stroke:none; fill-opacity:1\" cx=\"687.303\" cy=\"1421.51\" r=\"14\"/>\n",
       "<circle clip-path=\"url(#clip7802)\" style=\"fill:#000000; stroke:none; fill-opacity:1\" cx=\"687.303\" cy=\"1420.94\" r=\"18\"/>\n",
       "<circle clip-path=\"url(#clip7802)\" style=\"fill:#009af9; stroke:none; fill-opacity:1\" cx=\"687.303\" cy=\"1420.94\" r=\"14\"/>\n",
       "<circle clip-path=\"url(#clip7802)\" style=\"fill:#000000; stroke:none; fill-opacity:1\" cx=\"687.303\" cy=\"1430.1\" r=\"18\"/>\n",
       "<circle clip-path=\"url(#clip7802)\" style=\"fill:#009af9; stroke:none; fill-opacity:1\" cx=\"687.303\" cy=\"1430.1\" r=\"14\"/>\n",
       "<circle clip-path=\"url(#clip7802)\" style=\"fill:#000000; stroke:none; fill-opacity:1\" cx=\"687.303\" cy=\"1423.49\" r=\"18\"/>\n",
       "<circle clip-path=\"url(#clip7802)\" style=\"fill:#009af9; stroke:none; fill-opacity:1\" cx=\"687.303\" cy=\"1423.49\" r=\"14\"/>\n",
       "<circle clip-path=\"url(#clip7802)\" style=\"fill:#000000; stroke:none; fill-opacity:1\" cx=\"687.303\" cy=\"1418.62\" r=\"18\"/>\n",
       "<circle clip-path=\"url(#clip7802)\" style=\"fill:#009af9; stroke:none; fill-opacity:1\" cx=\"687.303\" cy=\"1418.62\" r=\"14\"/>\n",
       "<circle clip-path=\"url(#clip7802)\" style=\"fill:#000000; stroke:none; fill-opacity:1\" cx=\"687.303\" cy=\"1427.01\" r=\"18\"/>\n",
       "<circle clip-path=\"url(#clip7802)\" style=\"fill:#009af9; stroke:none; fill-opacity:1\" cx=\"687.303\" cy=\"1427.01\" r=\"14\"/>\n",
       "<circle clip-path=\"url(#clip7802)\" style=\"fill:#000000; stroke:none; fill-opacity:1\" cx=\"687.303\" cy=\"1405.4\" r=\"18\"/>\n",
       "<circle clip-path=\"url(#clip7802)\" style=\"fill:#009af9; stroke:none; fill-opacity:1\" cx=\"687.303\" cy=\"1405.4\" r=\"14\"/>\n",
       "<circle clip-path=\"url(#clip7802)\" style=\"fill:#000000; stroke:none; fill-opacity:1\" cx=\"687.303\" cy=\"1415.94\" r=\"18\"/>\n",
       "<circle clip-path=\"url(#clip7802)\" style=\"fill:#009af9; stroke:none; fill-opacity:1\" cx=\"687.303\" cy=\"1415.94\" r=\"14\"/>\n",
       "<circle clip-path=\"url(#clip7802)\" style=\"fill:#000000; stroke:none; fill-opacity:1\" cx=\"687.303\" cy=\"1406.1\" r=\"18\"/>\n",
       "<circle clip-path=\"url(#clip7802)\" style=\"fill:#009af9; stroke:none; fill-opacity:1\" cx=\"687.303\" cy=\"1406.1\" r=\"14\"/>\n",
       "<circle clip-path=\"url(#clip7802)\" style=\"fill:#000000; stroke:none; fill-opacity:1\" cx=\"687.303\" cy=\"1412.63\" r=\"18\"/>\n",
       "<circle clip-path=\"url(#clip7802)\" style=\"fill:#009af9; stroke:none; fill-opacity:1\" cx=\"687.303\" cy=\"1412.63\" r=\"14\"/>\n",
       "<circle clip-path=\"url(#clip7802)\" style=\"fill:#000000; stroke:none; fill-opacity:1\" cx=\"687.303\" cy=\"1421.83\" r=\"18\"/>\n",
       "<circle clip-path=\"url(#clip7802)\" style=\"fill:#009af9; stroke:none; fill-opacity:1\" cx=\"687.303\" cy=\"1421.83\" r=\"14\"/>\n",
       "<circle clip-path=\"url(#clip7802)\" style=\"fill:#000000; stroke:none; fill-opacity:1\" cx=\"687.303\" cy=\"1426.15\" r=\"18\"/>\n",
       "<circle clip-path=\"url(#clip7802)\" style=\"fill:#009af9; stroke:none; fill-opacity:1\" cx=\"687.303\" cy=\"1426.15\" r=\"14\"/>\n",
       "<circle clip-path=\"url(#clip7802)\" style=\"fill:#000000; stroke:none; fill-opacity:1\" cx=\"687.303\" cy=\"1422.14\" r=\"18\"/>\n",
       "<circle clip-path=\"url(#clip7802)\" style=\"fill:#009af9; stroke:none; fill-opacity:1\" cx=\"687.303\" cy=\"1422.14\" r=\"14\"/>\n",
       "<circle clip-path=\"url(#clip7802)\" style=\"fill:#000000; stroke:none; fill-opacity:1\" cx=\"687.303\" cy=\"1427.33\" r=\"18\"/>\n",
       "<circle clip-path=\"url(#clip7802)\" style=\"fill:#009af9; stroke:none; fill-opacity:1\" cx=\"687.303\" cy=\"1427.33\" r=\"14\"/>\n",
       "<circle clip-path=\"url(#clip7802)\" style=\"fill:#000000; stroke:none; fill-opacity:1\" cx=\"687.303\" cy=\"1422.02\" r=\"18\"/>\n",
       "<circle clip-path=\"url(#clip7802)\" style=\"fill:#009af9; stroke:none; fill-opacity:1\" cx=\"687.303\" cy=\"1422.02\" r=\"14\"/>\n",
       "<circle clip-path=\"url(#clip7802)\" style=\"fill:#000000; stroke:none; fill-opacity:1\" cx=\"687.303\" cy=\"1419.86\" r=\"18\"/>\n",
       "<circle clip-path=\"url(#clip7802)\" style=\"fill:#009af9; stroke:none; fill-opacity:1\" cx=\"687.303\" cy=\"1419.86\" r=\"14\"/>\n",
       "<circle clip-path=\"url(#clip7802)\" style=\"fill:#000000; stroke:none; fill-opacity:1\" cx=\"687.303\" cy=\"1424.29\" r=\"18\"/>\n",
       "<circle clip-path=\"url(#clip7802)\" style=\"fill:#009af9; stroke:none; fill-opacity:1\" cx=\"687.303\" cy=\"1424.29\" r=\"14\"/>\n",
       "<circle clip-path=\"url(#clip7802)\" style=\"fill:#000000; stroke:none; fill-opacity:1\" cx=\"687.303\" cy=\"1430.42\" r=\"18\"/>\n",
       "<circle clip-path=\"url(#clip7802)\" style=\"fill:#009af9; stroke:none; fill-opacity:1\" cx=\"687.303\" cy=\"1430.42\" r=\"14\"/>\n",
       "<circle clip-path=\"url(#clip7802)\" style=\"fill:#000000; stroke:none; fill-opacity:1\" cx=\"687.303\" cy=\"1403.58\" r=\"18\"/>\n",
       "<circle clip-path=\"url(#clip7802)\" style=\"fill:#009af9; stroke:none; fill-opacity:1\" cx=\"687.303\" cy=\"1403.58\" r=\"14\"/>\n",
       "<circle clip-path=\"url(#clip7802)\" style=\"fill:#000000; stroke:none; fill-opacity:1\" cx=\"687.303\" cy=\"1426.19\" r=\"18\"/>\n",
       "<circle clip-path=\"url(#clip7802)\" style=\"fill:#009af9; stroke:none; fill-opacity:1\" cx=\"687.303\" cy=\"1426.19\" r=\"14\"/>\n",
       "<circle clip-path=\"url(#clip7802)\" style=\"fill:#000000; stroke:none; fill-opacity:1\" cx=\"687.303\" cy=\"1415.92\" r=\"18\"/>\n",
       "<circle clip-path=\"url(#clip7802)\" style=\"fill:#009af9; stroke:none; fill-opacity:1\" cx=\"687.303\" cy=\"1415.92\" r=\"14\"/>\n",
       "<circle clip-path=\"url(#clip7802)\" style=\"fill:#000000; stroke:none; fill-opacity:1\" cx=\"687.303\" cy=\"1410.47\" r=\"18\"/>\n",
       "<circle clip-path=\"url(#clip7802)\" style=\"fill:#009af9; stroke:none; fill-opacity:1\" cx=\"687.303\" cy=\"1410.47\" r=\"14\"/>\n",
       "<circle clip-path=\"url(#clip7802)\" style=\"fill:#000000; stroke:none; fill-opacity:1\" cx=\"687.303\" cy=\"1405.25\" r=\"18\"/>\n",
       "<circle clip-path=\"url(#clip7802)\" style=\"fill:#009af9; stroke:none; fill-opacity:1\" cx=\"687.303\" cy=\"1405.25\" r=\"14\"/>\n",
       "<circle clip-path=\"url(#clip7802)\" style=\"fill:#000000; stroke:none; fill-opacity:1\" cx=\"687.303\" cy=\"1421.93\" r=\"18\"/>\n",
       "<circle clip-path=\"url(#clip7802)\" style=\"fill:#009af9; stroke:none; fill-opacity:1\" cx=\"687.303\" cy=\"1421.93\" r=\"14\"/>\n",
       "<circle clip-path=\"url(#clip7802)\" style=\"fill:#000000; stroke:none; fill-opacity:1\" cx=\"687.303\" cy=\"1405.97\" r=\"18\"/>\n",
       "<circle clip-path=\"url(#clip7802)\" style=\"fill:#009af9; stroke:none; fill-opacity:1\" cx=\"687.303\" cy=\"1405.97\" r=\"14\"/>\n",
       "<circle clip-path=\"url(#clip7802)\" style=\"fill:#000000; stroke:none; fill-opacity:1\" cx=\"687.303\" cy=\"1407.27\" r=\"18\"/>\n",
       "<circle clip-path=\"url(#clip7802)\" style=\"fill:#009af9; stroke:none; fill-opacity:1\" cx=\"687.303\" cy=\"1407.27\" r=\"14\"/>\n",
       "<circle clip-path=\"url(#clip7802)\" style=\"fill:#000000; stroke:none; fill-opacity:1\" cx=\"687.303\" cy=\"1412.08\" r=\"18\"/>\n",
       "<circle clip-path=\"url(#clip7802)\" style=\"fill:#009af9; stroke:none; fill-opacity:1\" cx=\"687.303\" cy=\"1412.08\" r=\"14\"/>\n",
       "<circle clip-path=\"url(#clip7802)\" style=\"fill:#000000; stroke:none; fill-opacity:1\" cx=\"687.303\" cy=\"1173.73\" r=\"18\"/>\n",
       "<circle clip-path=\"url(#clip7802)\" style=\"fill:#009af9; stroke:none; fill-opacity:1\" cx=\"687.303\" cy=\"1173.73\" r=\"14\"/>\n",
       "<circle clip-path=\"url(#clip7802)\" style=\"fill:#000000; stroke:none; fill-opacity:1\" cx=\"687.303\" cy=\"1164.32\" r=\"18\"/>\n",
       "<circle clip-path=\"url(#clip7802)\" style=\"fill:#009af9; stroke:none; fill-opacity:1\" cx=\"687.303\" cy=\"1164.32\" r=\"14\"/>\n",
       "<circle clip-path=\"url(#clip7802)\" style=\"fill:#000000; stroke:none; fill-opacity:1\" cx=\"687.303\" cy=\"1417.81\" r=\"18\"/>\n",
       "<circle clip-path=\"url(#clip7802)\" style=\"fill:#009af9; stroke:none; fill-opacity:1\" cx=\"687.303\" cy=\"1417.81\" r=\"14\"/>\n",
       "<circle clip-path=\"url(#clip7802)\" style=\"fill:#000000; stroke:none; fill-opacity:1\" cx=\"687.303\" cy=\"1419.6\" r=\"18\"/>\n",
       "<circle clip-path=\"url(#clip7802)\" style=\"fill:#009af9; stroke:none; fill-opacity:1\" cx=\"687.303\" cy=\"1419.6\" r=\"14\"/>\n",
       "<circle clip-path=\"url(#clip7802)\" style=\"fill:#000000; stroke:none; fill-opacity:1\" cx=\"687.303\" cy=\"1418.86\" r=\"18\"/>\n",
       "<circle clip-path=\"url(#clip7802)\" style=\"fill:#009af9; stroke:none; fill-opacity:1\" cx=\"687.303\" cy=\"1418.86\" r=\"14\"/>\n",
       "<circle clip-path=\"url(#clip7802)\" style=\"fill:#000000; stroke:none; fill-opacity:1\" cx=\"687.303\" cy=\"1411.3\" r=\"18\"/>\n",
       "<circle clip-path=\"url(#clip7802)\" style=\"fill:#009af9; stroke:none; fill-opacity:1\" cx=\"687.303\" cy=\"1411.3\" r=\"14\"/>\n",
       "<circle clip-path=\"url(#clip7802)\" style=\"fill:#000000; stroke:none; fill-opacity:1\" cx=\"687.303\" cy=\"1419.98\" r=\"18\"/>\n",
       "<circle clip-path=\"url(#clip7802)\" style=\"fill:#009af9; stroke:none; fill-opacity:1\" cx=\"687.303\" cy=\"1419.98\" r=\"14\"/>\n",
       "<circle clip-path=\"url(#clip7802)\" style=\"fill:#000000; stroke:none; fill-opacity:1\" cx=\"687.303\" cy=\"1420.27\" r=\"18\"/>\n",
       "<circle clip-path=\"url(#clip7802)\" style=\"fill:#009af9; stroke:none; fill-opacity:1\" cx=\"687.303\" cy=\"1420.27\" r=\"14\"/>\n",
       "<circle clip-path=\"url(#clip7802)\" style=\"fill:#000000; stroke:none; fill-opacity:1\" cx=\"687.303\" cy=\"1414.48\" r=\"18\"/>\n",
       "<circle clip-path=\"url(#clip7802)\" style=\"fill:#009af9; stroke:none; fill-opacity:1\" cx=\"687.303\" cy=\"1414.48\" r=\"14\"/>\n",
       "<circle clip-path=\"url(#clip7802)\" style=\"fill:#000000; stroke:none; fill-opacity:1\" cx=\"687.303\" cy=\"1407.85\" r=\"18\"/>\n",
       "<circle clip-path=\"url(#clip7802)\" style=\"fill:#009af9; stroke:none; fill-opacity:1\" cx=\"687.303\" cy=\"1407.85\" r=\"14\"/>\n",
       "<circle clip-path=\"url(#clip7802)\" style=\"fill:#000000; stroke:none; fill-opacity:1\" cx=\"687.303\" cy=\"1426.52\" r=\"18\"/>\n",
       "<circle clip-path=\"url(#clip7802)\" style=\"fill:#009af9; stroke:none; fill-opacity:1\" cx=\"687.303\" cy=\"1426.52\" r=\"14\"/>\n",
       "<circle clip-path=\"url(#clip7802)\" style=\"fill:#000000; stroke:none; fill-opacity:1\" cx=\"687.303\" cy=\"1444.83\" r=\"18\"/>\n",
       "<circle clip-path=\"url(#clip7802)\" style=\"fill:#009af9; stroke:none; fill-opacity:1\" cx=\"687.303\" cy=\"1444.83\" r=\"14\"/>\n",
       "<circle clip-path=\"url(#clip7802)\" style=\"fill:#000000; stroke:none; fill-opacity:1\" cx=\"687.303\" cy=\"1415.15\" r=\"18\"/>\n",
       "<circle clip-path=\"url(#clip7802)\" style=\"fill:#009af9; stroke:none; fill-opacity:1\" cx=\"687.303\" cy=\"1415.15\" r=\"14\"/>\n",
       "<circle clip-path=\"url(#clip7802)\" style=\"fill:#000000; stroke:none; fill-opacity:1\" cx=\"687.303\" cy=\"1416.12\" r=\"18\"/>\n",
       "<circle clip-path=\"url(#clip7802)\" style=\"fill:#009af9; stroke:none; fill-opacity:1\" cx=\"687.303\" cy=\"1416.12\" r=\"14\"/>\n",
       "<circle clip-path=\"url(#clip7802)\" style=\"fill:#000000; stroke:none; fill-opacity:1\" cx=\"687.303\" cy=\"1435.87\" r=\"18\"/>\n",
       "<circle clip-path=\"url(#clip7802)\" style=\"fill:#009af9; stroke:none; fill-opacity:1\" cx=\"687.303\" cy=\"1435.87\" r=\"14\"/>\n",
       "<circle clip-path=\"url(#clip7802)\" style=\"fill:#000000; stroke:none; fill-opacity:1\" cx=\"687.303\" cy=\"1428.99\" r=\"18\"/>\n",
       "<circle clip-path=\"url(#clip7802)\" style=\"fill:#009af9; stroke:none; fill-opacity:1\" cx=\"687.303\" cy=\"1428.99\" r=\"14\"/>\n",
       "<circle clip-path=\"url(#clip7802)\" style=\"fill:#000000; stroke:none; fill-opacity:1\" cx=\"687.303\" cy=\"1417.15\" r=\"18\"/>\n",
       "<circle clip-path=\"url(#clip7802)\" style=\"fill:#009af9; stroke:none; fill-opacity:1\" cx=\"687.303\" cy=\"1417.15\" r=\"14\"/>\n",
       "<circle clip-path=\"url(#clip7802)\" style=\"fill:#000000; stroke:none; fill-opacity:1\" cx=\"687.303\" cy=\"1428.18\" r=\"18\"/>\n",
       "<circle clip-path=\"url(#clip7802)\" style=\"fill:#009af9; stroke:none; fill-opacity:1\" cx=\"687.303\" cy=\"1428.18\" r=\"14\"/>\n",
       "<circle clip-path=\"url(#clip7802)\" style=\"fill:#000000; stroke:none; fill-opacity:1\" cx=\"687.303\" cy=\"1428.85\" r=\"18\"/>\n",
       "<circle clip-path=\"url(#clip7802)\" style=\"fill:#009af9; stroke:none; fill-opacity:1\" cx=\"687.303\" cy=\"1428.85\" r=\"14\"/>\n",
       "<circle clip-path=\"url(#clip7802)\" style=\"fill:#000000; stroke:none; fill-opacity:1\" cx=\"687.303\" cy=\"1426.91\" r=\"18\"/>\n",
       "<circle clip-path=\"url(#clip7802)\" style=\"fill:#009af9; stroke:none; fill-opacity:1\" cx=\"687.303\" cy=\"1426.91\" r=\"14\"/>\n",
       "<circle clip-path=\"url(#clip7802)\" style=\"fill:#000000; stroke:none; fill-opacity:1\" cx=\"687.303\" cy=\"1431.5\" r=\"18\"/>\n",
       "<circle clip-path=\"url(#clip7802)\" style=\"fill:#009af9; stroke:none; fill-opacity:1\" cx=\"687.303\" cy=\"1431.5\" r=\"14\"/>\n",
       "<circle clip-path=\"url(#clip7802)\" style=\"fill:#000000; stroke:none; fill-opacity:1\" cx=\"687.303\" cy=\"1428\" r=\"18\"/>\n",
       "<circle clip-path=\"url(#clip7802)\" style=\"fill:#009af9; stroke:none; fill-opacity:1\" cx=\"687.303\" cy=\"1428\" r=\"14\"/>\n",
       "<circle clip-path=\"url(#clip7802)\" style=\"fill:#000000; stroke:none; fill-opacity:1\" cx=\"687.303\" cy=\"1413.02\" r=\"18\"/>\n",
       "<circle clip-path=\"url(#clip7802)\" style=\"fill:#009af9; stroke:none; fill-opacity:1\" cx=\"687.303\" cy=\"1413.02\" r=\"14\"/>\n",
       "<circle clip-path=\"url(#clip7802)\" style=\"fill:#000000; stroke:none; fill-opacity:1\" cx=\"687.303\" cy=\"1418.48\" r=\"18\"/>\n",
       "<circle clip-path=\"url(#clip7802)\" style=\"fill:#009af9; stroke:none; fill-opacity:1\" cx=\"687.303\" cy=\"1418.48\" r=\"14\"/>\n",
       "<circle clip-path=\"url(#clip7802)\" style=\"fill:#000000; stroke:none; fill-opacity:1\" cx=\"687.303\" cy=\"1418.18\" r=\"18\"/>\n",
       "<circle clip-path=\"url(#clip7802)\" style=\"fill:#009af9; stroke:none; fill-opacity:1\" cx=\"687.303\" cy=\"1418.18\" r=\"14\"/>\n",
       "<circle clip-path=\"url(#clip7802)\" style=\"fill:#000000; stroke:none; fill-opacity:1\" cx=\"687.303\" cy=\"1406.65\" r=\"18\"/>\n",
       "<circle clip-path=\"url(#clip7802)\" style=\"fill:#009af9; stroke:none; fill-opacity:1\" cx=\"687.303\" cy=\"1406.65\" r=\"14\"/>\n",
       "<circle clip-path=\"url(#clip7802)\" style=\"fill:#000000; stroke:none; fill-opacity:1\" cx=\"687.303\" cy=\"1407.69\" r=\"18\"/>\n",
       "<circle clip-path=\"url(#clip7802)\" style=\"fill:#009af9; stroke:none; fill-opacity:1\" cx=\"687.303\" cy=\"1407.69\" r=\"14\"/>\n",
       "<circle clip-path=\"url(#clip7802)\" style=\"fill:#000000; stroke:none; fill-opacity:1\" cx=\"687.303\" cy=\"1410.94\" r=\"18\"/>\n",
       "<circle clip-path=\"url(#clip7802)\" style=\"fill:#009af9; stroke:none; fill-opacity:1\" cx=\"687.303\" cy=\"1410.94\" r=\"14\"/>\n",
       "<circle clip-path=\"url(#clip7802)\" style=\"fill:#000000; stroke:none; fill-opacity:1\" cx=\"687.303\" cy=\"1406.5\" r=\"18\"/>\n",
       "<circle clip-path=\"url(#clip7802)\" style=\"fill:#009af9; stroke:none; fill-opacity:1\" cx=\"687.303\" cy=\"1406.5\" r=\"14\"/>\n",
       "<circle clip-path=\"url(#clip7802)\" style=\"fill:#000000; stroke:none; fill-opacity:1\" cx=\"687.303\" cy=\"1413.43\" r=\"18\"/>\n",
       "<circle clip-path=\"url(#clip7802)\" style=\"fill:#009af9; stroke:none; fill-opacity:1\" cx=\"687.303\" cy=\"1413.43\" r=\"14\"/>\n",
       "<circle clip-path=\"url(#clip7802)\" style=\"fill:#000000; stroke:none; fill-opacity:1\" cx=\"687.303\" cy=\"1405.19\" r=\"18\"/>\n",
       "<circle clip-path=\"url(#clip7802)\" style=\"fill:#009af9; stroke:none; fill-opacity:1\" cx=\"687.303\" cy=\"1405.19\" r=\"14\"/>\n",
       "<circle clip-path=\"url(#clip7802)\" style=\"fill:#000000; stroke:none; fill-opacity:1\" cx=\"687.303\" cy=\"1404.57\" r=\"18\"/>\n",
       "<circle clip-path=\"url(#clip7802)\" style=\"fill:#009af9; stroke:none; fill-opacity:1\" cx=\"687.303\" cy=\"1404.57\" r=\"14\"/>\n",
       "<circle clip-path=\"url(#clip7802)\" style=\"fill:#000000; stroke:none; fill-opacity:1\" cx=\"687.303\" cy=\"1410.24\" r=\"18\"/>\n",
       "<circle clip-path=\"url(#clip7802)\" style=\"fill:#009af9; stroke:none; fill-opacity:1\" cx=\"687.303\" cy=\"1410.24\" r=\"14\"/>\n",
       "<circle clip-path=\"url(#clip7802)\" style=\"fill:#000000; stroke:none; fill-opacity:1\" cx=\"687.303\" cy=\"1403.63\" r=\"18\"/>\n",
       "<circle clip-path=\"url(#clip7802)\" style=\"fill:#009af9; stroke:none; fill-opacity:1\" cx=\"687.303\" cy=\"1403.63\" r=\"14\"/>\n",
       "<circle clip-path=\"url(#clip7802)\" style=\"fill:#000000; stroke:none; fill-opacity:1\" cx=\"687.303\" cy=\"1411.85\" r=\"18\"/>\n",
       "<circle clip-path=\"url(#clip7802)\" style=\"fill:#009af9; stroke:none; fill-opacity:1\" cx=\"687.303\" cy=\"1411.85\" r=\"14\"/>\n",
       "<circle clip-path=\"url(#clip7802)\" style=\"fill:#000000; stroke:none; fill-opacity:1\" cx=\"687.303\" cy=\"1403.4\" r=\"18\"/>\n",
       "<circle clip-path=\"url(#clip7802)\" style=\"fill:#009af9; stroke:none; fill-opacity:1\" cx=\"687.303\" cy=\"1403.4\" r=\"14\"/>\n",
       "<circle clip-path=\"url(#clip7802)\" style=\"fill:#000000; stroke:none; fill-opacity:1\" cx=\"687.303\" cy=\"1177.65\" r=\"18\"/>\n",
       "<circle clip-path=\"url(#clip7802)\" style=\"fill:#009af9; stroke:none; fill-opacity:1\" cx=\"687.303\" cy=\"1177.65\" r=\"14\"/>\n",
       "<circle clip-path=\"url(#clip7802)\" style=\"fill:#000000; stroke:none; fill-opacity:1\" cx=\"687.303\" cy=\"1403.92\" r=\"18\"/>\n",
       "<circle clip-path=\"url(#clip7802)\" style=\"fill:#009af9; stroke:none; fill-opacity:1\" cx=\"687.303\" cy=\"1403.92\" r=\"14\"/>\n",
       "<circle clip-path=\"url(#clip7802)\" style=\"fill:#000000; stroke:none; fill-opacity:1\" cx=\"687.303\" cy=\"1179.03\" r=\"18\"/>\n",
       "<circle clip-path=\"url(#clip7802)\" style=\"fill:#009af9; stroke:none; fill-opacity:1\" cx=\"687.303\" cy=\"1179.03\" r=\"14\"/>\n",
       "<circle clip-path=\"url(#clip7802)\" style=\"fill:#000000; stroke:none; fill-opacity:1\" cx=\"687.303\" cy=\"1185.03\" r=\"18\"/>\n",
       "<circle clip-path=\"url(#clip7802)\" style=\"fill:#009af9; stroke:none; fill-opacity:1\" cx=\"687.303\" cy=\"1185.03\" r=\"14\"/>\n",
       "<circle clip-path=\"url(#clip7802)\" style=\"fill:#000000; stroke:none; fill-opacity:1\" cx=\"687.303\" cy=\"1420.35\" r=\"18\"/>\n",
       "<circle clip-path=\"url(#clip7802)\" style=\"fill:#009af9; stroke:none; fill-opacity:1\" cx=\"687.303\" cy=\"1420.35\" r=\"14\"/>\n",
       "<circle clip-path=\"url(#clip7802)\" style=\"fill:#000000; stroke:none; fill-opacity:1\" cx=\"687.303\" cy=\"1405.38\" r=\"18\"/>\n",
       "<circle clip-path=\"url(#clip7802)\" style=\"fill:#009af9; stroke:none; fill-opacity:1\" cx=\"687.303\" cy=\"1405.38\" r=\"14\"/>\n",
       "<circle clip-path=\"url(#clip7802)\" style=\"fill:#000000; stroke:none; fill-opacity:1\" cx=\"687.303\" cy=\"1420.46\" r=\"18\"/>\n",
       "<circle clip-path=\"url(#clip7802)\" style=\"fill:#009af9; stroke:none; fill-opacity:1\" cx=\"687.303\" cy=\"1420.46\" r=\"14\"/>\n",
       "<circle clip-path=\"url(#clip7802)\" style=\"fill:#000000; stroke:none; fill-opacity:1\" cx=\"687.303\" cy=\"1412.72\" r=\"18\"/>\n",
       "<circle clip-path=\"url(#clip7802)\" style=\"fill:#009af9; stroke:none; fill-opacity:1\" cx=\"687.303\" cy=\"1412.72\" r=\"14\"/>\n",
       "<circle clip-path=\"url(#clip7802)\" style=\"fill:#000000; stroke:none; fill-opacity:1\" cx=\"687.303\" cy=\"1415.7\" r=\"18\"/>\n",
       "<circle clip-path=\"url(#clip7802)\" style=\"fill:#009af9; stroke:none; fill-opacity:1\" cx=\"687.303\" cy=\"1415.7\" r=\"14\"/>\n",
       "<circle clip-path=\"url(#clip7802)\" style=\"fill:#000000; stroke:none; fill-opacity:1\" cx=\"687.303\" cy=\"1409.79\" r=\"18\"/>\n",
       "<circle clip-path=\"url(#clip7802)\" style=\"fill:#009af9; stroke:none; fill-opacity:1\" cx=\"687.303\" cy=\"1409.79\" r=\"14\"/>\n",
       "<circle clip-path=\"url(#clip7802)\" style=\"fill:#000000; stroke:none; fill-opacity:1\" cx=\"687.303\" cy=\"1414.38\" r=\"18\"/>\n",
       "<circle clip-path=\"url(#clip7802)\" style=\"fill:#009af9; stroke:none; fill-opacity:1\" cx=\"687.303\" cy=\"1414.38\" r=\"14\"/>\n",
       "<circle clip-path=\"url(#clip7802)\" style=\"fill:#000000; stroke:none; fill-opacity:1\" cx=\"687.303\" cy=\"1408.8\" r=\"18\"/>\n",
       "<circle clip-path=\"url(#clip7802)\" style=\"fill:#009af9; stroke:none; fill-opacity:1\" cx=\"687.303\" cy=\"1408.8\" r=\"14\"/>\n",
       "<circle clip-path=\"url(#clip7802)\" style=\"fill:#000000; stroke:none; fill-opacity:1\" cx=\"687.303\" cy=\"1411.79\" r=\"18\"/>\n",
       "<circle clip-path=\"url(#clip7802)\" style=\"fill:#009af9; stroke:none; fill-opacity:1\" cx=\"687.303\" cy=\"1411.79\" r=\"14\"/>\n",
       "<circle clip-path=\"url(#clip7802)\" style=\"fill:#000000; stroke:none; fill-opacity:1\" cx=\"687.303\" cy=\"1406.21\" r=\"18\"/>\n",
       "<circle clip-path=\"url(#clip7802)\" style=\"fill:#009af9; stroke:none; fill-opacity:1\" cx=\"687.303\" cy=\"1406.21\" r=\"14\"/>\n",
       "<circle clip-path=\"url(#clip7802)\" style=\"fill:#000000; stroke:none; fill-opacity:1\" cx=\"687.303\" cy=\"1408.95\" r=\"18\"/>\n",
       "<circle clip-path=\"url(#clip7802)\" style=\"fill:#009af9; stroke:none; fill-opacity:1\" cx=\"687.303\" cy=\"1408.95\" r=\"14\"/>\n",
       "<circle clip-path=\"url(#clip7802)\" style=\"fill:#000000; stroke:none; fill-opacity:1\" cx=\"687.303\" cy=\"1417.22\" r=\"18\"/>\n",
       "<circle clip-path=\"url(#clip7802)\" style=\"fill:#009af9; stroke:none; fill-opacity:1\" cx=\"687.303\" cy=\"1417.22\" r=\"14\"/>\n",
       "<circle clip-path=\"url(#clip7802)\" style=\"fill:#000000; stroke:none; fill-opacity:1\" cx=\"687.303\" cy=\"1412.23\" r=\"18\"/>\n",
       "<circle clip-path=\"url(#clip7802)\" style=\"fill:#009af9; stroke:none; fill-opacity:1\" cx=\"687.303\" cy=\"1412.23\" r=\"14\"/>\n",
       "<circle clip-path=\"url(#clip7802)\" style=\"fill:#000000; stroke:none; fill-opacity:1\" cx=\"687.303\" cy=\"1431.73\" r=\"18\"/>\n",
       "<circle clip-path=\"url(#clip7802)\" style=\"fill:#009af9; stroke:none; fill-opacity:1\" cx=\"687.303\" cy=\"1431.73\" r=\"14\"/>\n",
       "<circle clip-path=\"url(#clip7802)\" style=\"fill:#000000; stroke:none; fill-opacity:1\" cx=\"687.303\" cy=\"1408.92\" r=\"18\"/>\n",
       "<circle clip-path=\"url(#clip7802)\" style=\"fill:#009af9; stroke:none; fill-opacity:1\" cx=\"687.303\" cy=\"1408.92\" r=\"14\"/>\n",
       "<circle clip-path=\"url(#clip7802)\" style=\"fill:#000000; stroke:none; fill-opacity:1\" cx=\"687.303\" cy=\"1414.95\" r=\"18\"/>\n",
       "<circle clip-path=\"url(#clip7802)\" style=\"fill:#009af9; stroke:none; fill-opacity:1\" cx=\"687.303\" cy=\"1414.95\" r=\"14\"/>\n",
       "<circle clip-path=\"url(#clip7802)\" style=\"fill:#000000; stroke:none; fill-opacity:1\" cx=\"687.303\" cy=\"1423\" r=\"18\"/>\n",
       "<circle clip-path=\"url(#clip7802)\" style=\"fill:#009af9; stroke:none; fill-opacity:1\" cx=\"687.303\" cy=\"1423\" r=\"14\"/>\n",
       "<circle clip-path=\"url(#clip7802)\" style=\"fill:#000000; stroke:none; fill-opacity:1\" cx=\"687.303\" cy=\"1439.06\" r=\"18\"/>\n",
       "<circle clip-path=\"url(#clip7802)\" style=\"fill:#009af9; stroke:none; fill-opacity:1\" cx=\"687.303\" cy=\"1439.06\" r=\"14\"/>\n",
       "<circle clip-path=\"url(#clip7802)\" style=\"fill:#000000; stroke:none; fill-opacity:1\" cx=\"687.303\" cy=\"1413.25\" r=\"18\"/>\n",
       "<circle clip-path=\"url(#clip7802)\" style=\"fill:#009af9; stroke:none; fill-opacity:1\" cx=\"687.303\" cy=\"1413.25\" r=\"14\"/>\n",
       "<circle clip-path=\"url(#clip7802)\" style=\"fill:#000000; stroke:none; fill-opacity:1\" cx=\"687.303\" cy=\"1415.78\" r=\"18\"/>\n",
       "<circle clip-path=\"url(#clip7802)\" style=\"fill:#009af9; stroke:none; fill-opacity:1\" cx=\"687.303\" cy=\"1415.78\" r=\"14\"/>\n",
       "<circle clip-path=\"url(#clip7802)\" style=\"fill:#000000; stroke:none; fill-opacity:1\" cx=\"687.303\" cy=\"1424.47\" r=\"18\"/>\n",
       "<circle clip-path=\"url(#clip7802)\" style=\"fill:#009af9; stroke:none; fill-opacity:1\" cx=\"687.303\" cy=\"1424.47\" r=\"14\"/>\n",
       "<circle clip-path=\"url(#clip7802)\" style=\"fill:#000000; stroke:none; fill-opacity:1\" cx=\"687.303\" cy=\"1420.96\" r=\"18\"/>\n",
       "<circle clip-path=\"url(#clip7802)\" style=\"fill:#009af9; stroke:none; fill-opacity:1\" cx=\"687.303\" cy=\"1420.96\" r=\"14\"/>\n",
       "<circle clip-path=\"url(#clip7802)\" style=\"fill:#000000; stroke:none; fill-opacity:1\" cx=\"687.303\" cy=\"1421.81\" r=\"18\"/>\n",
       "<circle clip-path=\"url(#clip7802)\" style=\"fill:#009af9; stroke:none; fill-opacity:1\" cx=\"687.303\" cy=\"1421.81\" r=\"14\"/>\n",
       "<circle clip-path=\"url(#clip7802)\" style=\"fill:#000000; stroke:none; fill-opacity:1\" cx=\"687.303\" cy=\"1420.61\" r=\"18\"/>\n",
       "<circle clip-path=\"url(#clip7802)\" style=\"fill:#009af9; stroke:none; fill-opacity:1\" cx=\"687.303\" cy=\"1420.61\" r=\"14\"/>\n",
       "<circle clip-path=\"url(#clip7802)\" style=\"fill:#000000; stroke:none; fill-opacity:1\" cx=\"687.303\" cy=\"1412.84\" r=\"18\"/>\n",
       "<circle clip-path=\"url(#clip7802)\" style=\"fill:#009af9; stroke:none; fill-opacity:1\" cx=\"687.303\" cy=\"1412.84\" r=\"14\"/>\n",
       "<circle clip-path=\"url(#clip7802)\" style=\"fill:#000000; stroke:none; fill-opacity:1\" cx=\"687.303\" cy=\"1414.23\" r=\"18\"/>\n",
       "<circle clip-path=\"url(#clip7802)\" style=\"fill:#009af9; stroke:none; fill-opacity:1\" cx=\"687.303\" cy=\"1414.23\" r=\"14\"/>\n",
       "<circle clip-path=\"url(#clip7802)\" style=\"fill:#000000; stroke:none; fill-opacity:1\" cx=\"687.303\" cy=\"1182.27\" r=\"18\"/>\n",
       "<circle clip-path=\"url(#clip7802)\" style=\"fill:#009af9; stroke:none; fill-opacity:1\" cx=\"687.303\" cy=\"1182.27\" r=\"14\"/>\n",
       "<circle clip-path=\"url(#clip7802)\" style=\"fill:#000000; stroke:none; fill-opacity:1\" cx=\"687.303\" cy=\"1409.79\" r=\"18\"/>\n",
       "<circle clip-path=\"url(#clip7802)\" style=\"fill:#009af9; stroke:none; fill-opacity:1\" cx=\"687.303\" cy=\"1409.79\" r=\"14\"/>\n",
       "<circle clip-path=\"url(#clip7802)\" style=\"fill:#000000; stroke:none; fill-opacity:1\" cx=\"687.303\" cy=\"1408.19\" r=\"18\"/>\n",
       "<circle clip-path=\"url(#clip7802)\" style=\"fill:#009af9; stroke:none; fill-opacity:1\" cx=\"687.303\" cy=\"1408.19\" r=\"14\"/>\n",
       "<circle clip-path=\"url(#clip7802)\" style=\"fill:#000000; stroke:none; fill-opacity:1\" cx=\"687.303\" cy=\"1421.59\" r=\"18\"/>\n",
       "<circle clip-path=\"url(#clip7802)\" style=\"fill:#009af9; stroke:none; fill-opacity:1\" cx=\"687.303\" cy=\"1421.59\" r=\"14\"/>\n",
       "<circle clip-path=\"url(#clip7802)\" style=\"fill:#000000; stroke:none; fill-opacity:1\" cx=\"687.303\" cy=\"1425.71\" r=\"18\"/>\n",
       "<circle clip-path=\"url(#clip7802)\" style=\"fill:#009af9; stroke:none; fill-opacity:1\" cx=\"687.303\" cy=\"1425.71\" r=\"14\"/>\n",
       "<circle clip-path=\"url(#clip7802)\" style=\"fill:#000000; stroke:none; fill-opacity:1\" cx=\"687.303\" cy=\"1424.05\" r=\"18\"/>\n",
       "<circle clip-path=\"url(#clip7802)\" style=\"fill:#009af9; stroke:none; fill-opacity:1\" cx=\"687.303\" cy=\"1424.05\" r=\"14\"/>\n",
       "<circle clip-path=\"url(#clip7802)\" style=\"fill:#000000; stroke:none; fill-opacity:1\" cx=\"687.303\" cy=\"1423.98\" r=\"18\"/>\n",
       "<circle clip-path=\"url(#clip7802)\" style=\"fill:#009af9; stroke:none; fill-opacity:1\" cx=\"687.303\" cy=\"1423.98\" r=\"14\"/>\n",
       "<circle clip-path=\"url(#clip7802)\" style=\"fill:#000000; stroke:none; fill-opacity:1\" cx=\"687.303\" cy=\"1412.22\" r=\"18\"/>\n",
       "<circle clip-path=\"url(#clip7802)\" style=\"fill:#009af9; stroke:none; fill-opacity:1\" cx=\"687.303\" cy=\"1412.22\" r=\"14\"/>\n",
       "<circle clip-path=\"url(#clip7802)\" style=\"fill:#000000; stroke:none; fill-opacity:1\" cx=\"687.303\" cy=\"1423.59\" r=\"18\"/>\n",
       "<circle clip-path=\"url(#clip7802)\" style=\"fill:#009af9; stroke:none; fill-opacity:1\" cx=\"687.303\" cy=\"1423.59\" r=\"14\"/>\n",
       "<circle clip-path=\"url(#clip7802)\" style=\"fill:#000000; stroke:none; fill-opacity:1\" cx=\"687.303\" cy=\"1434.89\" r=\"18\"/>\n",
       "<circle clip-path=\"url(#clip7802)\" style=\"fill:#009af9; stroke:none; fill-opacity:1\" cx=\"687.303\" cy=\"1434.89\" r=\"14\"/>\n",
       "<circle clip-path=\"url(#clip7802)\" style=\"fill:#000000; stroke:none; fill-opacity:1\" cx=\"687.303\" cy=\"1416.37\" r=\"18\"/>\n",
       "<circle clip-path=\"url(#clip7802)\" style=\"fill:#009af9; stroke:none; fill-opacity:1\" cx=\"687.303\" cy=\"1416.37\" r=\"14\"/>\n",
       "<circle clip-path=\"url(#clip7802)\" style=\"fill:#000000; stroke:none; fill-opacity:1\" cx=\"687.303\" cy=\"1414.27\" r=\"18\"/>\n",
       "<circle clip-path=\"url(#clip7802)\" style=\"fill:#009af9; stroke:none; fill-opacity:1\" cx=\"687.303\" cy=\"1414.27\" r=\"14\"/>\n",
       "<circle clip-path=\"url(#clip7802)\" style=\"fill:#000000; stroke:none; fill-opacity:1\" cx=\"687.303\" cy=\"1428.39\" r=\"18\"/>\n",
       "<circle clip-path=\"url(#clip7802)\" style=\"fill:#009af9; stroke:none; fill-opacity:1\" cx=\"687.303\" cy=\"1428.39\" r=\"14\"/>\n",
       "<circle clip-path=\"url(#clip7802)\" style=\"fill:#000000; stroke:none; fill-opacity:1\" cx=\"687.303\" cy=\"1426.64\" r=\"18\"/>\n",
       "<circle clip-path=\"url(#clip7802)\" style=\"fill:#009af9; stroke:none; fill-opacity:1\" cx=\"687.303\" cy=\"1426.64\" r=\"14\"/>\n",
       "<circle clip-path=\"url(#clip7802)\" style=\"fill:#000000; stroke:none; fill-opacity:1\" cx=\"687.303\" cy=\"1418.84\" r=\"18\"/>\n",
       "<circle clip-path=\"url(#clip7802)\" style=\"fill:#009af9; stroke:none; fill-opacity:1\" cx=\"687.303\" cy=\"1418.84\" r=\"14\"/>\n",
       "<circle clip-path=\"url(#clip7802)\" style=\"fill:#000000; stroke:none; fill-opacity:1\" cx=\"687.303\" cy=\"1425.25\" r=\"18\"/>\n",
       "<circle clip-path=\"url(#clip7802)\" style=\"fill:#009af9; stroke:none; fill-opacity:1\" cx=\"687.303\" cy=\"1425.25\" r=\"14\"/>\n",
       "<circle clip-path=\"url(#clip7802)\" style=\"fill:#000000; stroke:none; fill-opacity:1\" cx=\"687.303\" cy=\"1427.47\" r=\"18\"/>\n",
       "<circle clip-path=\"url(#clip7802)\" style=\"fill:#009af9; stroke:none; fill-opacity:1\" cx=\"687.303\" cy=\"1427.47\" r=\"14\"/>\n",
       "<circle clip-path=\"url(#clip7802)\" style=\"fill:#000000; stroke:none; fill-opacity:1\" cx=\"687.303\" cy=\"1406.91\" r=\"18\"/>\n",
       "<circle clip-path=\"url(#clip7802)\" style=\"fill:#009af9; stroke:none; fill-opacity:1\" cx=\"687.303\" cy=\"1406.91\" r=\"14\"/>\n",
       "<circle clip-path=\"url(#clip7802)\" style=\"fill:#000000; stroke:none; fill-opacity:1\" cx=\"687.303\" cy=\"1417.15\" r=\"18\"/>\n",
       "<circle clip-path=\"url(#clip7802)\" style=\"fill:#009af9; stroke:none; fill-opacity:1\" cx=\"687.303\" cy=\"1417.15\" r=\"14\"/>\n",
       "<circle clip-path=\"url(#clip7802)\" style=\"fill:#000000; stroke:none; fill-opacity:1\" cx=\"687.303\" cy=\"1424.25\" r=\"18\"/>\n",
       "<circle clip-path=\"url(#clip7802)\" style=\"fill:#009af9; stroke:none; fill-opacity:1\" cx=\"687.303\" cy=\"1424.25\" r=\"14\"/>\n",
       "<circle clip-path=\"url(#clip7802)\" style=\"fill:#000000; stroke:none; fill-opacity:1\" cx=\"687.303\" cy=\"1412.15\" r=\"18\"/>\n",
       "<circle clip-path=\"url(#clip7802)\" style=\"fill:#009af9; stroke:none; fill-opacity:1\" cx=\"687.303\" cy=\"1412.15\" r=\"14\"/>\n",
       "<circle clip-path=\"url(#clip7802)\" style=\"fill:#000000; stroke:none; fill-opacity:1\" cx=\"687.303\" cy=\"1414.03\" r=\"18\"/>\n",
       "<circle clip-path=\"url(#clip7802)\" style=\"fill:#009af9; stroke:none; fill-opacity:1\" cx=\"687.303\" cy=\"1414.03\" r=\"14\"/>\n",
       "<circle clip-path=\"url(#clip7802)\" style=\"fill:#000000; stroke:none; fill-opacity:1\" cx=\"687.303\" cy=\"1413.06\" r=\"18\"/>\n",
       "<circle clip-path=\"url(#clip7802)\" style=\"fill:#009af9; stroke:none; fill-opacity:1\" cx=\"687.303\" cy=\"1413.06\" r=\"14\"/>\n",
       "<circle clip-path=\"url(#clip7802)\" style=\"fill:#000000; stroke:none; fill-opacity:1\" cx=\"687.303\" cy=\"1427.07\" r=\"18\"/>\n",
       "<circle clip-path=\"url(#clip7802)\" style=\"fill:#009af9; stroke:none; fill-opacity:1\" cx=\"687.303\" cy=\"1427.07\" r=\"14\"/>\n",
       "<circle clip-path=\"url(#clip7802)\" style=\"fill:#000000; stroke:none; fill-opacity:1\" cx=\"687.303\" cy=\"1424.79\" r=\"18\"/>\n",
       "<circle clip-path=\"url(#clip7802)\" style=\"fill:#009af9; stroke:none; fill-opacity:1\" cx=\"687.303\" cy=\"1424.79\" r=\"14\"/>\n",
       "<circle clip-path=\"url(#clip7802)\" style=\"fill:#000000; stroke:none; fill-opacity:1\" cx=\"687.303\" cy=\"1429.19\" r=\"18\"/>\n",
       "<circle clip-path=\"url(#clip7802)\" style=\"fill:#009af9; stroke:none; fill-opacity:1\" cx=\"687.303\" cy=\"1429.19\" r=\"14\"/>\n",
       "<circle clip-path=\"url(#clip7802)\" style=\"fill:#000000; stroke:none; fill-opacity:1\" cx=\"687.303\" cy=\"1423.03\" r=\"18\"/>\n",
       "<circle clip-path=\"url(#clip7802)\" style=\"fill:#009af9; stroke:none; fill-opacity:1\" cx=\"687.303\" cy=\"1423.03\" r=\"14\"/>\n",
       "<circle clip-path=\"url(#clip7802)\" style=\"fill:#000000; stroke:none; fill-opacity:1\" cx=\"687.303\" cy=\"1426.96\" r=\"18\"/>\n",
       "<circle clip-path=\"url(#clip7802)\" style=\"fill:#009af9; stroke:none; fill-opacity:1\" cx=\"687.303\" cy=\"1426.96\" r=\"14\"/>\n",
       "<circle clip-path=\"url(#clip7802)\" style=\"fill:#000000; stroke:none; fill-opacity:1\" cx=\"687.303\" cy=\"1432.14\" r=\"18\"/>\n",
       "<circle clip-path=\"url(#clip7802)\" style=\"fill:#009af9; stroke:none; fill-opacity:1\" cx=\"687.303\" cy=\"1432.14\" r=\"14\"/>\n",
       "<circle clip-path=\"url(#clip7802)\" style=\"fill:#000000; stroke:none; fill-opacity:1\" cx=\"687.303\" cy=\"1426.19\" r=\"18\"/>\n",
       "<circle clip-path=\"url(#clip7802)\" style=\"fill:#009af9; stroke:none; fill-opacity:1\" cx=\"687.303\" cy=\"1426.19\" r=\"14\"/>\n",
       "<circle clip-path=\"url(#clip7802)\" style=\"fill:#000000; stroke:none; fill-opacity:1\" cx=\"687.303\" cy=\"1427.76\" r=\"18\"/>\n",
       "<circle clip-path=\"url(#clip7802)\" style=\"fill:#009af9; stroke:none; fill-opacity:1\" cx=\"687.303\" cy=\"1427.76\" r=\"14\"/>\n",
       "<circle clip-path=\"url(#clip7802)\" style=\"fill:#000000; stroke:none; fill-opacity:1\" cx=\"687.303\" cy=\"1404.46\" r=\"18\"/>\n",
       "<circle clip-path=\"url(#clip7802)\" style=\"fill:#009af9; stroke:none; fill-opacity:1\" cx=\"687.303\" cy=\"1404.46\" r=\"14\"/>\n",
       "<circle clip-path=\"url(#clip7802)\" style=\"fill:#000000; stroke:none; fill-opacity:1\" cx=\"687.303\" cy=\"1427.36\" r=\"18\"/>\n",
       "<circle clip-path=\"url(#clip7802)\" style=\"fill:#009af9; stroke:none; fill-opacity:1\" cx=\"687.303\" cy=\"1427.36\" r=\"14\"/>\n",
       "<circle clip-path=\"url(#clip7802)\" style=\"fill:#000000; stroke:none; fill-opacity:1\" cx=\"687.303\" cy=\"1429.8\" r=\"18\"/>\n",
       "<circle clip-path=\"url(#clip7802)\" style=\"fill:#009af9; stroke:none; fill-opacity:1\" cx=\"687.303\" cy=\"1429.8\" r=\"14\"/>\n",
       "<circle clip-path=\"url(#clip7802)\" style=\"fill:#000000; stroke:none; fill-opacity:1\" cx=\"687.303\" cy=\"1424.6\" r=\"18\"/>\n",
       "<circle clip-path=\"url(#clip7802)\" style=\"fill:#009af9; stroke:none; fill-opacity:1\" cx=\"687.303\" cy=\"1424.6\" r=\"14\"/>\n",
       "<circle clip-path=\"url(#clip7802)\" style=\"fill:#000000; stroke:none; fill-opacity:1\" cx=\"687.303\" cy=\"1420.55\" r=\"18\"/>\n",
       "<circle clip-path=\"url(#clip7802)\" style=\"fill:#009af9; stroke:none; fill-opacity:1\" cx=\"687.303\" cy=\"1420.55\" r=\"14\"/>\n",
       "<circle clip-path=\"url(#clip7802)\" style=\"fill:#000000; stroke:none; fill-opacity:1\" cx=\"687.303\" cy=\"1425.75\" r=\"18\"/>\n",
       "<circle clip-path=\"url(#clip7802)\" style=\"fill:#009af9; stroke:none; fill-opacity:1\" cx=\"687.303\" cy=\"1425.75\" r=\"14\"/>\n",
       "<circle clip-path=\"url(#clip7802)\" style=\"fill:#000000; stroke:none; fill-opacity:1\" cx=\"687.303\" cy=\"1420.38\" r=\"18\"/>\n",
       "<circle clip-path=\"url(#clip7802)\" style=\"fill:#009af9; stroke:none; fill-opacity:1\" cx=\"687.303\" cy=\"1420.38\" r=\"14\"/>\n",
       "<circle clip-path=\"url(#clip7802)\" style=\"fill:#000000; stroke:none; fill-opacity:1\" cx=\"687.303\" cy=\"1435.12\" r=\"18\"/>\n",
       "<circle clip-path=\"url(#clip7802)\" style=\"fill:#009af9; stroke:none; fill-opacity:1\" cx=\"687.303\" cy=\"1435.12\" r=\"14\"/>\n",
       "<circle clip-path=\"url(#clip7802)\" style=\"fill:#000000; stroke:none; fill-opacity:1\" cx=\"687.303\" cy=\"1430.12\" r=\"18\"/>\n",
       "<circle clip-path=\"url(#clip7802)\" style=\"fill:#009af9; stroke:none; fill-opacity:1\" cx=\"687.303\" cy=\"1430.12\" r=\"14\"/>\n",
       "<circle clip-path=\"url(#clip7802)\" style=\"fill:#000000; stroke:none; fill-opacity:1\" cx=\"687.303\" cy=\"1423.76\" r=\"18\"/>\n",
       "<circle clip-path=\"url(#clip7802)\" style=\"fill:#009af9; stroke:none; fill-opacity:1\" cx=\"687.303\" cy=\"1423.76\" r=\"14\"/>\n",
       "<circle clip-path=\"url(#clip7802)\" style=\"fill:#000000; stroke:none; fill-opacity:1\" cx=\"687.303\" cy=\"1409.69\" r=\"18\"/>\n",
       "<circle clip-path=\"url(#clip7802)\" style=\"fill:#009af9; stroke:none; fill-opacity:1\" cx=\"687.303\" cy=\"1409.69\" r=\"14\"/>\n",
       "<circle clip-path=\"url(#clip7802)\" style=\"fill:#000000; stroke:none; fill-opacity:1\" cx=\"687.303\" cy=\"1425.38\" r=\"18\"/>\n",
       "<circle clip-path=\"url(#clip7802)\" style=\"fill:#009af9; stroke:none; fill-opacity:1\" cx=\"687.303\" cy=\"1425.38\" r=\"14\"/>\n",
       "<circle clip-path=\"url(#clip7802)\" style=\"fill:#000000; stroke:none; fill-opacity:1\" cx=\"687.303\" cy=\"1423.02\" r=\"18\"/>\n",
       "<circle clip-path=\"url(#clip7802)\" style=\"fill:#009af9; stroke:none; fill-opacity:1\" cx=\"687.303\" cy=\"1423.02\" r=\"14\"/>\n",
       "<circle clip-path=\"url(#clip7802)\" style=\"fill:#000000; stroke:none; fill-opacity:1\" cx=\"687.303\" cy=\"1433.59\" r=\"18\"/>\n",
       "<circle clip-path=\"url(#clip7802)\" style=\"fill:#009af9; stroke:none; fill-opacity:1\" cx=\"687.303\" cy=\"1433.59\" r=\"14\"/>\n",
       "<circle clip-path=\"url(#clip7802)\" style=\"fill:#000000; stroke:none; fill-opacity:1\" cx=\"687.303\" cy=\"1435.93\" r=\"18\"/>\n",
       "<circle clip-path=\"url(#clip7802)\" style=\"fill:#009af9; stroke:none; fill-opacity:1\" cx=\"687.303\" cy=\"1435.93\" r=\"14\"/>\n",
       "<circle clip-path=\"url(#clip7802)\" style=\"fill:#000000; stroke:none; fill-opacity:1\" cx=\"687.303\" cy=\"1436.93\" r=\"18\"/>\n",
       "<circle clip-path=\"url(#clip7802)\" style=\"fill:#009af9; stroke:none; fill-opacity:1\" cx=\"687.303\" cy=\"1436.93\" r=\"14\"/>\n",
       "<circle clip-path=\"url(#clip7802)\" style=\"fill:#000000; stroke:none; fill-opacity:1\" cx=\"687.303\" cy=\"1436.08\" r=\"18\"/>\n",
       "<circle clip-path=\"url(#clip7802)\" style=\"fill:#009af9; stroke:none; fill-opacity:1\" cx=\"687.303\" cy=\"1436.08\" r=\"14\"/>\n",
       "<circle clip-path=\"url(#clip7802)\" style=\"fill:#000000; stroke:none; fill-opacity:1\" cx=\"687.303\" cy=\"1417.76\" r=\"18\"/>\n",
       "<circle clip-path=\"url(#clip7802)\" style=\"fill:#009af9; stroke:none; fill-opacity:1\" cx=\"687.303\" cy=\"1417.76\" r=\"14\"/>\n",
       "<circle clip-path=\"url(#clip7802)\" style=\"fill:#000000; stroke:none; fill-opacity:1\" cx=\"687.303\" cy=\"1436.86\" r=\"18\"/>\n",
       "<circle clip-path=\"url(#clip7802)\" style=\"fill:#009af9; stroke:none; fill-opacity:1\" cx=\"687.303\" cy=\"1436.86\" r=\"14\"/>\n",
       "<circle clip-path=\"url(#clip7802)\" style=\"fill:#000000; stroke:none; fill-opacity:1\" cx=\"687.303\" cy=\"1435.9\" r=\"18\"/>\n",
       "<circle clip-path=\"url(#clip7802)\" style=\"fill:#009af9; stroke:none; fill-opacity:1\" cx=\"687.303\" cy=\"1435.9\" r=\"14\"/>\n",
       "<circle clip-path=\"url(#clip7802)\" style=\"fill:#000000; stroke:none; fill-opacity:1\" cx=\"687.303\" cy=\"1441.47\" r=\"18\"/>\n",
       "<circle clip-path=\"url(#clip7802)\" style=\"fill:#009af9; stroke:none; fill-opacity:1\" cx=\"687.303\" cy=\"1441.47\" r=\"14\"/>\n",
       "<circle clip-path=\"url(#clip7802)\" style=\"fill:#000000; stroke:none; fill-opacity:1\" cx=\"687.303\" cy=\"1434.53\" r=\"18\"/>\n",
       "<circle clip-path=\"url(#clip7802)\" style=\"fill:#009af9; stroke:none; fill-opacity:1\" cx=\"687.303\" cy=\"1434.53\" r=\"14\"/>\n",
       "<circle clip-path=\"url(#clip7802)\" style=\"fill:#000000; stroke:none; fill-opacity:1\" cx=\"687.303\" cy=\"1430.65\" r=\"18\"/>\n",
       "<circle clip-path=\"url(#clip7802)\" style=\"fill:#009af9; stroke:none; fill-opacity:1\" cx=\"687.303\" cy=\"1430.65\" r=\"14\"/>\n",
       "<circle clip-path=\"url(#clip7802)\" style=\"fill:#000000; stroke:none; fill-opacity:1\" cx=\"687.303\" cy=\"1436.76\" r=\"18\"/>\n",
       "<circle clip-path=\"url(#clip7802)\" style=\"fill:#009af9; stroke:none; fill-opacity:1\" cx=\"687.303\" cy=\"1436.76\" r=\"14\"/>\n",
       "<circle clip-path=\"url(#clip7802)\" style=\"fill:#000000; stroke:none; fill-opacity:1\" cx=\"687.303\" cy=\"1428.94\" r=\"18\"/>\n",
       "<circle clip-path=\"url(#clip7802)\" style=\"fill:#009af9; stroke:none; fill-opacity:1\" cx=\"687.303\" cy=\"1428.94\" r=\"14\"/>\n",
       "<circle clip-path=\"url(#clip7802)\" style=\"fill:#000000; stroke:none; fill-opacity:1\" cx=\"687.303\" cy=\"1446.71\" r=\"18\"/>\n",
       "<circle clip-path=\"url(#clip7802)\" style=\"fill:#009af9; stroke:none; fill-opacity:1\" cx=\"687.303\" cy=\"1446.71\" r=\"14\"/>\n",
       "<circle clip-path=\"url(#clip7802)\" style=\"fill:#000000; stroke:none; fill-opacity:1\" cx=\"687.303\" cy=\"1413.74\" r=\"18\"/>\n",
       "<circle clip-path=\"url(#clip7802)\" style=\"fill:#009af9; stroke:none; fill-opacity:1\" cx=\"687.303\" cy=\"1413.74\" r=\"14\"/>\n",
       "<circle clip-path=\"url(#clip7802)\" style=\"fill:#000000; stroke:none; fill-opacity:1\" cx=\"687.303\" cy=\"1426.47\" r=\"18\"/>\n",
       "<circle clip-path=\"url(#clip7802)\" style=\"fill:#009af9; stroke:none; fill-opacity:1\" cx=\"687.303\" cy=\"1426.47\" r=\"14\"/>\n",
       "<circle clip-path=\"url(#clip7802)\" style=\"fill:#000000; stroke:none; fill-opacity:1\" cx=\"687.303\" cy=\"1443.31\" r=\"18\"/>\n",
       "<circle clip-path=\"url(#clip7802)\" style=\"fill:#009af9; stroke:none; fill-opacity:1\" cx=\"687.303\" cy=\"1443.31\" r=\"14\"/>\n",
       "<circle clip-path=\"url(#clip7802)\" style=\"fill:#000000; stroke:none; fill-opacity:1\" cx=\"687.303\" cy=\"1423.88\" r=\"18\"/>\n",
       "<circle clip-path=\"url(#clip7802)\" style=\"fill:#009af9; stroke:none; fill-opacity:1\" cx=\"687.303\" cy=\"1423.88\" r=\"14\"/>\n",
       "<circle clip-path=\"url(#clip7802)\" style=\"fill:#000000; stroke:none; fill-opacity:1\" cx=\"687.303\" cy=\"1443.79\" r=\"18\"/>\n",
       "<circle clip-path=\"url(#clip7802)\" style=\"fill:#009af9; stroke:none; fill-opacity:1\" cx=\"687.303\" cy=\"1443.79\" r=\"14\"/>\n",
       "<circle clip-path=\"url(#clip7802)\" style=\"fill:#000000; stroke:none; fill-opacity:1\" cx=\"687.303\" cy=\"1428.66\" r=\"18\"/>\n",
       "<circle clip-path=\"url(#clip7802)\" style=\"fill:#009af9; stroke:none; fill-opacity:1\" cx=\"687.303\" cy=\"1428.66\" r=\"14\"/>\n",
       "<circle clip-path=\"url(#clip7802)\" style=\"fill:#000000; stroke:none; fill-opacity:1\" cx=\"687.303\" cy=\"1421.52\" r=\"18\"/>\n",
       "<circle clip-path=\"url(#clip7802)\" style=\"fill:#009af9; stroke:none; fill-opacity:1\" cx=\"687.303\" cy=\"1421.52\" r=\"14\"/>\n",
       "<circle clip-path=\"url(#clip7802)\" style=\"fill:#000000; stroke:none; fill-opacity:1\" cx=\"687.303\" cy=\"1428.89\" r=\"18\"/>\n",
       "<circle clip-path=\"url(#clip7802)\" style=\"fill:#009af9; stroke:none; fill-opacity:1\" cx=\"687.303\" cy=\"1428.89\" r=\"14\"/>\n",
       "<circle clip-path=\"url(#clip7802)\" style=\"fill:#000000; stroke:none; fill-opacity:1\" cx=\"687.303\" cy=\"1426.91\" r=\"18\"/>\n",
       "<circle clip-path=\"url(#clip7802)\" style=\"fill:#009af9; stroke:none; fill-opacity:1\" cx=\"687.303\" cy=\"1426.91\" r=\"14\"/>\n",
       "<circle clip-path=\"url(#clip7802)\" style=\"fill:#000000; stroke:none; fill-opacity:1\" cx=\"687.303\" cy=\"1427.15\" r=\"18\"/>\n",
       "<circle clip-path=\"url(#clip7802)\" style=\"fill:#009af9; stroke:none; fill-opacity:1\" cx=\"687.303\" cy=\"1427.15\" r=\"14\"/>\n",
       "<circle clip-path=\"url(#clip7802)\" style=\"fill:#000000; stroke:none; fill-opacity:1\" cx=\"687.303\" cy=\"1432.43\" r=\"18\"/>\n",
       "<circle clip-path=\"url(#clip7802)\" style=\"fill:#009af9; stroke:none; fill-opacity:1\" cx=\"687.303\" cy=\"1432.43\" r=\"14\"/>\n",
       "<circle clip-path=\"url(#clip7802)\" style=\"fill:#000000; stroke:none; fill-opacity:1\" cx=\"687.303\" cy=\"1429.88\" r=\"18\"/>\n",
       "<circle clip-path=\"url(#clip7802)\" style=\"fill:#009af9; stroke:none; fill-opacity:1\" cx=\"687.303\" cy=\"1429.88\" r=\"14\"/>\n",
       "<circle clip-path=\"url(#clip7802)\" style=\"fill:#000000; stroke:none; fill-opacity:1\" cx=\"687.303\" cy=\"1435.42\" r=\"18\"/>\n",
       "<circle clip-path=\"url(#clip7802)\" style=\"fill:#009af9; stroke:none; fill-opacity:1\" cx=\"687.303\" cy=\"1435.42\" r=\"14\"/>\n",
       "<circle clip-path=\"url(#clip7802)\" style=\"fill:#000000; stroke:none; fill-opacity:1\" cx=\"687.303\" cy=\"1431.84\" r=\"18\"/>\n",
       "<circle clip-path=\"url(#clip7802)\" style=\"fill:#009af9; stroke:none; fill-opacity:1\" cx=\"687.303\" cy=\"1431.84\" r=\"14\"/>\n",
       "<circle clip-path=\"url(#clip7802)\" style=\"fill:#000000; stroke:none; fill-opacity:1\" cx=\"687.303\" cy=\"1429\" r=\"18\"/>\n",
       "<circle clip-path=\"url(#clip7802)\" style=\"fill:#009af9; stroke:none; fill-opacity:1\" cx=\"687.303\" cy=\"1429\" r=\"14\"/>\n",
       "<circle clip-path=\"url(#clip7802)\" style=\"fill:#000000; stroke:none; fill-opacity:1\" cx=\"687.303\" cy=\"1136.08\" r=\"18\"/>\n",
       "<circle clip-path=\"url(#clip7802)\" style=\"fill:#009af9; stroke:none; fill-opacity:1\" cx=\"687.303\" cy=\"1136.08\" r=\"14\"/>\n",
       "<circle clip-path=\"url(#clip7802)\" style=\"fill:#000000; stroke:none; fill-opacity:1\" cx=\"687.303\" cy=\"1405.1\" r=\"18\"/>\n",
       "<circle clip-path=\"url(#clip7802)\" style=\"fill:#009af9; stroke:none; fill-opacity:1\" cx=\"687.303\" cy=\"1405.1\" r=\"14\"/>\n",
       "<circle clip-path=\"url(#clip7802)\" style=\"fill:#000000; stroke:none; fill-opacity:1\" cx=\"687.303\" cy=\"1404.13\" r=\"18\"/>\n",
       "<circle clip-path=\"url(#clip7802)\" style=\"fill:#009af9; stroke:none; fill-opacity:1\" cx=\"687.303\" cy=\"1404.13\" r=\"14\"/>\n",
       "<circle clip-path=\"url(#clip7802)\" style=\"fill:#000000; stroke:none; fill-opacity:1\" cx=\"687.303\" cy=\"1161.42\" r=\"18\"/>\n",
       "<circle clip-path=\"url(#clip7802)\" style=\"fill:#009af9; stroke:none; fill-opacity:1\" cx=\"687.303\" cy=\"1161.42\" r=\"14\"/>\n",
       "<circle clip-path=\"url(#clip7802)\" style=\"fill:#000000; stroke:none; fill-opacity:1\" cx=\"687.303\" cy=\"1406.9\" r=\"18\"/>\n",
       "<circle clip-path=\"url(#clip7802)\" style=\"fill:#009af9; stroke:none; fill-opacity:1\" cx=\"687.303\" cy=\"1406.9\" r=\"14\"/>\n",
       "<circle clip-path=\"url(#clip7802)\" style=\"fill:#000000; stroke:none; fill-opacity:1\" cx=\"687.303\" cy=\"1174.33\" r=\"18\"/>\n",
       "<circle clip-path=\"url(#clip7802)\" style=\"fill:#009af9; stroke:none; fill-opacity:1\" cx=\"687.303\" cy=\"1174.33\" r=\"14\"/>\n",
       "<circle clip-path=\"url(#clip7802)\" style=\"fill:#000000; stroke:none; fill-opacity:1\" cx=\"687.303\" cy=\"1133.59\" r=\"18\"/>\n",
       "<circle clip-path=\"url(#clip7802)\" style=\"fill:#009af9; stroke:none; fill-opacity:1\" cx=\"687.303\" cy=\"1133.59\" r=\"14\"/>\n",
       "<circle clip-path=\"url(#clip7802)\" style=\"fill:#000000; stroke:none; fill-opacity:1\" cx=\"687.303\" cy=\"1409.61\" r=\"18\"/>\n",
       "<circle clip-path=\"url(#clip7802)\" style=\"fill:#009af9; stroke:none; fill-opacity:1\" cx=\"687.303\" cy=\"1409.61\" r=\"14\"/>\n",
       "<circle clip-path=\"url(#clip7802)\" style=\"fill:#000000; stroke:none; fill-opacity:1\" cx=\"687.303\" cy=\"1411.36\" r=\"18\"/>\n",
       "<circle clip-path=\"url(#clip7802)\" style=\"fill:#009af9; stroke:none; fill-opacity:1\" cx=\"687.303\" cy=\"1411.36\" r=\"14\"/>\n",
       "<circle clip-path=\"url(#clip7802)\" style=\"fill:#000000; stroke:none; fill-opacity:1\" cx=\"687.303\" cy=\"1408.57\" r=\"18\"/>\n",
       "<circle clip-path=\"url(#clip7802)\" style=\"fill:#009af9; stroke:none; fill-opacity:1\" cx=\"687.303\" cy=\"1408.57\" r=\"14\"/>\n",
       "<circle clip-path=\"url(#clip7802)\" style=\"fill:#000000; stroke:none; fill-opacity:1\" cx=\"687.303\" cy=\"1415.74\" r=\"18\"/>\n",
       "<circle clip-path=\"url(#clip7802)\" style=\"fill:#009af9; stroke:none; fill-opacity:1\" cx=\"687.303\" cy=\"1415.74\" r=\"14\"/>\n",
       "<circle clip-path=\"url(#clip7802)\" style=\"fill:#000000; stroke:none; fill-opacity:1\" cx=\"687.303\" cy=\"1426.76\" r=\"18\"/>\n",
       "<circle clip-path=\"url(#clip7802)\" style=\"fill:#009af9; stroke:none; fill-opacity:1\" cx=\"687.303\" cy=\"1426.76\" r=\"14\"/>\n",
       "<circle clip-path=\"url(#clip7802)\" style=\"fill:#000000; stroke:none; fill-opacity:1\" cx=\"687.303\" cy=\"1136.29\" r=\"18\"/>\n",
       "<circle clip-path=\"url(#clip7802)\" style=\"fill:#009af9; stroke:none; fill-opacity:1\" cx=\"687.303\" cy=\"1136.29\" r=\"14\"/>\n",
       "<circle clip-path=\"url(#clip7802)\" style=\"fill:#000000; stroke:none; fill-opacity:1\" cx=\"687.303\" cy=\"1411.84\" r=\"18\"/>\n",
       "<circle clip-path=\"url(#clip7802)\" style=\"fill:#009af9; stroke:none; fill-opacity:1\" cx=\"687.303\" cy=\"1411.84\" r=\"14\"/>\n",
       "<circle clip-path=\"url(#clip7802)\" style=\"fill:#000000; stroke:none; fill-opacity:1\" cx=\"687.303\" cy=\"1404.08\" r=\"18\"/>\n",
       "<circle clip-path=\"url(#clip7802)\" style=\"fill:#009af9; stroke:none; fill-opacity:1\" cx=\"687.303\" cy=\"1404.08\" r=\"14\"/>\n",
       "<circle clip-path=\"url(#clip7802)\" style=\"fill:#000000; stroke:none; fill-opacity:1\" cx=\"687.303\" cy=\"1424.8\" r=\"18\"/>\n",
       "<circle clip-path=\"url(#clip7802)\" style=\"fill:#009af9; stroke:none; fill-opacity:1\" cx=\"687.303\" cy=\"1424.8\" r=\"14\"/>\n",
       "<circle clip-path=\"url(#clip7802)\" style=\"fill:#000000; stroke:none; fill-opacity:1\" cx=\"687.303\" cy=\"1179.94\" r=\"18\"/>\n",
       "<circle clip-path=\"url(#clip7802)\" style=\"fill:#009af9; stroke:none; fill-opacity:1\" cx=\"687.303\" cy=\"1179.94\" r=\"14\"/>\n",
       "<circle clip-path=\"url(#clip7802)\" style=\"fill:#000000; stroke:none; fill-opacity:1\" cx=\"687.303\" cy=\"1128.55\" r=\"18\"/>\n",
       "<circle clip-path=\"url(#clip7802)\" style=\"fill:#009af9; stroke:none; fill-opacity:1\" cx=\"687.303\" cy=\"1128.55\" r=\"14\"/>\n",
       "<circle clip-path=\"url(#clip7802)\" style=\"fill:#000000; stroke:none; fill-opacity:1\" cx=\"687.303\" cy=\"1406.62\" r=\"18\"/>\n",
       "<circle clip-path=\"url(#clip7802)\" style=\"fill:#009af9; stroke:none; fill-opacity:1\" cx=\"687.303\" cy=\"1406.62\" r=\"14\"/>\n",
       "<circle clip-path=\"url(#clip7802)\" style=\"fill:#000000; stroke:none; fill-opacity:1\" cx=\"687.303\" cy=\"1139.85\" r=\"18\"/>\n",
       "<circle clip-path=\"url(#clip7802)\" style=\"fill:#009af9; stroke:none; fill-opacity:1\" cx=\"687.303\" cy=\"1139.85\" r=\"14\"/>\n",
       "<circle clip-path=\"url(#clip7802)\" style=\"fill:#000000; stroke:none; fill-opacity:1\" cx=\"687.303\" cy=\"1403.52\" r=\"18\"/>\n",
       "<circle clip-path=\"url(#clip7802)\" style=\"fill:#009af9; stroke:none; fill-opacity:1\" cx=\"687.303\" cy=\"1403.52\" r=\"14\"/>\n",
       "<circle clip-path=\"url(#clip7802)\" style=\"fill:#000000; stroke:none; fill-opacity:1\" cx=\"687.303\" cy=\"1158.67\" r=\"18\"/>\n",
       "<circle clip-path=\"url(#clip7802)\" style=\"fill:#009af9; stroke:none; fill-opacity:1\" cx=\"687.303\" cy=\"1158.67\" r=\"14\"/>\n",
       "<circle clip-path=\"url(#clip7802)\" style=\"fill:#000000; stroke:none; fill-opacity:1\" cx=\"687.303\" cy=\"1128.55\" r=\"18\"/>\n",
       "<circle clip-path=\"url(#clip7802)\" style=\"fill:#009af9; stroke:none; fill-opacity:1\" cx=\"687.303\" cy=\"1128.55\" r=\"14\"/>\n",
       "<circle clip-path=\"url(#clip7802)\" style=\"fill:#000000; stroke:none; fill-opacity:1\" cx=\"687.303\" cy=\"1405.99\" r=\"18\"/>\n",
       "<circle clip-path=\"url(#clip7802)\" style=\"fill:#009af9; stroke:none; fill-opacity:1\" cx=\"687.303\" cy=\"1405.99\" r=\"14\"/>\n",
       "<circle clip-path=\"url(#clip7802)\" style=\"fill:#000000; stroke:none; fill-opacity:1\" cx=\"687.303\" cy=\"1412.42\" r=\"18\"/>\n",
       "<circle clip-path=\"url(#clip7802)\" style=\"fill:#009af9; stroke:none; fill-opacity:1\" cx=\"687.303\" cy=\"1412.42\" r=\"14\"/>\n",
       "<circle clip-path=\"url(#clip7802)\" style=\"fill:#000000; stroke:none; fill-opacity:1\" cx=\"687.303\" cy=\"1409.5\" r=\"18\"/>\n",
       "<circle clip-path=\"url(#clip7802)\" style=\"fill:#009af9; stroke:none; fill-opacity:1\" cx=\"687.303\" cy=\"1409.5\" r=\"14\"/>\n",
       "<circle clip-path=\"url(#clip7802)\" style=\"fill:#000000; stroke:none; fill-opacity:1\" cx=\"687.303\" cy=\"1407.72\" r=\"18\"/>\n",
       "<circle clip-path=\"url(#clip7802)\" style=\"fill:#009af9; stroke:none; fill-opacity:1\" cx=\"687.303\" cy=\"1407.72\" r=\"14\"/>\n",
       "<circle clip-path=\"url(#clip7802)\" style=\"fill:#000000; stroke:none; fill-opacity:1\" cx=\"687.303\" cy=\"1157.94\" r=\"18\"/>\n",
       "<circle clip-path=\"url(#clip7802)\" style=\"fill:#009af9; stroke:none; fill-opacity:1\" cx=\"687.303\" cy=\"1157.94\" r=\"14\"/>\n",
       "<circle clip-path=\"url(#clip7802)\" style=\"fill:#000000; stroke:none; fill-opacity:1\" cx=\"687.303\" cy=\"1121.02\" r=\"18\"/>\n",
       "<circle clip-path=\"url(#clip7802)\" style=\"fill:#009af9; stroke:none; fill-opacity:1\" cx=\"687.303\" cy=\"1121.02\" r=\"14\"/>\n",
       "<circle clip-path=\"url(#clip7802)\" style=\"fill:#000000; stroke:none; fill-opacity:1\" cx=\"687.303\" cy=\"896.989\" r=\"18\"/>\n",
       "<circle clip-path=\"url(#clip7802)\" style=\"fill:#009af9; stroke:none; fill-opacity:1\" cx=\"687.303\" cy=\"896.989\" r=\"14\"/>\n",
       "<circle clip-path=\"url(#clip7802)\" style=\"fill:#000000; stroke:none; fill-opacity:1\" cx=\"687.303\" cy=\"1173.73\" r=\"18\"/>\n",
       "<circle clip-path=\"url(#clip7802)\" style=\"fill:#009af9; stroke:none; fill-opacity:1\" cx=\"687.303\" cy=\"1173.73\" r=\"14\"/>\n",
       "<circle clip-path=\"url(#clip7802)\" style=\"fill:#000000; stroke:none; fill-opacity:1\" cx=\"687.303\" cy=\"1410.19\" r=\"18\"/>\n",
       "<circle clip-path=\"url(#clip7802)\" style=\"fill:#009af9; stroke:none; fill-opacity:1\" cx=\"687.303\" cy=\"1410.19\" r=\"14\"/>\n",
       "<circle clip-path=\"url(#clip7802)\" style=\"fill:#000000; stroke:none; fill-opacity:1\" cx=\"687.303\" cy=\"1406.04\" r=\"18\"/>\n",
       "<circle clip-path=\"url(#clip7802)\" style=\"fill:#009af9; stroke:none; fill-opacity:1\" cx=\"687.303\" cy=\"1406.04\" r=\"14\"/>\n",
       "<circle clip-path=\"url(#clip7802)\" style=\"fill:#000000; stroke:none; fill-opacity:1\" cx=\"687.303\" cy=\"1135.26\" r=\"18\"/>\n",
       "<circle clip-path=\"url(#clip7802)\" style=\"fill:#009af9; stroke:none; fill-opacity:1\" cx=\"687.303\" cy=\"1135.26\" r=\"14\"/>\n",
       "<circle clip-path=\"url(#clip7802)\" style=\"fill:#000000; stroke:none; fill-opacity:1\" cx=\"687.303\" cy=\"1092.78\" r=\"18\"/>\n",
       "<circle clip-path=\"url(#clip7802)\" style=\"fill:#009af9; stroke:none; fill-opacity:1\" cx=\"687.303\" cy=\"1092.78\" r=\"14\"/>\n",
       "<circle clip-path=\"url(#clip7802)\" style=\"fill:#000000; stroke:none; fill-opacity:1\" cx=\"687.303\" cy=\"1147.7\" r=\"18\"/>\n",
       "<circle clip-path=\"url(#clip7802)\" style=\"fill:#009af9; stroke:none; fill-opacity:1\" cx=\"687.303\" cy=\"1147.7\" r=\"14\"/>\n",
       "<circle clip-path=\"url(#clip7802)\" style=\"fill:#000000; stroke:none; fill-opacity:1\" cx=\"687.303\" cy=\"1183.15\" r=\"18\"/>\n",
       "<circle clip-path=\"url(#clip7802)\" style=\"fill:#009af9; stroke:none; fill-opacity:1\" cx=\"687.303\" cy=\"1183.15\" r=\"14\"/>\n",
       "<circle clip-path=\"url(#clip7802)\" style=\"fill:#000000; stroke:none; fill-opacity:1\" cx=\"687.303\" cy=\"1404.88\" r=\"18\"/>\n",
       "<circle clip-path=\"url(#clip7802)\" style=\"fill:#009af9; stroke:none; fill-opacity:1\" cx=\"687.303\" cy=\"1404.88\" r=\"14\"/>\n",
       "<circle clip-path=\"url(#clip7802)\" style=\"fill:#000000; stroke:none; fill-opacity:1\" cx=\"687.303\" cy=\"1145.47\" r=\"18\"/>\n",
       "<circle clip-path=\"url(#clip7802)\" style=\"fill:#009af9; stroke:none; fill-opacity:1\" cx=\"687.303\" cy=\"1145.47\" r=\"14\"/>\n",
       "<circle clip-path=\"url(#clip7802)\" style=\"fill:#000000; stroke:none; fill-opacity:1\" cx=\"687.303\" cy=\"1169.97\" r=\"18\"/>\n",
       "<circle clip-path=\"url(#clip7802)\" style=\"fill:#009af9; stroke:none; fill-opacity:1\" cx=\"687.303\" cy=\"1169.97\" r=\"14\"/>\n",
       "<circle clip-path=\"url(#clip7802)\" style=\"fill:#000000; stroke:none; fill-opacity:1\" cx=\"687.303\" cy=\"1112.53\" r=\"18\"/>\n",
       "<circle clip-path=\"url(#clip7802)\" style=\"fill:#009af9; stroke:none; fill-opacity:1\" cx=\"687.303\" cy=\"1112.53\" r=\"14\"/>\n",
       "<circle clip-path=\"url(#clip7802)\" style=\"fill:#000000; stroke:none; fill-opacity:1\" cx=\"687.303\" cy=\"1410.41\" r=\"18\"/>\n",
       "<circle clip-path=\"url(#clip7802)\" style=\"fill:#009af9; stroke:none; fill-opacity:1\" cx=\"687.303\" cy=\"1410.41\" r=\"14\"/>\n",
       "<circle clip-path=\"url(#clip7802)\" style=\"fill:#000000; stroke:none; fill-opacity:1\" cx=\"687.303\" cy=\"1101.52\" r=\"18\"/>\n",
       "<circle clip-path=\"url(#clip7802)\" style=\"fill:#009af9; stroke:none; fill-opacity:1\" cx=\"687.303\" cy=\"1101.52\" r=\"14\"/>\n",
       "<circle clip-path=\"url(#clip7802)\" style=\"fill:#000000; stroke:none; fill-opacity:1\" cx=\"687.303\" cy=\"1405.37\" r=\"18\"/>\n",
       "<circle clip-path=\"url(#clip7802)\" style=\"fill:#009af9; stroke:none; fill-opacity:1\" cx=\"687.303\" cy=\"1405.37\" r=\"14\"/>\n",
       "<circle clip-path=\"url(#clip7802)\" style=\"fill:#000000; stroke:none; fill-opacity:1\" cx=\"687.303\" cy=\"1415.5\" r=\"18\"/>\n",
       "<circle clip-path=\"url(#clip7802)\" style=\"fill:#009af9; stroke:none; fill-opacity:1\" cx=\"687.303\" cy=\"1415.5\" r=\"14\"/>\n",
       "<circle clip-path=\"url(#clip7802)\" style=\"fill:#000000; stroke:none; fill-opacity:1\" cx=\"687.303\" cy=\"1186.4\" r=\"18\"/>\n",
       "<circle clip-path=\"url(#clip7802)\" style=\"fill:#009af9; stroke:none; fill-opacity:1\" cx=\"687.303\" cy=\"1186.4\" r=\"14\"/>\n",
       "<circle clip-path=\"url(#clip7802)\" style=\"fill:#000000; stroke:none; fill-opacity:1\" cx=\"687.303\" cy=\"1404.54\" r=\"18\"/>\n",
       "<circle clip-path=\"url(#clip7802)\" style=\"fill:#009af9; stroke:none; fill-opacity:1\" cx=\"687.303\" cy=\"1404.54\" r=\"14\"/>\n",
       "<circle clip-path=\"url(#clip7802)\" style=\"fill:#000000; stroke:none; fill-opacity:1\" cx=\"687.303\" cy=\"1408.95\" r=\"18\"/>\n",
       "<circle clip-path=\"url(#clip7802)\" style=\"fill:#009af9; stroke:none; fill-opacity:1\" cx=\"687.303\" cy=\"1408.95\" r=\"14\"/>\n",
       "<circle clip-path=\"url(#clip7802)\" style=\"fill:#000000; stroke:none; fill-opacity:1\" cx=\"687.303\" cy=\"1170.52\" r=\"18\"/>\n",
       "<circle clip-path=\"url(#clip7802)\" style=\"fill:#009af9; stroke:none; fill-opacity:1\" cx=\"687.303\" cy=\"1170.52\" r=\"14\"/>\n",
       "<circle clip-path=\"url(#clip7802)\" style=\"fill:#000000; stroke:none; fill-opacity:1\" cx=\"687.303\" cy=\"1147.78\" r=\"18\"/>\n",
       "<circle clip-path=\"url(#clip7802)\" style=\"fill:#009af9; stroke:none; fill-opacity:1\" cx=\"687.303\" cy=\"1147.78\" r=\"14\"/>\n",
       "<circle clip-path=\"url(#clip7802)\" style=\"fill:#000000; stroke:none; fill-opacity:1\" cx=\"687.303\" cy=\"1168.91\" r=\"18\"/>\n",
       "<circle clip-path=\"url(#clip7802)\" style=\"fill:#009af9; stroke:none; fill-opacity:1\" cx=\"687.303\" cy=\"1168.91\" r=\"14\"/>\n",
       "<circle clip-path=\"url(#clip7802)\" style=\"fill:#000000; stroke:none; fill-opacity:1\" cx=\"687.303\" cy=\"1171.85\" r=\"18\"/>\n",
       "<circle clip-path=\"url(#clip7802)\" style=\"fill:#009af9; stroke:none; fill-opacity:1\" cx=\"687.303\" cy=\"1171.85\" r=\"14\"/>\n",
       "<circle clip-path=\"url(#clip7802)\" style=\"fill:#000000; stroke:none; fill-opacity:1\" cx=\"687.303\" cy=\"1406.44\" r=\"18\"/>\n",
       "<circle clip-path=\"url(#clip7802)\" style=\"fill:#009af9; stroke:none; fill-opacity:1\" cx=\"687.303\" cy=\"1406.44\" r=\"14\"/>\n",
       "<circle clip-path=\"url(#clip7802)\" style=\"fill:#000000; stroke:none; fill-opacity:1\" cx=\"687.303\" cy=\"1177.15\" r=\"18\"/>\n",
       "<circle clip-path=\"url(#clip7802)\" style=\"fill:#009af9; stroke:none; fill-opacity:1\" cx=\"687.303\" cy=\"1177.15\" r=\"14\"/>\n",
       "<circle clip-path=\"url(#clip7802)\" style=\"fill:#000000; stroke:none; fill-opacity:1\" cx=\"687.303\" cy=\"1403.97\" r=\"18\"/>\n",
       "<circle clip-path=\"url(#clip7802)\" style=\"fill:#009af9; stroke:none; fill-opacity:1\" cx=\"687.303\" cy=\"1403.97\" r=\"14\"/>\n",
       "<circle clip-path=\"url(#clip7802)\" style=\"fill:#000000; stroke:none; fill-opacity:1\" cx=\"687.303\" cy=\"1407.49\" r=\"18\"/>\n",
       "<circle clip-path=\"url(#clip7802)\" style=\"fill:#009af9; stroke:none; fill-opacity:1\" cx=\"687.303\" cy=\"1407.49\" r=\"14\"/>\n",
       "<circle clip-path=\"url(#clip7802)\" style=\"fill:#000000; stroke:none; fill-opacity:1\" cx=\"687.303\" cy=\"1175.02\" r=\"18\"/>\n",
       "<circle clip-path=\"url(#clip7802)\" style=\"fill:#009af9; stroke:none; fill-opacity:1\" cx=\"687.303\" cy=\"1175.02\" r=\"14\"/>\n",
       "<circle clip-path=\"url(#clip7802)\" style=\"fill:#000000; stroke:none; fill-opacity:1\" cx=\"687.303\" cy=\"1414.03\" r=\"18\"/>\n",
       "<circle clip-path=\"url(#clip7802)\" style=\"fill:#009af9; stroke:none; fill-opacity:1\" cx=\"687.303\" cy=\"1414.03\" r=\"14\"/>\n",
       "<circle clip-path=\"url(#clip7802)\" style=\"fill:#000000; stroke:none; fill-opacity:1\" cx=\"687.303\" cy=\"1186.04\" r=\"18\"/>\n",
       "<circle clip-path=\"url(#clip7802)\" style=\"fill:#009af9; stroke:none; fill-opacity:1\" cx=\"687.303\" cy=\"1186.04\" r=\"14\"/>\n",
       "<circle clip-path=\"url(#clip7802)\" style=\"fill:#000000; stroke:none; fill-opacity:1\" cx=\"687.303\" cy=\"1409.21\" r=\"18\"/>\n",
       "<circle clip-path=\"url(#clip7802)\" style=\"fill:#009af9; stroke:none; fill-opacity:1\" cx=\"687.303\" cy=\"1409.21\" r=\"14\"/>\n",
       "<circle clip-path=\"url(#clip7802)\" style=\"fill:#000000; stroke:none; fill-opacity:1\" cx=\"687.303\" cy=\"1419.96\" r=\"18\"/>\n",
       "<circle clip-path=\"url(#clip7802)\" style=\"fill:#009af9; stroke:none; fill-opacity:1\" cx=\"687.303\" cy=\"1419.96\" r=\"14\"/>\n",
       "<circle clip-path=\"url(#clip7802)\" style=\"fill:#000000; stroke:none; fill-opacity:1\" cx=\"687.303\" cy=\"1412.17\" r=\"18\"/>\n",
       "<circle clip-path=\"url(#clip7802)\" style=\"fill:#009af9; stroke:none; fill-opacity:1\" cx=\"687.303\" cy=\"1412.17\" r=\"14\"/>\n",
       "<circle clip-path=\"url(#clip7802)\" style=\"fill:#000000; stroke:none; fill-opacity:1\" cx=\"687.303\" cy=\"1426.93\" r=\"18\"/>\n",
       "<circle clip-path=\"url(#clip7802)\" style=\"fill:#009af9; stroke:none; fill-opacity:1\" cx=\"687.303\" cy=\"1426.93\" r=\"14\"/>\n",
       "<circle clip-path=\"url(#clip7802)\" style=\"fill:#000000; stroke:none; fill-opacity:1\" cx=\"687.303\" cy=\"1414.83\" r=\"18\"/>\n",
       "<circle clip-path=\"url(#clip7802)\" style=\"fill:#009af9; stroke:none; fill-opacity:1\" cx=\"687.303\" cy=\"1414.83\" r=\"14\"/>\n",
       "<circle clip-path=\"url(#clip7802)\" style=\"fill:#000000; stroke:none; fill-opacity:1\" cx=\"687.303\" cy=\"1414\" r=\"18\"/>\n",
       "<circle clip-path=\"url(#clip7802)\" style=\"fill:#009af9; stroke:none; fill-opacity:1\" cx=\"687.303\" cy=\"1414\" r=\"14\"/>\n",
       "<circle clip-path=\"url(#clip7802)\" style=\"fill:#000000; stroke:none; fill-opacity:1\" cx=\"687.303\" cy=\"1420.59\" r=\"18\"/>\n",
       "<circle clip-path=\"url(#clip7802)\" style=\"fill:#009af9; stroke:none; fill-opacity:1\" cx=\"687.303\" cy=\"1420.59\" r=\"14\"/>\n",
       "<circle clip-path=\"url(#clip7802)\" style=\"fill:#000000; stroke:none; fill-opacity:1\" cx=\"687.303\" cy=\"1419.31\" r=\"18\"/>\n",
       "<circle clip-path=\"url(#clip7802)\" style=\"fill:#009af9; stroke:none; fill-opacity:1\" cx=\"687.303\" cy=\"1419.31\" r=\"14\"/>\n",
       "<circle clip-path=\"url(#clip7802)\" style=\"fill:#000000; stroke:none; fill-opacity:1\" cx=\"687.303\" cy=\"1169.61\" r=\"18\"/>\n",
       "<circle clip-path=\"url(#clip7802)\" style=\"fill:#009af9; stroke:none; fill-opacity:1\" cx=\"687.303\" cy=\"1169.61\" r=\"14\"/>\n",
       "<circle clip-path=\"url(#clip7802)\" style=\"fill:#000000; stroke:none; fill-opacity:1\" cx=\"687.303\" cy=\"1167.62\" r=\"18\"/>\n",
       "<circle clip-path=\"url(#clip7802)\" style=\"fill:#009af9; stroke:none; fill-opacity:1\" cx=\"687.303\" cy=\"1167.62\" r=\"14\"/>\n",
       "<circle clip-path=\"url(#clip7802)\" style=\"fill:#000000; stroke:none; fill-opacity:1\" cx=\"687.303\" cy=\"1433.94\" r=\"18\"/>\n",
       "<circle clip-path=\"url(#clip7802)\" style=\"fill:#009af9; stroke:none; fill-opacity:1\" cx=\"687.303\" cy=\"1433.94\" r=\"14\"/>\n",
       "<circle clip-path=\"url(#clip7802)\" style=\"fill:#000000; stroke:none; fill-opacity:1\" cx=\"687.303\" cy=\"1423.75\" r=\"18\"/>\n",
       "<circle clip-path=\"url(#clip7802)\" style=\"fill:#009af9; stroke:none; fill-opacity:1\" cx=\"687.303\" cy=\"1423.75\" r=\"14\"/>\n",
       "<circle clip-path=\"url(#clip7802)\" style=\"fill:#000000; stroke:none; fill-opacity:1\" cx=\"687.303\" cy=\"1429.41\" r=\"18\"/>\n",
       "<circle clip-path=\"url(#clip7802)\" style=\"fill:#009af9; stroke:none; fill-opacity:1\" cx=\"687.303\" cy=\"1429.41\" r=\"14\"/>\n",
       "<circle clip-path=\"url(#clip7802)\" style=\"fill:#000000; stroke:none; fill-opacity:1\" cx=\"687.303\" cy=\"1430.82\" r=\"18\"/>\n",
       "<circle clip-path=\"url(#clip7802)\" style=\"fill:#009af9; stroke:none; fill-opacity:1\" cx=\"687.303\" cy=\"1430.82\" r=\"14\"/>\n",
       "<circle clip-path=\"url(#clip7802)\" style=\"fill:#000000; stroke:none; fill-opacity:1\" cx=\"687.303\" cy=\"1405.38\" r=\"18\"/>\n",
       "<circle clip-path=\"url(#clip7802)\" style=\"fill:#009af9; stroke:none; fill-opacity:1\" cx=\"687.303\" cy=\"1405.38\" r=\"14\"/>\n",
       "<circle clip-path=\"url(#clip7802)\" style=\"fill:#000000; stroke:none; fill-opacity:1\" cx=\"687.303\" cy=\"1427.83\" r=\"18\"/>\n",
       "<circle clip-path=\"url(#clip7802)\" style=\"fill:#009af9; stroke:none; fill-opacity:1\" cx=\"687.303\" cy=\"1427.83\" r=\"14\"/>\n",
       "<circle clip-path=\"url(#clip7802)\" style=\"fill:#000000; stroke:none; fill-opacity:1\" cx=\"687.303\" cy=\"1417.62\" r=\"18\"/>\n",
       "<circle clip-path=\"url(#clip7802)\" style=\"fill:#009af9; stroke:none; fill-opacity:1\" cx=\"687.303\" cy=\"1417.62\" r=\"14\"/>\n",
       "<circle clip-path=\"url(#clip7802)\" style=\"fill:#000000; stroke:none; fill-opacity:1\" cx=\"687.303\" cy=\"1178.73\" r=\"18\"/>\n",
       "<circle clip-path=\"url(#clip7802)\" style=\"fill:#009af9; stroke:none; fill-opacity:1\" cx=\"687.303\" cy=\"1178.73\" r=\"14\"/>\n",
       "<circle clip-path=\"url(#clip7802)\" style=\"fill:#000000; stroke:none; fill-opacity:1\" cx=\"687.303\" cy=\"1432.1\" r=\"18\"/>\n",
       "<circle clip-path=\"url(#clip7802)\" style=\"fill:#009af9; stroke:none; fill-opacity:1\" cx=\"687.303\" cy=\"1432.1\" r=\"14\"/>\n",
       "<circle clip-path=\"url(#clip7802)\" style=\"fill:#000000; stroke:none; fill-opacity:1\" cx=\"687.303\" cy=\"1429.55\" r=\"18\"/>\n",
       "<circle clip-path=\"url(#clip7802)\" style=\"fill:#009af9; stroke:none; fill-opacity:1\" cx=\"687.303\" cy=\"1429.55\" r=\"14\"/>\n",
       "<circle clip-path=\"url(#clip7802)\" style=\"fill:#000000; stroke:none; fill-opacity:1\" cx=\"687.303\" cy=\"1427.07\" r=\"18\"/>\n",
       "<circle clip-path=\"url(#clip7802)\" style=\"fill:#009af9; stroke:none; fill-opacity:1\" cx=\"687.303\" cy=\"1427.07\" r=\"14\"/>\n",
       "<circle clip-path=\"url(#clip7802)\" style=\"fill:#000000; stroke:none; fill-opacity:1\" cx=\"687.303\" cy=\"1424.42\" r=\"18\"/>\n",
       "<circle clip-path=\"url(#clip7802)\" style=\"fill:#009af9; stroke:none; fill-opacity:1\" cx=\"687.303\" cy=\"1424.42\" r=\"14\"/>\n",
       "<circle clip-path=\"url(#clip7802)\" style=\"fill:#000000; stroke:none; fill-opacity:1\" cx=\"687.303\" cy=\"1427.8\" r=\"18\"/>\n",
       "<circle clip-path=\"url(#clip7802)\" style=\"fill:#009af9; stroke:none; fill-opacity:1\" cx=\"687.303\" cy=\"1427.8\" r=\"14\"/>\n",
       "<circle clip-path=\"url(#clip7802)\" style=\"fill:#000000; stroke:none; fill-opacity:1\" cx=\"687.303\" cy=\"1431.83\" r=\"18\"/>\n",
       "<circle clip-path=\"url(#clip7802)\" style=\"fill:#009af9; stroke:none; fill-opacity:1\" cx=\"687.303\" cy=\"1431.83\" r=\"14\"/>\n",
       "<circle clip-path=\"url(#clip7802)\" style=\"fill:#000000; stroke:none; fill-opacity:1\" cx=\"687.303\" cy=\"1429.63\" r=\"18\"/>\n",
       "<circle clip-path=\"url(#clip7802)\" style=\"fill:#009af9; stroke:none; fill-opacity:1\" cx=\"687.303\" cy=\"1429.63\" r=\"14\"/>\n",
       "<circle clip-path=\"url(#clip7802)\" style=\"fill:#000000; stroke:none; fill-opacity:1\" cx=\"687.303\" cy=\"1426.3\" r=\"18\"/>\n",
       "<circle clip-path=\"url(#clip7802)\" style=\"fill:#009af9; stroke:none; fill-opacity:1\" cx=\"687.303\" cy=\"1426.3\" r=\"14\"/>\n",
       "<circle clip-path=\"url(#clip7802)\" style=\"fill:#000000; stroke:none; fill-opacity:1\" cx=\"687.303\" cy=\"1438.04\" r=\"18\"/>\n",
       "<circle clip-path=\"url(#clip7802)\" style=\"fill:#009af9; stroke:none; fill-opacity:1\" cx=\"687.303\" cy=\"1438.04\" r=\"14\"/>\n",
       "<circle clip-path=\"url(#clip7802)\" style=\"fill:#000000; stroke:none; fill-opacity:1\" cx=\"687.303\" cy=\"1415.46\" r=\"18\"/>\n",
       "<circle clip-path=\"url(#clip7802)\" style=\"fill:#009af9; stroke:none; fill-opacity:1\" cx=\"687.303\" cy=\"1415.46\" r=\"14\"/>\n",
       "<circle clip-path=\"url(#clip7802)\" style=\"fill:#000000; stroke:none; fill-opacity:1\" cx=\"687.303\" cy=\"1417.57\" r=\"18\"/>\n",
       "<circle clip-path=\"url(#clip7802)\" style=\"fill:#009af9; stroke:none; fill-opacity:1\" cx=\"687.303\" cy=\"1417.57\" r=\"14\"/>\n",
       "<circle clip-path=\"url(#clip7802)\" style=\"fill:#000000; stroke:none; fill-opacity:1\" cx=\"687.303\" cy=\"1432.32\" r=\"18\"/>\n",
       "<circle clip-path=\"url(#clip7802)\" style=\"fill:#009af9; stroke:none; fill-opacity:1\" cx=\"687.303\" cy=\"1432.32\" r=\"14\"/>\n",
       "<circle clip-path=\"url(#clip7802)\" style=\"fill:#000000; stroke:none; fill-opacity:1\" cx=\"687.303\" cy=\"1184.85\" r=\"18\"/>\n",
       "<circle clip-path=\"url(#clip7802)\" style=\"fill:#009af9; stroke:none; fill-opacity:1\" cx=\"687.303\" cy=\"1184.85\" r=\"14\"/>\n",
       "<circle clip-path=\"url(#clip7802)\" style=\"fill:#000000; stroke:none; fill-opacity:1\" cx=\"687.303\" cy=\"1184.44\" r=\"18\"/>\n",
       "<circle clip-path=\"url(#clip7802)\" style=\"fill:#009af9; stroke:none; fill-opacity:1\" cx=\"687.303\" cy=\"1184.44\" r=\"14\"/>\n",
       "<circle clip-path=\"url(#clip7802)\" style=\"fill:#000000; stroke:none; fill-opacity:1\" cx=\"687.303\" cy=\"1181.24\" r=\"18\"/>\n",
       "<circle clip-path=\"url(#clip7802)\" style=\"fill:#009af9; stroke:none; fill-opacity:1\" cx=\"687.303\" cy=\"1181.24\" r=\"14\"/>\n",
       "<circle clip-path=\"url(#clip7802)\" style=\"fill:#000000; stroke:none; fill-opacity:1\" cx=\"687.303\" cy=\"1429.4\" r=\"18\"/>\n",
       "<circle clip-path=\"url(#clip7802)\" style=\"fill:#009af9; stroke:none; fill-opacity:1\" cx=\"687.303\" cy=\"1429.4\" r=\"14\"/>\n",
       "<circle clip-path=\"url(#clip7802)\" style=\"fill:#000000; stroke:none; fill-opacity:1\" cx=\"687.303\" cy=\"1431.3\" r=\"18\"/>\n",
       "<circle clip-path=\"url(#clip7802)\" style=\"fill:#009af9; stroke:none; fill-opacity:1\" cx=\"687.303\" cy=\"1431.3\" r=\"14\"/>\n",
       "<circle clip-path=\"url(#clip7802)\" style=\"fill:#000000; stroke:none; fill-opacity:1\" cx=\"687.303\" cy=\"1435.62\" r=\"18\"/>\n",
       "<circle clip-path=\"url(#clip7802)\" style=\"fill:#009af9; stroke:none; fill-opacity:1\" cx=\"687.303\" cy=\"1435.62\" r=\"14\"/>\n",
       "<circle clip-path=\"url(#clip7802)\" style=\"fill:#000000; stroke:none; fill-opacity:1\" cx=\"687.303\" cy=\"1178.05\" r=\"18\"/>\n",
       "<circle clip-path=\"url(#clip7802)\" style=\"fill:#009af9; stroke:none; fill-opacity:1\" cx=\"687.303\" cy=\"1178.05\" r=\"14\"/>\n",
       "<circle clip-path=\"url(#clip7802)\" style=\"fill:#000000; stroke:none; fill-opacity:1\" cx=\"687.303\" cy=\"1422.73\" r=\"18\"/>\n",
       "<circle clip-path=\"url(#clip7802)\" style=\"fill:#009af9; stroke:none; fill-opacity:1\" cx=\"687.303\" cy=\"1422.73\" r=\"14\"/>\n",
       "<circle clip-path=\"url(#clip7802)\" style=\"fill:#000000; stroke:none; fill-opacity:1\" cx=\"687.303\" cy=\"1168.09\" r=\"18\"/>\n",
       "<circle clip-path=\"url(#clip7802)\" style=\"fill:#009af9; stroke:none; fill-opacity:1\" cx=\"687.303\" cy=\"1168.09\" r=\"14\"/>\n",
       "<circle clip-path=\"url(#clip7802)\" style=\"fill:#000000; stroke:none; fill-opacity:1\" cx=\"687.303\" cy=\"1426.21\" r=\"18\"/>\n",
       "<circle clip-path=\"url(#clip7802)\" style=\"fill:#009af9; stroke:none; fill-opacity:1\" cx=\"687.303\" cy=\"1426.21\" r=\"14\"/>\n",
       "<circle clip-path=\"url(#clip7802)\" style=\"fill:#000000; stroke:none; fill-opacity:1\" cx=\"687.303\" cy=\"1173.73\" r=\"18\"/>\n",
       "<circle clip-path=\"url(#clip7802)\" style=\"fill:#009af9; stroke:none; fill-opacity:1\" cx=\"687.303\" cy=\"1173.73\" r=\"14\"/>\n",
       "<circle clip-path=\"url(#clip7802)\" style=\"fill:#000000; stroke:none; fill-opacity:1\" cx=\"687.303\" cy=\"1172.66\" r=\"18\"/>\n",
       "<circle clip-path=\"url(#clip7802)\" style=\"fill:#009af9; stroke:none; fill-opacity:1\" cx=\"687.303\" cy=\"1172.66\" r=\"14\"/>\n",
       "<circle clip-path=\"url(#clip7802)\" style=\"fill:#000000; stroke:none; fill-opacity:1\" cx=\"687.303\" cy=\"1424.28\" r=\"18\"/>\n",
       "<circle clip-path=\"url(#clip7802)\" style=\"fill:#009af9; stroke:none; fill-opacity:1\" cx=\"687.303\" cy=\"1424.28\" r=\"14\"/>\n",
       "<circle clip-path=\"url(#clip7802)\" style=\"fill:#000000; stroke:none; fill-opacity:1\" cx=\"687.303\" cy=\"1423.83\" r=\"18\"/>\n",
       "<circle clip-path=\"url(#clip7802)\" style=\"fill:#009af9; stroke:none; fill-opacity:1\" cx=\"687.303\" cy=\"1423.83\" r=\"14\"/>\n",
       "<circle clip-path=\"url(#clip7802)\" style=\"fill:#000000; stroke:none; fill-opacity:1\" cx=\"687.303\" cy=\"1134.37\" r=\"18\"/>\n",
       "<circle clip-path=\"url(#clip7802)\" style=\"fill:#009af9; stroke:none; fill-opacity:1\" cx=\"687.303\" cy=\"1134.37\" r=\"14\"/>\n",
       "<circle clip-path=\"url(#clip7802)\" style=\"fill:#000000; stroke:none; fill-opacity:1\" cx=\"687.303\" cy=\"1106.66\" r=\"18\"/>\n",
       "<circle clip-path=\"url(#clip7802)\" style=\"fill:#009af9; stroke:none; fill-opacity:1\" cx=\"687.303\" cy=\"1106.66\" r=\"14\"/>\n",
       "<circle clip-path=\"url(#clip7802)\" style=\"fill:#000000; stroke:none; fill-opacity:1\" cx=\"687.303\" cy=\"1128.57\" r=\"18\"/>\n",
       "<circle clip-path=\"url(#clip7802)\" style=\"fill:#009af9; stroke:none; fill-opacity:1\" cx=\"687.303\" cy=\"1128.57\" r=\"14\"/>\n",
       "<circle clip-path=\"url(#clip7802)\" style=\"fill:#000000; stroke:none; fill-opacity:1\" cx=\"687.303\" cy=\"1163.9\" r=\"18\"/>\n",
       "<circle clip-path=\"url(#clip7802)\" style=\"fill:#009af9; stroke:none; fill-opacity:1\" cx=\"687.303\" cy=\"1163.9\" r=\"14\"/>\n",
       "<circle clip-path=\"url(#clip7802)\" style=\"fill:#000000; stroke:none; fill-opacity:1\" cx=\"687.303\" cy=\"1134.2\" r=\"18\"/>\n",
       "<circle clip-path=\"url(#clip7802)\" style=\"fill:#009af9; stroke:none; fill-opacity:1\" cx=\"687.303\" cy=\"1134.2\" r=\"14\"/>\n",
       "<circle clip-path=\"url(#clip7802)\" style=\"fill:#000000; stroke:none; fill-opacity:1\" cx=\"687.303\" cy=\"1426.34\" r=\"18\"/>\n",
       "<circle clip-path=\"url(#clip7802)\" style=\"fill:#009af9; stroke:none; fill-opacity:1\" cx=\"687.303\" cy=\"1426.34\" r=\"14\"/>\n",
       "<circle clip-path=\"url(#clip7802)\" style=\"fill:#000000; stroke:none; fill-opacity:1\" cx=\"687.303\" cy=\"1425.63\" r=\"18\"/>\n",
       "<circle clip-path=\"url(#clip7802)\" style=\"fill:#009af9; stroke:none; fill-opacity:1\" cx=\"687.303\" cy=\"1425.63\" r=\"14\"/>\n",
       "<circle clip-path=\"url(#clip7802)\" style=\"fill:#000000; stroke:none; fill-opacity:1\" cx=\"687.303\" cy=\"1410.87\" r=\"18\"/>\n",
       "<circle clip-path=\"url(#clip7802)\" style=\"fill:#009af9; stroke:none; fill-opacity:1\" cx=\"687.303\" cy=\"1410.87\" r=\"14\"/>\n",
       "<circle clip-path=\"url(#clip7802)\" style=\"fill:#000000; stroke:none; fill-opacity:1\" cx=\"687.303\" cy=\"1403.41\" r=\"18\"/>\n",
       "<circle clip-path=\"url(#clip7802)\" style=\"fill:#009af9; stroke:none; fill-opacity:1\" cx=\"687.303\" cy=\"1403.41\" r=\"14\"/>\n",
       "<circle clip-path=\"url(#clip7802)\" style=\"fill:#000000; stroke:none; fill-opacity:1\" cx=\"687.303\" cy=\"1416.96\" r=\"18\"/>\n",
       "<circle clip-path=\"url(#clip7802)\" style=\"fill:#009af9; stroke:none; fill-opacity:1\" cx=\"687.303\" cy=\"1416.96\" r=\"14\"/>\n",
       "<circle clip-path=\"url(#clip7802)\" style=\"fill:#000000; stroke:none; fill-opacity:1\" cx=\"687.303\" cy=\"1417.45\" r=\"18\"/>\n",
       "<circle clip-path=\"url(#clip7802)\" style=\"fill:#009af9; stroke:none; fill-opacity:1\" cx=\"687.303\" cy=\"1417.45\" r=\"14\"/>\n",
       "<circle clip-path=\"url(#clip7802)\" style=\"fill:#000000; stroke:none; fill-opacity:1\" cx=\"687.303\" cy=\"1414.23\" r=\"18\"/>\n",
       "<circle clip-path=\"url(#clip7802)\" style=\"fill:#009af9; stroke:none; fill-opacity:1\" cx=\"687.303\" cy=\"1414.23\" r=\"14\"/>\n",
       "<circle clip-path=\"url(#clip7802)\" style=\"fill:#000000; stroke:none; fill-opacity:1\" cx=\"687.303\" cy=\"1423.75\" r=\"18\"/>\n",
       "<circle clip-path=\"url(#clip7802)\" style=\"fill:#009af9; stroke:none; fill-opacity:1\" cx=\"687.303\" cy=\"1423.75\" r=\"14\"/>\n",
       "<circle clip-path=\"url(#clip7802)\" style=\"fill:#000000; stroke:none; fill-opacity:1\" cx=\"687.303\" cy=\"1404.64\" r=\"18\"/>\n",
       "<circle clip-path=\"url(#clip7802)\" style=\"fill:#009af9; stroke:none; fill-opacity:1\" cx=\"687.303\" cy=\"1404.64\" r=\"14\"/>\n",
       "<circle clip-path=\"url(#clip7802)\" style=\"fill:#000000; stroke:none; fill-opacity:1\" cx=\"687.303\" cy=\"1415.92\" r=\"18\"/>\n",
       "<circle clip-path=\"url(#clip7802)\" style=\"fill:#009af9; stroke:none; fill-opacity:1\" cx=\"687.303\" cy=\"1415.92\" r=\"14\"/>\n",
       "<circle clip-path=\"url(#clip7802)\" style=\"fill:#000000; stroke:none; fill-opacity:1\" cx=\"687.303\" cy=\"1407.91\" r=\"18\"/>\n",
       "<circle clip-path=\"url(#clip7802)\" style=\"fill:#009af9; stroke:none; fill-opacity:1\" cx=\"687.303\" cy=\"1407.91\" r=\"14\"/>\n",
       "<circle clip-path=\"url(#clip7802)\" style=\"fill:#000000; stroke:none; fill-opacity:1\" cx=\"687.303\" cy=\"1405.8\" r=\"18\"/>\n",
       "<circle clip-path=\"url(#clip7802)\" style=\"fill:#009af9; stroke:none; fill-opacity:1\" cx=\"687.303\" cy=\"1405.8\" r=\"14\"/>\n",
       "<circle clip-path=\"url(#clip7802)\" style=\"fill:#000000; stroke:none; fill-opacity:1\" cx=\"687.303\" cy=\"1411.25\" r=\"18\"/>\n",
       "<circle clip-path=\"url(#clip7802)\" style=\"fill:#009af9; stroke:none; fill-opacity:1\" cx=\"687.303\" cy=\"1411.25\" r=\"14\"/>\n",
       "<circle clip-path=\"url(#clip7802)\" style=\"fill:#000000; stroke:none; fill-opacity:1\" cx=\"687.303\" cy=\"1416.6\" r=\"18\"/>\n",
       "<circle clip-path=\"url(#clip7802)\" style=\"fill:#009af9; stroke:none; fill-opacity:1\" cx=\"687.303\" cy=\"1416.6\" r=\"14\"/>\n",
       "<circle clip-path=\"url(#clip7802)\" style=\"fill:#000000; stroke:none; fill-opacity:1\" cx=\"687.303\" cy=\"1407.79\" r=\"18\"/>\n",
       "<circle clip-path=\"url(#clip7802)\" style=\"fill:#009af9; stroke:none; fill-opacity:1\" cx=\"687.303\" cy=\"1407.79\" r=\"14\"/>\n",
       "<circle clip-path=\"url(#clip7802)\" style=\"fill:#000000; stroke:none; fill-opacity:1\" cx=\"687.303\" cy=\"1406.19\" r=\"18\"/>\n",
       "<circle clip-path=\"url(#clip7802)\" style=\"fill:#009af9; stroke:none; fill-opacity:1\" cx=\"687.303\" cy=\"1406.19\" r=\"14\"/>\n",
       "<circle clip-path=\"url(#clip7802)\" style=\"fill:#000000; stroke:none; fill-opacity:1\" cx=\"687.303\" cy=\"1410.75\" r=\"18\"/>\n",
       "<circle clip-path=\"url(#clip7802)\" style=\"fill:#009af9; stroke:none; fill-opacity:1\" cx=\"687.303\" cy=\"1410.75\" r=\"14\"/>\n",
       "<circle clip-path=\"url(#clip7802)\" style=\"fill:#000000; stroke:none; fill-opacity:1\" cx=\"687.303\" cy=\"1422.97\" r=\"18\"/>\n",
       "<circle clip-path=\"url(#clip7802)\" style=\"fill:#009af9; stroke:none; fill-opacity:1\" cx=\"687.303\" cy=\"1422.97\" r=\"14\"/>\n",
       "<circle clip-path=\"url(#clip7802)\" style=\"fill:#000000; stroke:none; fill-opacity:1\" cx=\"687.303\" cy=\"1407.18\" r=\"18\"/>\n",
       "<circle clip-path=\"url(#clip7802)\" style=\"fill:#009af9; stroke:none; fill-opacity:1\" cx=\"687.303\" cy=\"1407.18\" r=\"14\"/>\n",
       "<circle clip-path=\"url(#clip7802)\" style=\"fill:#000000; stroke:none; fill-opacity:1\" cx=\"687.303\" cy=\"1070.19\" r=\"18\"/>\n",
       "<circle clip-path=\"url(#clip7802)\" style=\"fill:#009af9; stroke:none; fill-opacity:1\" cx=\"687.303\" cy=\"1070.19\" r=\"14\"/>\n",
       "<circle clip-path=\"url(#clip7802)\" style=\"fill:#000000; stroke:none; fill-opacity:1\" cx=\"687.303\" cy=\"1164.32\" r=\"18\"/>\n",
       "<circle clip-path=\"url(#clip7802)\" style=\"fill:#009af9; stroke:none; fill-opacity:1\" cx=\"687.303\" cy=\"1164.32\" r=\"14\"/>\n",
       "<circle clip-path=\"url(#clip7802)\" style=\"fill:#000000; stroke:none; fill-opacity:1\" cx=\"687.303\" cy=\"1162.44\" r=\"18\"/>\n",
       "<circle clip-path=\"url(#clip7802)\" style=\"fill:#009af9; stroke:none; fill-opacity:1\" cx=\"687.303\" cy=\"1162.44\" r=\"14\"/>\n",
       "<circle clip-path=\"url(#clip7802)\" style=\"fill:#000000; stroke:none; fill-opacity:1\" cx=\"687.303\" cy=\"1404.04\" r=\"18\"/>\n",
       "<circle clip-path=\"url(#clip7802)\" style=\"fill:#009af9; stroke:none; fill-opacity:1\" cx=\"687.303\" cy=\"1404.04\" r=\"14\"/>\n",
       "<circle clip-path=\"url(#clip7802)\" style=\"fill:#000000; stroke:none; fill-opacity:1\" cx=\"687.303\" cy=\"1419.45\" r=\"18\"/>\n",
       "<circle clip-path=\"url(#clip7802)\" style=\"fill:#009af9; stroke:none; fill-opacity:1\" cx=\"687.303\" cy=\"1419.45\" r=\"14\"/>\n",
       "<circle clip-path=\"url(#clip7802)\" style=\"fill:#000000; stroke:none; fill-opacity:1\" cx=\"687.303\" cy=\"1422.89\" r=\"18\"/>\n",
       "<circle clip-path=\"url(#clip7802)\" style=\"fill:#009af9; stroke:none; fill-opacity:1\" cx=\"687.303\" cy=\"1422.89\" r=\"14\"/>\n",
       "<circle clip-path=\"url(#clip7802)\" style=\"fill:#000000; stroke:none; fill-opacity:1\" cx=\"687.303\" cy=\"1438\" r=\"18\"/>\n",
       "<circle clip-path=\"url(#clip7802)\" style=\"fill:#009af9; stroke:none; fill-opacity:1\" cx=\"687.303\" cy=\"1438\" r=\"14\"/>\n",
       "<circle clip-path=\"url(#clip7802)\" style=\"fill:#000000; stroke:none; fill-opacity:1\" cx=\"687.303\" cy=\"1068.31\" r=\"18\"/>\n",
       "<circle clip-path=\"url(#clip7802)\" style=\"fill:#009af9; stroke:none; fill-opacity:1\" cx=\"687.303\" cy=\"1068.31\" r=\"14\"/>\n",
       "<circle clip-path=\"url(#clip7802)\" style=\"fill:#000000; stroke:none; fill-opacity:1\" cx=\"687.303\" cy=\"1418.98\" r=\"18\"/>\n",
       "<circle clip-path=\"url(#clip7802)\" style=\"fill:#009af9; stroke:none; fill-opacity:1\" cx=\"687.303\" cy=\"1418.98\" r=\"14\"/>\n",
       "<circle clip-path=\"url(#clip7802)\" style=\"fill:#000000; stroke:none; fill-opacity:1\" cx=\"687.303\" cy=\"1409.34\" r=\"18\"/>\n",
       "<circle clip-path=\"url(#clip7802)\" style=\"fill:#009af9; stroke:none; fill-opacity:1\" cx=\"687.303\" cy=\"1409.34\" r=\"14\"/>\n",
       "<circle clip-path=\"url(#clip7802)\" style=\"fill:#000000; stroke:none; fill-opacity:1\" cx=\"687.303\" cy=\"1410.94\" r=\"18\"/>\n",
       "<circle clip-path=\"url(#clip7802)\" style=\"fill:#009af9; stroke:none; fill-opacity:1\" cx=\"687.303\" cy=\"1410.94\" r=\"14\"/>\n",
       "<circle clip-path=\"url(#clip7802)\" style=\"fill:#000000; stroke:none; fill-opacity:1\" cx=\"687.303\" cy=\"1409.96\" r=\"18\"/>\n",
       "<circle clip-path=\"url(#clip7802)\" style=\"fill:#009af9; stroke:none; fill-opacity:1\" cx=\"687.303\" cy=\"1409.96\" r=\"14\"/>\n",
       "<circle clip-path=\"url(#clip7802)\" style=\"fill:#000000; stroke:none; fill-opacity:1\" cx=\"687.303\" cy=\"1153.03\" r=\"18\"/>\n",
       "<circle clip-path=\"url(#clip7802)\" style=\"fill:#009af9; stroke:none; fill-opacity:1\" cx=\"687.303\" cy=\"1153.03\" r=\"14\"/>\n",
       "<circle clip-path=\"url(#clip7802)\" style=\"fill:#000000; stroke:none; fill-opacity:1\" cx=\"687.303\" cy=\"1153.03\" r=\"18\"/>\n",
       "<circle clip-path=\"url(#clip7802)\" style=\"fill:#009af9; stroke:none; fill-opacity:1\" cx=\"687.303\" cy=\"1153.03\" r=\"14\"/>\n",
       "<circle clip-path=\"url(#clip7802)\" style=\"fill:#000000; stroke:none; fill-opacity:1\" cx=\"687.303\" cy=\"1179.38\" r=\"18\"/>\n",
       "<circle clip-path=\"url(#clip7802)\" style=\"fill:#009af9; stroke:none; fill-opacity:1\" cx=\"687.303\" cy=\"1179.38\" r=\"14\"/>\n",
       "<circle clip-path=\"url(#clip7802)\" style=\"fill:#000000; stroke:none; fill-opacity:1\" cx=\"687.303\" cy=\"1419.57\" r=\"18\"/>\n",
       "<circle clip-path=\"url(#clip7802)\" style=\"fill:#009af9; stroke:none; fill-opacity:1\" cx=\"687.303\" cy=\"1419.57\" r=\"14\"/>\n",
       "<circle clip-path=\"url(#clip7802)\" style=\"fill:#000000; stroke:none; fill-opacity:1\" cx=\"687.303\" cy=\"1420.53\" r=\"18\"/>\n",
       "<circle clip-path=\"url(#clip7802)\" style=\"fill:#009af9; stroke:none; fill-opacity:1\" cx=\"687.303\" cy=\"1420.53\" r=\"14\"/>\n",
       "<circle clip-path=\"url(#clip7802)\" style=\"fill:#000000; stroke:none; fill-opacity:1\" cx=\"687.303\" cy=\"1421.56\" r=\"18\"/>\n",
       "<circle clip-path=\"url(#clip7802)\" style=\"fill:#009af9; stroke:none; fill-opacity:1\" cx=\"687.303\" cy=\"1421.56\" r=\"14\"/>\n",
       "<circle clip-path=\"url(#clip7802)\" style=\"fill:#000000; stroke:none; fill-opacity:1\" cx=\"687.303\" cy=\"1407.06\" r=\"18\"/>\n",
       "<circle clip-path=\"url(#clip7802)\" style=\"fill:#009af9; stroke:none; fill-opacity:1\" cx=\"687.303\" cy=\"1407.06\" r=\"14\"/>\n",
       "<circle clip-path=\"url(#clip7802)\" style=\"fill:#000000; stroke:none; fill-opacity:1\" cx=\"687.303\" cy=\"1411.29\" r=\"18\"/>\n",
       "<circle clip-path=\"url(#clip7802)\" style=\"fill:#009af9; stroke:none; fill-opacity:1\" cx=\"687.303\" cy=\"1411.29\" r=\"14\"/>\n",
       "<circle clip-path=\"url(#clip7802)\" style=\"fill:#000000; stroke:none; fill-opacity:1\" cx=\"687.303\" cy=\"1419.88\" r=\"18\"/>\n",
       "<circle clip-path=\"url(#clip7802)\" style=\"fill:#009af9; stroke:none; fill-opacity:1\" cx=\"687.303\" cy=\"1419.88\" r=\"14\"/>\n",
       "<circle clip-path=\"url(#clip7802)\" style=\"fill:#000000; stroke:none; fill-opacity:1\" cx=\"687.303\" cy=\"1416.71\" r=\"18\"/>\n",
       "<circle clip-path=\"url(#clip7802)\" style=\"fill:#009af9; stroke:none; fill-opacity:1\" cx=\"687.303\" cy=\"1416.71\" r=\"14\"/>\n",
       "<circle clip-path=\"url(#clip7802)\" style=\"fill:#000000; stroke:none; fill-opacity:1\" cx=\"687.303\" cy=\"1425.29\" r=\"18\"/>\n",
       "<circle clip-path=\"url(#clip7802)\" style=\"fill:#009af9; stroke:none; fill-opacity:1\" cx=\"687.303\" cy=\"1425.29\" r=\"14\"/>\n",
       "<circle clip-path=\"url(#clip7802)\" style=\"fill:#000000; stroke:none; fill-opacity:1\" cx=\"687.303\" cy=\"1420.26\" r=\"18\"/>\n",
       "<circle clip-path=\"url(#clip7802)\" style=\"fill:#009af9; stroke:none; fill-opacity:1\" cx=\"687.303\" cy=\"1420.26\" r=\"14\"/>\n",
       "<circle clip-path=\"url(#clip7802)\" style=\"fill:#000000; stroke:none; fill-opacity:1\" cx=\"687.303\" cy=\"1429.77\" r=\"18\"/>\n",
       "<circle clip-path=\"url(#clip7802)\" style=\"fill:#009af9; stroke:none; fill-opacity:1\" cx=\"687.303\" cy=\"1429.77\" r=\"14\"/>\n",
       "<circle clip-path=\"url(#clip7802)\" style=\"fill:#000000; stroke:none; fill-opacity:1\" cx=\"687.303\" cy=\"1418.44\" r=\"18\"/>\n",
       "<circle clip-path=\"url(#clip7802)\" style=\"fill:#009af9; stroke:none; fill-opacity:1\" cx=\"687.303\" cy=\"1418.44\" r=\"14\"/>\n",
       "<circle clip-path=\"url(#clip7802)\" style=\"fill:#000000; stroke:none; fill-opacity:1\" cx=\"687.303\" cy=\"1422.87\" r=\"18\"/>\n",
       "<circle clip-path=\"url(#clip7802)\" style=\"fill:#009af9; stroke:none; fill-opacity:1\" cx=\"687.303\" cy=\"1422.87\" r=\"14\"/>\n",
       "<circle clip-path=\"url(#clip7802)\" style=\"fill:#000000; stroke:none; fill-opacity:1\" cx=\"687.303\" cy=\"1406.79\" r=\"18\"/>\n",
       "<circle clip-path=\"url(#clip7802)\" style=\"fill:#009af9; stroke:none; fill-opacity:1\" cx=\"687.303\" cy=\"1406.79\" r=\"14\"/>\n",
       "<circle clip-path=\"url(#clip7802)\" style=\"fill:#000000; stroke:none; fill-opacity:1\" cx=\"687.303\" cy=\"1431.68\" r=\"18\"/>\n",
       "<circle clip-path=\"url(#clip7802)\" style=\"fill:#009af9; stroke:none; fill-opacity:1\" cx=\"687.303\" cy=\"1431.68\" r=\"14\"/>\n",
       "<circle clip-path=\"url(#clip7802)\" style=\"fill:#000000; stroke:none; fill-opacity:1\" cx=\"687.303\" cy=\"1419.25\" r=\"18\"/>\n",
       "<circle clip-path=\"url(#clip7802)\" style=\"fill:#009af9; stroke:none; fill-opacity:1\" cx=\"687.303\" cy=\"1419.25\" r=\"14\"/>\n",
       "<circle clip-path=\"url(#clip7802)\" style=\"fill:#000000; stroke:none; fill-opacity:1\" cx=\"687.303\" cy=\"1407.17\" r=\"18\"/>\n",
       "<circle clip-path=\"url(#clip7802)\" style=\"fill:#009af9; stroke:none; fill-opacity:1\" cx=\"687.303\" cy=\"1407.17\" r=\"14\"/>\n",
       "<circle clip-path=\"url(#clip7802)\" style=\"fill:#000000; stroke:none; fill-opacity:1\" cx=\"687.303\" cy=\"1415.53\" r=\"18\"/>\n",
       "<circle clip-path=\"url(#clip7802)\" style=\"fill:#009af9; stroke:none; fill-opacity:1\" cx=\"687.303\" cy=\"1415.53\" r=\"14\"/>\n",
       "<circle clip-path=\"url(#clip7802)\" style=\"fill:#000000; stroke:none; fill-opacity:1\" cx=\"687.303\" cy=\"1420.59\" r=\"18\"/>\n",
       "<circle clip-path=\"url(#clip7802)\" style=\"fill:#009af9; stroke:none; fill-opacity:1\" cx=\"687.303\" cy=\"1420.59\" r=\"14\"/>\n",
       "<circle clip-path=\"url(#clip7802)\" style=\"fill:#000000; stroke:none; fill-opacity:1\" cx=\"687.303\" cy=\"1428.25\" r=\"18\"/>\n",
       "<circle clip-path=\"url(#clip7802)\" style=\"fill:#009af9; stroke:none; fill-opacity:1\" cx=\"687.303\" cy=\"1428.25\" r=\"14\"/>\n",
       "<circle clip-path=\"url(#clip7802)\" style=\"fill:#000000; stroke:none; fill-opacity:1\" cx=\"687.303\" cy=\"1429.62\" r=\"18\"/>\n",
       "<circle clip-path=\"url(#clip7802)\" style=\"fill:#009af9; stroke:none; fill-opacity:1\" cx=\"687.303\" cy=\"1429.62\" r=\"14\"/>\n",
       "<circle clip-path=\"url(#clip7802)\" style=\"fill:#000000; stroke:none; fill-opacity:1\" cx=\"687.303\" cy=\"1423.2\" r=\"18\"/>\n",
       "<circle clip-path=\"url(#clip7802)\" style=\"fill:#009af9; stroke:none; fill-opacity:1\" cx=\"687.303\" cy=\"1423.2\" r=\"14\"/>\n",
       "<circle clip-path=\"url(#clip7802)\" style=\"fill:#000000; stroke:none; fill-opacity:1\" cx=\"687.303\" cy=\"1417.01\" r=\"18\"/>\n",
       "<circle clip-path=\"url(#clip7802)\" style=\"fill:#009af9; stroke:none; fill-opacity:1\" cx=\"687.303\" cy=\"1417.01\" r=\"14\"/>\n",
       "<circle clip-path=\"url(#clip7802)\" style=\"fill:#000000; stroke:none; fill-opacity:1\" cx=\"687.303\" cy=\"1416.17\" r=\"18\"/>\n",
       "<circle clip-path=\"url(#clip7802)\" style=\"fill:#009af9; stroke:none; fill-opacity:1\" cx=\"687.303\" cy=\"1416.17\" r=\"14\"/>\n",
       "<circle clip-path=\"url(#clip7802)\" style=\"fill:#000000; stroke:none; fill-opacity:1\" cx=\"687.303\" cy=\"1425.01\" r=\"18\"/>\n",
       "<circle clip-path=\"url(#clip7802)\" style=\"fill:#009af9; stroke:none; fill-opacity:1\" cx=\"687.303\" cy=\"1425.01\" r=\"14\"/>\n",
       "<circle clip-path=\"url(#clip7802)\" style=\"fill:#000000; stroke:none; fill-opacity:1\" cx=\"687.303\" cy=\"1426.18\" r=\"18\"/>\n",
       "<circle clip-path=\"url(#clip7802)\" style=\"fill:#009af9; stroke:none; fill-opacity:1\" cx=\"687.303\" cy=\"1426.18\" r=\"14\"/>\n",
       "<circle clip-path=\"url(#clip7802)\" style=\"fill:#000000; stroke:none; fill-opacity:1\" cx=\"687.303\" cy=\"1166.2\" r=\"18\"/>\n",
       "<circle clip-path=\"url(#clip7802)\" style=\"fill:#009af9; stroke:none; fill-opacity:1\" cx=\"687.303\" cy=\"1166.2\" r=\"14\"/>\n",
       "<circle clip-path=\"url(#clip7802)\" style=\"fill:#000000; stroke:none; fill-opacity:1\" cx=\"687.303\" cy=\"1421.94\" r=\"18\"/>\n",
       "<circle clip-path=\"url(#clip7802)\" style=\"fill:#009af9; stroke:none; fill-opacity:1\" cx=\"687.303\" cy=\"1421.94\" r=\"14\"/>\n",
       "<circle clip-path=\"url(#clip7802)\" style=\"fill:#000000; stroke:none; fill-opacity:1\" cx=\"687.303\" cy=\"1415.03\" r=\"18\"/>\n",
       "<circle clip-path=\"url(#clip7802)\" style=\"fill:#009af9; stroke:none; fill-opacity:1\" cx=\"687.303\" cy=\"1415.03\" r=\"14\"/>\n",
       "<circle clip-path=\"url(#clip7802)\" style=\"fill:#000000; stroke:none; fill-opacity:1\" cx=\"687.303\" cy=\"1423.65\" r=\"18\"/>\n",
       "<circle clip-path=\"url(#clip7802)\" style=\"fill:#009af9; stroke:none; fill-opacity:1\" cx=\"687.303\" cy=\"1423.65\" r=\"14\"/>\n",
       "<circle clip-path=\"url(#clip7802)\" style=\"fill:#000000; stroke:none; fill-opacity:1\" cx=\"687.303\" cy=\"1413.88\" r=\"18\"/>\n",
       "<circle clip-path=\"url(#clip7802)\" style=\"fill:#009af9; stroke:none; fill-opacity:1\" cx=\"687.303\" cy=\"1413.88\" r=\"14\"/>\n",
       "<circle clip-path=\"url(#clip7802)\" style=\"fill:#000000; stroke:none; fill-opacity:1\" cx=\"687.303\" cy=\"1424.95\" r=\"18\"/>\n",
       "<circle clip-path=\"url(#clip7802)\" style=\"fill:#009af9; stroke:none; fill-opacity:1\" cx=\"687.303\" cy=\"1424.95\" r=\"14\"/>\n",
       "<circle clip-path=\"url(#clip7802)\" style=\"fill:#000000; stroke:none; fill-opacity:1\" cx=\"687.303\" cy=\"1405.66\" r=\"18\"/>\n",
       "<circle clip-path=\"url(#clip7802)\" style=\"fill:#009af9; stroke:none; fill-opacity:1\" cx=\"687.303\" cy=\"1405.66\" r=\"14\"/>\n",
       "<circle clip-path=\"url(#clip7802)\" style=\"fill:#000000; stroke:none; fill-opacity:1\" cx=\"687.303\" cy=\"1417.06\" r=\"18\"/>\n",
       "<circle clip-path=\"url(#clip7802)\" style=\"fill:#009af9; stroke:none; fill-opacity:1\" cx=\"687.303\" cy=\"1417.06\" r=\"14\"/>\n",
       "<circle clip-path=\"url(#clip7802)\" style=\"fill:#000000; stroke:none; fill-opacity:1\" cx=\"687.303\" cy=\"1173.96\" r=\"18\"/>\n",
       "<circle clip-path=\"url(#clip7802)\" style=\"fill:#009af9; stroke:none; fill-opacity:1\" cx=\"687.303\" cy=\"1173.96\" r=\"14\"/>\n",
       "<circle clip-path=\"url(#clip7802)\" style=\"fill:#000000; stroke:none; fill-opacity:1\" cx=\"687.303\" cy=\"1178.66\" r=\"18\"/>\n",
       "<circle clip-path=\"url(#clip7802)\" style=\"fill:#009af9; stroke:none; fill-opacity:1\" cx=\"687.303\" cy=\"1178.66\" r=\"14\"/>\n",
       "<circle clip-path=\"url(#clip7802)\" style=\"fill:#000000; stroke:none; fill-opacity:1\" cx=\"687.303\" cy=\"1422.41\" r=\"18\"/>\n",
       "<circle clip-path=\"url(#clip7802)\" style=\"fill:#009af9; stroke:none; fill-opacity:1\" cx=\"687.303\" cy=\"1422.41\" r=\"14\"/>\n",
       "<circle clip-path=\"url(#clip7802)\" style=\"fill:#000000; stroke:none; fill-opacity:1\" cx=\"687.303\" cy=\"1410.24\" r=\"18\"/>\n",
       "<circle clip-path=\"url(#clip7802)\" style=\"fill:#009af9; stroke:none; fill-opacity:1\" cx=\"687.303\" cy=\"1410.24\" r=\"14\"/>\n",
       "<circle clip-path=\"url(#clip7802)\" style=\"fill:#000000; stroke:none; fill-opacity:1\" cx=\"687.303\" cy=\"1406.01\" r=\"18\"/>\n",
       "<circle clip-path=\"url(#clip7802)\" style=\"fill:#009af9; stroke:none; fill-opacity:1\" cx=\"687.303\" cy=\"1406.01\" r=\"14\"/>\n",
       "<circle clip-path=\"url(#clip7802)\" style=\"fill:#000000; stroke:none; fill-opacity:1\" cx=\"687.303\" cy=\"1423.29\" r=\"18\"/>\n",
       "<circle clip-path=\"url(#clip7802)\" style=\"fill:#009af9; stroke:none; fill-opacity:1\" cx=\"687.303\" cy=\"1423.29\" r=\"14\"/>\n",
       "<circle clip-path=\"url(#clip7802)\" style=\"fill:#000000; stroke:none; fill-opacity:1\" cx=\"687.303\" cy=\"1408.39\" r=\"18\"/>\n",
       "<circle clip-path=\"url(#clip7802)\" style=\"fill:#009af9; stroke:none; fill-opacity:1\" cx=\"687.303\" cy=\"1408.39\" r=\"14\"/>\n",
       "<circle clip-path=\"url(#clip7802)\" style=\"fill:#000000; stroke:none; fill-opacity:1\" cx=\"687.303\" cy=\"1060.78\" r=\"18\"/>\n",
       "<circle clip-path=\"url(#clip7802)\" style=\"fill:#009af9; stroke:none; fill-opacity:1\" cx=\"687.303\" cy=\"1060.78\" r=\"14\"/>\n",
       "<circle clip-path=\"url(#clip7802)\" style=\"fill:#000000; stroke:none; fill-opacity:1\" cx=\"687.303\" cy=\"1158.19\" r=\"18\"/>\n",
       "<circle clip-path=\"url(#clip7802)\" style=\"fill:#009af9; stroke:none; fill-opacity:1\" cx=\"687.303\" cy=\"1158.19\" r=\"14\"/>\n",
       "<circle clip-path=\"url(#clip7802)\" style=\"fill:#000000; stroke:none; fill-opacity:1\" cx=\"687.303\" cy=\"1179.88\" r=\"18\"/>\n",
       "<circle clip-path=\"url(#clip7802)\" style=\"fill:#009af9; stroke:none; fill-opacity:1\" cx=\"687.303\" cy=\"1179.88\" r=\"14\"/>\n",
       "<circle clip-path=\"url(#clip7802)\" style=\"fill:#000000; stroke:none; fill-opacity:1\" cx=\"687.303\" cy=\"1425.84\" r=\"18\"/>\n",
       "<circle clip-path=\"url(#clip7802)\" style=\"fill:#009af9; stroke:none; fill-opacity:1\" cx=\"687.303\" cy=\"1425.84\" r=\"14\"/>\n",
       "<circle clip-path=\"url(#clip7802)\" style=\"fill:#000000; stroke:none; fill-opacity:1\" cx=\"687.303\" cy=\"1418.56\" r=\"18\"/>\n",
       "<circle clip-path=\"url(#clip7802)\" style=\"fill:#009af9; stroke:none; fill-opacity:1\" cx=\"687.303\" cy=\"1418.56\" r=\"14\"/>\n",
       "<circle clip-path=\"url(#clip7802)\" style=\"fill:#000000; stroke:none; fill-opacity:1\" cx=\"687.303\" cy=\"1430.36\" r=\"18\"/>\n",
       "<circle clip-path=\"url(#clip7802)\" style=\"fill:#009af9; stroke:none; fill-opacity:1\" cx=\"687.303\" cy=\"1430.36\" r=\"14\"/>\n",
       "<circle clip-path=\"url(#clip7802)\" style=\"fill:#000000; stroke:none; fill-opacity:1\" cx=\"687.303\" cy=\"1422.65\" r=\"18\"/>\n",
       "<circle clip-path=\"url(#clip7802)\" style=\"fill:#009af9; stroke:none; fill-opacity:1\" cx=\"687.303\" cy=\"1422.65\" r=\"14\"/>\n",
       "<circle clip-path=\"url(#clip7802)\" style=\"fill:#000000; stroke:none; fill-opacity:1\" cx=\"687.303\" cy=\"1432.79\" r=\"18\"/>\n",
       "<circle clip-path=\"url(#clip7802)\" style=\"fill:#009af9; stroke:none; fill-opacity:1\" cx=\"687.303\" cy=\"1432.79\" r=\"14\"/>\n",
       "<circle clip-path=\"url(#clip7802)\" style=\"fill:#000000; stroke:none; fill-opacity:1\" cx=\"687.303\" cy=\"1430.15\" r=\"18\"/>\n",
       "<circle clip-path=\"url(#clip7802)\" style=\"fill:#009af9; stroke:none; fill-opacity:1\" cx=\"687.303\" cy=\"1430.15\" r=\"14\"/>\n",
       "<circle clip-path=\"url(#clip7802)\" style=\"fill:#000000; stroke:none; fill-opacity:1\" cx=\"687.303\" cy=\"1435.57\" r=\"18\"/>\n",
       "<circle clip-path=\"url(#clip7802)\" style=\"fill:#009af9; stroke:none; fill-opacity:1\" cx=\"687.303\" cy=\"1435.57\" r=\"14\"/>\n",
       "<circle clip-path=\"url(#clip7802)\" style=\"fill:#000000; stroke:none; fill-opacity:1\" cx=\"687.303\" cy=\"1418.11\" r=\"18\"/>\n",
       "<circle clip-path=\"url(#clip7802)\" style=\"fill:#009af9; stroke:none; fill-opacity:1\" cx=\"687.303\" cy=\"1418.11\" r=\"14\"/>\n",
       "<circle clip-path=\"url(#clip7802)\" style=\"fill:#000000; stroke:none; fill-opacity:1\" cx=\"687.303\" cy=\"1423.69\" r=\"18\"/>\n",
       "<circle clip-path=\"url(#clip7802)\" style=\"fill:#009af9; stroke:none; fill-opacity:1\" cx=\"687.303\" cy=\"1423.69\" r=\"14\"/>\n",
       "<circle clip-path=\"url(#clip7802)\" style=\"fill:#000000; stroke:none; fill-opacity:1\" cx=\"687.303\" cy=\"1433.35\" r=\"18\"/>\n",
       "<circle clip-path=\"url(#clip7802)\" style=\"fill:#009af9; stroke:none; fill-opacity:1\" cx=\"687.303\" cy=\"1433.35\" r=\"14\"/>\n",
       "<circle clip-path=\"url(#clip7802)\" style=\"fill:#000000; stroke:none; fill-opacity:1\" cx=\"687.303\" cy=\"1422.79\" r=\"18\"/>\n",
       "<circle clip-path=\"url(#clip7802)\" style=\"fill:#009af9; stroke:none; fill-opacity:1\" cx=\"687.303\" cy=\"1422.79\" r=\"14\"/>\n",
       "<circle clip-path=\"url(#clip7802)\" style=\"fill:#000000; stroke:none; fill-opacity:1\" cx=\"687.303\" cy=\"1427.4\" r=\"18\"/>\n",
       "<circle clip-path=\"url(#clip7802)\" style=\"fill:#009af9; stroke:none; fill-opacity:1\" cx=\"687.303\" cy=\"1427.4\" r=\"14\"/>\n",
       "<circle clip-path=\"url(#clip7802)\" style=\"fill:#000000; stroke:none; fill-opacity:1\" cx=\"687.303\" cy=\"1417.32\" r=\"18\"/>\n",
       "<circle clip-path=\"url(#clip7802)\" style=\"fill:#009af9; stroke:none; fill-opacity:1\" cx=\"687.303\" cy=\"1417.32\" r=\"14\"/>\n",
       "<circle clip-path=\"url(#clip7802)\" style=\"fill:#000000; stroke:none; fill-opacity:1\" cx=\"687.303\" cy=\"1423.42\" r=\"18\"/>\n",
       "<circle clip-path=\"url(#clip7802)\" style=\"fill:#009af9; stroke:none; fill-opacity:1\" cx=\"687.303\" cy=\"1423.42\" r=\"14\"/>\n",
       "<circle clip-path=\"url(#clip7802)\" style=\"fill:#000000; stroke:none; fill-opacity:1\" cx=\"687.303\" cy=\"1420.52\" r=\"18\"/>\n",
       "<circle clip-path=\"url(#clip7802)\" style=\"fill:#009af9; stroke:none; fill-opacity:1\" cx=\"687.303\" cy=\"1420.52\" r=\"14\"/>\n",
       "<circle clip-path=\"url(#clip7802)\" style=\"fill:#000000; stroke:none; fill-opacity:1\" cx=\"687.303\" cy=\"1406.55\" r=\"18\"/>\n",
       "<circle clip-path=\"url(#clip7802)\" style=\"fill:#009af9; stroke:none; fill-opacity:1\" cx=\"687.303\" cy=\"1406.55\" r=\"14\"/>\n",
       "<circle clip-path=\"url(#clip7802)\" style=\"fill:#000000; stroke:none; fill-opacity:1\" cx=\"687.303\" cy=\"1408.78\" r=\"18\"/>\n",
       "<circle clip-path=\"url(#clip7802)\" style=\"fill:#009af9; stroke:none; fill-opacity:1\" cx=\"687.303\" cy=\"1408.78\" r=\"14\"/>\n",
       "<circle clip-path=\"url(#clip7802)\" style=\"fill:#000000; stroke:none; fill-opacity:1\" cx=\"687.303\" cy=\"1058.89\" r=\"18\"/>\n",
       "<circle clip-path=\"url(#clip7802)\" style=\"fill:#009af9; stroke:none; fill-opacity:1\" cx=\"687.303\" cy=\"1058.89\" r=\"14\"/>\n",
       "<circle clip-path=\"url(#clip7802)\" style=\"fill:#000000; stroke:none; fill-opacity:1\" cx=\"687.303\" cy=\"1177.5\" r=\"18\"/>\n",
       "<circle clip-path=\"url(#clip7802)\" style=\"fill:#009af9; stroke:none; fill-opacity:1\" cx=\"687.303\" cy=\"1177.5\" r=\"14\"/>\n",
       "<circle clip-path=\"url(#clip7802)\" style=\"fill:#000000; stroke:none; fill-opacity:1\" cx=\"687.303\" cy=\"1405.45\" r=\"18\"/>\n",
       "<circle clip-path=\"url(#clip7802)\" style=\"fill:#009af9; stroke:none; fill-opacity:1\" cx=\"687.303\" cy=\"1405.45\" r=\"14\"/>\n",
       "<circle clip-path=\"url(#clip7802)\" style=\"fill:#000000; stroke:none; fill-opacity:1\" cx=\"687.303\" cy=\"1413.95\" r=\"18\"/>\n",
       "<circle clip-path=\"url(#clip7802)\" style=\"fill:#009af9; stroke:none; fill-opacity:1\" cx=\"687.303\" cy=\"1413.95\" r=\"14\"/>\n",
       "<circle clip-path=\"url(#clip7802)\" style=\"fill:#000000; stroke:none; fill-opacity:1\" cx=\"687.303\" cy=\"1424.11\" r=\"18\"/>\n",
       "<circle clip-path=\"url(#clip7802)\" style=\"fill:#009af9; stroke:none; fill-opacity:1\" cx=\"687.303\" cy=\"1424.11\" r=\"14\"/>\n",
       "<circle clip-path=\"url(#clip7802)\" style=\"fill:#000000; stroke:none; fill-opacity:1\" cx=\"687.303\" cy=\"1428.02\" r=\"18\"/>\n",
       "<circle clip-path=\"url(#clip7802)\" style=\"fill:#009af9; stroke:none; fill-opacity:1\" cx=\"687.303\" cy=\"1428.02\" r=\"14\"/>\n",
       "<circle clip-path=\"url(#clip7802)\" style=\"fill:#000000; stroke:none; fill-opacity:1\" cx=\"687.303\" cy=\"1184.89\" r=\"18\"/>\n",
       "<circle clip-path=\"url(#clip7802)\" style=\"fill:#009af9; stroke:none; fill-opacity:1\" cx=\"687.303\" cy=\"1184.89\" r=\"14\"/>\n",
       "<circle clip-path=\"url(#clip7802)\" style=\"fill:#000000; stroke:none; fill-opacity:1\" cx=\"687.303\" cy=\"1424.23\" r=\"18\"/>\n",
       "<circle clip-path=\"url(#clip7802)\" style=\"fill:#009af9; stroke:none; fill-opacity:1\" cx=\"687.303\" cy=\"1424.23\" r=\"14\"/>\n",
       "<circle clip-path=\"url(#clip7802)\" style=\"fill:#000000; stroke:none; fill-opacity:1\" cx=\"687.303\" cy=\"1427.8\" r=\"18\"/>\n",
       "<circle clip-path=\"url(#clip7802)\" style=\"fill:#009af9; stroke:none; fill-opacity:1\" cx=\"687.303\" cy=\"1427.8\" r=\"14\"/>\n",
       "<circle clip-path=\"url(#clip7802)\" style=\"fill:#000000; stroke:none; fill-opacity:1\" cx=\"687.303\" cy=\"1412.99\" r=\"18\"/>\n",
       "<circle clip-path=\"url(#clip7802)\" style=\"fill:#009af9; stroke:none; fill-opacity:1\" cx=\"687.303\" cy=\"1412.99\" r=\"14\"/>\n",
       "<circle clip-path=\"url(#clip7802)\" style=\"fill:#000000; stroke:none; fill-opacity:1\" cx=\"687.303\" cy=\"1430.5\" r=\"18\"/>\n",
       "<circle clip-path=\"url(#clip7802)\" style=\"fill:#009af9; stroke:none; fill-opacity:1\" cx=\"687.303\" cy=\"1430.5\" r=\"14\"/>\n",
       "<circle clip-path=\"url(#clip7802)\" style=\"fill:#000000; stroke:none; fill-opacity:1\" cx=\"687.303\" cy=\"1417.59\" r=\"18\"/>\n",
       "<circle clip-path=\"url(#clip7802)\" style=\"fill:#009af9; stroke:none; fill-opacity:1\" cx=\"687.303\" cy=\"1417.59\" r=\"14\"/>\n",
       "<circle clip-path=\"url(#clip7802)\" style=\"fill:#000000; stroke:none; fill-opacity:1\" cx=\"687.303\" cy=\"1420.01\" r=\"18\"/>\n",
       "<circle clip-path=\"url(#clip7802)\" style=\"fill:#009af9; stroke:none; fill-opacity:1\" cx=\"687.303\" cy=\"1420.01\" r=\"14\"/>\n",
       "<circle clip-path=\"url(#clip7802)\" style=\"fill:#000000; stroke:none; fill-opacity:1\" cx=\"687.303\" cy=\"1408.12\" r=\"18\"/>\n",
       "<circle clip-path=\"url(#clip7802)\" style=\"fill:#009af9; stroke:none; fill-opacity:1\" cx=\"687.303\" cy=\"1408.12\" r=\"14\"/>\n",
       "<circle clip-path=\"url(#clip7802)\" style=\"fill:#000000; stroke:none; fill-opacity:1\" cx=\"687.303\" cy=\"1421.78\" r=\"18\"/>\n",
       "<circle clip-path=\"url(#clip7802)\" style=\"fill:#009af9; stroke:none; fill-opacity:1\" cx=\"687.303\" cy=\"1421.78\" r=\"14\"/>\n",
       "<circle clip-path=\"url(#clip7802)\" style=\"fill:#000000; stroke:none; fill-opacity:1\" cx=\"687.303\" cy=\"1422.16\" r=\"18\"/>\n",
       "<circle clip-path=\"url(#clip7802)\" style=\"fill:#009af9; stroke:none; fill-opacity:1\" cx=\"687.303\" cy=\"1422.16\" r=\"14\"/>\n",
       "<circle clip-path=\"url(#clip7802)\" style=\"fill:#000000; stroke:none; fill-opacity:1\" cx=\"687.303\" cy=\"1415.37\" r=\"18\"/>\n",
       "<circle clip-path=\"url(#clip7802)\" style=\"fill:#009af9; stroke:none; fill-opacity:1\" cx=\"687.303\" cy=\"1415.37\" r=\"14\"/>\n",
       "<circle clip-path=\"url(#clip7802)\" style=\"fill:#000000; stroke:none; fill-opacity:1\" cx=\"687.303\" cy=\"1404.99\" r=\"18\"/>\n",
       "<circle clip-path=\"url(#clip7802)\" style=\"fill:#009af9; stroke:none; fill-opacity:1\" cx=\"687.303\" cy=\"1404.99\" r=\"14\"/>\n",
       "<circle clip-path=\"url(#clip7802)\" style=\"fill:#000000; stroke:none; fill-opacity:1\" cx=\"687.303\" cy=\"1412.86\" r=\"18\"/>\n",
       "<circle clip-path=\"url(#clip7802)\" style=\"fill:#009af9; stroke:none; fill-opacity:1\" cx=\"687.303\" cy=\"1412.86\" r=\"14\"/>\n",
       "<circle clip-path=\"url(#clip7802)\" style=\"fill:#000000; stroke:none; fill-opacity:1\" cx=\"687.303\" cy=\"1185.36\" r=\"18\"/>\n",
       "<circle clip-path=\"url(#clip7802)\" style=\"fill:#009af9; stroke:none; fill-opacity:1\" cx=\"687.303\" cy=\"1185.36\" r=\"14\"/>\n",
       "<circle clip-path=\"url(#clip7802)\" style=\"fill:#000000; stroke:none; fill-opacity:1\" cx=\"687.303\" cy=\"1405.83\" r=\"18\"/>\n",
       "<circle clip-path=\"url(#clip7802)\" style=\"fill:#009af9; stroke:none; fill-opacity:1\" cx=\"687.303\" cy=\"1405.83\" r=\"14\"/>\n",
       "<circle clip-path=\"url(#clip7802)\" style=\"fill:#000000; stroke:none; fill-opacity:1\" cx=\"687.303\" cy=\"1409.08\" r=\"18\"/>\n",
       "<circle clip-path=\"url(#clip7802)\" style=\"fill:#009af9; stroke:none; fill-opacity:1\" cx=\"687.303\" cy=\"1409.08\" r=\"14\"/>\n",
       "<circle clip-path=\"url(#clip7802)\" style=\"fill:#000000; stroke:none; fill-opacity:1\" cx=\"687.303\" cy=\"1408.81\" r=\"18\"/>\n",
       "<circle clip-path=\"url(#clip7802)\" style=\"fill:#009af9; stroke:none; fill-opacity:1\" cx=\"687.303\" cy=\"1408.81\" r=\"14\"/>\n",
       "<circle clip-path=\"url(#clip7802)\" style=\"fill:#000000; stroke:none; fill-opacity:1\" cx=\"1832.73\" cy=\"1077.72\" r=\"18\"/>\n",
       "<circle clip-path=\"url(#clip7802)\" style=\"fill:#009af9; stroke:none; fill-opacity:1\" cx=\"1832.73\" cy=\"1077.72\" r=\"14\"/>\n",
       "<circle clip-path=\"url(#clip7802)\" style=\"fill:#000000; stroke:none; fill-opacity:1\" cx=\"1832.73\" cy=\"1058.89\" r=\"18\"/>\n",
       "<circle clip-path=\"url(#clip7802)\" style=\"fill:#009af9; stroke:none; fill-opacity:1\" cx=\"1832.73\" cy=\"1058.89\" r=\"14\"/>\n",
       "<circle clip-path=\"url(#clip7802)\" style=\"fill:#000000; stroke:none; fill-opacity:1\" cx=\"1832.73\" cy=\"1022.03\" r=\"18\"/>\n",
       "<circle clip-path=\"url(#clip7802)\" style=\"fill:#009af9; stroke:none; fill-opacity:1\" cx=\"1832.73\" cy=\"1022.03\" r=\"14\"/>\n",
       "<circle clip-path=\"url(#clip7802)\" style=\"fill:#000000; stroke:none; fill-opacity:1\" cx=\"1832.73\" cy=\"1098.43\" r=\"18\"/>\n",
       "<circle clip-path=\"url(#clip7802)\" style=\"fill:#009af9; stroke:none; fill-opacity:1\" cx=\"1832.73\" cy=\"1098.43\" r=\"14\"/>\n",
       "<circle clip-path=\"url(#clip7802)\" style=\"fill:#000000; stroke:none; fill-opacity:1\" cx=\"1832.73\" cy=\"1089.02\" r=\"18\"/>\n",
       "<circle clip-path=\"url(#clip7802)\" style=\"fill:#009af9; stroke:none; fill-opacity:1\" cx=\"1832.73\" cy=\"1089.02\" r=\"14\"/>\n",
       "<circle clip-path=\"url(#clip7802)\" style=\"fill:#000000; stroke:none; fill-opacity:1\" cx=\"1832.73\" cy=\"959.116\" r=\"18\"/>\n",
       "<circle clip-path=\"url(#clip7802)\" style=\"fill:#009af9; stroke:none; fill-opacity:1\" cx=\"1832.73\" cy=\"959.116\" r=\"14\"/>\n",
       "<circle clip-path=\"url(#clip7802)\" style=\"fill:#000000; stroke:none; fill-opacity:1\" cx=\"1832.73\" cy=\"1066.42\" r=\"18\"/>\n",
       "<circle clip-path=\"url(#clip7802)\" style=\"fill:#009af9; stroke:none; fill-opacity:1\" cx=\"1832.73\" cy=\"1066.42\" r=\"14\"/>\n",
       "<circle clip-path=\"url(#clip7802)\" style=\"fill:#000000; stroke:none; fill-opacity:1\" cx=\"1832.73\" cy=\"1079.6\" r=\"18\"/>\n",
       "<circle clip-path=\"url(#clip7802)\" style=\"fill:#009af9; stroke:none; fill-opacity:1\" cx=\"1832.73\" cy=\"1079.6\" r=\"14\"/>\n",
       "<circle clip-path=\"url(#clip7802)\" style=\"fill:#000000; stroke:none; fill-opacity:1\" cx=\"1832.73\" cy=\"1084.31\" r=\"18\"/>\n",
       "<circle clip-path=\"url(#clip7802)\" style=\"fill:#009af9; stroke:none; fill-opacity:1\" cx=\"1832.73\" cy=\"1084.31\" r=\"14\"/>\n",
       "<circle clip-path=\"url(#clip7802)\" style=\"fill:#000000; stroke:none; fill-opacity:1\" cx=\"1832.73\" cy=\"1097.71\" r=\"18\"/>\n",
       "<circle clip-path=\"url(#clip7802)\" style=\"fill:#009af9; stroke:none; fill-opacity:1\" cx=\"1832.73\" cy=\"1097.71\" r=\"14\"/>\n",
       "<circle clip-path=\"url(#clip7802)\" style=\"fill:#000000; stroke:none; fill-opacity:1\" cx=\"1832.73\" cy=\"1066.42\" r=\"18\"/>\n",
       "<circle clip-path=\"url(#clip7802)\" style=\"fill:#009af9; stroke:none; fill-opacity:1\" cx=\"1832.73\" cy=\"1066.42\" r=\"14\"/>\n",
       "<circle clip-path=\"url(#clip7802)\" style=\"fill:#000000; stroke:none; fill-opacity:1\" cx=\"1832.73\" cy=\"536.252\" r=\"18\"/>\n",
       "<circle clip-path=\"url(#clip7802)\" style=\"fill:#009af9; stroke:none; fill-opacity:1\" cx=\"1832.73\" cy=\"536.252\" r=\"14\"/>\n",
       "<circle clip-path=\"url(#clip7802)\" style=\"fill:#000000; stroke:none; fill-opacity:1\" cx=\"1832.73\" cy=\"1082.52\" r=\"18\"/>\n",
       "<circle clip-path=\"url(#clip7802)\" style=\"fill:#009af9; stroke:none; fill-opacity:1\" cx=\"1832.73\" cy=\"1082.52\" r=\"14\"/>\n",
       "<circle clip-path=\"url(#clip7802)\" style=\"fill:#000000; stroke:none; fill-opacity:1\" cx=\"1832.73\" cy=\"1006.18\" r=\"18\"/>\n",
       "<circle clip-path=\"url(#clip7802)\" style=\"fill:#009af9; stroke:none; fill-opacity:1\" cx=\"1832.73\" cy=\"1006.18\" r=\"14\"/>\n",
       "<circle clip-path=\"url(#clip7802)\" style=\"fill:#000000; stroke:none; fill-opacity:1\" cx=\"1832.73\" cy=\"1070.19\" r=\"18\"/>\n",
       "<circle clip-path=\"url(#clip7802)\" style=\"fill:#009af9; stroke:none; fill-opacity:1\" cx=\"1832.73\" cy=\"1070.19\" r=\"14\"/>\n",
       "<circle clip-path=\"url(#clip7802)\" style=\"fill:#000000; stroke:none; fill-opacity:1\" cx=\"1832.73\" cy=\"1008.06\" r=\"18\"/>\n",
       "<circle clip-path=\"url(#clip7802)\" style=\"fill:#009af9; stroke:none; fill-opacity:1\" cx=\"1832.73\" cy=\"1008.06\" r=\"14\"/>\n",
       "<circle clip-path=\"url(#clip7802)\" style=\"fill:#000000; stroke:none; fill-opacity:1\" cx=\"1832.73\" cy=\"1006.18\" r=\"18\"/>\n",
       "<circle clip-path=\"url(#clip7802)\" style=\"fill:#009af9; stroke:none; fill-opacity:1\" cx=\"1832.73\" cy=\"1006.18\" r=\"14\"/>\n",
       "<circle clip-path=\"url(#clip7802)\" style=\"fill:#000000; stroke:none; fill-opacity:1\" cx=\"1832.73\" cy=\"916.757\" r=\"18\"/>\n",
       "<circle clip-path=\"url(#clip7802)\" style=\"fill:#009af9; stroke:none; fill-opacity:1\" cx=\"1832.73\" cy=\"916.757\" r=\"14\"/>\n",
       "<circle clip-path=\"url(#clip7802)\" style=\"fill:#000000; stroke:none; fill-opacity:1\" cx=\"1832.73\" cy=\"1057.01\" r=\"18\"/>\n",
       "<circle clip-path=\"url(#clip7802)\" style=\"fill:#009af9; stroke:none; fill-opacity:1\" cx=\"1832.73\" cy=\"1057.01\" r=\"14\"/>\n",
       "<circle clip-path=\"url(#clip7802)\" style=\"fill:#000000; stroke:none; fill-opacity:1\" cx=\"1832.73\" cy=\"1045.72\" r=\"18\"/>\n",
       "<circle clip-path=\"url(#clip7802)\" style=\"fill:#009af9; stroke:none; fill-opacity:1\" cx=\"1832.73\" cy=\"1045.72\" r=\"14\"/>\n",
       "<circle clip-path=\"url(#clip7802)\" style=\"fill:#000000; stroke:none; fill-opacity:1\" cx=\"1832.73\" cy=\"1096.55\" r=\"18\"/>\n",
       "<circle clip-path=\"url(#clip7802)\" style=\"fill:#009af9; stroke:none; fill-opacity:1\" cx=\"1832.73\" cy=\"1096.55\" r=\"14\"/>\n",
       "<circle clip-path=\"url(#clip7802)\" style=\"fill:#000000; stroke:none; fill-opacity:1\" cx=\"1832.73\" cy=\"1087.26\" r=\"18\"/>\n",
       "<circle clip-path=\"url(#clip7802)\" style=\"fill:#009af9; stroke:none; fill-opacity:1\" cx=\"1832.73\" cy=\"1087.26\" r=\"14\"/>\n",
       "<circle clip-path=\"url(#clip7802)\" style=\"fill:#000000; stroke:none; fill-opacity:1\" cx=\"1832.73\" cy=\"977.942\" r=\"18\"/>\n",
       "<circle clip-path=\"url(#clip7802)\" style=\"fill:#009af9; stroke:none; fill-opacity:1\" cx=\"1832.73\" cy=\"977.942\" r=\"14\"/>\n",
       "<circle clip-path=\"url(#clip7802)\" style=\"fill:#000000; stroke:none; fill-opacity:1\" cx=\"1832.73\" cy=\"1011.83\" r=\"18\"/>\n",
       "<circle clip-path=\"url(#clip7802)\" style=\"fill:#009af9; stroke:none; fill-opacity:1\" cx=\"1832.73\" cy=\"1011.83\" r=\"14\"/>\n",
       "<circle clip-path=\"url(#clip7802)\" style=\"fill:#000000; stroke:none; fill-opacity:1\" cx=\"1832.73\" cy=\"996.768\" r=\"18\"/>\n",
       "<circle clip-path=\"url(#clip7802)\" style=\"fill:#009af9; stroke:none; fill-opacity:1\" cx=\"1832.73\" cy=\"996.768\" r=\"14\"/>\n",
       "<circle clip-path=\"url(#clip7802)\" style=\"fill:#000000; stroke:none; fill-opacity:1\" cx=\"1832.73\" cy=\"849.924\" r=\"18\"/>\n",
       "<circle clip-path=\"url(#clip7802)\" style=\"fill:#009af9; stroke:none; fill-opacity:1\" cx=\"1832.73\" cy=\"849.924\" r=\"14\"/>\n",
       "<circle clip-path=\"url(#clip7802)\" style=\"fill:#000000; stroke:none; fill-opacity:1\" cx=\"1832.73\" cy=\"1079.71\" r=\"18\"/>\n",
       "<circle clip-path=\"url(#clip7802)\" style=\"fill:#009af9; stroke:none; fill-opacity:1\" cx=\"1832.73\" cy=\"1079.71\" r=\"14\"/>\n",
       "<polygon clip-path=\"url(#clip7802)\" points=\"\n",
       "687.303,1403.19 229.132,1403.19 1145.47,1403.19 687.303,1403.19 687.303,1322.04 687.303,1403.19 \n",
       "  \" fill=\"#009af9\" fill-rule=\"evenodd\" fill-opacity=\"1\"/>\n",
       "<polyline clip-path=\"url(#clip7802)\" style=\"stroke:#000000; stroke-width:4; stroke-opacity:1; fill:none\" points=\"\n",
       "  687.303,1403.19 229.132,1403.19 1145.47,1403.19 687.303,1403.19 687.303,1322.04 687.303,1403.19 \n",
       "  \"/>\n",
       "<polygon clip-path=\"url(#clip7802)\" points=\"\n",
       "229.132,1322.04 229.132,1294.71 1145.47,1294.71 1145.47,1322.04 229.132,1322.04 229.132,1322.04 \n",
       "  \" fill=\"#009af9\" fill-rule=\"evenodd\" fill-opacity=\"1\"/>\n",
       "<polyline clip-path=\"url(#clip7802)\" style=\"stroke:#000000; stroke-width:4; stroke-opacity:1; fill:none\" points=\"\n",
       "  229.132,1322.04 229.132,1294.71 1145.47,1294.71 1145.47,1322.04 229.132,1322.04 \n",
       "  \"/>\n",
       "<polygon clip-path=\"url(#clip7802)\" points=\"\n",
       "229.132,1267.86 229.132,1294.71 1145.47,1294.71 1145.47,1267.86 229.132,1267.86 229.132,1267.86 \n",
       "  \" fill=\"#009af9\" fill-rule=\"evenodd\" fill-opacity=\"1\"/>\n",
       "<polyline clip-path=\"url(#clip7802)\" style=\"stroke:#000000; stroke-width:4; stroke-opacity:1; fill:none\" points=\"\n",
       "  229.132,1267.86 229.132,1294.71 1145.47,1294.71 1145.47,1267.86 229.132,1267.86 \n",
       "  \"/>\n",
       "<polygon clip-path=\"url(#clip7802)\" points=\"\n",
       "687.303,1186.91 229.132,1186.91 1145.47,1186.91 687.303,1186.91 687.303,1267.86 687.303,1186.91 \n",
       "  \" fill=\"#009af9\" fill-rule=\"evenodd\" fill-opacity=\"1\"/>\n",
       "<polyline clip-path=\"url(#clip7802)\" style=\"stroke:#000000; stroke-width:4; stroke-opacity:1; fill:none\" points=\"\n",
       "  687.303,1186.91 229.132,1186.91 1145.47,1186.91 687.303,1186.91 687.303,1267.86 687.303,1186.91 \n",
       "  \"/>\n",
       "<polygon clip-path=\"url(#clip7802)\" points=\"\n",
       "1832.73,1440.12 1374.56,1440.12 2290.9,1440.12 1832.73,1440.12 1832.73,1404.57 1832.73,1440.12 \n",
       "  \" fill=\"#009af9\" fill-rule=\"evenodd\" fill-opacity=\"1\"/>\n",
       "<polyline clip-path=\"url(#clip7802)\" style=\"stroke:#000000; stroke-width:4; stroke-opacity:1; fill:none\" points=\"\n",
       "  1832.73,1440.12 1374.56,1440.12 2290.9,1440.12 1832.73,1440.12 1832.73,1404.57 1832.73,1440.12 \n",
       "  \"/>\n",
       "<polygon clip-path=\"url(#clip7802)\" points=\"\n",
       "1374.56,1404.57 1374.56,1373.01 2290.9,1373.01 2290.9,1404.57 1374.56,1404.57 1374.56,1404.57 \n",
       "  \" fill=\"#009af9\" fill-rule=\"evenodd\" fill-opacity=\"1\"/>\n",
       "<polyline clip-path=\"url(#clip7802)\" style=\"stroke:#000000; stroke-width:4; stroke-opacity:1; fill:none\" points=\"\n",
       "  1374.56,1404.57 1374.56,1373.01 2290.9,1373.01 2290.9,1404.57 1374.56,1404.57 \n",
       "  \"/>\n",
       "<polygon clip-path=\"url(#clip7802)\" points=\"\n",
       "1374.56,1282.57 1374.56,1373.01 2290.9,1373.01 2290.9,1282.57 1374.56,1282.57 1374.56,1282.57 \n",
       "  \" fill=\"#009af9\" fill-rule=\"evenodd\" fill-opacity=\"1\"/>\n",
       "<polyline clip-path=\"url(#clip7802)\" style=\"stroke:#000000; stroke-width:4; stroke-opacity:1; fill:none\" points=\"\n",
       "  1374.56,1282.57 1374.56,1373.01 2290.9,1373.01 2290.9,1282.57 1374.56,1282.57 \n",
       "  \"/>\n",
       "<polygon clip-path=\"url(#clip7802)\" points=\"\n",
       "1832.73,1100.31 1374.56,1100.31 2290.9,1100.31 1832.73,1100.31 1832.73,1282.57 1832.73,1100.31 \n",
       "  \" fill=\"#009af9\" fill-rule=\"evenodd\" fill-opacity=\"1\"/>\n",
       "<polyline clip-path=\"url(#clip7802)\" style=\"stroke:#000000; stroke-width:4; stroke-opacity:1; fill:none\" points=\"\n",
       "  1832.73,1100.31 1374.56,1100.31 2290.9,1100.31 1832.73,1100.31 1832.73,1282.57 1832.73,1100.31 \n",
       "  \"/>\n",
       "<polygon clip-path=\"url(#clip7800)\" points=\"\n",
       "1989.93,251.724 2280.76,251.724 2280.76,130.764 1989.93,130.764 \n",
       "  \" fill=\"#ffffff\" fill-rule=\"evenodd\" fill-opacity=\"1\"/>\n",
       "<polyline clip-path=\"url(#clip7800)\" style=\"stroke:#000000; stroke-width:4; stroke-opacity:1; fill:none\" points=\"\n",
       "  1989.93,251.724 2280.76,251.724 2280.76,130.764 1989.93,130.764 1989.93,251.724 \n",
       "  \"/>\n",
       "<circle clip-path=\"url(#clip7800)\" style=\"fill:#000000; stroke:none; fill-opacity:1\" cx=\"2097.93\" cy=\"191.244\" r=\"25\"/>\n",
       "<circle clip-path=\"url(#clip7800)\" style=\"fill:#009af9; stroke:none; fill-opacity:1\" cx=\"2097.93\" cy=\"191.244\" r=\"21\"/>\n",
       "<g clip-path=\"url(#clip7800)\">\n",
       "<text style=\"fill:#000000; fill-opacity:1; font-family:Arial,Helvetica Neue,Helvetica,sans-serif; font-size:48px; text-anchor:start;\" transform=\"rotate(0, 2181.93, 208.744)\" x=\"2181.93\" y=\"208.744\">y1</text>\n",
       "</g>\n",
       "</svg>\n"
      ]
     },
     "execution_count": 46,
     "metadata": {},
     "output_type": "execute_result"
    }
   ],
   "source": [
    "using StatsPlots\n",
    "\n",
    "xs = merged[!, :TPlus];\n",
    "ys = merged[!, :Intensity_mean_A01_C03]\n",
    "boxplot(xs, ys)"
   ]
  }
 ],
 "metadata": {
  "anaconda-cloud": {},
  "celltoolbar": "Slideshow",
  "kernelspec": {
   "display_name": "Julia 1.2.0",
   "language": "julia",
   "name": "julia-1.2"
  },
  "language_info": {
   "file_extension": ".jl",
   "mimetype": "application/julia",
   "name": "julia",
   "version": "1.2.0"
  }
 },
 "nbformat": 4,
 "nbformat_minor": 2
}
